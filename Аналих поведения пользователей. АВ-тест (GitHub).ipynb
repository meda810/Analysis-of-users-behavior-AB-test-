{
 "cells": [
  {
   "cell_type": "markdown",
   "metadata": {},
   "source": [
    "# Анализ поведения пользователей мобильного приложения"
   ]
  },
  {
   "cell_type": "markdown",
   "metadata": {},
   "source": [
    "**Описание проекта**\n",
    "\n",
    "Необходимо исследовать результаты A/A/B-эксперимента мобильного приложения. Дизайнеры захотели поменять шрифты во всем приложении. Создали 2 контрольные группы со старыми шрифтами и 1 экспериментальную группу с новым шрифтом. \n",
    "\n",
    "По результатам эксперимента необходимо выяснить какой шрифт лучше."
   ]
  },
  {
   "cell_type": "markdown",
   "metadata": {},
   "source": [
    "**Описание данных**\n",
    "\n",
    "Каждая запись в логе — это действие пользователя, или событие.\n",
    "\n",
    "Файл /datasets/logs_exp.csv:\n",
    "- EventName — название события;\n",
    "- DeviceIDHash — уникальный идентификатор пользователя;\n",
    "- EventTimestamp — время события;\n",
    "- ExpId — номер эксперимента: 246 и 247 — контрольные группы, а 248 — экспериментальная."
   ]
  },
  {
   "cell_type": "markdown",
   "metadata": {},
   "source": [
    "**План работы**\n",
    "\n",
    "- Шаг 1.Подготовка данных: проверка на дубликаты и пропуски, изменение типа данных;\n",
    "\n",
    "- Шаг 2. Изучение и проверка данных: изучение происходящих событий в приложении ;\n",
    "\n",
    "- Шаг 3. Изучение результатов эксперимента: проведение А/А/В теста, принятие решений на основании А/А/В теста."
   ]
  },
  {
   "cell_type": "markdown",
   "metadata": {},
   "source": [
    "## Подготовка данных"
   ]
  },
  {
   "cell_type": "code",
   "execution_count": 1,
   "metadata": {},
   "outputs": [],
   "source": [
    "import pandas as pd\n",
    "import matplotlib.pyplot as plt\n",
    "import plotly.express as px\n",
    "import scipy.stats as stats\n",
    "import numpy as np\n",
    "import math as mth"
   ]
  },
  {
   "cell_type": "code",
   "execution_count": 2,
   "metadata": {},
   "outputs": [],
   "source": [
    "try:\n",
    "    data = pd.read_csv('/datasets/logs_exp.csv', sep = '\\t')\n",
    "except:\n",
    "    data = pd.read_csv('C:/Users/admin/Desktop/ЯндексПрактикум/Сборный проект 2/logs_exp.csv', sep = '\\t')"
   ]
  },
  {
   "cell_type": "code",
   "execution_count": 3,
   "metadata": {},
   "outputs": [
    {
     "data": {
      "text/html": [
       "<div>\n",
       "<style scoped>\n",
       "    .dataframe tbody tr th:only-of-type {\n",
       "        vertical-align: middle;\n",
       "    }\n",
       "\n",
       "    .dataframe tbody tr th {\n",
       "        vertical-align: top;\n",
       "    }\n",
       "\n",
       "    .dataframe thead th {\n",
       "        text-align: right;\n",
       "    }\n",
       "</style>\n",
       "<table border=\"1\" class=\"dataframe\">\n",
       "  <thead>\n",
       "    <tr style=\"text-align: right;\">\n",
       "      <th></th>\n",
       "      <th>EventName</th>\n",
       "      <th>DeviceIDHash</th>\n",
       "      <th>EventTimestamp</th>\n",
       "      <th>ExpId</th>\n",
       "    </tr>\n",
       "  </thead>\n",
       "  <tbody>\n",
       "    <tr>\n",
       "      <th>0</th>\n",
       "      <td>MainScreenAppear</td>\n",
       "      <td>4575588528974610257</td>\n",
       "      <td>1564029816</td>\n",
       "      <td>246</td>\n",
       "    </tr>\n",
       "    <tr>\n",
       "      <th>1</th>\n",
       "      <td>MainScreenAppear</td>\n",
       "      <td>7416695313311560658</td>\n",
       "      <td>1564053102</td>\n",
       "      <td>246</td>\n",
       "    </tr>\n",
       "    <tr>\n",
       "      <th>2</th>\n",
       "      <td>PaymentScreenSuccessful</td>\n",
       "      <td>3518123091307005509</td>\n",
       "      <td>1564054127</td>\n",
       "      <td>248</td>\n",
       "    </tr>\n",
       "    <tr>\n",
       "      <th>3</th>\n",
       "      <td>CartScreenAppear</td>\n",
       "      <td>3518123091307005509</td>\n",
       "      <td>1564054127</td>\n",
       "      <td>248</td>\n",
       "    </tr>\n",
       "    <tr>\n",
       "      <th>4</th>\n",
       "      <td>PaymentScreenSuccessful</td>\n",
       "      <td>6217807653094995999</td>\n",
       "      <td>1564055322</td>\n",
       "      <td>248</td>\n",
       "    </tr>\n",
       "  </tbody>\n",
       "</table>\n",
       "</div>"
      ],
      "text/plain": [
       "                 EventName         DeviceIDHash  EventTimestamp  ExpId\n",
       "0         MainScreenAppear  4575588528974610257      1564029816    246\n",
       "1         MainScreenAppear  7416695313311560658      1564053102    246\n",
       "2  PaymentScreenSuccessful  3518123091307005509      1564054127    248\n",
       "3         CartScreenAppear  3518123091307005509      1564054127    248\n",
       "4  PaymentScreenSuccessful  6217807653094995999      1564055322    248"
      ]
     },
     "execution_count": 3,
     "metadata": {},
     "output_type": "execute_result"
    }
   ],
   "source": [
    "data.head(5)"
   ]
  },
  {
   "cell_type": "code",
   "execution_count": 4,
   "metadata": {
    "scrolled": true
   },
   "outputs": [
    {
     "name": "stdout",
     "output_type": "stream",
     "text": [
      "<class 'pandas.core.frame.DataFrame'>\n",
      "RangeIndex: 244126 entries, 0 to 244125\n",
      "Data columns (total 4 columns):\n",
      " #   Column          Non-Null Count   Dtype \n",
      "---  ------          --------------   ----- \n",
      " 0   EventName       244126 non-null  object\n",
      " 1   DeviceIDHash    244126 non-null  int64 \n",
      " 2   EventTimestamp  244126 non-null  int64 \n",
      " 3   ExpId           244126 non-null  int64 \n",
      "dtypes: int64(3), object(1)\n",
      "memory usage: 7.5+ MB\n"
     ]
    }
   ],
   "source": [
    "#общая информация о ДФ\n",
    "data.info()"
   ]
  },
  {
   "cell_type": "code",
   "execution_count": 5,
   "metadata": {},
   "outputs": [],
   "source": [
    "# замена названий столбцов\n",
    "data.columns = ['event_name', 'user_id', 'timestamp', 'group_id']"
   ]
  },
  {
   "cell_type": "code",
   "execution_count": 6,
   "metadata": {},
   "outputs": [],
   "source": [
    "# замена типа данных\n",
    "data['date_time'] = pd.to_datetime(data['timestamp'], unit='s')\n",
    "data['date'] = data['date_time'].astype('datetime64[D]')"
   ]
  },
  {
   "cell_type": "code",
   "execution_count": 7,
   "metadata": {},
   "outputs": [
    {
     "name": "stdout",
     "output_type": "stream",
     "text": [
      "Явных дубликатов: 413\n",
      "Доля явных дубликатов: 0.00169\n",
      "Явных дубликатов после удаления: 0\n"
     ]
    }
   ],
   "source": [
    "# поиск явных дубликатов\n",
    "print('Явных дубликатов:', data.duplicated().sum())\n",
    "print('Доля явных дубликатов: {:.3}'.format(data.duplicated().sum()/len(data)))\n",
    "# удаление явных дубликатов\n",
    "data = data.drop_duplicates()\n",
    "print('Явных дубликатов после удаления:', data.duplicated().sum())"
   ]
  },
  {
   "cell_type": "code",
   "execution_count": 8,
   "metadata": {},
   "outputs": [
    {
     "data": {
      "text/plain": [
       "event_name    0\n",
       "user_id       0\n",
       "timestamp     0\n",
       "group_id      0\n",
       "date_time     0\n",
       "date          0\n",
       "dtype: int64"
      ]
     },
     "execution_count": 8,
     "metadata": {},
     "output_type": "execute_result"
    }
   ],
   "source": [
    "# поиск пропусков\n",
    "data.isna().sum()"
   ]
  },
  {
   "cell_type": "code",
   "execution_count": 9,
   "metadata": {},
   "outputs": [
    {
     "name": "stdout",
     "output_type": "stream",
     "text": [
      "Количество пользователей, попавших в 246 и 247 группы: 0\n",
      "Количество пользователей, попавших в 246 и 248 группы: 0\n",
      "Количество пользователей, попавших в 247 и 248 группы: 0\n"
     ]
    }
   ],
   "source": [
    "# проверка на пересечение пользователей между группами  \n",
    "gr246 = data.query('group_id == 246')['user_id'].drop_duplicates()\n",
    "gr247 = data.query('group_id == 247')['user_id'].drop_duplicates()\n",
    "gr248 = data.query('group_id == 248')['user_id'].drop_duplicates()\n",
    "\n",
    "print('Количество пользователей, попавших в 246 и 247 группы:', len(gr246) - len(gr246[np.logical_not(gr246.isin(gr247))]))\n",
    "print('Количество пользователей, попавших в 246 и 248 группы:', len(gr246) - len(gr246[np.logical_not(gr246.isin(gr248))]))\n",
    "print('Количество пользователей, попавших в 247 и 248 группы:', len(gr247) - len(gr247[np.logical_not(gr247.isin(gr248))]))"
   ]
  },
  {
   "cell_type": "markdown",
   "metadata": {},
   "source": [
    "**Выводы:**\n",
    "- заменил название столбцов;\n",
    "- добавил два новых столбца с датой и временем;\n",
    "- удалил явные дубликаты;\n",
    "- проверил группы на пересечение пользователей, их не оказалось."
   ]
  },
  {
   "cell_type": "markdown",
   "metadata": {},
   "source": [
    "## Изучение и проверка данных"
   ]
  },
  {
   "cell_type": "code",
   "execution_count": 10,
   "metadata": {},
   "outputs": [
    {
     "data": {
      "text/html": [
       "<div>\n",
       "<style scoped>\n",
       "    .dataframe tbody tr th:only-of-type {\n",
       "        vertical-align: middle;\n",
       "    }\n",
       "\n",
       "    .dataframe tbody tr th {\n",
       "        vertical-align: top;\n",
       "    }\n",
       "\n",
       "    .dataframe thead th {\n",
       "        text-align: right;\n",
       "    }\n",
       "</style>\n",
       "<table border=\"1\" class=\"dataframe\">\n",
       "  <thead>\n",
       "    <tr style=\"text-align: right;\">\n",
       "      <th></th>\n",
       "      <th>event_name</th>\n",
       "      <th>user_id</th>\n",
       "      <th>timestamp</th>\n",
       "      <th>group_id</th>\n",
       "      <th>date_time</th>\n",
       "      <th>date</th>\n",
       "    </tr>\n",
       "  </thead>\n",
       "  <tbody>\n",
       "    <tr>\n",
       "      <th>0</th>\n",
       "      <td>MainScreenAppear</td>\n",
       "      <td>4575588528974610257</td>\n",
       "      <td>1564029816</td>\n",
       "      <td>246</td>\n",
       "      <td>2019-07-25 04:43:36</td>\n",
       "      <td>2019-07-25</td>\n",
       "    </tr>\n",
       "    <tr>\n",
       "      <th>1</th>\n",
       "      <td>MainScreenAppear</td>\n",
       "      <td>7416695313311560658</td>\n",
       "      <td>1564053102</td>\n",
       "      <td>246</td>\n",
       "      <td>2019-07-25 11:11:42</td>\n",
       "      <td>2019-07-25</td>\n",
       "    </tr>\n",
       "    <tr>\n",
       "      <th>2</th>\n",
       "      <td>PaymentScreenSuccessful</td>\n",
       "      <td>3518123091307005509</td>\n",
       "      <td>1564054127</td>\n",
       "      <td>248</td>\n",
       "      <td>2019-07-25 11:28:47</td>\n",
       "      <td>2019-07-25</td>\n",
       "    </tr>\n",
       "    <tr>\n",
       "      <th>3</th>\n",
       "      <td>CartScreenAppear</td>\n",
       "      <td>3518123091307005509</td>\n",
       "      <td>1564054127</td>\n",
       "      <td>248</td>\n",
       "      <td>2019-07-25 11:28:47</td>\n",
       "      <td>2019-07-25</td>\n",
       "    </tr>\n",
       "    <tr>\n",
       "      <th>4</th>\n",
       "      <td>PaymentScreenSuccessful</td>\n",
       "      <td>6217807653094995999</td>\n",
       "      <td>1564055322</td>\n",
       "      <td>248</td>\n",
       "      <td>2019-07-25 11:48:42</td>\n",
       "      <td>2019-07-25</td>\n",
       "    </tr>\n",
       "  </tbody>\n",
       "</table>\n",
       "</div>"
      ],
      "text/plain": [
       "                event_name              user_id   timestamp  group_id  \\\n",
       "0         MainScreenAppear  4575588528974610257  1564029816       246   \n",
       "1         MainScreenAppear  7416695313311560658  1564053102       246   \n",
       "2  PaymentScreenSuccessful  3518123091307005509  1564054127       248   \n",
       "3         CartScreenAppear  3518123091307005509  1564054127       248   \n",
       "4  PaymentScreenSuccessful  6217807653094995999  1564055322       248   \n",
       "\n",
       "            date_time       date  \n",
       "0 2019-07-25 04:43:36 2019-07-25  \n",
       "1 2019-07-25 11:11:42 2019-07-25  \n",
       "2 2019-07-25 11:28:47 2019-07-25  \n",
       "3 2019-07-25 11:28:47 2019-07-25  \n",
       "4 2019-07-25 11:48:42 2019-07-25  "
      ]
     },
     "execution_count": 10,
     "metadata": {},
     "output_type": "execute_result"
    }
   ],
   "source": [
    "data.head(5)"
   ]
  },
  {
   "cell_type": "code",
   "execution_count": 11,
   "metadata": {
    "scrolled": true
   },
   "outputs": [
    {
     "name": "stdout",
     "output_type": "stream",
     "text": [
      "Количество событий в логе: 5\n",
      "Общее количество событий в логе: 243713\n"
     ]
    }
   ],
   "source": [
    "print('Количество событий в логе:', len(data['event_name'].unique()))\n",
    "print('Общее количество событий в логе:', len(data['event_name']))"
   ]
  },
  {
   "cell_type": "code",
   "execution_count": 12,
   "metadata": {},
   "outputs": [
    {
     "name": "stdout",
     "output_type": "stream",
     "text": [
      "Количество пользователей в логе: 7551\n"
     ]
    }
   ],
   "source": [
    "print('Количество пользователей в логе:', data['user_id'].nunique())"
   ]
  },
  {
   "cell_type": "code",
   "execution_count": 13,
   "metadata": {},
   "outputs": [
    {
     "data": {
      "text/html": [
       "<div>\n",
       "<style scoped>\n",
       "    .dataframe tbody tr th:only-of-type {\n",
       "        vertical-align: middle;\n",
       "    }\n",
       "\n",
       "    .dataframe tbody tr th {\n",
       "        vertical-align: top;\n",
       "    }\n",
       "\n",
       "    .dataframe thead th {\n",
       "        text-align: right;\n",
       "    }\n",
       "</style>\n",
       "<table border=\"1\" class=\"dataframe\">\n",
       "  <thead>\n",
       "    <tr style=\"text-align: right;\">\n",
       "      <th></th>\n",
       "      <th>event_name</th>\n",
       "      <th>user_id</th>\n",
       "      <th>timestamp</th>\n",
       "      <th>group_id</th>\n",
       "      <th>date_time</th>\n",
       "      <th>date</th>\n",
       "    </tr>\n",
       "  </thead>\n",
       "  <tbody>\n",
       "    <tr>\n",
       "      <th>0</th>\n",
       "      <td>MainScreenAppear</td>\n",
       "      <td>4575588528974610257</td>\n",
       "      <td>1564029816</td>\n",
       "      <td>246</td>\n",
       "      <td>2019-07-25 04:43:36</td>\n",
       "      <td>2019-07-25</td>\n",
       "    </tr>\n",
       "    <tr>\n",
       "      <th>1</th>\n",
       "      <td>MainScreenAppear</td>\n",
       "      <td>7416695313311560658</td>\n",
       "      <td>1564053102</td>\n",
       "      <td>246</td>\n",
       "      <td>2019-07-25 11:11:42</td>\n",
       "      <td>2019-07-25</td>\n",
       "    </tr>\n",
       "    <tr>\n",
       "      <th>2</th>\n",
       "      <td>PaymentScreenSuccessful</td>\n",
       "      <td>3518123091307005509</td>\n",
       "      <td>1564054127</td>\n",
       "      <td>248</td>\n",
       "      <td>2019-07-25 11:28:47</td>\n",
       "      <td>2019-07-25</td>\n",
       "    </tr>\n",
       "    <tr>\n",
       "      <th>3</th>\n",
       "      <td>CartScreenAppear</td>\n",
       "      <td>3518123091307005509</td>\n",
       "      <td>1564054127</td>\n",
       "      <td>248</td>\n",
       "      <td>2019-07-25 11:28:47</td>\n",
       "      <td>2019-07-25</td>\n",
       "    </tr>\n",
       "    <tr>\n",
       "      <th>4</th>\n",
       "      <td>PaymentScreenSuccessful</td>\n",
       "      <td>6217807653094995999</td>\n",
       "      <td>1564055322</td>\n",
       "      <td>248</td>\n",
       "      <td>2019-07-25 11:48:42</td>\n",
       "      <td>2019-07-25</td>\n",
       "    </tr>\n",
       "    <tr>\n",
       "      <th>5</th>\n",
       "      <td>CartScreenAppear</td>\n",
       "      <td>6217807653094995999</td>\n",
       "      <td>1564055323</td>\n",
       "      <td>248</td>\n",
       "      <td>2019-07-25 11:48:43</td>\n",
       "      <td>2019-07-25</td>\n",
       "    </tr>\n",
       "    <tr>\n",
       "      <th>6</th>\n",
       "      <td>OffersScreenAppear</td>\n",
       "      <td>8351860793733343758</td>\n",
       "      <td>1564066242</td>\n",
       "      <td>246</td>\n",
       "      <td>2019-07-25 14:50:42</td>\n",
       "      <td>2019-07-25</td>\n",
       "    </tr>\n",
       "    <tr>\n",
       "      <th>7</th>\n",
       "      <td>MainScreenAppear</td>\n",
       "      <td>5682100281902512875</td>\n",
       "      <td>1564085677</td>\n",
       "      <td>246</td>\n",
       "      <td>2019-07-25 20:14:37</td>\n",
       "      <td>2019-07-25</td>\n",
       "    </tr>\n",
       "    <tr>\n",
       "      <th>8</th>\n",
       "      <td>MainScreenAppear</td>\n",
       "      <td>1850981295691852772</td>\n",
       "      <td>1564086702</td>\n",
       "      <td>247</td>\n",
       "      <td>2019-07-25 20:31:42</td>\n",
       "      <td>2019-07-25</td>\n",
       "    </tr>\n",
       "    <tr>\n",
       "      <th>9</th>\n",
       "      <td>MainScreenAppear</td>\n",
       "      <td>5407636962369102641</td>\n",
       "      <td>1564112112</td>\n",
       "      <td>246</td>\n",
       "      <td>2019-07-26 03:35:12</td>\n",
       "      <td>2019-07-26</td>\n",
       "    </tr>\n",
       "  </tbody>\n",
       "</table>\n",
       "</div>"
      ],
      "text/plain": [
       "                event_name              user_id   timestamp  group_id  \\\n",
       "0         MainScreenAppear  4575588528974610257  1564029816       246   \n",
       "1         MainScreenAppear  7416695313311560658  1564053102       246   \n",
       "2  PaymentScreenSuccessful  3518123091307005509  1564054127       248   \n",
       "3         CartScreenAppear  3518123091307005509  1564054127       248   \n",
       "4  PaymentScreenSuccessful  6217807653094995999  1564055322       248   \n",
       "5         CartScreenAppear  6217807653094995999  1564055323       248   \n",
       "6       OffersScreenAppear  8351860793733343758  1564066242       246   \n",
       "7         MainScreenAppear  5682100281902512875  1564085677       246   \n",
       "8         MainScreenAppear  1850981295691852772  1564086702       247   \n",
       "9         MainScreenAppear  5407636962369102641  1564112112       246   \n",
       "\n",
       "            date_time       date  \n",
       "0 2019-07-25 04:43:36 2019-07-25  \n",
       "1 2019-07-25 11:11:42 2019-07-25  \n",
       "2 2019-07-25 11:28:47 2019-07-25  \n",
       "3 2019-07-25 11:28:47 2019-07-25  \n",
       "4 2019-07-25 11:48:42 2019-07-25  \n",
       "5 2019-07-25 11:48:43 2019-07-25  \n",
       "6 2019-07-25 14:50:42 2019-07-25  \n",
       "7 2019-07-25 20:14:37 2019-07-25  \n",
       "8 2019-07-25 20:31:42 2019-07-25  \n",
       "9 2019-07-26 03:35:12 2019-07-26  "
      ]
     },
     "execution_count": 13,
     "metadata": {},
     "output_type": "execute_result"
    }
   ],
   "source": [
    "data.head(10)"
   ]
  },
  {
   "cell_type": "code",
   "execution_count": 14,
   "metadata": {},
   "outputs": [
    {
     "name": "stdout",
     "output_type": "stream",
     "text": [
      "В среднем на одного пользователя приходится 32.276 событий.\n"
     ]
    }
   ],
   "source": [
    "print('В среднем на одного пользователя приходится {:0.5} событий.'.format(data.groupby('user_id')\n",
    "                                                                       .agg({'event_name': 'count'})['event_name'].mean()))"
   ]
  },
  {
   "cell_type": "code",
   "execution_count": 15,
   "metadata": {},
   "outputs": [
    {
     "name": "stdout",
     "output_type": "stream",
     "text": [
      "Максимальная дата: 2019-08-07 21:15:17. Минимальная дата: 2019-07-25 04:43:36\n"
     ]
    }
   ],
   "source": [
    "# максимальная и минимальная дата\n",
    "max_date = max(data['date_time'])\n",
    "min_date = min(data['date_time'])\n",
    "print('Максимальная дата: {}. Минимальная дата: {}'.format(max_date, min_date))"
   ]
  },
  {
   "cell_type": "code",
   "execution_count": 16,
   "metadata": {
    "scrolled": false
   },
   "outputs": [
    {
     "data": {
      "image/png": "[encoded data removed]",
      "text/plain": [
       "<Figure size 1152x432 with 1 Axes>"
      ]
     },
     "metadata": {
      "needs_background": "light"
     },
     "output_type": "display_data"
    }
   ],
   "source": [
    "# гистограмма даты и времени\n",
    "plt.figure(figsize=(16, 6))\n",
    "data['date_time'].hist()\n",
    "plt.title('Гистограмма даты и времени')\n",
    "plt.xlabel('Дата')\n",
    "plt.show()"
   ]
  },
  {
   "cell_type": "markdown",
   "metadata": {},
   "source": [
    "- по моим наблюдениям более полные данные начинаются с 1 августа 2019 года."
   ]
  },
  {
   "cell_type": "code",
   "execution_count": 17,
   "metadata": {},
   "outputs": [
    {
     "name": "stdout",
     "output_type": "stream",
     "text": [
      "Максимальная дата без старых данных: 2019-08-07 21:15:17. Минимальная дата без старых данных: 2019-08-01 00:07:28\n"
     ]
    }
   ],
   "source": [
    "# отбросим более старые данные\n",
    "data2 = data.copy()\n",
    "data2 = data2.query('date >= \"2019-08-01\"').reset_index(drop=True)\n",
    "max_date2 = max(data2['date_time'])\n",
    "min_date2 = min(data2['date_time'])\n",
    "print('Максимальная дата без старых данных: {}. Минимальная дата без старых данных: {}'.format(max_date2, min_date2))"
   ]
  },
  {
   "cell_type": "code",
   "execution_count": 18,
   "metadata": {
    "scrolled": true
   },
   "outputs": [
    {
     "name": "stdout",
     "output_type": "stream",
     "text": [
      "Количество событий в логе без старых данных: 5\n",
      "Общее количество событий в логе без старых данных: 240887\n",
      "Доля отсеянных событий: 0.0116\n"
     ]
    }
   ],
   "source": [
    "print('Количество событий в логе без старых данных:', len(data2['event_name'].unique()))\n",
    "print('Общее количество событий в логе без старых данных:', len(data2['event_name']))\n",
    "print('Доля отсеянных событий: {:0.4}'.format((len(data['event_name']) - len(data2['event_name']))/len(data['event_name'])))"
   ]
  },
  {
   "cell_type": "code",
   "execution_count": 19,
   "metadata": {
    "scrolled": false
   },
   "outputs": [
    {
     "name": "stdout",
     "output_type": "stream",
     "text": [
      "Количество пользователей в логе без старых данных: 7534\n",
      "Доля отсеянных пользователей: 0.00225\n"
     ]
    }
   ],
   "source": [
    "print('Количество пользователей в логе без старых данных:', data2['user_id'].nunique())\n",
    "print('Доля отсеянных пользователей: {:0.3}'.format((data['user_id'].nunique() - data2['user_id'].nunique())\n",
    "                                                /data['user_id'].nunique()))"
   ]
  },
  {
   "cell_type": "code",
   "execution_count": 20,
   "metadata": {},
   "outputs": [
    {
     "data": {
      "text/html": [
       "<div>\n",
       "<style scoped>\n",
       "    .dataframe tbody tr th:only-of-type {\n",
       "        vertical-align: middle;\n",
       "    }\n",
       "\n",
       "    .dataframe tbody tr th {\n",
       "        vertical-align: top;\n",
       "    }\n",
       "\n",
       "    .dataframe thead th {\n",
       "        text-align: right;\n",
       "    }\n",
       "</style>\n",
       "<table border=\"1\" class=\"dataframe\">\n",
       "  <thead>\n",
       "    <tr style=\"text-align: right;\">\n",
       "      <th></th>\n",
       "      <th>user_id</th>\n",
       "    </tr>\n",
       "    <tr>\n",
       "      <th>group_id</th>\n",
       "      <th></th>\n",
       "    </tr>\n",
       "  </thead>\n",
       "  <tbody>\n",
       "    <tr>\n",
       "      <th>246</th>\n",
       "      <td>2484</td>\n",
       "    </tr>\n",
       "    <tr>\n",
       "      <th>247</th>\n",
       "      <td>2513</td>\n",
       "    </tr>\n",
       "    <tr>\n",
       "      <th>248</th>\n",
       "      <td>2537</td>\n",
       "    </tr>\n",
       "  </tbody>\n",
       "</table>\n",
       "</div>"
      ],
      "text/plain": [
       "          user_id\n",
       "group_id         \n",
       "246          2484\n",
       "247          2513\n",
       "248          2537"
      ]
     },
     "execution_count": 20,
     "metadata": {},
     "output_type": "execute_result"
    }
   ],
   "source": [
    "# количество пользователей в разных группах \n",
    "data2.pivot_table(index='group_id', values='user_id', aggfunc='nunique')"
   ]
  },
  {
   "cell_type": "markdown",
   "metadata": {},
   "source": [
    "**Выводы:**\n",
    "- посчитал количество событий и количество пользователей в логе;\n",
    "- определил среднее количество событий на одного пользователя;\n",
    "- построил гистограмму дат и времени. По ней нашел даты соответствующие старым неполным данным. Отбросил их. Доля исключенных пользователей оказалась малой - 0.2251%. Думаю, что это мало повлияет на результат;\n",
    "- количество событий после отброса старых данных не изменилось;\n",
    "- проверил, что в итоговой таблице есть пользователи из всех трех групп."
   ]
  },
  {
   "cell_type": "markdown",
   "metadata": {},
   "source": [
    "## Изучение результатов эксперимента"
   ]
  },
  {
   "cell_type": "code",
   "execution_count": 21,
   "metadata": {
    "scrolled": true
   },
   "outputs": [
    {
     "data": {
      "text/html": [
       "<div>\n",
       "<style scoped>\n",
       "    .dataframe tbody tr th:only-of-type {\n",
       "        vertical-align: middle;\n",
       "    }\n",
       "\n",
       "    .dataframe tbody tr th {\n",
       "        vertical-align: top;\n",
       "    }\n",
       "\n",
       "    .dataframe thead th {\n",
       "        text-align: right;\n",
       "    }\n",
       "</style>\n",
       "<table border=\"1\" class=\"dataframe\">\n",
       "  <thead>\n",
       "    <tr style=\"text-align: right;\">\n",
       "      <th></th>\n",
       "      <th>group_id</th>\n",
       "      <th>users_in_group</th>\n",
       "    </tr>\n",
       "  </thead>\n",
       "  <tbody>\n",
       "    <tr>\n",
       "      <th>0</th>\n",
       "      <td>246</td>\n",
       "      <td>2484</td>\n",
       "    </tr>\n",
       "    <tr>\n",
       "      <th>1</th>\n",
       "      <td>247</td>\n",
       "      <td>2513</td>\n",
       "    </tr>\n",
       "    <tr>\n",
       "      <th>2</th>\n",
       "      <td>248</td>\n",
       "      <td>2537</td>\n",
       "    </tr>\n",
       "  </tbody>\n",
       "</table>\n",
       "</div>"
      ],
      "text/plain": [
       "   group_id  users_in_group\n",
       "0       246            2484\n",
       "1       247            2513\n",
       "2       248            2537"
      ]
     },
     "execution_count": 21,
     "metadata": {},
     "output_type": "execute_result"
    }
   ],
   "source": [
    "# количество пользователей в каждой экспериментальной группе\n",
    "data2.groupby('group_id').agg(users_in_group=('user_id', 'nunique')).reset_index()"
   ]
  },
  {
   "cell_type": "markdown",
   "metadata": {},
   "source": [
    "**A/A тест между 246 и 247 группой** "
   ]
  },
  {
   "cell_type": "code",
   "execution_count": 22,
   "metadata": {},
   "outputs": [],
   "source": [
    "# делаю ДФ по группам\n",
    "group246 = data2.query('group_id == 246')\n",
    "group247 = data2.query('group_id == 247')\n",
    "group248 = data2.query('group_id == 248')"
   ]
  },
  {
   "cell_type": "code",
   "execution_count": 23,
   "metadata": {},
   "outputs": [
    {
     "data": {
      "text/html": [
       "<div>\n",
       "<style scoped>\n",
       "    .dataframe tbody tr th:only-of-type {\n",
       "        vertical-align: middle;\n",
       "    }\n",
       "\n",
       "    .dataframe tbody tr th {\n",
       "        vertical-align: top;\n",
       "    }\n",
       "\n",
       "    .dataframe thead th {\n",
       "        text-align: right;\n",
       "    }\n",
       "</style>\n",
       "<table border=\"1\" class=\"dataframe\">\n",
       "  <thead>\n",
       "    <tr style=\"text-align: right;\">\n",
       "      <th></th>\n",
       "      <th>event_name</th>\n",
       "      <th>users_unique</th>\n",
       "      <th>users_share</th>\n",
       "      <th>total_unique_users</th>\n",
       "    </tr>\n",
       "  </thead>\n",
       "  <tbody>\n",
       "    <tr>\n",
       "      <th>0</th>\n",
       "      <td>MainScreenAppear</td>\n",
       "      <td>2450</td>\n",
       "      <td>0.986312</td>\n",
       "      <td>2484</td>\n",
       "    </tr>\n",
       "    <tr>\n",
       "      <th>1</th>\n",
       "      <td>OffersScreenAppear</td>\n",
       "      <td>1542</td>\n",
       "      <td>0.620773</td>\n",
       "      <td>2484</td>\n",
       "    </tr>\n",
       "    <tr>\n",
       "      <th>2</th>\n",
       "      <td>CartScreenAppear</td>\n",
       "      <td>1266</td>\n",
       "      <td>0.509662</td>\n",
       "      <td>2484</td>\n",
       "    </tr>\n",
       "    <tr>\n",
       "      <th>3</th>\n",
       "      <td>PaymentScreenSuccessful</td>\n",
       "      <td>1200</td>\n",
       "      <td>0.483092</td>\n",
       "      <td>2484</td>\n",
       "    </tr>\n",
       "    <tr>\n",
       "      <th>4</th>\n",
       "      <td>Tutorial</td>\n",
       "      <td>278</td>\n",
       "      <td>0.111916</td>\n",
       "      <td>2484</td>\n",
       "    </tr>\n",
       "  </tbody>\n",
       "</table>\n",
       "</div>"
      ],
      "text/plain": [
       "                event_name  users_unique  users_share  total_unique_users\n",
       "0         MainScreenAppear          2450     0.986312                2484\n",
       "1       OffersScreenAppear          1542     0.620773                2484\n",
       "2         CartScreenAppear          1266     0.509662                2484\n",
       "3  PaymentScreenSuccessful          1200     0.483092                2484\n",
       "4                 Tutorial           278     0.111916                2484"
      ]
     },
     "execution_count": 23,
     "metadata": {},
     "output_type": "execute_result"
    }
   ],
   "source": [
    "# определяю самое популярное действие среди пользователей\n",
    "group246_unique = (group246.groupby('event_name').agg(users_unique = ('user_id', 'nunique'))\n",
    "                   .sort_values(by='users_unique', ascending=False).reset_index()\n",
    "                   .assign(users_share = lambda x: x['users_unique']/group246['user_id'].nunique(),\n",
    "                           total_unique_users = lambda x: group246['user_id'].nunique()))\n",
    "\n",
    "group246_unique"
   ]
  },
  {
   "cell_type": "code",
   "execution_count": 24,
   "metadata": {},
   "outputs": [
    {
     "data": {
      "text/html": [
       "<div>\n",
       "<style scoped>\n",
       "    .dataframe tbody tr th:only-of-type {\n",
       "        vertical-align: middle;\n",
       "    }\n",
       "\n",
       "    .dataframe tbody tr th {\n",
       "        vertical-align: top;\n",
       "    }\n",
       "\n",
       "    .dataframe thead th {\n",
       "        text-align: right;\n",
       "    }\n",
       "</style>\n",
       "<table border=\"1\" class=\"dataframe\">\n",
       "  <thead>\n",
       "    <tr style=\"text-align: right;\">\n",
       "      <th></th>\n",
       "      <th>event_name</th>\n",
       "      <th>users_unique</th>\n",
       "      <th>users_share</th>\n",
       "      <th>total_unique_users</th>\n",
       "    </tr>\n",
       "  </thead>\n",
       "  <tbody>\n",
       "    <tr>\n",
       "      <th>0</th>\n",
       "      <td>MainScreenAppear</td>\n",
       "      <td>2476</td>\n",
       "      <td>0.985277</td>\n",
       "      <td>2513</td>\n",
       "    </tr>\n",
       "    <tr>\n",
       "      <th>1</th>\n",
       "      <td>OffersScreenAppear</td>\n",
       "      <td>1520</td>\n",
       "      <td>0.604855</td>\n",
       "      <td>2513</td>\n",
       "    </tr>\n",
       "    <tr>\n",
       "      <th>2</th>\n",
       "      <td>CartScreenAppear</td>\n",
       "      <td>1238</td>\n",
       "      <td>0.492638</td>\n",
       "      <td>2513</td>\n",
       "    </tr>\n",
       "    <tr>\n",
       "      <th>3</th>\n",
       "      <td>PaymentScreenSuccessful</td>\n",
       "      <td>1158</td>\n",
       "      <td>0.460804</td>\n",
       "      <td>2513</td>\n",
       "    </tr>\n",
       "    <tr>\n",
       "      <th>4</th>\n",
       "      <td>Tutorial</td>\n",
       "      <td>283</td>\n",
       "      <td>0.112614</td>\n",
       "      <td>2513</td>\n",
       "    </tr>\n",
       "  </tbody>\n",
       "</table>\n",
       "</div>"
      ],
      "text/plain": [
       "                event_name  users_unique  users_share  total_unique_users\n",
       "0         MainScreenAppear          2476     0.985277                2513\n",
       "1       OffersScreenAppear          1520     0.604855                2513\n",
       "2         CartScreenAppear          1238     0.492638                2513\n",
       "3  PaymentScreenSuccessful          1158     0.460804                2513\n",
       "4                 Tutorial           283     0.112614                2513"
      ]
     },
     "execution_count": 24,
     "metadata": {},
     "output_type": "execute_result"
    }
   ],
   "source": [
    "group247_unique = (group247.groupby('event_name').agg(users_unique = ('user_id', 'nunique'))\n",
    "                   .sort_values(by='users_unique', ascending=False).reset_index()\n",
    "                   .assign(users_share = lambda x: x['users_unique']/group247['user_id'].nunique(),\n",
    "                           total_unique_users = lambda x: group247['user_id'].nunique()))\n",
    "group247_unique"
   ]
  },
  {
   "cell_type": "markdown",
   "metadata": {},
   "source": [
    "- самое популярное действие в обоих группах - это появление главного экрана. Буду проводить расчет статистической значимости по этим показателям."
   ]
  },
  {
   "cell_type": "markdown",
   "metadata": {},
   "source": [
    "**Расчет статистической значимости между группами.**"
   ]
  },
  {
   "cell_type": "markdown",
   "metadata": {},
   "source": [
    "**A/A тест между 246 и 247 группой** "
   ]
  },
  {
   "cell_type": "markdown",
   "metadata": {},
   "source": [
    "**Нулевая гипотеза: статистическое различие долей пользователей при разных событиях между группами 246 и 247 - нет. Альтернативная гипотеза: есть статистическое различие долей пользователей при разных событиях между группами 246 и 247.**"
   ]
  },
  {
   "cell_type": "code",
   "execution_count": 25,
   "metadata": {},
   "outputs": [],
   "source": [
    "# проверка по z-тесту\n",
    "# создание функции для расчета статистической различия событий между группами \n",
    "def function_test(df1, df2, n, hypotesis):\n",
    "    p_combined = (df1['users_unique'][n] + df2['users_unique'][n]) / (df1['total_unique_users'][n] + df2['total_unique_users'][n])\n",
    "    difference = (df1['users_share'][n] - df2['users_share'][n])\n",
    "    \n",
    "    z_value = difference / mth.sqrt(p_combined*(1-p_combined)*((1/df1['total_unique_users'][n]) + (1/df2['total_unique_users'][n])))\n",
    "     \n",
    "    # задаем стандартное нормальное распределение (среднее 0, ст.отклонение 1)\n",
    "    distr = stats.norm(0, 1)  \n",
    "    \n",
    "    p_value = (1 - distr.cdf(abs(z_value))) * 2\n",
    "    alpha = 0.1\n",
    "    print('p-значение: {:0.4}'.format(p_value))\n",
    "\n",
    "    if p_value < alpha:\n",
    "        print('Отвергаем нулевую гипотезу, которая гласит:', hypotesis[n])\n",
    "    else:\n",
    "        print('Не получилось отвергнуть нулевую гипотезу, которая гласит:', hypotesis[n])\n",
    "        \n",
    "    print('Различие между группами: {:0.5f}'.format(df2['users_share'][n]/df1['users_share'][n] - 1))"
   ]
  },
  {
   "cell_type": "code",
   "execution_count": 26,
   "metadata": {
    "scrolled": false
   },
   "outputs": [],
   "source": [
    "# список из гипотез для передачи функции\n",
    "hypotesis246_247 = ['\"Cтатистического различия при появлении главного экрана между группами 246 и 247 - нет\"',\n",
    "                    '\"Статистического различия при появлении экрана предложений между группами 246 и 247 - нет\"',\n",
    "                    '\"Статистического различия при появлении экрана корзины между группами 246 и 247 - нет\"',\n",
    "                    '\"Статистического различия при появлении экрана успешного платежа между группами 246 и 247 - нет\"',\n",
    "                    '\"Статистического различия при появлении экрана рекомендаций между группами 246 и 247 - нет\"']"
   ]
  },
  {
   "cell_type": "code",
   "execution_count": 27,
   "metadata": {
    "scrolled": false
   },
   "outputs": [
    {
     "name": "stdout",
     "output_type": "stream",
     "text": [
      "p-значение: 0.7571\n",
      "Не получилось отвергнуть нулевую гипотезу, которая гласит: \"Cтатистического различия при появлении главного экрана между группами 246 и 247 - нет\"\n",
      "Различие между группами: -0.00105\n",
      "\n",
      "p-значение: 0.2481\n",
      "Не получилось отвергнуть нулевую гипотезу, которая гласит: \"Статистического различия при появлении экрана предложений между группами 246 и 247 - нет\"\n",
      "Различие между группами: -0.02564\n",
      "\n",
      "p-значение: 0.2288\n",
      "Не получилось отвергнуть нулевую гипотезу, которая гласит: \"Статистического различия при появлении экрана корзины между группами 246 и 247 - нет\"\n",
      "Различие между группами: -0.03340\n",
      "\n",
      "p-значение: 0.1146\n",
      "Не получилось отвергнуть нулевую гипотезу, которая гласит: \"Статистического различия при появлении экрана успешного платежа между группами 246 и 247 - нет\"\n",
      "Различие между группами: -0.04614\n",
      "\n",
      "p-значение: 0.9377\n",
      "Не получилось отвергнуть нулевую гипотезу, которая гласит: \"Статистического различия при появлении экрана рекомендаций между группами 246 и 247 - нет\"\n",
      "Различие между группами: 0.00624\n",
      "\n"
     ]
    }
   ],
   "source": [
    "# объявляю цикл для прогонки функции\n",
    "for i in range(5):\n",
    "    function_test(group246_unique, group247_unique, i, hypotesis246_247)\n",
    "    print()"
   ]
  },
  {
   "cell_type": "markdown",
   "metadata": {},
   "source": [
    "**Провел расчет статистической значимости каждого из событий между группами 246 и 247. Группы равны и можно быть уверенным в результатах теста.**"
   ]
  },
  {
   "cell_type": "markdown",
   "metadata": {},
   "source": [
    "**A/В тест между 246 и 248 группой** "
   ]
  },
  {
   "cell_type": "code",
   "execution_count": 28,
   "metadata": {
    "scrolled": true
   },
   "outputs": [
    {
     "data": {
      "text/html": [
       "<div>\n",
       "<style scoped>\n",
       "    .dataframe tbody tr th:only-of-type {\n",
       "        vertical-align: middle;\n",
       "    }\n",
       "\n",
       "    .dataframe tbody tr th {\n",
       "        vertical-align: top;\n",
       "    }\n",
       "\n",
       "    .dataframe thead th {\n",
       "        text-align: right;\n",
       "    }\n",
       "</style>\n",
       "<table border=\"1\" class=\"dataframe\">\n",
       "  <thead>\n",
       "    <tr style=\"text-align: right;\">\n",
       "      <th></th>\n",
       "      <th>event_name</th>\n",
       "      <th>users_unique</th>\n",
       "      <th>users_share</th>\n",
       "      <th>total_unique_users</th>\n",
       "    </tr>\n",
       "  </thead>\n",
       "  <tbody>\n",
       "    <tr>\n",
       "      <th>0</th>\n",
       "      <td>MainScreenAppear</td>\n",
       "      <td>2493</td>\n",
       "      <td>0.982657</td>\n",
       "      <td>2537</td>\n",
       "    </tr>\n",
       "    <tr>\n",
       "      <th>1</th>\n",
       "      <td>OffersScreenAppear</td>\n",
       "      <td>1531</td>\n",
       "      <td>0.603469</td>\n",
       "      <td>2537</td>\n",
       "    </tr>\n",
       "    <tr>\n",
       "      <th>2</th>\n",
       "      <td>CartScreenAppear</td>\n",
       "      <td>1230</td>\n",
       "      <td>0.484825</td>\n",
       "      <td>2537</td>\n",
       "    </tr>\n",
       "    <tr>\n",
       "      <th>3</th>\n",
       "      <td>PaymentScreenSuccessful</td>\n",
       "      <td>1181</td>\n",
       "      <td>0.465510</td>\n",
       "      <td>2537</td>\n",
       "    </tr>\n",
       "    <tr>\n",
       "      <th>4</th>\n",
       "      <td>Tutorial</td>\n",
       "      <td>279</td>\n",
       "      <td>0.109972</td>\n",
       "      <td>2537</td>\n",
       "    </tr>\n",
       "  </tbody>\n",
       "</table>\n",
       "</div>"
      ],
      "text/plain": [
       "                event_name  users_unique  users_share  total_unique_users\n",
       "0         MainScreenAppear          2493     0.982657                2537\n",
       "1       OffersScreenAppear          1531     0.603469                2537\n",
       "2         CartScreenAppear          1230     0.484825                2537\n",
       "3  PaymentScreenSuccessful          1181     0.465510                2537\n",
       "4                 Tutorial           279     0.109972                2537"
      ]
     },
     "execution_count": 28,
     "metadata": {},
     "output_type": "execute_result"
    }
   ],
   "source": [
    "# определяю самое популярное действие среди пользователей\n",
    "group248_unique = (group248.groupby('event_name').agg(users_unique = ('user_id', 'nunique'))\n",
    "                   .sort_values(by='users_unique', ascending=False).reset_index()\n",
    "                   .assign(users_share = lambda x: x['users_unique']/group248['user_id'].nunique(),\n",
    "                           total_unique_users = lambda x: group248['user_id'].nunique()))\n",
    "group248_unique"
   ]
  },
  {
   "cell_type": "markdown",
   "metadata": {},
   "source": [
    "**Нулевая гипотеза: статистическое различие долей пользователей при разных событиях между группами 246 и 248 - нет. Альтернативная гипотеза: есть статистическое различие долей пользователей при разных событиях между группами 246 и 248.**"
   ]
  },
  {
   "cell_type": "code",
   "execution_count": 29,
   "metadata": {},
   "outputs": [],
   "source": [
    "# список из гипотез для передачи функции\n",
    "hypotesis246_248 = ['\"Cтатистического различия при появлении главного экрана между группами 246 и 248 - нет\"',\n",
    "                    '\"Статистического различия при появлении экрана предложений между группами 246 и 248 - нет\"',\n",
    "                    '\"Статистического различия при появлении экрана корзины между группами 246 и 248 - нет\"',\n",
    "                    '\"Статистического различия при появлении экрана успешного платежа между группами 246 и 248 - нет\"',\n",
    "                    '\"Статистического различия при появлении экрана рекомендаций между группами 246 и 248 - нет\"']"
   ]
  },
  {
   "cell_type": "code",
   "execution_count": 30,
   "metadata": {},
   "outputs": [
    {
     "name": "stdout",
     "output_type": "stream",
     "text": [
      "p-значение: 0.295\n",
      "Не получилось отвергнуть нулевую гипотезу, которая гласит: \"Cтатистического различия при появлении главного экрана между группами 246 и 248 - нет\"\n",
      "Различие между группами: -0.00371\n",
      "\n",
      "p-значение: 0.2084\n",
      "Не получилось отвергнуть нулевую гипотезу, которая гласит: \"Статистического различия при появлении экрана предложений между группами 246 и 248 - нет\"\n",
      "Различие между группами: -0.02788\n",
      "\n",
      "p-значение: 0.07843\n",
      "Отвергаем нулевую гипотезу, которая гласит: \"Статистического различия при появлении экрана корзины между группами 246 и 248 - нет\"\n",
      "Различие между группами: -0.04873\n",
      "\n",
      "p-значение: 0.2123\n",
      "Не получилось отвергнуть нулевую гипотезу, которая гласит: \"Статистического различия при появлении экрана успешного платежа между группами 246 и 248 - нет\"\n",
      "Различие между группами: -0.03639\n",
      "\n",
      "p-значение: 0.8264\n",
      "Не получилось отвергнуть нулевую гипотезу, которая гласит: \"Статистического различия при появлении экрана рекомендаций между группами 246 и 248 - нет\"\n",
      "Различие между группами: -0.01737\n",
      "\n"
     ]
    }
   ],
   "source": [
    "# объявляю цикл для прогонки функции\n",
    "for i in range(5):\n",
    "    function_test(group246_unique, group248_unique, i, hypotesis246_248)\n",
    "    print()"
   ]
  },
  {
   "cell_type": "markdown",
   "metadata": {},
   "source": [
    "**Здесь дела обстоят также. Все гипотезы приняты, но относительное различие везде отрицательное.**"
   ]
  },
  {
   "cell_type": "markdown",
   "metadata": {},
   "source": [
    "**A/В тест между 247 и 248 группой** "
   ]
  },
  {
   "cell_type": "markdown",
   "metadata": {},
   "source": [
    "**Нулевая гипотеза: статистическое различие долей пользователей при разных событиях между группами 247 и 248 - нет. Альтернативная гипотеза: есть статистическое различие долей пользователей при разных событиях между группами 247 и 248.**"
   ]
  },
  {
   "cell_type": "code",
   "execution_count": 31,
   "metadata": {},
   "outputs": [],
   "source": [
    "# список из гипотез для передачи функции\n",
    "hypotesis247_248 = ['\"Cтатистического различия при появлении главного экрана между группами 247 и 248 - нет\"',\n",
    "                    '\"Статистического различия при появлении экрана предложений между группами 247 и 248 - нет\"',\n",
    "                    '\"Статистического различия при появлении экрана корзины между группами 247 и 248 - нет\"',\n",
    "                    '\"Статистического различия при появлении экрана успешного платежа между группами 247 и 248 - нет\"',\n",
    "                    '\"Статистического различия при появлении экрана рекомендаций между группами 247 и 248 - нет\"']"
   ]
  },
  {
   "cell_type": "code",
   "execution_count": 32,
   "metadata": {
    "scrolled": true
   },
   "outputs": [
    {
     "name": "stdout",
     "output_type": "stream",
     "text": [
      "p-значение: 0.4587\n",
      "Не получилось отвергнуть нулевую гипотезу, которая гласит: \"Cтатистического различия при появлении главного экрана между группами 247 и 248 - нет\"\n",
      "Различие между группами: -0.00266\n",
      "\n",
      "p-значение: 0.9198\n",
      "Не получилось отвергнуть нулевую гипотезу, которая гласит: \"Статистического различия при появлении экрана предложений между группами 247 и 248 - нет\"\n",
      "Различие между группами: -0.00229\n",
      "\n",
      "p-значение: 0.5786\n",
      "Не получилось отвергнуть нулевую гипотезу, которая гласит: \"Статистического различия при появлении экрана корзины между группами 247 и 248 - нет\"\n",
      "Различие между группами: -0.01586\n",
      "\n",
      "p-значение: 0.7373\n",
      "Не получилось отвергнуть нулевую гипотезу, которая гласит: \"Статистического различия при появлении экрана успешного платежа между группами 247 и 248 - нет\"\n",
      "Различие между группами: 0.01021\n",
      "\n",
      "p-значение: 0.7653\n",
      "Не получилось отвергнуть нулевую гипотезу, которая гласит: \"Статистического различия при появлении экрана рекомендаций между группами 247 и 248 - нет\"\n",
      "Различие между группами: -0.02346\n",
      "\n"
     ]
    }
   ],
   "source": [
    "# объявляю цикл для прогонки функции\n",
    "for i in range(5):\n",
    "    function_test(group247_unique, group248_unique, i, hypotesis247_248)\n",
    "    print()"
   ]
  },
  {
   "cell_type": "markdown",
   "metadata": {},
   "source": [
    "**При сравнении 247 и 248 p-value в большинстве случаях увеличился. Но по расчетам относительного различия между группами нельзя сказать, что экспериментальная группа 248 лучше контрольной 247.**"
   ]
  },
  {
   "cell_type": "code",
   "execution_count": 33,
   "metadata": {},
   "outputs": [
    {
     "data": {
      "text/html": [
       "<div>\n",
       "<style scoped>\n",
       "    .dataframe tbody tr th:only-of-type {\n",
       "        vertical-align: middle;\n",
       "    }\n",
       "\n",
       "    .dataframe tbody tr th {\n",
       "        vertical-align: top;\n",
       "    }\n",
       "\n",
       "    .dataframe thead th {\n",
       "        text-align: right;\n",
       "    }\n",
       "</style>\n",
       "<table border=\"1\" class=\"dataframe\">\n",
       "  <thead>\n",
       "    <tr style=\"text-align: right;\">\n",
       "      <th></th>\n",
       "      <th>event_name</th>\n",
       "      <th>users_unique</th>\n",
       "      <th>users_share</th>\n",
       "      <th>total_unique_users</th>\n",
       "    </tr>\n",
       "  </thead>\n",
       "  <tbody>\n",
       "    <tr>\n",
       "      <th>0</th>\n",
       "      <td>MainScreenAppear</td>\n",
       "      <td>4926</td>\n",
       "      <td>0.985791</td>\n",
       "      <td>4997</td>\n",
       "    </tr>\n",
       "    <tr>\n",
       "      <th>1</th>\n",
       "      <td>OffersScreenAppear</td>\n",
       "      <td>3062</td>\n",
       "      <td>0.612768</td>\n",
       "      <td>4997</td>\n",
       "    </tr>\n",
       "    <tr>\n",
       "      <th>2</th>\n",
       "      <td>CartScreenAppear</td>\n",
       "      <td>2504</td>\n",
       "      <td>0.501101</td>\n",
       "      <td>4997</td>\n",
       "    </tr>\n",
       "    <tr>\n",
       "      <th>3</th>\n",
       "      <td>PaymentScreenSuccessful</td>\n",
       "      <td>2358</td>\n",
       "      <td>0.471883</td>\n",
       "      <td>4997</td>\n",
       "    </tr>\n",
       "    <tr>\n",
       "      <th>4</th>\n",
       "      <td>Tutorial</td>\n",
       "      <td>561</td>\n",
       "      <td>0.112267</td>\n",
       "      <td>4997</td>\n",
       "    </tr>\n",
       "  </tbody>\n",
       "</table>\n",
       "</div>"
      ],
      "text/plain": [
       "                event_name  users_unique  users_share  total_unique_users\n",
       "0         MainScreenAppear          4926     0.985791                4997\n",
       "1       OffersScreenAppear          3062     0.612768                4997\n",
       "2         CartScreenAppear          2504     0.501101                4997\n",
       "3  PaymentScreenSuccessful          2358     0.471883                4997\n",
       "4                 Tutorial           561     0.112267                4997"
      ]
     },
     "execution_count": 33,
     "metadata": {},
     "output_type": "execute_result"
    }
   ],
   "source": [
    "# объединяю группы 246 и 247, нахожу долю пользователей и делаю А/А/В тест\n",
    "group246_247 = data2.query('group_id == 246 or group_id == 247')\n",
    "\n",
    "group246_247_unique = (group246_247.groupby('event_name').agg(users_unique = ('user_id', 'nunique'))\n",
    "                       .sort_values(by='users_unique', ascending=False).reset_index()\n",
    "                       .assign(users_share = lambda x: x['users_unique']/group246_247['user_id'].nunique(),\n",
    "                               total_unique_users = lambda x: group246_247['user_id'].nunique()))\n",
    "group246_247_unique"
   ]
  },
  {
   "cell_type": "markdown",
   "metadata": {},
   "source": [
    "**A/А/В тест между 246&247 и 248 группой** "
   ]
  },
  {
   "cell_type": "markdown",
   "metadata": {},
   "source": [
    "**Нулевая гипотеза: статистическое различие долей пользователей при разных событиях между группами 246&247 и 248 - нет. Альтернативная гипотеза: есть статистическое различие долей пользователей при разных событиях между группами 246&247 и 248.**"
   ]
  },
  {
   "cell_type": "code",
   "execution_count": 34,
   "metadata": {},
   "outputs": [],
   "source": [
    "# список из гипотез для передачи функции\n",
    "hypotesis246_247_248 = ['\"Cтатистического различия при появлении главного экрана между группами 246&247 и 248 - нет\"',\n",
    "                        '\"Статистического различия при появлении экрана предложений между группами 246&247 и 248 - нет\"',\n",
    "                        '\"Статистического различия при появлении экрана корзины между группами 246&247 и 248 - нет\"',\n",
    "                        '\"Статистического различия при появлении экрана успешного платежа между группами 246&247 и 248 - нет\"',\n",
    "                        '\"Статистического различия при появлении экрана рекомендаций между группами 246&247 и 248 - нет\"']"
   ]
  },
  {
   "cell_type": "code",
   "execution_count": 35,
   "metadata": {},
   "outputs": [
    {
     "name": "stdout",
     "output_type": "stream",
     "text": [
      "p-значение: 0.2942\n",
      "Не получилось отвергнуть нулевую гипотезу, которая гласит: \"Cтатистического различия при появлении главного экрана между группами 246&247 и 248 - нет\"\n",
      "Различие между группами: -0.00318\n",
      "\n",
      "p-значение: 0.4343\n",
      "Не получилось отвергнуть нулевую гипотезу, которая гласит: \"Статистического различия при появлении экрана предложений между группами 246&247 и 248 - нет\"\n",
      "Различие между группами: -0.01518\n",
      "\n",
      "p-значение: 0.1818\n",
      "Не получилось отвергнуть нулевую гипотезу, которая гласит: \"Статистического различия при появлении экрана корзины между группами 246&247 и 248 - нет\"\n",
      "Различие между группами: -0.03248\n",
      "\n",
      "p-значение: 0.6004\n",
      "Не получилось отвергнуть нулевую гипотезу, которая гласит: \"Статистического различия при появлении экрана успешного платежа между группами 246&247 и 248 - нет\"\n",
      "Различие между группами: -0.01350\n",
      "\n",
      "p-значение: 0.7649\n",
      "Не получилось отвергнуть нулевую гипотезу, которая гласит: \"Статистического различия при появлении экрана рекомендаций между группами 246&247 и 248 - нет\"\n",
      "Различие между группами: -0.02044\n",
      "\n"
     ]
    }
   ],
   "source": [
    "# объявляю цикл для прогонки функции\n",
    "for i in range(5):\n",
    "    function_test(group246_247_unique, group248_unique, i, hypotesis246_247_248)\n",
    "    print()"
   ]
  },
  {
   "cell_type": "markdown",
   "metadata": {},
   "source": [
    "**При проверки гипотез уровень статистической значимости = 0.05. Между группами всего было выполнено 5 сравнений по каждому из событий. Необходимо учитывать, что с увеличением попыток проверки гипотезы растет вероятность ошибки первого рода. Для снижения вероятности ошибки используют корректировки уровня статистической значимости.**"
   ]
  },
  {
   "cell_type": "markdown",
   "metadata": {},
   "source": [
    "**Буду использовать поправку Бонферрони, где уровень статистической значимости делят на число событий.**"
   ]
  },
  {
   "cell_type": "code",
   "execution_count": 36,
   "metadata": {},
   "outputs": [],
   "source": [
    "# проверка по z-тесту\n",
    "# создание функции для расчета статистической различия событий между группами с использование поправки \n",
    "def function_test(df1, df2, n, hypotesis):\n",
    "    p_combined = (df1['users_unique'][n] + df2['users_unique'][n]) / (df1['total_unique_users'][n] + df2['total_unique_users'][n])\n",
    "    difference = abs(df1['users_share'][n] - df2['users_share'][n])\n",
    "    \n",
    "    z_value = difference / mth.sqrt(p_combined*(1-p_combined)*(1/df1['total_unique_users'][n] + 1/df2['total_unique_users'][n]))\n",
    "     \n",
    "    # задаем стандартное нормальное распределение (среднее 0, ст.отклонение 1)\n",
    "    distr = stats.norm(0, 1)  \n",
    "    \n",
    "    p_value = (1 - distr.cdf(abs(z_value))) * 2\n",
    "    alpha = 0.05 / 20\n",
    "    print('p-значение: {:0.4}'.format(p_value))\n",
    "\n",
    "    if p_value < alpha:\n",
    "        print('Отвергаем нулевую гипотезу, которая гласит:', hypotesis[n])\n",
    "    else:\n",
    "        print('Не получилось отвергнуть нулевую гипотезу, которая гласит:', hypotesis[n])\n",
    "        \n",
    "    print('Различие между группами: {:0.5f}'.format(df2['users_share'][n]/df1['users_share'][n] - 1))"
   ]
  },
  {
   "cell_type": "markdown",
   "metadata": {},
   "source": [
    "**A/А тест между 246 и 247 группой с использованием поправки** "
   ]
  },
  {
   "cell_type": "code",
   "execution_count": 37,
   "metadata": {
    "scrolled": false
   },
   "outputs": [],
   "source": [
    "# список из гипотез для передачи функции\n",
    "hypotesis246_247 = ['\"Cтатистического различия при появлении главного экрана между группами 246 и 247 с использованием поправки - нет\"',\n",
    "                    '\"Статистического различия при появлении экрана предложений между группами 246 и 247 с использованием поправки - нет\"',\n",
    "                    '\"Статистического различия при появлении экрана корзины между группами 246 и 247 с использованием поправки - нет\"',\n",
    "                    '\"Статистического различия при появлении экрана успешного платежа между группами 246 и 247 с использованием поправки - нет\"',\n",
    "                    '\"Статистического различия при появлении экрана рекомендаций между группами 246 и 247 с использованием поправки - нет\"']"
   ]
  },
  {
   "cell_type": "code",
   "execution_count": 38,
   "metadata": {
    "scrolled": false
   },
   "outputs": [
    {
     "name": "stdout",
     "output_type": "stream",
     "text": [
      "p-значение: 0.7571\n",
      "Не получилось отвергнуть нулевую гипотезу, которая гласит: \"Cтатистического различия при появлении главного экрана между группами 246 и 247 с использованием поправки - нет\"\n",
      "Различие между группами: -0.00105\n",
      "\n",
      "p-значение: 0.2481\n",
      "Не получилось отвергнуть нулевую гипотезу, которая гласит: \"Статистического различия при появлении экрана предложений между группами 246 и 247 с использованием поправки - нет\"\n",
      "Различие между группами: -0.02564\n",
      "\n",
      "p-значение: 0.2288\n",
      "Не получилось отвергнуть нулевую гипотезу, которая гласит: \"Статистического различия при появлении экрана корзины между группами 246 и 247 с использованием поправки - нет\"\n",
      "Различие между группами: -0.03340\n",
      "\n",
      "p-значение: 0.1146\n",
      "Не получилось отвергнуть нулевую гипотезу, которая гласит: \"Статистического различия при появлении экрана успешного платежа между группами 246 и 247 с использованием поправки - нет\"\n",
      "Различие между группами: -0.04614\n",
      "\n",
      "p-значение: 0.9377\n",
      "Не получилось отвергнуть нулевую гипотезу, которая гласит: \"Статистического различия при появлении экрана рекомендаций между группами 246 и 247 с использованием поправки - нет\"\n",
      "Различие между группами: 0.00624\n",
      "\n"
     ]
    }
   ],
   "source": [
    "# объявляю цикл для прогонки функции\n",
    "for i in range(5):\n",
    "    function_test(group246_unique, group247_unique, i, hypotesis246_247)\n",
    "    print()"
   ]
  },
  {
   "cell_type": "markdown",
   "metadata": {},
   "source": [
    "**A/В тест между 246 и 248 группой с использованием поправки** "
   ]
  },
  {
   "cell_type": "code",
   "execution_count": 39,
   "metadata": {},
   "outputs": [],
   "source": [
    "# список из гипотез для передачи функции\n",
    "hypotesis246_248 = ['\"Cтатистического различия при появлении главного экрана между группами 246 и 248 с использованием поправки - нет\"',\n",
    "                    '\"Статистического различия при появлении экрана предложений между группами 246 и 248 с использованием поправки - нет\"',\n",
    "                    '\"Статистического различия при появлении экрана корзины между группами 246 и 248 с использованием поправки - нет\"',\n",
    "                    '\"Статистического различия при появлении экрана успешного платежа между группами 246 и 248 с использованием поправки - нет\"',\n",
    "                    '\"Статистического различия при появлении экрана рекомендаций между группами 246 и 248 с использованием поправки - нет\"']"
   ]
  },
  {
   "cell_type": "code",
   "execution_count": 40,
   "metadata": {},
   "outputs": [
    {
     "name": "stdout",
     "output_type": "stream",
     "text": [
      "p-значение: 0.295\n",
      "Не получилось отвергнуть нулевую гипотезу, которая гласит: \"Cтатистического различия при появлении главного экрана между группами 246 и 248 с использованием поправки - нет\"\n",
      "Различие между группами: -0.00371\n",
      "\n",
      "p-значение: 0.2084\n",
      "Не получилось отвергнуть нулевую гипотезу, которая гласит: \"Статистического различия при появлении экрана предложений между группами 246 и 248 с использованием поправки - нет\"\n",
      "Различие между группами: -0.02788\n",
      "\n",
      "p-значение: 0.07843\n",
      "Не получилось отвергнуть нулевую гипотезу, которая гласит: \"Статистического различия при появлении экрана корзины между группами 246 и 248 с использованием поправки - нет\"\n",
      "Различие между группами: -0.04873\n",
      "\n",
      "p-значение: 0.2123\n",
      "Не получилось отвергнуть нулевую гипотезу, которая гласит: \"Статистического различия при появлении экрана успешного платежа между группами 246 и 248 с использованием поправки - нет\"\n",
      "Различие между группами: -0.03639\n",
      "\n",
      "p-значение: 0.8264\n",
      "Не получилось отвергнуть нулевую гипотезу, которая гласит: \"Статистического различия при появлении экрана рекомендаций между группами 246 и 248 с использованием поправки - нет\"\n",
      "Различие между группами: -0.01737\n",
      "\n"
     ]
    }
   ],
   "source": [
    "# объявляю цикл для прогонки функции\n",
    "for i in range(5):\n",
    "    function_test(group246_unique, group248_unique, i, hypotesis246_248)\n",
    "    print()"
   ]
  },
  {
   "cell_type": "markdown",
   "metadata": {},
   "source": [
    "**A/В тест между 247 и 248 группой с использованием поправки** "
   ]
  },
  {
   "cell_type": "code",
   "execution_count": 41,
   "metadata": {},
   "outputs": [],
   "source": [
    "# список из гипотез для передачи функции\n",
    "hypotesis247_248 = ['\"Cтатистического различия при появлении главного экрана между группами 247 и 248 с использованием поправки - нет\"',\n",
    "                    '\"Статистического различия при появлении экрана предложений между группами 247 и 248 с использованием поправки - нет\"',\n",
    "                    '\"Статистического различия при появлении экрана корзины между группами 247 и 248 с использованием поправки - нет\"',\n",
    "                    '\"Статистического различия при появлении экрана успешного платежа между группами 247 и 248 с использованием поправки - нет\"',\n",
    "                    '\"Статистического различия при появлении экрана рекомендаций между группами 247 и 248 с использованием поправки - нет\"']"
   ]
  },
  {
   "cell_type": "code",
   "execution_count": 42,
   "metadata": {
    "scrolled": true
   },
   "outputs": [
    {
     "name": "stdout",
     "output_type": "stream",
     "text": [
      "p-значение: 0.4587\n",
      "Не получилось отвергнуть нулевую гипотезу, которая гласит: \"Cтатистического различия при появлении главного экрана между группами 247 и 248 с использованием поправки - нет\"\n",
      "Различие между группами: -0.00266\n",
      "\n",
      "p-значение: 0.9198\n",
      "Не получилось отвергнуть нулевую гипотезу, которая гласит: \"Статистического различия при появлении экрана предложений между группами 247 и 248 с использованием поправки - нет\"\n",
      "Различие между группами: -0.00229\n",
      "\n",
      "p-значение: 0.5786\n",
      "Не получилось отвергнуть нулевую гипотезу, которая гласит: \"Статистического различия при появлении экрана корзины между группами 247 и 248 с использованием поправки - нет\"\n",
      "Различие между группами: -0.01586\n",
      "\n",
      "p-значение: 0.7373\n",
      "Не получилось отвергнуть нулевую гипотезу, которая гласит: \"Статистического различия при появлении экрана успешного платежа между группами 247 и 248 с использованием поправки - нет\"\n",
      "Различие между группами: 0.01021\n",
      "\n",
      "p-значение: 0.7653\n",
      "Не получилось отвергнуть нулевую гипотезу, которая гласит: \"Статистического различия при появлении экрана рекомендаций между группами 247 и 248 с использованием поправки - нет\"\n",
      "Различие между группами: -0.02346\n",
      "\n"
     ]
    }
   ],
   "source": [
    "# объявляю цикл для прогонки функции\n",
    "for i in range(5):\n",
    "    function_test(group247_unique, group248_unique, i, hypotesis247_248)\n",
    "    print()"
   ]
  },
  {
   "cell_type": "markdown",
   "metadata": {},
   "source": [
    "**A/А/В тест между 246&247 и 248 группой с использованием поправки** "
   ]
  },
  {
   "cell_type": "code",
   "execution_count": 43,
   "metadata": {},
   "outputs": [],
   "source": [
    "# список из гипотез для передачи функции\n",
    "hypotesis246_247_248 = ['\"Cтатистического различия при появлении главного экрана между группами 246&247 и 248 с использованием поправки - нет\"',\n",
    "                        '\"Статистического различия при появлении экрана предложений между группами 246&247 и 248 с использованием поправки - нет\"',\n",
    "                        '\"Статистического различия при появлении экрана корзины между группами 246&247 и 248 с использованием поправки - нет\"',\n",
    "                        '\"Статистического различия при появлении экрана успешного платежа между группами 246&247 и 248 с использованием поправки - нет\"',\n",
    "                        '\"Статистического различия при появлении экрана рекомендаций между группами 246&247 и 248 с использованием поправки - нет\"']"
   ]
  },
  {
   "cell_type": "code",
   "execution_count": 44,
   "metadata": {},
   "outputs": [
    {
     "name": "stdout",
     "output_type": "stream",
     "text": [
      "p-значение: 0.2942\n",
      "Не получилось отвергнуть нулевую гипотезу, которая гласит: \"Cтатистического различия при появлении главного экрана между группами 246&247 и 248 с использованием поправки - нет\"\n",
      "Различие между группами: -0.00318\n",
      "\n",
      "p-значение: 0.4343\n",
      "Не получилось отвергнуть нулевую гипотезу, которая гласит: \"Статистического различия при появлении экрана предложений между группами 246&247 и 248 с использованием поправки - нет\"\n",
      "Различие между группами: -0.01518\n",
      "\n",
      "p-значение: 0.1818\n",
      "Не получилось отвергнуть нулевую гипотезу, которая гласит: \"Статистического различия при появлении экрана корзины между группами 246&247 и 248 с использованием поправки - нет\"\n",
      "Различие между группами: -0.03248\n",
      "\n",
      "p-значение: 0.6004\n",
      "Не получилось отвергнуть нулевую гипотезу, которая гласит: \"Статистического различия при появлении экрана успешного платежа между группами 246&247 и 248 с использованием поправки - нет\"\n",
      "Различие между группами: -0.01350\n",
      "\n",
      "p-значение: 0.7649\n",
      "Не получилось отвергнуть нулевую гипотезу, которая гласит: \"Статистического различия при появлении экрана рекомендаций между группами 246&247 и 248 с использованием поправки - нет\"\n",
      "Различие между группами: -0.02044\n",
      "\n"
     ]
    }
   ],
   "source": [
    "# объявляю цикл для прогонки функции\n",
    "for i in range(5):\n",
    "    function_test(group246_247_unique, group248_unique, i, hypotesis246_247_248)\n",
    "    print()"
   ]
  },
  {
   "cell_type": "markdown",
   "metadata": {},
   "source": [
    "**Всё без изменений. Все гипотезы также приняты и относительное различие между группами в основном отрицательное.**"
   ]
  },
  {
   "cell_type": "markdown",
   "metadata": {},
   "source": [
    "## Выводы"
   ]
  },
  {
   "cell_type": "markdown",
   "metadata": {},
   "source": [
    "- изучены и проверены на дубликаты и пропуски исходные данные. Также были отброшены неполные данные, которые могли исказить анализ;\n",
    "- проверены пользователи на пересечениях всех групп. Их не оказалось;\n",
    "- изучены события каждого пользователя. Определены доли отсеянных пользователей от одного этапа к последующему;\n",
    "- всего было проверено 20 гипотез;\n",
    "- А/А тест каждого из событий между группами 246 и 247 показал, что группы равны и можно быть уверенным в результатах теста.\n",
    "- А/В тест между 246 и 248 группой также показал хорошие результаты, но относительное различие в основном было отрицательное;\n",
    "- А/В тест между 247 и 248 группой также показал хорошие результаты и p-value больше, чем при сравнении групп 246 и 248;\n",
    "- А/А/В тест также показал хорошие результаты и все гипотезы были приняты."
   ]
  },
  {
   "cell_type": "markdown",
   "metadata": {},
   "source": [
    "**Был расчет относительного различия между группами. В основном экспериментальная группа была либо хуже контрольных групп, либо оставалась неизменной. По итогам А/А/В теста можно заметить отсутствие различий между группами и порекомендовать остановить тест, т.к. улучшений в результатах при изменении шрифта не наблюдается.** "
   ]
  }
 ],
 "metadata": {
  "ExecuteTimeLog": [
   {
    "duration": 409,
    "start_time": "2022-10-10T10:14:03.810Z"
   },
   {
    "duration": 582,
    "start_time": "2022-10-10T10:32:09.325Z"
   },
   {
    "duration": 12,
    "start_time": "2022-10-10T10:32:12.552Z"
   },
   {
    "duration": 256,
    "start_time": "2022-10-10T10:32:36.486Z"
   },
   {
    "duration": 8,
    "start_time": "2022-10-10T10:32:37.142Z"
   },
   {
    "duration": 156,
    "start_time": "2022-10-10T10:32:43.255Z"
   },
   {
    "duration": 8,
    "start_time": "2022-10-10T10:32:44.853Z"
   },
   {
    "duration": 261,
    "start_time": "2022-10-10T10:33:03.470Z"
   },
   {
    "duration": 8,
    "start_time": "2022-10-10T10:33:04.495Z"
   },
   {
    "duration": 317,
    "start_time": "2022-10-10T10:35:32.785Z"
   },
   {
    "duration": 7,
    "start_time": "2022-10-10T10:35:33.242Z"
   },
   {
    "duration": 264,
    "start_time": "2022-10-10T10:35:37.002Z"
   },
   {
    "duration": 8,
    "start_time": "2022-10-10T10:35:37.881Z"
   },
   {
    "duration": 559,
    "start_time": "2022-10-10T10:38:12.118Z"
   },
   {
    "duration": 237,
    "start_time": "2022-10-10T10:38:16.206Z"
   },
   {
    "duration": 7,
    "start_time": "2022-10-10T10:38:17.149Z"
   },
   {
    "duration": 231,
    "start_time": "2022-10-10T10:40:24.226Z"
   },
   {
    "duration": 10,
    "start_time": "2022-10-10T10:40:25.217Z"
   },
   {
    "duration": 140,
    "start_time": "2022-10-10T10:40:36.681Z"
   },
   {
    "duration": 9,
    "start_time": "2022-10-10T10:40:37.411Z"
   },
   {
    "duration": 279,
    "start_time": "2022-10-10T10:42:54.918Z"
   },
   {
    "duration": 289,
    "start_time": "2022-10-10T10:42:57.550Z"
   },
   {
    "duration": 8,
    "start_time": "2022-10-10T10:42:58.575Z"
   },
   {
    "duration": 138,
    "start_time": "2022-10-10T10:43:10.688Z"
   },
   {
    "duration": 9,
    "start_time": "2022-10-10T10:43:11.544Z"
   },
   {
    "duration": 7,
    "start_time": "2022-10-10T10:43:18.614Z"
   },
   {
    "duration": 17,
    "start_time": "2022-10-10T10:44:18.076Z"
   },
   {
    "duration": 581,
    "start_time": "2022-10-10T10:53:25.973Z"
   },
   {
    "duration": 13,
    "start_time": "2022-10-10T10:59:41.476Z"
   },
   {
    "duration": 11,
    "start_time": "2022-10-10T10:59:45.834Z"
   },
   {
    "duration": 11,
    "start_time": "2022-10-10T10:59:49.203Z"
   },
   {
    "duration": 778,
    "start_time": "2022-10-10T10:59:58.038Z"
   },
   {
    "duration": 33,
    "start_time": "2022-10-10T11:01:18.890Z"
   },
   {
    "duration": 13,
    "start_time": "2022-10-10T11:01:20.481Z"
   },
   {
    "duration": 7,
    "start_time": "2022-10-10T11:01:28.714Z"
   },
   {
    "duration": 10,
    "start_time": "2022-10-10T11:01:42.937Z"
   },
   {
    "duration": 3,
    "start_time": "2022-10-10T11:01:43.303Z"
   },
   {
    "duration": 372,
    "start_time": "2022-10-10T11:01:57.151Z"
   },
   {
    "duration": 153,
    "start_time": "2022-10-10T11:01:57.526Z"
   },
   {
    "duration": 12,
    "start_time": "2022-10-10T11:01:57.681Z"
   },
   {
    "duration": 27,
    "start_time": "2022-10-10T11:01:57.695Z"
   },
   {
    "duration": 47,
    "start_time": "2022-10-10T11:01:57.723Z"
   },
   {
    "duration": 3,
    "start_time": "2022-10-10T11:01:57.772Z"
   },
   {
    "duration": 14,
    "start_time": "2022-10-10T11:01:57.776Z"
   },
   {
    "duration": 58,
    "start_time": "2022-10-10T11:31:50.875Z"
   },
   {
    "duration": 13,
    "start_time": "2022-10-10T11:31:55.968Z"
   },
   {
    "duration": 10,
    "start_time": "2022-10-10T11:32:01.281Z"
   },
   {
    "duration": 5,
    "start_time": "2022-10-10T11:32:02.208Z"
   },
   {
    "duration": 7,
    "start_time": "2022-10-10T11:32:09.064Z"
   },
   {
    "duration": 61,
    "start_time": "2022-10-10T11:32:21.480Z"
   },
   {
    "duration": 6,
    "start_time": "2022-10-10T11:32:21.807Z"
   },
   {
    "duration": 9,
    "start_time": "2022-10-10T11:32:46.071Z"
   },
   {
    "duration": 10,
    "start_time": "2022-10-10T11:32:49.215Z"
   },
   {
    "duration": 10,
    "start_time": "2022-10-10T11:34:35.669Z"
   },
   {
    "duration": 358,
    "start_time": "2022-10-10T11:34:42.559Z"
   },
   {
    "duration": 157,
    "start_time": "2022-10-10T11:34:42.921Z"
   },
   {
    "duration": 15,
    "start_time": "2022-10-10T11:34:43.080Z"
   },
   {
    "duration": 28,
    "start_time": "2022-10-10T11:34:43.097Z"
   },
   {
    "duration": 72,
    "start_time": "2022-10-10T11:34:43.127Z"
   },
   {
    "duration": 0,
    "start_time": "2022-10-10T11:34:43.201Z"
   },
   {
    "duration": 0,
    "start_time": "2022-10-10T11:34:43.202Z"
   },
   {
    "duration": 466,
    "start_time": "2022-10-10T11:34:56.966Z"
   },
   {
    "duration": 35,
    "start_time": "2022-10-10T11:35:08.400Z"
   },
   {
    "duration": 3,
    "start_time": "2022-10-10T11:35:09.023Z"
   },
   {
    "duration": 11,
    "start_time": "2022-10-10T11:35:10.022Z"
   },
   {
    "duration": 62,
    "start_time": "2022-10-10T11:36:04.726Z"
   },
   {
    "duration": 47,
    "start_time": "2022-10-10T11:36:32.972Z"
   },
   {
    "duration": 47,
    "start_time": "2022-10-10T11:37:01.727Z"
   },
   {
    "duration": 2,
    "start_time": "2022-10-10T11:37:03.013Z"
   },
   {
    "duration": 11,
    "start_time": "2022-10-10T11:37:03.708Z"
   },
   {
    "duration": 11,
    "start_time": "2022-10-10T11:37:09.037Z"
   },
   {
    "duration": 3,
    "start_time": "2022-10-10T11:37:09.659Z"
   },
   {
    "duration": 12,
    "start_time": "2022-10-10T11:37:10.827Z"
   },
   {
    "duration": 11,
    "start_time": "2022-10-10T11:37:29.692Z"
   },
   {
    "duration": 2,
    "start_time": "2022-10-10T11:37:30.675Z"
   },
   {
    "duration": 13,
    "start_time": "2022-10-10T11:37:31.174Z"
   },
   {
    "duration": 11,
    "start_time": "2022-10-10T11:40:21.869Z"
   },
   {
    "duration": 8,
    "start_time": "2022-10-10T11:40:54.589Z"
   },
   {
    "duration": 8,
    "start_time": "2022-10-10T11:41:01.126Z"
   },
   {
    "duration": 7,
    "start_time": "2022-10-10T11:41:35.208Z"
   },
   {
    "duration": 6,
    "start_time": "2022-10-10T11:41:40.909Z"
   },
   {
    "duration": 10,
    "start_time": "2022-10-10T11:41:47.372Z"
   },
   {
    "duration": 6,
    "start_time": "2022-10-10T11:41:54.636Z"
   },
   {
    "duration": 356,
    "start_time": "2022-10-10T11:42:07.052Z"
   },
   {
    "duration": 161,
    "start_time": "2022-10-10T11:42:07.410Z"
   },
   {
    "duration": 12,
    "start_time": "2022-10-10T11:42:07.573Z"
   },
   {
    "duration": 20,
    "start_time": "2022-10-10T11:42:07.587Z"
   },
   {
    "duration": 47,
    "start_time": "2022-10-10T11:42:07.608Z"
   },
   {
    "duration": 69,
    "start_time": "2022-10-10T11:42:07.656Z"
   },
   {
    "duration": 0,
    "start_time": "2022-10-10T11:42:07.727Z"
   },
   {
    "duration": 7,
    "start_time": "2022-10-10T11:42:42.755Z"
   },
   {
    "duration": 8,
    "start_time": "2022-10-10T11:47:49.674Z"
   },
   {
    "duration": 7,
    "start_time": "2022-10-10T11:48:00.051Z"
   },
   {
    "duration": 6,
    "start_time": "2022-10-10T11:50:46.750Z"
   },
   {
    "duration": 401,
    "start_time": "2022-10-10T11:50:51.899Z"
   },
   {
    "duration": 148,
    "start_time": "2022-10-10T11:50:52.302Z"
   },
   {
    "duration": 13,
    "start_time": "2022-10-10T11:50:52.451Z"
   },
   {
    "duration": 18,
    "start_time": "2022-10-10T11:50:52.466Z"
   },
   {
    "duration": 3,
    "start_time": "2022-10-10T11:50:52.485Z"
   },
   {
    "duration": 7,
    "start_time": "2022-10-10T11:50:52.489Z"
   },
   {
    "duration": 38,
    "start_time": "2022-10-10T11:50:52.498Z"
   },
   {
    "duration": 3,
    "start_time": "2022-10-10T11:50:52.537Z"
   },
   {
    "duration": 12,
    "start_time": "2022-10-10T11:51:04.785Z"
   },
   {
    "duration": 10,
    "start_time": "2022-10-10T11:52:29.622Z"
   },
   {
    "duration": 4,
    "start_time": "2022-10-10T11:52:30.373Z"
   },
   {
    "duration": 12,
    "start_time": "2022-10-10T11:52:30.878Z"
   },
   {
    "duration": 13,
    "start_time": "2022-10-10T11:52:58.878Z"
   },
   {
    "duration": 3,
    "start_time": "2022-10-10T11:52:59.333Z"
   },
   {
    "duration": 14,
    "start_time": "2022-10-10T11:53:00.325Z"
   },
   {
    "duration": 420,
    "start_time": "2022-10-10T11:53:05.829Z"
   },
   {
    "duration": 156,
    "start_time": "2022-10-10T11:53:06.251Z"
   },
   {
    "duration": 14,
    "start_time": "2022-10-10T11:53:06.409Z"
   },
   {
    "duration": 19,
    "start_time": "2022-10-10T11:53:06.424Z"
   },
   {
    "duration": 2,
    "start_time": "2022-10-10T11:53:06.445Z"
   },
   {
    "duration": 5,
    "start_time": "2022-10-10T11:53:06.448Z"
   },
   {
    "duration": 15,
    "start_time": "2022-10-10T11:53:06.455Z"
   },
   {
    "duration": 4,
    "start_time": "2022-10-10T11:53:06.471Z"
   },
   {
    "duration": 13,
    "start_time": "2022-10-10T11:53:06.476Z"
   },
   {
    "duration": 60,
    "start_time": "2022-10-10T11:58:01.733Z"
   },
   {
    "duration": 386,
    "start_time": "2022-10-10T12:01:29.873Z"
   },
   {
    "duration": 420,
    "start_time": "2022-10-10T12:01:44.704Z"
   },
   {
    "duration": 156,
    "start_time": "2022-10-10T12:01:45.125Z"
   },
   {
    "duration": 13,
    "start_time": "2022-10-10T12:01:45.282Z"
   },
   {
    "duration": 34,
    "start_time": "2022-10-10T12:01:45.296Z"
   },
   {
    "duration": 3,
    "start_time": "2022-10-10T12:01:45.331Z"
   },
   {
    "duration": 848,
    "start_time": "2022-10-10T12:01:45.335Z"
   },
   {
    "duration": 0,
    "start_time": "2022-10-10T12:01:46.184Z"
   },
   {
    "duration": 21,
    "start_time": "2022-10-10T12:01:54.871Z"
   },
   {
    "duration": 21,
    "start_time": "2022-10-10T12:02:18.399Z"
   },
   {
    "duration": 22,
    "start_time": "2022-10-10T12:02:39.742Z"
   },
   {
    "duration": 13,
    "start_time": "2022-10-10T12:02:45.877Z"
   },
   {
    "duration": 3,
    "start_time": "2022-10-10T12:03:37.700Z"
   },
   {
    "duration": 54,
    "start_time": "2022-10-10T12:03:54.923Z"
   },
   {
    "duration": 9,
    "start_time": "2022-10-10T12:03:57.644Z"
   },
   {
    "duration": 6,
    "start_time": "2022-10-10T12:04:12.924Z"
   },
   {
    "duration": 80,
    "start_time": "2022-10-10T12:04:40.451Z"
   },
   {
    "duration": 68,
    "start_time": "2022-10-10T12:05:10.282Z"
   },
   {
    "duration": 151,
    "start_time": "2022-10-10T12:06:41.786Z"
   },
   {
    "duration": 211,
    "start_time": "2022-10-10T12:06:53.024Z"
   },
   {
    "duration": 213,
    "start_time": "2022-10-10T12:07:04.494Z"
   },
   {
    "duration": 152,
    "start_time": "2022-10-10T12:07:37.390Z"
   },
   {
    "duration": 372,
    "start_time": "2022-10-10T12:07:42.156Z"
   },
   {
    "duration": 157,
    "start_time": "2022-10-10T12:07:42.530Z"
   },
   {
    "duration": 13,
    "start_time": "2022-10-10T12:07:42.689Z"
   },
   {
    "duration": 27,
    "start_time": "2022-10-10T12:07:42.703Z"
   },
   {
    "duration": 2,
    "start_time": "2022-10-10T12:07:42.732Z"
   },
   {
    "duration": 24,
    "start_time": "2022-10-10T12:07:42.735Z"
   },
   {
    "duration": 11,
    "start_time": "2022-10-10T12:07:42.760Z"
   },
   {
    "duration": 171,
    "start_time": "2022-10-10T12:07:42.772Z"
   },
   {
    "duration": 206,
    "start_time": "2022-10-10T12:08:10.177Z"
   },
   {
    "duration": 333,
    "start_time": "2022-10-10T12:08:14.673Z"
   },
   {
    "duration": 156,
    "start_time": "2022-10-10T12:08:15.008Z"
   },
   {
    "duration": 13,
    "start_time": "2022-10-10T12:08:15.166Z"
   },
   {
    "duration": 20,
    "start_time": "2022-10-10T12:08:15.181Z"
   },
   {
    "duration": 3,
    "start_time": "2022-10-10T12:08:15.202Z"
   },
   {
    "duration": 37,
    "start_time": "2022-10-10T12:08:15.206Z"
   },
   {
    "duration": 14,
    "start_time": "2022-10-10T12:08:15.244Z"
   },
   {
    "duration": 244,
    "start_time": "2022-10-10T12:08:15.260Z"
   },
   {
    "duration": 208,
    "start_time": "2022-10-10T12:08:28.221Z"
   },
   {
    "duration": 365,
    "start_time": "2022-10-10T12:08:32.444Z"
   },
   {
    "duration": 156,
    "start_time": "2022-10-10T12:08:32.812Z"
   },
   {
    "duration": 12,
    "start_time": "2022-10-10T12:08:32.970Z"
   },
   {
    "duration": 20,
    "start_time": "2022-10-10T12:08:32.984Z"
   },
   {
    "duration": 17,
    "start_time": "2022-10-10T12:08:33.005Z"
   },
   {
    "duration": 24,
    "start_time": "2022-10-10T12:08:33.024Z"
   },
   {
    "duration": 12,
    "start_time": "2022-10-10T12:08:33.050Z"
   },
   {
    "duration": 236,
    "start_time": "2022-10-10T12:08:33.063Z"
   },
   {
    "duration": 387,
    "start_time": "2022-10-10T12:09:01.640Z"
   },
   {
    "duration": 159,
    "start_time": "2022-10-10T12:09:02.029Z"
   },
   {
    "duration": 14,
    "start_time": "2022-10-10T12:09:02.190Z"
   },
   {
    "duration": 137,
    "start_time": "2022-10-10T12:09:02.206Z"
   },
   {
    "duration": 5,
    "start_time": "2022-10-10T12:09:02.345Z"
   },
   {
    "duration": 45,
    "start_time": "2022-10-10T12:09:02.351Z"
   },
   {
    "duration": 24,
    "start_time": "2022-10-10T12:09:02.397Z"
   },
   {
    "duration": 271,
    "start_time": "2022-10-10T12:09:02.423Z"
   },
   {
    "duration": 15,
    "start_time": "2022-10-10T12:14:10.067Z"
   },
   {
    "duration": 15,
    "start_time": "2022-10-10T12:14:27.234Z"
   },
   {
    "duration": 15,
    "start_time": "2022-10-10T12:14:32.540Z"
   },
   {
    "duration": 12,
    "start_time": "2022-10-10T12:34:35.459Z"
   },
   {
    "duration": 9,
    "start_time": "2022-10-10T12:34:41.489Z"
   },
   {
    "duration": 3,
    "start_time": "2022-10-10T12:34:41.793Z"
   },
   {
    "duration": 58,
    "start_time": "2022-10-10T12:35:00.617Z"
   },
   {
    "duration": 18,
    "start_time": "2022-10-10T12:35:12.705Z"
   },
   {
    "duration": 17,
    "start_time": "2022-10-10T12:35:28.808Z"
   },
   {
    "duration": 16,
    "start_time": "2022-10-10T12:39:32.826Z"
   },
   {
    "duration": 16,
    "start_time": "2022-10-10T12:39:37.985Z"
   },
   {
    "duration": 5,
    "start_time": "2022-10-10T12:40:09.681Z"
   },
   {
    "duration": 11,
    "start_time": "2022-10-10T12:40:18.536Z"
   },
   {
    "duration": 11,
    "start_time": "2022-10-10T12:40:28.248Z"
   },
   {
    "duration": 6,
    "start_time": "2022-10-10T12:40:39.002Z"
   },
   {
    "duration": 7,
    "start_time": "2022-10-10T12:40:46.936Z"
   },
   {
    "duration": 60,
    "start_time": "2022-10-10T12:42:03.118Z"
   },
   {
    "duration": 9,
    "start_time": "2022-10-10T12:42:12.334Z"
   },
   {
    "duration": 24,
    "start_time": "2022-10-10T12:42:27.517Z"
   },
   {
    "duration": 28,
    "start_time": "2022-10-10T12:48:06.096Z"
   },
   {
    "duration": 13,
    "start_time": "2022-10-10T12:48:13.303Z"
   },
   {
    "duration": 13,
    "start_time": "2022-10-10T12:48:44.587Z"
   },
   {
    "duration": 5,
    "start_time": "2022-10-10T12:49:01.506Z"
   },
   {
    "duration": 23,
    "start_time": "2022-10-10T12:49:29.233Z"
   },
   {
    "duration": 23,
    "start_time": "2022-10-10T12:49:40.441Z"
   },
   {
    "duration": 20,
    "start_time": "2022-10-10T12:50:13.009Z"
   },
   {
    "duration": 20,
    "start_time": "2022-10-10T12:50:28.536Z"
   },
   {
    "duration": 10,
    "start_time": "2022-10-10T12:50:40.520Z"
   },
   {
    "duration": 21,
    "start_time": "2022-10-10T12:50:49.873Z"
   },
   {
    "duration": 138,
    "start_time": "2022-10-10T12:53:02.749Z"
   },
   {
    "duration": 18,
    "start_time": "2022-10-10T12:53:07.028Z"
   },
   {
    "duration": 19,
    "start_time": "2022-10-10T12:53:15.459Z"
   },
   {
    "duration": 18,
    "start_time": "2022-10-10T12:53:20.131Z"
   },
   {
    "duration": 17,
    "start_time": "2022-10-10T12:53:25.340Z"
   },
   {
    "duration": 19,
    "start_time": "2022-10-10T12:53:29.163Z"
   },
   {
    "duration": 19,
    "start_time": "2022-10-10T12:53:32.524Z"
   },
   {
    "duration": 22,
    "start_time": "2022-10-10T12:53:35.660Z"
   },
   {
    "duration": 18,
    "start_time": "2022-10-10T12:53:38.155Z"
   },
   {
    "duration": 20,
    "start_time": "2022-10-10T12:53:41.578Z"
   },
   {
    "duration": 18,
    "start_time": "2022-10-10T12:53:44.994Z"
   },
   {
    "duration": 23,
    "start_time": "2022-10-10T12:53:52.075Z"
   },
   {
    "duration": 23,
    "start_time": "2022-10-10T12:53:56.186Z"
   },
   {
    "duration": 19,
    "start_time": "2022-10-10T12:54:01.802Z"
   },
   {
    "duration": 20,
    "start_time": "2022-10-10T12:54:04.850Z"
   },
   {
    "duration": 18,
    "start_time": "2022-10-10T12:54:07.235Z"
   },
   {
    "duration": 20,
    "start_time": "2022-10-10T12:54:09.994Z"
   },
   {
    "duration": 18,
    "start_time": "2022-10-10T12:54:14.329Z"
   },
   {
    "duration": 22,
    "start_time": "2022-10-10T12:54:18.881Z"
   },
   {
    "duration": 19,
    "start_time": "2022-10-10T12:54:23.074Z"
   },
   {
    "duration": 17,
    "start_time": "2022-10-10T12:54:26.353Z"
   },
   {
    "duration": 22,
    "start_time": "2022-10-10T12:54:29.050Z"
   },
   {
    "duration": 19,
    "start_time": "2022-10-10T12:54:31.577Z"
   },
   {
    "duration": 27,
    "start_time": "2022-10-10T12:54:39.057Z"
   },
   {
    "duration": 394,
    "start_time": "2022-10-10T12:54:52.924Z"
   },
   {
    "duration": 156,
    "start_time": "2022-10-10T12:54:53.322Z"
   },
   {
    "duration": 13,
    "start_time": "2022-10-10T12:54:53.480Z"
   },
   {
    "duration": 28,
    "start_time": "2022-10-10T12:54:53.494Z"
   },
   {
    "duration": 3,
    "start_time": "2022-10-10T12:54:53.523Z"
   },
   {
    "duration": 29,
    "start_time": "2022-10-10T12:54:53.528Z"
   },
   {
    "duration": 236,
    "start_time": "2022-10-10T12:54:53.559Z"
   },
   {
    "duration": 15,
    "start_time": "2022-10-10T12:54:53.797Z"
   },
   {
    "duration": 15,
    "start_time": "2022-10-10T12:54:53.814Z"
   },
   {
    "duration": 25,
    "start_time": "2022-10-10T12:54:53.831Z"
   },
   {
    "duration": 6,
    "start_time": "2022-10-10T12:54:53.858Z"
   },
   {
    "duration": 14,
    "start_time": "2022-10-10T12:54:53.866Z"
   },
   {
    "duration": 41,
    "start_time": "2022-10-10T12:54:53.882Z"
   },
   {
    "duration": 10,
    "start_time": "2022-10-10T12:55:03.881Z"
   },
   {
    "duration": 20,
    "start_time": "2022-10-10T13:04:43.098Z"
   },
   {
    "duration": 18,
    "start_time": "2022-10-10T13:04:52.704Z"
   },
   {
    "duration": 18,
    "start_time": "2022-10-10T13:04:55.960Z"
   },
   {
    "duration": 258,
    "start_time": "2022-10-10T13:05:36.008Z"
   },
   {
    "duration": 303,
    "start_time": "2022-10-10T13:06:12.303Z"
   },
   {
    "duration": 470,
    "start_time": "2022-10-10T13:06:17.286Z"
   },
   {
    "duration": 4,
    "start_time": "2022-10-10T13:06:31.903Z"
   },
   {
    "duration": 6,
    "start_time": "2022-10-10T13:07:19.813Z"
   },
   {
    "duration": 20,
    "start_time": "2022-10-10T13:07:22.989Z"
   },
   {
    "duration": 467,
    "start_time": "2022-10-10T13:08:33.843Z"
   },
   {
    "duration": 460,
    "start_time": "2022-10-10T13:09:25.722Z"
   },
   {
    "duration": 588,
    "start_time": "2022-10-10T13:11:35.885Z"
   },
   {
    "duration": 16,
    "start_time": "2022-10-10T13:12:16.725Z"
   },
   {
    "duration": 562,
    "start_time": "2022-10-10T13:12:36.967Z"
   },
   {
    "duration": 154,
    "start_time": "2022-10-10T13:12:37.531Z"
   },
   {
    "duration": 10,
    "start_time": "2022-10-10T13:12:37.687Z"
   },
   {
    "duration": 29,
    "start_time": "2022-10-10T13:12:37.699Z"
   },
   {
    "duration": 3,
    "start_time": "2022-10-10T13:12:37.730Z"
   },
   {
    "duration": 23,
    "start_time": "2022-10-10T13:12:37.734Z"
   },
   {
    "duration": 224,
    "start_time": "2022-10-10T13:12:37.759Z"
   },
   {
    "duration": 14,
    "start_time": "2022-10-10T13:12:37.985Z"
   },
   {
    "duration": 21,
    "start_time": "2022-10-10T13:12:38.001Z"
   },
   {
    "duration": 16,
    "start_time": "2022-10-10T13:12:38.024Z"
   },
   {
    "duration": 6,
    "start_time": "2022-10-10T13:12:38.042Z"
   },
   {
    "duration": 9,
    "start_time": "2022-10-10T13:12:38.049Z"
   },
   {
    "duration": 18,
    "start_time": "2022-10-10T13:12:38.059Z"
   },
   {
    "duration": 512,
    "start_time": "2022-10-10T13:12:38.079Z"
   },
   {
    "duration": 237,
    "start_time": "2022-10-10T13:12:38.592Z"
   },
   {
    "duration": 164,
    "start_time": "2022-10-10T13:12:48.564Z"
   },
   {
    "duration": 235,
    "start_time": "2022-10-10T13:13:01.419Z"
   },
   {
    "duration": 185,
    "start_time": "2022-10-10T13:13:09.155Z"
   },
   {
    "duration": 171,
    "start_time": "2022-10-10T13:13:35.810Z"
   },
   {
    "duration": 341,
    "start_time": "2022-10-10T13:14:31.569Z"
   },
   {
    "duration": 67,
    "start_time": "2022-10-10T13:14:51.417Z"
   },
   {
    "duration": 175,
    "start_time": "2022-10-10T13:17:36.877Z"
   },
   {
    "duration": 173,
    "start_time": "2022-10-10T13:18:51.457Z"
   },
   {
    "duration": 592,
    "start_time": "2022-10-10T13:18:55.944Z"
   },
   {
    "duration": 162,
    "start_time": "2022-10-10T13:18:56.538Z"
   },
   {
    "duration": 12,
    "start_time": "2022-10-10T13:18:56.701Z"
   },
   {
    "duration": 28,
    "start_time": "2022-10-10T13:18:56.715Z"
   },
   {
    "duration": 16,
    "start_time": "2022-10-10T13:18:56.745Z"
   },
   {
    "duration": 49,
    "start_time": "2022-10-10T13:18:56.762Z"
   },
   {
    "duration": 216,
    "start_time": "2022-10-10T13:18:56.812Z"
   },
   {
    "duration": 14,
    "start_time": "2022-10-10T13:18:57.031Z"
   },
   {
    "duration": 12,
    "start_time": "2022-10-10T13:18:57.047Z"
   },
   {
    "duration": 26,
    "start_time": "2022-10-10T13:18:57.061Z"
   },
   {
    "duration": 10,
    "start_time": "2022-10-10T13:18:57.089Z"
   },
   {
    "duration": 12,
    "start_time": "2022-10-10T13:18:57.123Z"
   },
   {
    "duration": 25,
    "start_time": "2022-10-10T13:18:57.137Z"
   },
   {
    "duration": 604,
    "start_time": "2022-10-10T13:18:57.164Z"
   },
   {
    "duration": 256,
    "start_time": "2022-10-10T13:18:57.770Z"
   },
   {
    "duration": 74,
    "start_time": "2022-10-10T13:39:29.021Z"
   },
   {
    "duration": 3,
    "start_time": "2022-10-10T13:41:13.096Z"
   },
   {
    "duration": 7,
    "start_time": "2022-10-10T13:42:01.418Z"
   },
   {
    "duration": 18,
    "start_time": "2022-10-10T13:42:12.537Z"
   },
   {
    "duration": 25,
    "start_time": "2022-10-10T13:43:26.759Z"
   },
   {
    "duration": 31,
    "start_time": "2022-10-10T13:43:30.743Z"
   },
   {
    "duration": 39,
    "start_time": "2022-10-10T13:43:41.669Z"
   },
   {
    "duration": 80,
    "start_time": "2022-10-10T13:44:02.149Z"
   },
   {
    "duration": 33,
    "start_time": "2022-10-10T13:46:53.081Z"
   },
   {
    "duration": 31,
    "start_time": "2022-10-10T13:47:20.952Z"
   },
   {
    "duration": 485,
    "start_time": "2022-10-10T13:48:42.159Z"
   },
   {
    "duration": 569,
    "start_time": "2022-10-10T13:49:05.947Z"
   },
   {
    "duration": 166,
    "start_time": "2022-10-10T13:49:06.518Z"
   },
   {
    "duration": 12,
    "start_time": "2022-10-10T13:49:06.686Z"
   },
   {
    "duration": 27,
    "start_time": "2022-10-10T13:49:06.700Z"
   },
   {
    "duration": 2,
    "start_time": "2022-10-10T13:49:06.729Z"
   },
   {
    "duration": 31,
    "start_time": "2022-10-10T13:49:06.733Z"
   },
   {
    "duration": 243,
    "start_time": "2022-10-10T13:49:06.766Z"
   },
   {
    "duration": 24,
    "start_time": "2022-10-10T13:49:07.010Z"
   },
   {
    "duration": 15,
    "start_time": "2022-10-10T13:49:07.036Z"
   },
   {
    "duration": 29,
    "start_time": "2022-10-10T13:49:07.053Z"
   },
   {
    "duration": 7,
    "start_time": "2022-10-10T13:49:07.085Z"
   },
   {
    "duration": 14,
    "start_time": "2022-10-10T13:49:07.094Z"
   },
   {
    "duration": 27,
    "start_time": "2022-10-10T13:49:07.109Z"
   },
   {
    "duration": 489,
    "start_time": "2022-10-10T13:49:07.137Z"
   },
   {
    "duration": 249,
    "start_time": "2022-10-10T13:49:07.627Z"
   },
   {
    "duration": 515,
    "start_time": "2022-10-10T13:49:07.878Z"
   },
   {
    "duration": 557,
    "start_time": "2022-10-10T13:49:19.349Z"
   },
   {
    "duration": 17,
    "start_time": "2022-10-10T13:50:25.443Z"
   },
   {
    "duration": 7,
    "start_time": "2022-10-10T13:50:56.066Z"
   },
   {
    "duration": 515,
    "start_time": "2022-10-10T13:51:57.721Z"
   },
   {
    "duration": 65,
    "start_time": "2022-10-10T13:56:25.353Z"
   },
   {
    "duration": 561,
    "start_time": "2022-10-10T13:56:31.252Z"
   },
   {
    "duration": 156,
    "start_time": "2022-10-10T13:56:31.814Z"
   },
   {
    "duration": 11,
    "start_time": "2022-10-10T13:56:31.972Z"
   },
   {
    "duration": 30,
    "start_time": "2022-10-10T13:56:31.985Z"
   },
   {
    "duration": 2,
    "start_time": "2022-10-10T13:56:32.022Z"
   },
   {
    "duration": 27,
    "start_time": "2022-10-10T13:56:32.026Z"
   },
   {
    "duration": 218,
    "start_time": "2022-10-10T13:56:32.054Z"
   },
   {
    "duration": 14,
    "start_time": "2022-10-10T13:56:32.274Z"
   },
   {
    "duration": 10,
    "start_time": "2022-10-10T13:56:32.289Z"
   },
   {
    "duration": 32,
    "start_time": "2022-10-10T13:56:32.301Z"
   },
   {
    "duration": 13,
    "start_time": "2022-10-10T13:56:32.334Z"
   },
   {
    "duration": 8,
    "start_time": "2022-10-10T13:56:32.349Z"
   },
   {
    "duration": 24,
    "start_time": "2022-10-10T13:56:32.359Z"
   },
   {
    "duration": 488,
    "start_time": "2022-10-10T13:56:32.384Z"
   },
   {
    "duration": 265,
    "start_time": "2022-10-10T13:56:32.873Z"
   },
   {
    "duration": 551,
    "start_time": "2022-10-10T13:56:33.140Z"
   },
   {
    "duration": 16,
    "start_time": "2022-10-10T13:56:33.693Z"
   },
   {
    "duration": 26,
    "start_time": "2022-10-10T13:56:33.710Z"
   },
   {
    "duration": 17,
    "start_time": "2022-10-10T13:57:22.248Z"
   },
   {
    "duration": 15,
    "start_time": "2022-10-10T13:57:34.463Z"
   },
   {
    "duration": 16,
    "start_time": "2022-10-10T13:57:41.080Z"
   },
   {
    "duration": 16,
    "start_time": "2022-10-10T13:57:45.967Z"
   },
   {
    "duration": 12,
    "start_time": "2022-10-10T13:59:46.596Z"
   },
   {
    "duration": 71,
    "start_time": "2022-10-10T14:00:06.027Z"
   },
   {
    "duration": 8,
    "start_time": "2022-10-10T14:00:10.108Z"
   },
   {
    "duration": 7,
    "start_time": "2022-10-10T14:00:20.531Z"
   },
   {
    "duration": 81,
    "start_time": "2022-10-10T14:02:08.192Z"
   },
   {
    "duration": 70,
    "start_time": "2022-10-10T14:02:16.808Z"
   },
   {
    "duration": 133,
    "start_time": "2022-10-10T14:03:05.888Z"
   },
   {
    "duration": 53,
    "start_time": "2022-10-10T14:03:18.998Z"
   },
   {
    "duration": 34,
    "start_time": "2022-10-10T14:03:38.471Z"
   },
   {
    "duration": 601,
    "start_time": "2022-10-10T14:09:22.813Z"
   },
   {
    "duration": 151,
    "start_time": "2022-10-10T14:09:23.416Z"
   },
   {
    "duration": 12,
    "start_time": "2022-10-10T14:09:23.569Z"
   },
   {
    "duration": 20,
    "start_time": "2022-10-10T14:09:23.583Z"
   },
   {
    "duration": 6,
    "start_time": "2022-10-10T14:09:23.604Z"
   },
   {
    "duration": 24,
    "start_time": "2022-10-10T14:09:23.622Z"
   },
   {
    "duration": 224,
    "start_time": "2022-10-10T14:09:23.647Z"
   },
   {
    "duration": 16,
    "start_time": "2022-10-10T14:09:23.873Z"
   },
   {
    "duration": 9,
    "start_time": "2022-10-10T14:09:23.890Z"
   },
   {
    "duration": 16,
    "start_time": "2022-10-10T14:09:23.924Z"
   },
   {
    "duration": 31,
    "start_time": "2022-10-10T14:09:23.941Z"
   },
   {
    "duration": 31,
    "start_time": "2022-10-10T14:09:23.974Z"
   },
   {
    "duration": 32,
    "start_time": "2022-10-10T14:09:24.006Z"
   },
   {
    "duration": 475,
    "start_time": "2022-10-10T14:09:24.040Z"
   },
   {
    "duration": 258,
    "start_time": "2022-10-10T14:09:24.522Z"
   },
   {
    "duration": 532,
    "start_time": "2022-10-10T14:09:24.782Z"
   },
   {
    "duration": 19,
    "start_time": "2022-10-10T14:09:25.316Z"
   },
   {
    "duration": 32,
    "start_time": "2022-10-10T14:09:25.337Z"
   },
   {
    "duration": 57,
    "start_time": "2022-10-10T14:09:25.370Z"
   },
   {
    "duration": 12,
    "start_time": "2022-10-10T14:37:55.272Z"
   },
   {
    "duration": 9,
    "start_time": "2022-10-10T14:38:01.921Z"
   },
   {
    "duration": 76,
    "start_time": "2022-10-10T14:38:58.582Z"
   },
   {
    "duration": 268,
    "start_time": "2022-10-10T14:39:11.710Z"
   },
   {
    "duration": 33,
    "start_time": "2022-10-10T14:39:18.086Z"
   },
   {
    "duration": 14,
    "start_time": "2022-10-10T14:39:57.628Z"
   },
   {
    "duration": 3,
    "start_time": "2022-10-10T14:40:43.429Z"
   },
   {
    "duration": 4,
    "start_time": "2022-10-10T14:40:48.819Z"
   },
   {
    "duration": 32,
    "start_time": "2022-10-10T14:40:54.819Z"
   },
   {
    "duration": 29,
    "start_time": "2022-10-10T14:41:36.138Z"
   },
   {
    "duration": 30,
    "start_time": "2022-10-10T14:42:05.546Z"
   },
   {
    "duration": 31,
    "start_time": "2022-10-10T14:42:15.936Z"
   },
   {
    "duration": 32,
    "start_time": "2022-10-10T14:44:13.469Z"
   },
   {
    "duration": 11,
    "start_time": "2022-10-10T14:44:25.525Z"
   },
   {
    "duration": 12,
    "start_time": "2022-10-10T14:44:28.989Z"
   },
   {
    "duration": 31,
    "start_time": "2022-10-10T14:44:35.517Z"
   },
   {
    "duration": 18,
    "start_time": "2022-10-10T15:07:16.648Z"
   },
   {
    "duration": 869,
    "start_time": "2022-10-11T06:04:35.646Z"
   },
   {
    "duration": 495,
    "start_time": "2022-10-11T06:04:36.517Z"
   },
   {
    "duration": 11,
    "start_time": "2022-10-11T06:04:37.013Z"
   },
   {
    "duration": 34,
    "start_time": "2022-10-11T06:04:37.025Z"
   },
   {
    "duration": 3,
    "start_time": "2022-10-11T06:04:37.060Z"
   },
   {
    "duration": 29,
    "start_time": "2022-10-11T06:04:37.064Z"
   },
   {
    "duration": 208,
    "start_time": "2022-10-11T06:04:37.095Z"
   },
   {
    "duration": 14,
    "start_time": "2022-10-11T06:04:37.305Z"
   },
   {
    "duration": 18,
    "start_time": "2022-10-11T06:04:37.321Z"
   },
   {
    "duration": 20,
    "start_time": "2022-10-11T06:04:37.341Z"
   },
   {
    "duration": 6,
    "start_time": "2022-10-11T06:04:37.362Z"
   },
   {
    "duration": 10,
    "start_time": "2022-10-11T06:04:37.370Z"
   },
   {
    "duration": 21,
    "start_time": "2022-10-11T06:04:37.381Z"
   },
   {
    "duration": 506,
    "start_time": "2022-10-11T06:04:37.403Z"
   },
   {
    "duration": 278,
    "start_time": "2022-10-11T06:04:37.911Z"
   },
   {
    "duration": 543,
    "start_time": "2022-10-11T06:04:38.191Z"
   },
   {
    "duration": 17,
    "start_time": "2022-10-11T06:04:38.736Z"
   },
   {
    "duration": 22,
    "start_time": "2022-10-11T06:04:38.755Z"
   },
   {
    "duration": 55,
    "start_time": "2022-10-11T06:04:38.779Z"
   },
   {
    "duration": 9,
    "start_time": "2022-10-11T06:04:38.836Z"
   },
   {
    "duration": 30,
    "start_time": "2022-10-11T06:04:38.846Z"
   },
   {
    "duration": 82,
    "start_time": "2022-10-11T06:09:03.380Z"
   },
   {
    "duration": 18,
    "start_time": "2022-10-11T06:10:10.318Z"
   },
   {
    "duration": 49,
    "start_time": "2022-10-11T06:10:11.660Z"
   },
   {
    "duration": 168,
    "start_time": "2022-10-11T06:10:13.068Z"
   },
   {
    "duration": 153,
    "start_time": "2022-10-11T06:10:33.949Z"
   },
   {
    "duration": 159,
    "start_time": "2022-10-11T06:10:46.253Z"
   },
   {
    "duration": 100,
    "start_time": "2022-10-11T06:13:49.354Z"
   },
   {
    "duration": 92,
    "start_time": "2022-10-11T06:14:21.113Z"
   },
   {
    "duration": 108,
    "start_time": "2022-10-11T06:14:59.154Z"
   },
   {
    "duration": 91,
    "start_time": "2022-10-11T06:15:30.140Z"
   },
   {
    "duration": 93,
    "start_time": "2022-10-11T06:15:54.907Z"
   },
   {
    "duration": 7,
    "start_time": "2022-10-11T06:15:57.842Z"
   },
   {
    "duration": 87,
    "start_time": "2022-10-11T06:17:15.621Z"
   },
   {
    "duration": 6,
    "start_time": "2022-10-11T06:17:16.068Z"
   },
   {
    "duration": 127,
    "start_time": "2022-10-11T06:17:36.013Z"
   },
   {
    "duration": 6,
    "start_time": "2022-10-11T06:17:37.965Z"
   },
   {
    "duration": 33,
    "start_time": "2022-10-11T06:20:24.136Z"
   },
   {
    "duration": 93,
    "start_time": "2022-10-11T06:23:50.549Z"
   },
   {
    "duration": 88,
    "start_time": "2022-10-11T06:26:06.815Z"
   },
   {
    "duration": 120,
    "start_time": "2022-10-11T06:29:29.411Z"
   },
   {
    "duration": 116,
    "start_time": "2022-10-11T06:29:44.955Z"
   },
   {
    "duration": 115,
    "start_time": "2022-10-11T06:29:55.987Z"
   },
   {
    "duration": 98,
    "start_time": "2022-10-11T06:39:18.297Z"
   },
   {
    "duration": 52,
    "start_time": "2022-10-11T06:39:25.058Z"
   },
   {
    "duration": 55,
    "start_time": "2022-10-11T06:39:31.698Z"
   },
   {
    "duration": 72,
    "start_time": "2022-10-11T06:39:47.350Z"
   },
   {
    "duration": 75,
    "start_time": "2022-10-11T06:39:52.643Z"
   },
   {
    "duration": 102,
    "start_time": "2022-10-11T06:42:07.544Z"
   },
   {
    "duration": 130,
    "start_time": "2022-10-11T06:42:25.977Z"
   },
   {
    "duration": 118,
    "start_time": "2022-10-11T06:42:30.186Z"
   },
   {
    "duration": 584,
    "start_time": "2022-10-11T06:52:28.906Z"
   },
   {
    "duration": 182,
    "start_time": "2022-10-11T06:52:29.492Z"
   },
   {
    "duration": 12,
    "start_time": "2022-10-11T06:52:29.676Z"
   },
   {
    "duration": 22,
    "start_time": "2022-10-11T06:52:29.690Z"
   },
   {
    "duration": 3,
    "start_time": "2022-10-11T06:52:29.714Z"
   },
   {
    "duration": 46,
    "start_time": "2022-10-11T06:52:29.718Z"
   },
   {
    "duration": 249,
    "start_time": "2022-10-11T06:52:29.766Z"
   },
   {
    "duration": 39,
    "start_time": "2022-10-11T06:52:30.016Z"
   },
   {
    "duration": 13,
    "start_time": "2022-10-11T06:52:30.059Z"
   },
   {
    "duration": 27,
    "start_time": "2022-10-11T06:52:30.075Z"
   },
   {
    "duration": 14,
    "start_time": "2022-10-11T06:52:30.103Z"
   },
   {
    "duration": 18,
    "start_time": "2022-10-11T06:52:30.119Z"
   },
   {
    "duration": 43,
    "start_time": "2022-10-11T06:52:30.144Z"
   },
   {
    "duration": 604,
    "start_time": "2022-10-11T06:52:30.189Z"
   },
   {
    "duration": 305,
    "start_time": "2022-10-11T06:52:30.794Z"
   },
   {
    "duration": 614,
    "start_time": "2022-10-11T06:52:31.101Z"
   },
   {
    "duration": 24,
    "start_time": "2022-10-11T06:52:31.716Z"
   },
   {
    "duration": 41,
    "start_time": "2022-10-11T06:52:31.745Z"
   },
   {
    "duration": 63,
    "start_time": "2022-10-11T06:52:31.787Z"
   },
   {
    "duration": 22,
    "start_time": "2022-10-11T06:52:31.852Z"
   },
   {
    "duration": 79,
    "start_time": "2022-10-11T06:52:31.876Z"
   },
   {
    "duration": 115,
    "start_time": "2022-10-11T06:52:31.961Z"
   },
   {
    "duration": 2,
    "start_time": "2022-10-11T06:52:32.078Z"
   },
   {
    "duration": 780,
    "start_time": "2022-10-11T07:08:20.907Z"
   },
   {
    "duration": 180,
    "start_time": "2022-10-11T07:08:21.689Z"
   },
   {
    "duration": 13,
    "start_time": "2022-10-11T07:08:21.871Z"
   },
   {
    "duration": 21,
    "start_time": "2022-10-11T07:08:21.886Z"
   },
   {
    "duration": 3,
    "start_time": "2022-10-11T07:08:21.909Z"
   },
   {
    "duration": 51,
    "start_time": "2022-10-11T07:08:21.913Z"
   },
   {
    "duration": 271,
    "start_time": "2022-10-11T07:08:21.966Z"
   },
   {
    "duration": 27,
    "start_time": "2022-10-11T07:08:22.238Z"
   },
   {
    "duration": 13,
    "start_time": "2022-10-11T07:08:22.266Z"
   },
   {
    "duration": 18,
    "start_time": "2022-10-11T07:08:22.282Z"
   },
   {
    "duration": 6,
    "start_time": "2022-10-11T07:08:22.302Z"
   },
   {
    "duration": 26,
    "start_time": "2022-10-11T07:08:22.310Z"
   },
   {
    "duration": 51,
    "start_time": "2022-10-11T07:08:22.337Z"
   },
   {
    "duration": 577,
    "start_time": "2022-10-11T07:08:22.390Z"
   },
   {
    "duration": 307,
    "start_time": "2022-10-11T07:08:22.969Z"
   },
   {
    "duration": 686,
    "start_time": "2022-10-11T07:08:23.277Z"
   },
   {
    "duration": 18,
    "start_time": "2022-10-11T07:08:23.966Z"
   },
   {
    "duration": 15,
    "start_time": "2022-10-11T07:08:23.986Z"
   },
   {
    "duration": 65,
    "start_time": "2022-10-11T07:08:24.003Z"
   },
   {
    "duration": 18,
    "start_time": "2022-10-11T07:08:24.069Z"
   },
   {
    "duration": 70,
    "start_time": "2022-10-11T07:08:24.088Z"
   },
   {
    "duration": 125,
    "start_time": "2022-10-11T07:08:24.159Z"
   },
   {
    "duration": 357,
    "start_time": "2022-10-11T07:08:24.286Z"
   },
   {
    "duration": 161,
    "start_time": "2022-10-11T07:08:56.104Z"
   },
   {
    "duration": 55,
    "start_time": "2022-10-11T07:09:02.077Z"
   },
   {
    "duration": 16,
    "start_time": "2022-10-11T07:09:54.888Z"
   },
   {
    "duration": 42,
    "start_time": "2022-10-11T07:10:04.569Z"
   },
   {
    "duration": 24,
    "start_time": "2022-10-11T07:13:45.820Z"
   },
   {
    "duration": 44,
    "start_time": "2022-10-11T07:13:59.155Z"
   },
   {
    "duration": 58,
    "start_time": "2022-10-11T07:14:26.360Z"
   },
   {
    "duration": 42,
    "start_time": "2022-10-11T07:15:08.864Z"
   },
   {
    "duration": 56,
    "start_time": "2022-10-11T07:17:48.104Z"
   },
   {
    "duration": 53,
    "start_time": "2022-10-11T07:17:58.193Z"
   },
   {
    "duration": 52,
    "start_time": "2022-10-11T07:18:11.465Z"
   },
   {
    "duration": 76,
    "start_time": "2022-10-11T07:20:46.916Z"
   },
   {
    "duration": 19,
    "start_time": "2022-10-11T07:21:06.698Z"
   },
   {
    "duration": 59,
    "start_time": "2022-10-11T07:22:06.509Z"
   },
   {
    "duration": 14,
    "start_time": "2022-10-11T07:24:56.455Z"
   },
   {
    "duration": 9,
    "start_time": "2022-10-11T07:25:24.474Z"
   },
   {
    "duration": 9,
    "start_time": "2022-10-11T07:25:33.056Z"
   },
   {
    "duration": 17,
    "start_time": "2022-10-11T07:25:43.060Z"
   },
   {
    "duration": 44,
    "start_time": "2022-10-11T07:27:42.963Z"
   },
   {
    "duration": 20,
    "start_time": "2022-10-11T07:30:59.056Z"
   },
   {
    "duration": 28,
    "start_time": "2022-10-11T07:31:13.631Z"
   },
   {
    "duration": 21,
    "start_time": "2022-10-11T07:31:32.379Z"
   },
   {
    "duration": 18,
    "start_time": "2022-10-11T07:32:07.032Z"
   },
   {
    "duration": 10,
    "start_time": "2022-10-11T07:32:13.583Z"
   },
   {
    "duration": 10,
    "start_time": "2022-10-11T07:33:08.552Z"
   },
   {
    "duration": 24,
    "start_time": "2022-10-11T07:34:00.882Z"
   },
   {
    "duration": 42,
    "start_time": "2022-10-11T07:34:25.796Z"
   },
   {
    "duration": 108,
    "start_time": "2022-10-11T07:35:35.748Z"
   },
   {
    "duration": 42,
    "start_time": "2022-10-11T07:35:45.269Z"
   },
   {
    "duration": 680,
    "start_time": "2022-10-11T07:35:49.565Z"
   },
   {
    "duration": 158,
    "start_time": "2022-10-11T07:35:50.247Z"
   },
   {
    "duration": 10,
    "start_time": "2022-10-11T07:35:50.406Z"
   },
   {
    "duration": 30,
    "start_time": "2022-10-11T07:35:50.418Z"
   },
   {
    "duration": 2,
    "start_time": "2022-10-11T07:35:50.450Z"
   },
   {
    "duration": 31,
    "start_time": "2022-10-11T07:35:50.454Z"
   },
   {
    "duration": 227,
    "start_time": "2022-10-11T07:35:50.486Z"
   },
   {
    "duration": 25,
    "start_time": "2022-10-11T07:35:50.715Z"
   },
   {
    "duration": 9,
    "start_time": "2022-10-11T07:35:50.742Z"
   },
   {
    "duration": 20,
    "start_time": "2022-10-11T07:35:50.753Z"
   },
   {
    "duration": 6,
    "start_time": "2022-10-11T07:35:50.775Z"
   },
   {
    "duration": 9,
    "start_time": "2022-10-11T07:35:50.783Z"
   },
   {
    "duration": 47,
    "start_time": "2022-10-11T07:35:50.794Z"
   },
   {
    "duration": 538,
    "start_time": "2022-10-11T07:35:50.844Z"
   },
   {
    "duration": 266,
    "start_time": "2022-10-11T07:35:51.384Z"
   },
   {
    "duration": 618,
    "start_time": "2022-10-11T07:35:51.652Z"
   },
   {
    "duration": 16,
    "start_time": "2022-10-11T07:35:52.272Z"
   },
   {
    "duration": 15,
    "start_time": "2022-10-11T07:35:52.290Z"
   },
   {
    "duration": 53,
    "start_time": "2022-10-11T07:35:52.307Z"
   },
   {
    "duration": 18,
    "start_time": "2022-10-11T07:35:52.362Z"
   },
   {
    "duration": 60,
    "start_time": "2022-10-11T07:35:52.382Z"
   },
   {
    "duration": 119,
    "start_time": "2022-10-11T07:35:52.444Z"
   },
   {
    "duration": 346,
    "start_time": "2022-10-11T07:35:52.564Z"
   },
   {
    "duration": 52,
    "start_time": "2022-10-11T07:35:59.973Z"
   },
   {
    "duration": 46,
    "start_time": "2022-10-11T07:37:53.015Z"
   },
   {
    "duration": 47,
    "start_time": "2022-10-11T07:39:59.403Z"
   },
   {
    "duration": 55,
    "start_time": "2022-10-11T07:41:48.693Z"
   },
   {
    "duration": 39,
    "start_time": "2022-10-11T07:44:13.198Z"
   },
   {
    "duration": 49,
    "start_time": "2022-10-11T07:44:27.054Z"
   },
   {
    "duration": 51,
    "start_time": "2022-10-11T07:45:13.913Z"
   },
   {
    "duration": 53,
    "start_time": "2022-10-11T07:45:19.689Z"
   },
   {
    "duration": 101,
    "start_time": "2022-10-11T07:48:52.109Z"
   },
   {
    "duration": 1064,
    "start_time": "2022-10-11T07:49:05.717Z"
   },
   {
    "duration": 28,
    "start_time": "2022-10-11T07:49:18.030Z"
   },
   {
    "duration": 27,
    "start_time": "2022-10-11T07:49:35.023Z"
   },
   {
    "duration": 51,
    "start_time": "2022-10-11T07:51:07.230Z"
   },
   {
    "duration": 89,
    "start_time": "2022-10-11T07:54:38.268Z"
   },
   {
    "duration": 72,
    "start_time": "2022-10-11T07:55:10.072Z"
   },
   {
    "duration": 69,
    "start_time": "2022-10-11T07:55:24.018Z"
   },
   {
    "duration": 126,
    "start_time": "2022-10-11T07:55:53.621Z"
   },
   {
    "duration": 51,
    "start_time": "2022-10-11T07:56:10.655Z"
   },
   {
    "duration": 51,
    "start_time": "2022-10-11T07:57:34.017Z"
   },
   {
    "duration": 48,
    "start_time": "2022-10-11T07:57:48.591Z"
   },
   {
    "duration": 63,
    "start_time": "2022-10-11T07:58:10.757Z"
   },
   {
    "duration": 741,
    "start_time": "2022-10-11T07:58:59.706Z"
   },
   {
    "duration": 158,
    "start_time": "2022-10-11T07:59:00.449Z"
   },
   {
    "duration": 11,
    "start_time": "2022-10-11T07:59:00.608Z"
   },
   {
    "duration": 30,
    "start_time": "2022-10-11T07:59:00.621Z"
   },
   {
    "duration": 3,
    "start_time": "2022-10-11T07:59:00.652Z"
   },
   {
    "duration": 33,
    "start_time": "2022-10-11T07:59:00.657Z"
   },
   {
    "duration": 256,
    "start_time": "2022-10-11T07:59:00.691Z"
   },
   {
    "duration": 16,
    "start_time": "2022-10-11T07:59:00.948Z"
   },
   {
    "duration": 18,
    "start_time": "2022-10-11T07:59:00.965Z"
   },
   {
    "duration": 46,
    "start_time": "2022-10-11T07:59:00.986Z"
   },
   {
    "duration": 17,
    "start_time": "2022-10-11T07:59:01.033Z"
   },
   {
    "duration": 37,
    "start_time": "2022-10-11T07:59:01.051Z"
   },
   {
    "duration": 46,
    "start_time": "2022-10-11T07:59:01.089Z"
   },
   {
    "duration": 550,
    "start_time": "2022-10-11T07:59:01.136Z"
   },
   {
    "duration": 302,
    "start_time": "2022-10-11T07:59:01.687Z"
   },
   {
    "duration": 633,
    "start_time": "2022-10-11T07:59:01.991Z"
   },
   {
    "duration": 17,
    "start_time": "2022-10-11T07:59:02.626Z"
   },
   {
    "duration": 27,
    "start_time": "2022-10-11T07:59:02.645Z"
   },
   {
    "duration": 40,
    "start_time": "2022-10-11T07:59:02.674Z"
   },
   {
    "duration": 32,
    "start_time": "2022-10-11T07:59:02.716Z"
   },
   {
    "duration": 47,
    "start_time": "2022-10-11T07:59:02.749Z"
   },
   {
    "duration": 123,
    "start_time": "2022-10-11T07:59:02.798Z"
   },
   {
    "duration": 350,
    "start_time": "2022-10-11T07:59:02.922Z"
   },
   {
    "duration": 842,
    "start_time": "2022-10-11T10:13:29.277Z"
   },
   {
    "duration": 791,
    "start_time": "2022-10-11T10:13:30.121Z"
   },
   {
    "duration": 11,
    "start_time": "2022-10-11T10:13:30.913Z"
   },
   {
    "duration": 36,
    "start_time": "2022-10-11T10:13:30.926Z"
   },
   {
    "duration": 3,
    "start_time": "2022-10-11T10:13:30.963Z"
   },
   {
    "duration": 43,
    "start_time": "2022-10-11T10:13:30.967Z"
   },
   {
    "duration": 236,
    "start_time": "2022-10-11T10:13:31.012Z"
   },
   {
    "duration": 13,
    "start_time": "2022-10-11T10:13:31.249Z"
   },
   {
    "duration": 23,
    "start_time": "2022-10-11T10:13:31.263Z"
   },
   {
    "duration": 23,
    "start_time": "2022-10-11T10:13:31.289Z"
   },
   {
    "duration": 32,
    "start_time": "2022-10-11T10:13:31.313Z"
   },
   {
    "duration": 20,
    "start_time": "2022-10-11T10:13:31.346Z"
   },
   {
    "duration": 35,
    "start_time": "2022-10-11T10:13:31.367Z"
   },
   {
    "duration": 496,
    "start_time": "2022-10-11T10:13:31.403Z"
   },
   {
    "duration": 261,
    "start_time": "2022-10-11T10:13:31.901Z"
   },
   {
    "duration": 595,
    "start_time": "2022-10-11T10:13:32.163Z"
   },
   {
    "duration": 15,
    "start_time": "2022-10-11T10:13:32.760Z"
   },
   {
    "duration": 15,
    "start_time": "2022-10-11T10:13:32.785Z"
   },
   {
    "duration": 36,
    "start_time": "2022-10-11T10:13:32.802Z"
   },
   {
    "duration": 45,
    "start_time": "2022-10-11T10:13:32.840Z"
   },
   {
    "duration": 50,
    "start_time": "2022-10-11T10:13:32.887Z"
   },
   {
    "duration": 108,
    "start_time": "2022-10-11T10:13:32.939Z"
   },
   {
    "duration": 367,
    "start_time": "2022-10-11T10:13:33.048Z"
   },
   {
    "duration": 151,
    "start_time": "2022-10-11T10:14:16.510Z"
   },
   {
    "duration": 46,
    "start_time": "2022-10-11T10:18:33.525Z"
   },
   {
    "duration": 44,
    "start_time": "2022-10-11T10:18:51.094Z"
   },
   {
    "duration": 48,
    "start_time": "2022-10-11T10:23:18.439Z"
   },
   {
    "duration": 52,
    "start_time": "2022-10-11T10:23:25.758Z"
   },
   {
    "duration": 8,
    "start_time": "2022-10-11T10:25:27.370Z"
   },
   {
    "duration": 85,
    "start_time": "2022-10-11T10:28:13.006Z"
   },
   {
    "duration": 12,
    "start_time": "2022-10-11T10:28:17.623Z"
   },
   {
    "duration": 19,
    "start_time": "2022-10-11T10:28:47.541Z"
   },
   {
    "duration": 50,
    "start_time": "2022-10-11T10:29:00.925Z"
   },
   {
    "duration": 52,
    "start_time": "2022-10-11T10:29:39.412Z"
   },
   {
    "duration": 56,
    "start_time": "2022-10-11T10:30:05.947Z"
   },
   {
    "duration": 9,
    "start_time": "2022-10-11T10:33:54.493Z"
   },
   {
    "duration": 10,
    "start_time": "2022-10-11T10:34:04.068Z"
   },
   {
    "duration": 11,
    "start_time": "2022-10-11T10:34:06.956Z"
   },
   {
    "duration": 21,
    "start_time": "2022-10-11T10:34:21.228Z"
   },
   {
    "duration": 13,
    "start_time": "2022-10-11T12:01:38.906Z"
   },
   {
    "duration": 20,
    "start_time": "2022-10-11T12:02:28.458Z"
   },
   {
    "duration": 16,
    "start_time": "2022-10-11T12:02:39.415Z"
   },
   {
    "duration": 28,
    "start_time": "2022-10-11T12:02:58.871Z"
   },
   {
    "duration": 26,
    "start_time": "2022-10-11T12:02:59.952Z"
   },
   {
    "duration": 36,
    "start_time": "2022-10-11T12:06:30.394Z"
   },
   {
    "duration": 31,
    "start_time": "2022-10-11T12:06:50.641Z"
   },
   {
    "duration": 32,
    "start_time": "2022-10-11T12:07:10.216Z"
   },
   {
    "duration": 50,
    "start_time": "2022-10-11T12:10:05.397Z"
   },
   {
    "duration": 112,
    "start_time": "2022-10-11T12:25:46.276Z"
   },
   {
    "duration": 46,
    "start_time": "2022-10-11T12:25:52.714Z"
   },
   {
    "duration": 58,
    "start_time": "2022-10-11T12:26:07.147Z"
   },
   {
    "duration": 39,
    "start_time": "2022-10-11T12:26:15.010Z"
   },
   {
    "duration": 55,
    "start_time": "2022-10-11T12:26:43.577Z"
   },
   {
    "duration": 48,
    "start_time": "2022-10-11T12:27:40.213Z"
   },
   {
    "duration": 765,
    "start_time": "2022-10-11T12:39:22.231Z"
   },
   {
    "duration": 354,
    "start_time": "2022-10-11T12:39:22.998Z"
   },
   {
    "duration": 12,
    "start_time": "2022-10-11T12:39:23.354Z"
   },
   {
    "duration": 27,
    "start_time": "2022-10-11T12:39:23.369Z"
   },
   {
    "duration": 3,
    "start_time": "2022-10-11T12:39:23.398Z"
   },
   {
    "duration": 34,
    "start_time": "2022-10-11T12:39:23.403Z"
   },
   {
    "duration": 269,
    "start_time": "2022-10-11T12:39:23.439Z"
   },
   {
    "duration": 20,
    "start_time": "2022-10-11T12:39:23.710Z"
   },
   {
    "duration": 18,
    "start_time": "2022-10-11T12:39:23.732Z"
   },
   {
    "duration": 18,
    "start_time": "2022-10-11T12:39:23.753Z"
   },
   {
    "duration": 8,
    "start_time": "2022-10-11T12:39:23.786Z"
   },
   {
    "duration": 15,
    "start_time": "2022-10-11T12:39:23.795Z"
   },
   {
    "duration": 32,
    "start_time": "2022-10-11T12:39:23.811Z"
   },
   {
    "duration": 555,
    "start_time": "2022-10-11T12:39:23.845Z"
   },
   {
    "duration": 272,
    "start_time": "2022-10-11T12:39:24.402Z"
   },
   {
    "duration": 630,
    "start_time": "2022-10-11T12:39:24.675Z"
   },
   {
    "duration": 16,
    "start_time": "2022-10-11T12:39:25.307Z"
   },
   {
    "duration": 27,
    "start_time": "2022-10-11T12:39:25.325Z"
   },
   {
    "duration": 63,
    "start_time": "2022-10-11T12:39:25.354Z"
   },
   {
    "duration": 17,
    "start_time": "2022-10-11T12:39:25.419Z"
   },
   {
    "duration": 59,
    "start_time": "2022-10-11T12:39:25.438Z"
   },
   {
    "duration": 112,
    "start_time": "2022-10-11T12:39:25.498Z"
   },
   {
    "duration": 376,
    "start_time": "2022-10-11T12:39:25.613Z"
   },
   {
    "duration": 12,
    "start_time": "2022-10-11T12:39:25.991Z"
   },
   {
    "duration": 140,
    "start_time": "2022-10-11T12:39:26.004Z"
   },
   {
    "duration": 53,
    "start_time": "2022-10-11T12:39:26.146Z"
   },
   {
    "duration": 47,
    "start_time": "2022-10-11T12:39:26.201Z"
   },
   {
    "duration": 59,
    "start_time": "2022-10-11T12:39:26.251Z"
   },
   {
    "duration": 38,
    "start_time": "2022-10-11T12:41:43.740Z"
   },
   {
    "duration": 50,
    "start_time": "2022-10-11T12:41:49.554Z"
   },
   {
    "duration": 43,
    "start_time": "2022-10-11T12:41:54.609Z"
   },
   {
    "duration": 123,
    "start_time": "2022-10-11T12:43:18.583Z"
   },
   {
    "duration": 1137,
    "start_time": "2022-10-11T12:44:10.050Z"
   },
   {
    "duration": 160,
    "start_time": "2022-10-11T12:44:11.189Z"
   },
   {
    "duration": 12,
    "start_time": "2022-10-11T12:44:11.353Z"
   },
   {
    "duration": 37,
    "start_time": "2022-10-11T12:44:11.367Z"
   },
   {
    "duration": 2,
    "start_time": "2022-10-11T12:44:11.406Z"
   },
   {
    "duration": 25,
    "start_time": "2022-10-11T12:44:11.410Z"
   },
   {
    "duration": 292,
    "start_time": "2022-10-11T12:44:11.437Z"
   },
   {
    "duration": 20,
    "start_time": "2022-10-11T12:44:11.731Z"
   },
   {
    "duration": 11,
    "start_time": "2022-10-11T12:44:11.754Z"
   },
   {
    "duration": 23,
    "start_time": "2022-10-11T12:44:11.785Z"
   },
   {
    "duration": 23,
    "start_time": "2022-10-11T12:44:11.810Z"
   },
   {
    "duration": 14,
    "start_time": "2022-10-11T12:44:11.835Z"
   },
   {
    "duration": 35,
    "start_time": "2022-10-11T12:44:11.851Z"
   },
   {
    "duration": 614,
    "start_time": "2022-10-11T12:44:11.888Z"
   },
   {
    "duration": 276,
    "start_time": "2022-10-11T12:44:12.503Z"
   },
   {
    "duration": 648,
    "start_time": "2022-10-11T12:44:12.784Z"
   },
   {
    "duration": 15,
    "start_time": "2022-10-11T12:44:13.434Z"
   },
   {
    "duration": 15,
    "start_time": "2022-10-11T12:44:13.451Z"
   },
   {
    "duration": 60,
    "start_time": "2022-10-11T12:44:13.468Z"
   },
   {
    "duration": 19,
    "start_time": "2022-10-11T12:44:13.530Z"
   },
   {
    "duration": 75,
    "start_time": "2022-10-11T12:44:13.550Z"
   },
   {
    "duration": 104,
    "start_time": "2022-10-11T12:44:13.627Z"
   },
   {
    "duration": 433,
    "start_time": "2022-10-11T12:44:13.733Z"
   },
   {
    "duration": 10,
    "start_time": "2022-10-11T12:44:14.168Z"
   },
   {
    "duration": 127,
    "start_time": "2022-10-11T12:44:14.179Z"
   },
   {
    "duration": 18,
    "start_time": "2022-10-11T12:44:14.308Z"
   },
   {
    "duration": 76,
    "start_time": "2022-10-11T12:44:14.329Z"
   },
   {
    "duration": 48,
    "start_time": "2022-10-11T12:44:14.407Z"
   },
   {
    "duration": 164,
    "start_time": "2022-10-11T12:44:14.456Z"
   },
   {
    "duration": 7,
    "start_time": "2022-10-11T12:44:25.558Z"
   },
   {
    "duration": 5,
    "start_time": "2022-10-11T12:45:01.229Z"
   },
   {
    "duration": 103,
    "start_time": "2022-10-11T12:45:31.963Z"
   },
   {
    "duration": 6,
    "start_time": "2022-10-11T12:45:34.235Z"
   },
   {
    "duration": 6,
    "start_time": "2022-10-11T12:46:01.532Z"
   },
   {
    "duration": 7,
    "start_time": "2022-10-11T12:47:10.529Z"
   },
   {
    "duration": 7,
    "start_time": "2022-10-11T12:47:26.192Z"
   },
   {
    "duration": 4,
    "start_time": "2022-10-11T12:47:42.064Z"
   },
   {
    "duration": 46,
    "start_time": "2022-10-11T12:48:10.387Z"
   },
   {
    "duration": 43,
    "start_time": "2022-10-11T12:48:20.991Z"
   },
   {
    "duration": 6,
    "start_time": "2022-10-11T12:48:28.270Z"
   },
   {
    "duration": 4,
    "start_time": "2022-10-11T12:48:30.102Z"
   },
   {
    "duration": 6,
    "start_time": "2022-10-11T12:48:40.758Z"
   },
   {
    "duration": 1123,
    "start_time": "2022-10-11T12:54:38.399Z"
   },
   {
    "duration": 139,
    "start_time": "2022-10-11T12:54:39.524Z"
   },
   {
    "duration": 13,
    "start_time": "2022-10-11T12:54:39.665Z"
   },
   {
    "duration": 27,
    "start_time": "2022-10-11T12:54:39.686Z"
   },
   {
    "duration": 3,
    "start_time": "2022-10-11T12:54:39.715Z"
   },
   {
    "duration": 29,
    "start_time": "2022-10-11T12:54:39.719Z"
   },
   {
    "duration": 246,
    "start_time": "2022-10-11T12:54:39.750Z"
   },
   {
    "duration": 15,
    "start_time": "2022-10-11T12:54:39.997Z"
   },
   {
    "duration": 13,
    "start_time": "2022-10-11T12:54:40.013Z"
   },
   {
    "duration": 24,
    "start_time": "2022-10-11T12:54:40.029Z"
   },
   {
    "duration": 7,
    "start_time": "2022-10-11T12:54:40.055Z"
   },
   {
    "duration": 30,
    "start_time": "2022-10-11T12:54:40.063Z"
   },
   {
    "duration": 21,
    "start_time": "2022-10-11T12:54:40.095Z"
   },
   {
    "duration": 580,
    "start_time": "2022-10-11T12:54:40.117Z"
   },
   {
    "duration": 263,
    "start_time": "2022-10-11T12:54:40.699Z"
   },
   {
    "duration": 632,
    "start_time": "2022-10-11T12:54:40.964Z"
   },
   {
    "duration": 17,
    "start_time": "2022-10-11T12:54:41.598Z"
   },
   {
    "duration": 18,
    "start_time": "2022-10-11T12:54:41.617Z"
   },
   {
    "duration": 65,
    "start_time": "2022-10-11T12:54:41.636Z"
   },
   {
    "duration": 18,
    "start_time": "2022-10-11T12:54:41.703Z"
   },
   {
    "duration": 72,
    "start_time": "2022-10-11T12:54:41.723Z"
   },
   {
    "duration": 119,
    "start_time": "2022-10-11T12:54:41.797Z"
   },
   {
    "duration": 422,
    "start_time": "2022-10-11T12:54:41.918Z"
   },
   {
    "duration": 12,
    "start_time": "2022-10-11T12:54:42.342Z"
   },
   {
    "duration": 150,
    "start_time": "2022-10-11T12:54:42.356Z"
   },
   {
    "duration": 29,
    "start_time": "2022-10-11T12:54:42.508Z"
   },
   {
    "duration": 74,
    "start_time": "2022-10-11T12:54:42.539Z"
   },
   {
    "duration": 54,
    "start_time": "2022-10-11T12:54:42.617Z"
   },
   {
    "duration": 14,
    "start_time": "2022-10-11T12:54:42.672Z"
   },
   {
    "duration": 7,
    "start_time": "2022-10-11T12:54:42.688Z"
   },
   {
    "duration": 6,
    "start_time": "2022-10-11T12:56:56.889Z"
   },
   {
    "duration": 8,
    "start_time": "2022-10-11T12:57:02.441Z"
   },
   {
    "duration": 3,
    "start_time": "2022-10-11T13:01:46.818Z"
   },
   {
    "duration": 4,
    "start_time": "2022-10-11T13:01:51.217Z"
   },
   {
    "duration": 4,
    "start_time": "2022-10-11T13:05:09.437Z"
   },
   {
    "duration": 6,
    "start_time": "2022-10-11T13:05:14.765Z"
   },
   {
    "duration": 158,
    "start_time": "2022-10-11T13:06:11.387Z"
   },
   {
    "duration": 7,
    "start_time": "2022-10-11T13:06:17.946Z"
   },
   {
    "duration": 7,
    "start_time": "2022-10-11T13:18:19.183Z"
   },
   {
    "duration": 7,
    "start_time": "2022-10-11T13:18:28.505Z"
   },
   {
    "duration": 9,
    "start_time": "2022-10-11T13:18:55.582Z"
   },
   {
    "duration": 7,
    "start_time": "2022-10-11T13:18:59.909Z"
   },
   {
    "duration": 6,
    "start_time": "2022-10-11T13:20:08.509Z"
   },
   {
    "duration": 4,
    "start_time": "2022-10-11T13:20:12.399Z"
   },
   {
    "duration": 5,
    "start_time": "2022-10-11T13:28:36.774Z"
   },
   {
    "duration": 159,
    "start_time": "2022-10-11T13:29:11.813Z"
   },
   {
    "duration": 110,
    "start_time": "2022-10-11T13:29:26.285Z"
   },
   {
    "duration": 83,
    "start_time": "2022-10-11T13:29:42.612Z"
   },
   {
    "duration": 13,
    "start_time": "2022-10-11T13:30:05.592Z"
   },
   {
    "duration": 6,
    "start_time": "2022-10-11T13:30:20.203Z"
   },
   {
    "duration": 7,
    "start_time": "2022-10-11T13:30:57.946Z"
   },
   {
    "duration": 10,
    "start_time": "2022-10-11T13:32:04.715Z"
   },
   {
    "duration": 9,
    "start_time": "2022-10-11T13:33:37.089Z"
   },
   {
    "duration": 9,
    "start_time": "2022-10-11T13:33:47.854Z"
   },
   {
    "duration": 9,
    "start_time": "2022-10-11T13:33:52.407Z"
   },
   {
    "duration": 1176,
    "start_time": "2022-10-11T13:34:05.674Z"
   },
   {
    "duration": 171,
    "start_time": "2022-10-11T13:34:06.852Z"
   },
   {
    "duration": 14,
    "start_time": "2022-10-11T13:34:07.025Z"
   },
   {
    "duration": 21,
    "start_time": "2022-10-11T13:34:07.042Z"
   },
   {
    "duration": 28,
    "start_time": "2022-10-11T13:34:07.065Z"
   },
   {
    "duration": 43,
    "start_time": "2022-10-11T13:34:07.103Z"
   },
   {
    "duration": 264,
    "start_time": "2022-10-11T13:34:07.148Z"
   },
   {
    "duration": 13,
    "start_time": "2022-10-11T13:34:07.414Z"
   },
   {
    "duration": 9,
    "start_time": "2022-10-11T13:34:07.428Z"
   },
   {
    "duration": 31,
    "start_time": "2022-10-11T13:34:07.439Z"
   },
   {
    "duration": 18,
    "start_time": "2022-10-11T13:34:07.472Z"
   },
   {
    "duration": 27,
    "start_time": "2022-10-11T13:34:07.491Z"
   },
   {
    "duration": 20,
    "start_time": "2022-10-11T13:34:07.520Z"
   },
   {
    "duration": 594,
    "start_time": "2022-10-11T13:34:07.542Z"
   },
   {
    "duration": 285,
    "start_time": "2022-10-11T13:34:08.138Z"
   },
   {
    "duration": 701,
    "start_time": "2022-10-11T13:34:08.425Z"
   },
   {
    "duration": 17,
    "start_time": "2022-10-11T13:34:09.128Z"
   },
   {
    "duration": 26,
    "start_time": "2022-10-11T13:34:09.147Z"
   },
   {
    "duration": 47,
    "start_time": "2022-10-11T13:34:09.175Z"
   },
   {
    "duration": 18,
    "start_time": "2022-10-11T13:34:09.224Z"
   },
   {
    "duration": 72,
    "start_time": "2022-10-11T13:34:09.244Z"
   },
   {
    "duration": 121,
    "start_time": "2022-10-11T13:34:09.317Z"
   },
   {
    "duration": 472,
    "start_time": "2022-10-11T13:34:09.440Z"
   },
   {
    "duration": 10,
    "start_time": "2022-10-11T13:34:09.915Z"
   },
   {
    "duration": 111,
    "start_time": "2022-10-11T13:34:09.927Z"
   },
   {
    "duration": 17,
    "start_time": "2022-10-11T13:34:10.040Z"
   },
   {
    "duration": 81,
    "start_time": "2022-10-11T13:34:10.059Z"
   },
   {
    "duration": 70,
    "start_time": "2022-10-11T13:34:10.143Z"
   },
   {
    "duration": 6,
    "start_time": "2022-10-11T13:34:10.215Z"
   },
   {
    "duration": 18,
    "start_time": "2022-10-11T13:34:10.222Z"
   },
   {
    "duration": 14,
    "start_time": "2022-10-11T13:34:10.242Z"
   },
   {
    "duration": 1112,
    "start_time": "2022-10-11T13:43:57.337Z"
   },
   {
    "duration": 149,
    "start_time": "2022-10-11T13:43:58.451Z"
   },
   {
    "duration": 13,
    "start_time": "2022-10-11T13:43:58.601Z"
   },
   {
    "duration": 17,
    "start_time": "2022-10-11T13:43:58.617Z"
   },
   {
    "duration": 2,
    "start_time": "2022-10-11T13:43:58.636Z"
   },
   {
    "duration": 30,
    "start_time": "2022-10-11T13:43:58.640Z"
   },
   {
    "duration": 232,
    "start_time": "2022-10-11T13:43:58.671Z"
   },
   {
    "duration": 14,
    "start_time": "2022-10-11T13:43:58.905Z"
   },
   {
    "duration": 8,
    "start_time": "2022-10-11T13:43:58.920Z"
   },
   {
    "duration": 21,
    "start_time": "2022-10-11T13:43:58.930Z"
   },
   {
    "duration": 6,
    "start_time": "2022-10-11T13:43:58.953Z"
   },
   {
    "duration": 42,
    "start_time": "2022-10-11T13:43:58.960Z"
   },
   {
    "duration": 17,
    "start_time": "2022-10-11T13:43:59.003Z"
   },
   {
    "duration": 606,
    "start_time": "2022-10-11T13:43:59.021Z"
   },
   {
    "duration": 280,
    "start_time": "2022-10-11T13:43:59.629Z"
   },
   {
    "duration": 645,
    "start_time": "2022-10-11T13:43:59.910Z"
   },
   {
    "duration": 16,
    "start_time": "2022-10-11T13:44:00.557Z"
   },
   {
    "duration": 33,
    "start_time": "2022-10-11T13:44:00.585Z"
   },
   {
    "duration": 40,
    "start_time": "2022-10-11T13:44:00.620Z"
   },
   {
    "duration": 29,
    "start_time": "2022-10-11T13:44:00.662Z"
   },
   {
    "duration": 45,
    "start_time": "2022-10-11T13:44:00.692Z"
   },
   {
    "duration": 110,
    "start_time": "2022-10-11T13:44:00.738Z"
   },
   {
    "duration": 452,
    "start_time": "2022-10-11T13:44:00.850Z"
   },
   {
    "duration": 12,
    "start_time": "2022-10-11T13:44:01.303Z"
   },
   {
    "duration": 124,
    "start_time": "2022-10-11T13:44:01.317Z"
   },
   {
    "duration": 53,
    "start_time": "2022-10-11T13:44:01.443Z"
   },
   {
    "duration": 47,
    "start_time": "2022-10-11T13:44:01.501Z"
   },
   {
    "duration": 63,
    "start_time": "2022-10-11T13:44:01.551Z"
   },
   {
    "duration": 6,
    "start_time": "2022-10-11T13:44:01.615Z"
   },
   {
    "duration": 39,
    "start_time": "2022-10-11T13:44:01.622Z"
   },
   {
    "duration": 11,
    "start_time": "2022-10-11T13:44:01.663Z"
   },
   {
    "duration": 4,
    "start_time": "2022-10-11T13:53:22.383Z"
   },
   {
    "duration": 7,
    "start_time": "2022-10-11T13:53:46.931Z"
   },
   {
    "duration": 6,
    "start_time": "2022-10-11T13:54:28.837Z"
   },
   {
    "duration": 1162,
    "start_time": "2022-10-11T13:54:33.312Z"
   },
   {
    "duration": 172,
    "start_time": "2022-10-11T13:54:34.476Z"
   },
   {
    "duration": 12,
    "start_time": "2022-10-11T13:54:34.649Z"
   },
   {
    "duration": 25,
    "start_time": "2022-10-11T13:54:34.662Z"
   },
   {
    "duration": 2,
    "start_time": "2022-10-11T13:54:34.689Z"
   },
   {
    "duration": 46,
    "start_time": "2022-10-11T13:54:34.693Z"
   },
   {
    "duration": 222,
    "start_time": "2022-10-11T13:54:34.741Z"
   },
   {
    "duration": 41,
    "start_time": "2022-10-11T13:54:34.964Z"
   },
   {
    "duration": 11,
    "start_time": "2022-10-11T13:54:35.011Z"
   },
   {
    "duration": 19,
    "start_time": "2022-10-11T13:54:35.024Z"
   },
   {
    "duration": 8,
    "start_time": "2022-10-11T13:54:35.045Z"
   },
   {
    "duration": 9,
    "start_time": "2022-10-11T13:54:35.055Z"
   },
   {
    "duration": 27,
    "start_time": "2022-10-11T13:54:35.066Z"
   },
   {
    "duration": 655,
    "start_time": "2022-10-11T13:54:35.102Z"
   },
   {
    "duration": 306,
    "start_time": "2022-10-11T13:54:35.759Z"
   },
   {
    "duration": 679,
    "start_time": "2022-10-11T13:54:36.067Z"
   },
   {
    "duration": 16,
    "start_time": "2022-10-11T13:54:36.748Z"
   },
   {
    "duration": 40,
    "start_time": "2022-10-11T13:54:36.766Z"
   },
   {
    "duration": 56,
    "start_time": "2022-10-11T13:54:36.808Z"
   },
   {
    "duration": 35,
    "start_time": "2022-10-11T13:54:36.866Z"
   },
   {
    "duration": 108,
    "start_time": "2022-10-11T13:54:36.903Z"
   },
   {
    "duration": 173,
    "start_time": "2022-10-11T13:54:37.019Z"
   },
   {
    "duration": 574,
    "start_time": "2022-10-11T13:54:37.198Z"
   },
   {
    "duration": 9,
    "start_time": "2022-10-11T13:54:37.774Z"
   },
   {
    "duration": 124,
    "start_time": "2022-10-11T13:54:37.785Z"
   },
   {
    "duration": 19,
    "start_time": "2022-10-11T13:54:37.915Z"
   },
   {
    "duration": 61,
    "start_time": "2022-10-11T13:54:37.936Z"
   },
   {
    "duration": 56,
    "start_time": "2022-10-11T13:54:37.999Z"
   },
   {
    "duration": 7,
    "start_time": "2022-10-11T13:54:38.056Z"
   },
   {
    "duration": 26,
    "start_time": "2022-10-11T13:54:38.064Z"
   },
   {
    "duration": 22,
    "start_time": "2022-10-11T13:54:38.098Z"
   },
   {
    "duration": 6,
    "start_time": "2022-10-11T13:54:38.122Z"
   },
   {
    "duration": 15,
    "start_time": "2022-10-11T13:54:38.129Z"
   },
   {
    "duration": 1169,
    "start_time": "2022-10-11T13:55:47.107Z"
   },
   {
    "duration": 180,
    "start_time": "2022-10-11T13:55:48.278Z"
   },
   {
    "duration": 14,
    "start_time": "2022-10-11T13:55:48.459Z"
   },
   {
    "duration": 36,
    "start_time": "2022-10-11T13:55:48.475Z"
   },
   {
    "duration": 11,
    "start_time": "2022-10-11T13:55:48.520Z"
   },
   {
    "duration": 26,
    "start_time": "2022-10-11T13:55:48.532Z"
   },
   {
    "duration": 262,
    "start_time": "2022-10-11T13:55:48.559Z"
   },
   {
    "duration": 19,
    "start_time": "2022-10-11T13:55:48.822Z"
   },
   {
    "duration": 11,
    "start_time": "2022-10-11T13:55:48.843Z"
   },
   {
    "duration": 41,
    "start_time": "2022-10-11T13:55:48.856Z"
   },
   {
    "duration": 24,
    "start_time": "2022-10-11T13:55:48.906Z"
   },
   {
    "duration": 10,
    "start_time": "2022-10-11T13:55:48.932Z"
   },
   {
    "duration": 21,
    "start_time": "2022-10-11T13:55:48.943Z"
   },
   {
    "duration": 670,
    "start_time": "2022-10-11T13:55:48.967Z"
   },
   {
    "duration": 361,
    "start_time": "2022-10-11T13:55:49.639Z"
   },
   {
    "duration": 686,
    "start_time": "2022-10-11T13:55:50.002Z"
   },
   {
    "duration": 21,
    "start_time": "2022-10-11T13:55:50.701Z"
   },
   {
    "duration": 16,
    "start_time": "2022-10-11T13:55:50.723Z"
   },
   {
    "duration": 50,
    "start_time": "2022-10-11T13:55:50.741Z"
   },
   {
    "duration": 26,
    "start_time": "2022-10-11T13:55:50.792Z"
   },
   {
    "duration": 55,
    "start_time": "2022-10-11T13:55:50.819Z"
   },
   {
    "duration": 134,
    "start_time": "2022-10-11T13:55:50.877Z"
   },
   {
    "duration": 459,
    "start_time": "2022-10-11T13:55:51.013Z"
   },
   {
    "duration": 9,
    "start_time": "2022-10-11T13:55:51.474Z"
   },
   {
    "duration": 135,
    "start_time": "2022-10-11T13:55:51.484Z"
   },
   {
    "duration": 18,
    "start_time": "2022-10-11T13:55:51.621Z"
   },
   {
    "duration": 75,
    "start_time": "2022-10-11T13:55:51.641Z"
   },
   {
    "duration": 50,
    "start_time": "2022-10-11T13:55:51.717Z"
   },
   {
    "duration": 6,
    "start_time": "2022-10-11T13:55:51.769Z"
   },
   {
    "duration": 3,
    "start_time": "2022-10-11T13:55:51.785Z"
   },
   {
    "duration": 50,
    "start_time": "2022-10-11T13:55:51.796Z"
   },
   {
    "duration": 10,
    "start_time": "2022-10-11T13:55:51.848Z"
   },
   {
    "duration": 7,
    "start_time": "2022-10-11T13:56:14.070Z"
   },
   {
    "duration": 6,
    "start_time": "2022-10-11T13:56:28.318Z"
   },
   {
    "duration": 151,
    "start_time": "2022-10-11T13:57:02.111Z"
   },
   {
    "duration": 10,
    "start_time": "2022-10-11T13:57:10.508Z"
   },
   {
    "duration": 8,
    "start_time": "2022-10-11T13:57:26.909Z"
   },
   {
    "duration": 7,
    "start_time": "2022-10-11T13:57:39.267Z"
   },
   {
    "duration": 5,
    "start_time": "2022-10-11T13:57:54.050Z"
   },
   {
    "duration": 5,
    "start_time": "2022-10-11T13:57:55.346Z"
   },
   {
    "duration": 9,
    "start_time": "2022-10-11T13:59:13.777Z"
   },
   {
    "duration": 4,
    "start_time": "2022-10-11T14:03:34.274Z"
   },
   {
    "duration": 6,
    "start_time": "2022-10-11T14:03:36.057Z"
   },
   {
    "duration": 6,
    "start_time": "2022-10-11T14:04:25.808Z"
   },
   {
    "duration": 6,
    "start_time": "2022-10-11T14:04:26.679Z"
   },
   {
    "duration": 6,
    "start_time": "2022-10-11T14:04:28.391Z"
   },
   {
    "duration": 19,
    "start_time": "2022-10-11T14:04:57.302Z"
   },
   {
    "duration": 4,
    "start_time": "2022-10-11T14:05:08.656Z"
   },
   {
    "duration": 5,
    "start_time": "2022-10-11T14:05:17.527Z"
   },
   {
    "duration": 5,
    "start_time": "2022-10-11T14:06:19.140Z"
   },
   {
    "duration": 6,
    "start_time": "2022-10-11T14:06:21.365Z"
   },
   {
    "duration": 12,
    "start_time": "2022-10-11T14:07:08.371Z"
   },
   {
    "duration": 7,
    "start_time": "2022-10-11T14:07:20.459Z"
   },
   {
    "duration": 8,
    "start_time": "2022-10-11T14:07:26.988Z"
   },
   {
    "duration": 3,
    "start_time": "2022-10-11T14:07:43.538Z"
   },
   {
    "duration": 4,
    "start_time": "2022-10-11T14:07:53.002Z"
   },
   {
    "duration": 4,
    "start_time": "2022-10-11T14:08:12.130Z"
   },
   {
    "duration": 6,
    "start_time": "2022-10-11T14:08:12.969Z"
   },
   {
    "duration": 4,
    "start_time": "2022-10-11T14:08:29.265Z"
   },
   {
    "duration": 5,
    "start_time": "2022-10-11T14:09:04.361Z"
   },
   {
    "duration": 7,
    "start_time": "2022-10-11T14:09:35.031Z"
   },
   {
    "duration": 4,
    "start_time": "2022-10-11T14:09:51.935Z"
   },
   {
    "duration": 4,
    "start_time": "2022-10-11T14:09:52.815Z"
   },
   {
    "duration": 5,
    "start_time": "2022-10-11T14:10:02.654Z"
   },
   {
    "duration": 6,
    "start_time": "2022-10-11T14:10:03.806Z"
   },
   {
    "duration": 4,
    "start_time": "2022-10-11T14:10:29.070Z"
   },
   {
    "duration": 5,
    "start_time": "2022-10-11T14:12:56.411Z"
   },
   {
    "duration": 13,
    "start_time": "2022-10-11T14:12:57.641Z"
   },
   {
    "duration": 1886,
    "start_time": "2022-10-11T14:13:07.497Z"
   },
   {
    "duration": 4,
    "start_time": "2022-10-11T14:13:19.554Z"
   },
   {
    "duration": 1659,
    "start_time": "2022-10-11T14:13:20.993Z"
   },
   {
    "duration": 18,
    "start_time": "2022-10-11T14:13:29.968Z"
   },
   {
    "duration": 9,
    "start_time": "2022-10-11T14:14:12.656Z"
   },
   {
    "duration": 4,
    "start_time": "2022-10-11T14:14:17.608Z"
   },
   {
    "duration": 5,
    "start_time": "2022-10-11T14:14:18.087Z"
   },
   {
    "duration": 1156,
    "start_time": "2022-10-11T14:25:47.355Z"
   },
   {
    "duration": 143,
    "start_time": "2022-10-11T14:25:48.513Z"
   },
   {
    "duration": 12,
    "start_time": "2022-10-11T14:25:48.658Z"
   },
   {
    "duration": 31,
    "start_time": "2022-10-11T14:25:48.672Z"
   },
   {
    "duration": 2,
    "start_time": "2022-10-11T14:25:48.705Z"
   },
   {
    "duration": 44,
    "start_time": "2022-10-11T14:25:48.708Z"
   },
   {
    "duration": 210,
    "start_time": "2022-10-11T14:25:48.753Z"
   },
   {
    "duration": 25,
    "start_time": "2022-10-11T14:25:48.964Z"
   },
   {
    "duration": 8,
    "start_time": "2022-10-11T14:25:48.991Z"
   },
   {
    "duration": 18,
    "start_time": "2022-10-11T14:25:49.002Z"
   },
   {
    "duration": 8,
    "start_time": "2022-10-11T14:25:49.021Z"
   },
   {
    "duration": 18,
    "start_time": "2022-10-11T14:25:49.031Z"
   },
   {
    "duration": 43,
    "start_time": "2022-10-11T14:25:49.050Z"
   },
   {
    "duration": 571,
    "start_time": "2022-10-11T14:25:49.095Z"
   },
   {
    "duration": 278,
    "start_time": "2022-10-11T14:25:49.668Z"
   },
   {
    "duration": 611,
    "start_time": "2022-10-11T14:25:49.948Z"
   },
   {
    "duration": 15,
    "start_time": "2022-10-11T14:25:50.561Z"
   },
   {
    "duration": 16,
    "start_time": "2022-10-11T14:25:50.584Z"
   },
   {
    "duration": 40,
    "start_time": "2022-10-11T14:25:50.601Z"
   },
   {
    "duration": 17,
    "start_time": "2022-10-11T14:25:50.642Z"
   },
   {
    "duration": 66,
    "start_time": "2022-10-11T14:25:50.660Z"
   },
   {
    "duration": 110,
    "start_time": "2022-10-11T14:25:50.728Z"
   },
   {
    "duration": 437,
    "start_time": "2022-10-11T14:25:50.839Z"
   },
   {
    "duration": 12,
    "start_time": "2022-10-11T14:25:51.278Z"
   },
   {
    "duration": 131,
    "start_time": "2022-10-11T14:25:51.292Z"
   },
   {
    "duration": 62,
    "start_time": "2022-10-11T14:25:51.425Z"
   },
   {
    "duration": 53,
    "start_time": "2022-10-11T14:25:51.490Z"
   },
   {
    "duration": 66,
    "start_time": "2022-10-11T14:25:51.547Z"
   },
   {
    "duration": 6,
    "start_time": "2022-10-11T14:25:51.615Z"
   },
   {
    "duration": 26,
    "start_time": "2022-10-11T14:25:51.623Z"
   },
   {
    "duration": 22,
    "start_time": "2022-10-11T14:25:51.651Z"
   },
   {
    "duration": 8,
    "start_time": "2022-10-11T14:25:51.674Z"
   },
   {
    "duration": 11,
    "start_time": "2022-10-11T14:25:51.683Z"
   },
   {
    "duration": 13,
    "start_time": "2022-10-11T14:25:51.695Z"
   },
   {
    "duration": 7,
    "start_time": "2022-10-11T14:25:51.710Z"
   },
   {
    "duration": 7,
    "start_time": "2022-10-11T15:46:03.230Z"
   },
   {
    "duration": 6,
    "start_time": "2022-10-11T15:46:05.557Z"
   },
   {
    "duration": 5,
    "start_time": "2022-10-11T15:46:26.779Z"
   },
   {
    "duration": 5,
    "start_time": "2022-10-11T15:46:27.235Z"
   },
   {
    "duration": 5,
    "start_time": "2022-10-11T15:47:15.114Z"
   },
   {
    "duration": 5,
    "start_time": "2022-10-11T15:47:16.698Z"
   },
   {
    "duration": 4,
    "start_time": "2022-10-11T15:49:42.209Z"
   },
   {
    "duration": 5,
    "start_time": "2022-10-11T15:49:51.758Z"
   },
   {
    "duration": 4,
    "start_time": "2022-10-11T15:49:52.718Z"
   },
   {
    "duration": 5,
    "start_time": "2022-10-11T15:51:49.192Z"
   },
   {
    "duration": 5,
    "start_time": "2022-10-11T15:52:41.442Z"
   },
   {
    "duration": 4,
    "start_time": "2022-10-11T15:53:28.423Z"
   },
   {
    "duration": 86,
    "start_time": "2022-10-11T15:54:21.119Z"
   },
   {
    "duration": 77,
    "start_time": "2022-10-11T15:54:56.489Z"
   },
   {
    "duration": 9,
    "start_time": "2022-10-11T15:55:09.859Z"
   },
   {
    "duration": 5,
    "start_time": "2022-10-11T15:55:56.501Z"
   },
   {
    "duration": 152,
    "start_time": "2022-10-11T15:56:17.652Z"
   },
   {
    "duration": 5,
    "start_time": "2022-10-11T15:56:46.771Z"
   },
   {
    "duration": 5,
    "start_time": "2022-10-11T15:56:49.587Z"
   },
   {
    "duration": 4,
    "start_time": "2022-10-11T15:56:50.099Z"
   },
   {
    "duration": 4,
    "start_time": "2022-10-11T15:56:51.215Z"
   },
   {
    "duration": 4,
    "start_time": "2022-10-11T15:56:52.199Z"
   },
   {
    "duration": 5,
    "start_time": "2022-10-11T15:56:55.650Z"
   },
   {
    "duration": 1085,
    "start_time": "2022-10-11T15:57:24.532Z"
   },
   {
    "duration": 142,
    "start_time": "2022-10-11T15:57:25.619Z"
   },
   {
    "duration": 13,
    "start_time": "2022-10-11T15:57:25.762Z"
   },
   {
    "duration": 17,
    "start_time": "2022-10-11T15:57:25.784Z"
   },
   {
    "duration": 4,
    "start_time": "2022-10-11T15:57:25.803Z"
   },
   {
    "duration": 37,
    "start_time": "2022-10-11T15:57:25.809Z"
   },
   {
    "duration": 215,
    "start_time": "2022-10-11T15:57:25.848Z"
   },
   {
    "duration": 21,
    "start_time": "2022-10-11T15:57:26.065Z"
   },
   {
    "duration": 9,
    "start_time": "2022-10-11T15:57:26.087Z"
   },
   {
    "duration": 21,
    "start_time": "2022-10-11T15:57:26.098Z"
   },
   {
    "duration": 7,
    "start_time": "2022-10-11T15:57:26.120Z"
   },
   {
    "duration": 9,
    "start_time": "2022-10-11T15:57:26.128Z"
   },
   {
    "duration": 19,
    "start_time": "2022-10-11T15:57:26.138Z"
   },
   {
    "duration": 582,
    "start_time": "2022-10-11T15:57:26.158Z"
   },
   {
    "duration": 263,
    "start_time": "2022-10-11T15:57:26.741Z"
   },
   {
    "duration": 669,
    "start_time": "2022-10-11T15:57:27.006Z"
   },
   {
    "duration": 19,
    "start_time": "2022-10-11T15:57:27.677Z"
   },
   {
    "duration": 21,
    "start_time": "2022-10-11T15:57:27.698Z"
   },
   {
    "duration": 39,
    "start_time": "2022-10-11T15:57:27.721Z"
   },
   {
    "duration": 39,
    "start_time": "2022-10-11T15:57:27.762Z"
   },
   {
    "duration": 55,
    "start_time": "2022-10-11T15:57:27.803Z"
   },
   {
    "duration": 104,
    "start_time": "2022-10-11T15:57:27.860Z"
   },
   {
    "duration": 397,
    "start_time": "2022-10-11T15:57:27.966Z"
   },
   {
    "duration": 10,
    "start_time": "2022-10-11T15:57:28.365Z"
   },
   {
    "duration": 109,
    "start_time": "2022-10-11T15:57:28.376Z"
   },
   {
    "duration": 18,
    "start_time": "2022-10-11T15:57:28.487Z"
   },
   {
    "duration": 48,
    "start_time": "2022-10-11T15:57:28.507Z"
   },
   {
    "duration": 66,
    "start_time": "2022-10-11T15:57:28.558Z"
   },
   {
    "duration": 6,
    "start_time": "2022-10-11T15:57:28.626Z"
   },
   {
    "duration": 7,
    "start_time": "2022-10-11T15:57:28.634Z"
   },
   {
    "duration": 23,
    "start_time": "2022-10-11T15:57:28.642Z"
   },
   {
    "duration": 19,
    "start_time": "2022-10-11T15:57:28.667Z"
   },
   {
    "duration": 12,
    "start_time": "2022-10-11T15:57:28.688Z"
   },
   {
    "duration": 26,
    "start_time": "2022-10-11T15:57:28.702Z"
   },
   {
    "duration": 10,
    "start_time": "2022-10-11T15:57:28.730Z"
   },
   {
    "duration": 7,
    "start_time": "2022-10-11T15:58:34.896Z"
   },
   {
    "duration": 7,
    "start_time": "2022-10-11T15:58:46.504Z"
   },
   {
    "duration": 27,
    "start_time": "2022-10-11T16:15:00.486Z"
   },
   {
    "duration": 1151,
    "start_time": "2022-10-11T16:15:13.879Z"
   },
   {
    "duration": 148,
    "start_time": "2022-10-11T16:15:15.031Z"
   },
   {
    "duration": 12,
    "start_time": "2022-10-11T16:15:15.180Z"
   },
   {
    "duration": 192,
    "start_time": "2022-10-11T16:15:15.194Z"
   },
   {
    "duration": 3,
    "start_time": "2022-10-11T16:15:15.387Z"
   },
   {
    "duration": 27,
    "start_time": "2022-10-11T16:15:15.392Z"
   },
   {
    "duration": 236,
    "start_time": "2022-10-11T16:15:15.420Z"
   },
   {
    "duration": 14,
    "start_time": "2022-10-11T16:15:15.658Z"
   },
   {
    "duration": 10,
    "start_time": "2022-10-11T16:15:15.684Z"
   },
   {
    "duration": 26,
    "start_time": "2022-10-11T16:15:15.697Z"
   },
   {
    "duration": 8,
    "start_time": "2022-10-11T16:15:15.725Z"
   },
   {
    "duration": 13,
    "start_time": "2022-10-11T16:15:15.735Z"
   },
   {
    "duration": 52,
    "start_time": "2022-10-11T16:15:15.750Z"
   },
   {
    "duration": 652,
    "start_time": "2022-10-11T16:15:15.804Z"
   },
   {
    "duration": 272,
    "start_time": "2022-10-11T16:15:16.458Z"
   },
   {
    "duration": 689,
    "start_time": "2022-10-11T16:15:16.732Z"
   },
   {
    "duration": 16,
    "start_time": "2022-10-11T16:15:17.424Z"
   },
   {
    "duration": 15,
    "start_time": "2022-10-11T16:15:17.442Z"
   },
   {
    "duration": 58,
    "start_time": "2022-10-11T16:15:17.459Z"
   },
   {
    "duration": 17,
    "start_time": "2022-10-11T16:15:17.519Z"
   },
   {
    "duration": 65,
    "start_time": "2022-10-11T16:15:17.538Z"
   },
   {
    "duration": 110,
    "start_time": "2022-10-11T16:15:17.604Z"
   },
   {
    "duration": 446,
    "start_time": "2022-10-11T16:15:17.715Z"
   },
   {
    "duration": 9,
    "start_time": "2022-10-11T16:15:18.163Z"
   },
   {
    "duration": 116,
    "start_time": "2022-10-11T16:15:18.174Z"
   },
   {
    "duration": 26,
    "start_time": "2022-10-11T16:15:18.291Z"
   },
   {
    "duration": 75,
    "start_time": "2022-10-11T16:15:18.319Z"
   },
   {
    "duration": 50,
    "start_time": "2022-10-11T16:15:18.397Z"
   },
   {
    "duration": 7,
    "start_time": "2022-10-11T16:15:18.448Z"
   },
   {
    "duration": 11,
    "start_time": "2022-10-11T16:15:18.456Z"
   },
   {
    "duration": 5,
    "start_time": "2022-10-11T16:15:18.484Z"
   },
   {
    "duration": 9,
    "start_time": "2022-10-11T16:15:18.491Z"
   },
   {
    "duration": 6,
    "start_time": "2022-10-11T16:15:18.501Z"
   },
   {
    "duration": 7,
    "start_time": "2022-10-11T16:15:18.509Z"
   },
   {
    "duration": 8,
    "start_time": "2022-10-11T16:15:18.517Z"
   },
   {
    "duration": 5,
    "start_time": "2022-10-11T16:15:18.526Z"
   },
   {
    "duration": 53,
    "start_time": "2022-10-11T16:15:39.633Z"
   },
   {
    "duration": 5,
    "start_time": "2022-10-11T16:17:12.678Z"
   },
   {
    "duration": 5,
    "start_time": "2022-10-11T16:17:44.261Z"
   },
   {
    "duration": 5,
    "start_time": "2022-10-11T16:18:23.203Z"
   },
   {
    "duration": 5,
    "start_time": "2022-10-11T16:18:58.010Z"
   },
   {
    "duration": 5,
    "start_time": "2022-10-11T16:19:13.211Z"
   },
   {
    "duration": 5,
    "start_time": "2022-10-11T16:19:33.681Z"
   },
   {
    "duration": 1149,
    "start_time": "2022-10-11T16:22:24.169Z"
   },
   {
    "duration": 142,
    "start_time": "2022-10-11T16:22:25.320Z"
   },
   {
    "duration": 12,
    "start_time": "2022-10-11T16:22:25.464Z"
   },
   {
    "duration": 18,
    "start_time": "2022-10-11T16:22:25.484Z"
   },
   {
    "duration": 4,
    "start_time": "2022-10-11T16:22:25.503Z"
   },
   {
    "duration": 33,
    "start_time": "2022-10-11T16:22:25.509Z"
   },
   {
    "duration": 230,
    "start_time": "2022-10-11T16:22:25.543Z"
   },
   {
    "duration": 22,
    "start_time": "2022-10-11T16:22:25.774Z"
   },
   {
    "duration": 16,
    "start_time": "2022-10-11T16:22:25.798Z"
   },
   {
    "duration": 22,
    "start_time": "2022-10-11T16:22:25.817Z"
   },
   {
    "duration": 8,
    "start_time": "2022-10-11T16:22:25.841Z"
   },
   {
    "duration": 14,
    "start_time": "2022-10-11T16:22:25.851Z"
   },
   {
    "duration": 25,
    "start_time": "2022-10-11T16:22:25.885Z"
   },
   {
    "duration": 592,
    "start_time": "2022-10-11T16:22:25.912Z"
   },
   {
    "duration": 256,
    "start_time": "2022-10-11T16:22:26.505Z"
   },
   {
    "duration": 650,
    "start_time": "2022-10-11T16:22:26.763Z"
   },
   {
    "duration": 16,
    "start_time": "2022-10-11T16:22:27.414Z"
   },
   {
    "duration": 15,
    "start_time": "2022-10-11T16:22:27.432Z"
   },
   {
    "duration": 60,
    "start_time": "2022-10-11T16:22:27.449Z"
   },
   {
    "duration": 19,
    "start_time": "2022-10-11T16:22:27.511Z"
   },
   {
    "duration": 60,
    "start_time": "2022-10-11T16:22:27.532Z"
   },
   {
    "duration": 110,
    "start_time": "2022-10-11T16:22:27.594Z"
   },
   {
    "duration": 409,
    "start_time": "2022-10-11T16:22:27.706Z"
   },
   {
    "duration": 10,
    "start_time": "2022-10-11T16:22:28.117Z"
   },
   {
    "duration": 85,
    "start_time": "2022-10-11T16:22:28.129Z"
   },
   {
    "duration": 25,
    "start_time": "2022-10-11T16:22:28.215Z"
   },
   {
    "duration": 81,
    "start_time": "2022-10-11T16:22:28.241Z"
   },
   {
    "duration": 46,
    "start_time": "2022-10-11T16:22:28.325Z"
   },
   {
    "duration": 15,
    "start_time": "2022-10-11T16:22:28.373Z"
   },
   {
    "duration": 5,
    "start_time": "2022-10-11T16:22:28.390Z"
   },
   {
    "duration": 10,
    "start_time": "2022-10-11T16:22:28.396Z"
   },
   {
    "duration": 5,
    "start_time": "2022-10-11T16:22:28.408Z"
   },
   {
    "duration": 7,
    "start_time": "2022-10-11T16:22:28.414Z"
   },
   {
    "duration": 8,
    "start_time": "2022-10-11T16:22:28.422Z"
   },
   {
    "duration": 154,
    "start_time": "2022-10-11T16:22:28.431Z"
   },
   {
    "duration": 0,
    "start_time": "2022-10-11T16:22:28.587Z"
   },
   {
    "duration": 0,
    "start_time": "2022-10-11T16:22:28.588Z"
   },
   {
    "duration": 0,
    "start_time": "2022-10-11T16:22:28.589Z"
   },
   {
    "duration": 0,
    "start_time": "2022-10-11T16:22:28.590Z"
   },
   {
    "duration": 0,
    "start_time": "2022-10-11T16:22:28.591Z"
   },
   {
    "duration": 0,
    "start_time": "2022-10-11T16:22:28.592Z"
   },
   {
    "duration": 51,
    "start_time": "2022-10-11T16:22:32.450Z"
   },
   {
    "duration": 7,
    "start_time": "2022-10-11T16:22:33.817Z"
   },
   {
    "duration": 5,
    "start_time": "2022-10-11T16:22:36.009Z"
   },
   {
    "duration": 5,
    "start_time": "2022-10-11T16:22:36.393Z"
   },
   {
    "duration": 4,
    "start_time": "2022-10-11T16:22:38.353Z"
   },
   {
    "duration": 5,
    "start_time": "2022-10-11T16:22:39.201Z"
   },
   {
    "duration": 1244,
    "start_time": "2022-10-11T16:24:50.541Z"
   },
   {
    "duration": 173,
    "start_time": "2022-10-11T16:24:51.787Z"
   },
   {
    "duration": 12,
    "start_time": "2022-10-11T16:24:51.961Z"
   },
   {
    "duration": 54,
    "start_time": "2022-10-11T16:24:51.985Z"
   },
   {
    "duration": 12,
    "start_time": "2022-10-11T16:24:52.040Z"
   },
   {
    "duration": 45,
    "start_time": "2022-10-11T16:24:52.054Z"
   },
   {
    "duration": 239,
    "start_time": "2022-10-11T16:24:52.102Z"
   },
   {
    "duration": 14,
    "start_time": "2022-10-11T16:24:52.343Z"
   },
   {
    "duration": 37,
    "start_time": "2022-10-11T16:24:52.358Z"
   },
   {
    "duration": 38,
    "start_time": "2022-10-11T16:24:52.398Z"
   },
   {
    "duration": 30,
    "start_time": "2022-10-11T16:24:52.438Z"
   },
   {
    "duration": 39,
    "start_time": "2022-10-11T16:24:52.470Z"
   },
   {
    "duration": 43,
    "start_time": "2022-10-11T16:24:52.511Z"
   },
   {
    "duration": 601,
    "start_time": "2022-10-11T16:24:52.556Z"
   },
   {
    "duration": 265,
    "start_time": "2022-10-11T16:24:53.159Z"
   },
   {
    "duration": 621,
    "start_time": "2022-10-11T16:24:53.426Z"
   },
   {
    "duration": 16,
    "start_time": "2022-10-11T16:24:54.048Z"
   },
   {
    "duration": 37,
    "start_time": "2022-10-11T16:24:54.067Z"
   },
   {
    "duration": 62,
    "start_time": "2022-10-11T16:24:54.106Z"
   },
   {
    "duration": 37,
    "start_time": "2022-10-11T16:24:54.170Z"
   },
   {
    "duration": 60,
    "start_time": "2022-10-11T16:24:54.210Z"
   },
   {
    "duration": 105,
    "start_time": "2022-10-11T16:24:54.271Z"
   },
   {
    "duration": 426,
    "start_time": "2022-10-11T16:24:54.378Z"
   },
   {
    "duration": 12,
    "start_time": "2022-10-11T16:24:54.805Z"
   },
   {
    "duration": 130,
    "start_time": "2022-10-11T16:24:54.819Z"
   },
   {
    "duration": 42,
    "start_time": "2022-10-11T16:24:54.951Z"
   },
   {
    "duration": 53,
    "start_time": "2022-10-11T16:24:54.995Z"
   },
   {
    "duration": 63,
    "start_time": "2022-10-11T16:24:55.051Z"
   },
   {
    "duration": 6,
    "start_time": "2022-10-11T16:24:55.116Z"
   },
   {
    "duration": 47,
    "start_time": "2022-10-11T16:24:55.123Z"
   },
   {
    "duration": 23,
    "start_time": "2022-10-11T16:24:55.172Z"
   },
   {
    "duration": 36,
    "start_time": "2022-10-11T16:24:55.197Z"
   },
   {
    "duration": 39,
    "start_time": "2022-10-11T16:24:55.235Z"
   },
   {
    "duration": 26,
    "start_time": "2022-10-11T16:24:55.276Z"
   },
   {
    "duration": 39,
    "start_time": "2022-10-11T16:24:55.303Z"
   },
   {
    "duration": 78,
    "start_time": "2022-10-11T16:24:55.344Z"
   },
   {
    "duration": 4,
    "start_time": "2022-10-11T16:24:55.424Z"
   },
   {
    "duration": 33,
    "start_time": "2022-10-11T16:24:55.430Z"
   },
   {
    "duration": 33,
    "start_time": "2022-10-11T16:24:55.465Z"
   },
   {
    "duration": 44,
    "start_time": "2022-10-11T16:24:55.499Z"
   },
   {
    "duration": 37,
    "start_time": "2022-10-11T16:24:55.545Z"
   },
   {
    "duration": 4,
    "start_time": "2022-10-11T16:27:03.702Z"
   },
   {
    "duration": 1186,
    "start_time": "2022-10-11T16:27:45.256Z"
   },
   {
    "duration": 154,
    "start_time": "2022-10-11T16:27:46.444Z"
   },
   {
    "duration": 13,
    "start_time": "2022-10-11T16:27:46.600Z"
   },
   {
    "duration": 42,
    "start_time": "2022-10-11T16:27:46.615Z"
   },
   {
    "duration": 10,
    "start_time": "2022-10-11T16:27:46.659Z"
   },
   {
    "duration": 26,
    "start_time": "2022-10-11T16:27:46.671Z"
   },
   {
    "duration": 231,
    "start_time": "2022-10-11T16:27:46.699Z"
   },
   {
    "duration": 14,
    "start_time": "2022-10-11T16:27:46.932Z"
   },
   {
    "duration": 13,
    "start_time": "2022-10-11T16:27:46.950Z"
   },
   {
    "duration": 42,
    "start_time": "2022-10-11T16:27:46.967Z"
   },
   {
    "duration": 19,
    "start_time": "2022-10-11T16:27:47.011Z"
   },
   {
    "duration": 19,
    "start_time": "2022-10-11T16:27:47.031Z"
   },
   {
    "duration": 227,
    "start_time": "2022-10-11T16:27:47.052Z"
   },
   {
    "duration": 589,
    "start_time": "2022-10-11T16:27:47.281Z"
   },
   {
    "duration": 293,
    "start_time": "2022-10-11T16:27:47.872Z"
   },
   {
    "duration": 623,
    "start_time": "2022-10-11T16:27:48.167Z"
   },
   {
    "duration": 15,
    "start_time": "2022-10-11T16:27:48.792Z"
   },
   {
    "duration": 25,
    "start_time": "2022-10-11T16:27:48.809Z"
   },
   {
    "duration": 51,
    "start_time": "2022-10-11T16:27:48.835Z"
   },
   {
    "duration": 19,
    "start_time": "2022-10-11T16:27:48.888Z"
   },
   {
    "duration": 44,
    "start_time": "2022-10-11T16:27:48.909Z"
   },
   {
    "duration": 131,
    "start_time": "2022-10-11T16:27:48.955Z"
   },
   {
    "duration": 456,
    "start_time": "2022-10-11T16:27:49.088Z"
   },
   {
    "duration": 13,
    "start_time": "2022-10-11T16:27:49.545Z"
   },
   {
    "duration": 64,
    "start_time": "2022-10-11T16:27:49.559Z"
   },
   {
    "duration": 63,
    "start_time": "2022-10-11T16:27:49.625Z"
   },
   {
    "duration": 50,
    "start_time": "2022-10-11T16:27:49.690Z"
   },
   {
    "duration": 75,
    "start_time": "2022-10-11T16:27:49.744Z"
   },
   {
    "duration": 8,
    "start_time": "2022-10-11T16:27:49.821Z"
   },
   {
    "duration": 6,
    "start_time": "2022-10-11T16:27:49.831Z"
   },
   {
    "duration": 15,
    "start_time": "2022-10-11T16:27:49.839Z"
   },
   {
    "duration": 9,
    "start_time": "2022-10-11T16:27:49.855Z"
   },
   {
    "duration": 23,
    "start_time": "2022-10-11T16:27:49.865Z"
   },
   {
    "duration": 8,
    "start_time": "2022-10-11T16:27:49.889Z"
   },
   {
    "duration": 10,
    "start_time": "2022-10-11T16:27:49.898Z"
   },
   {
    "duration": 62,
    "start_time": "2022-10-11T16:27:49.910Z"
   },
   {
    "duration": 13,
    "start_time": "2022-10-11T16:27:49.973Z"
   },
   {
    "duration": 4,
    "start_time": "2022-10-11T16:27:49.988Z"
   },
   {
    "duration": 28,
    "start_time": "2022-10-11T16:27:49.994Z"
   },
   {
    "duration": 14,
    "start_time": "2022-10-11T16:27:50.024Z"
   },
   {
    "duration": 16,
    "start_time": "2022-10-11T16:27:50.040Z"
   },
   {
    "duration": 10,
    "start_time": "2022-10-11T16:27:50.058Z"
   },
   {
    "duration": 7,
    "start_time": "2022-10-11T16:28:16.797Z"
   },
   {
    "duration": 6,
    "start_time": "2022-10-11T16:28:34.003Z"
   },
   {
    "duration": 4,
    "start_time": "2022-10-11T16:28:58.395Z"
   },
   {
    "duration": 4,
    "start_time": "2022-10-11T16:29:15.476Z"
   },
   {
    "duration": 3,
    "start_time": "2022-10-11T16:34:34.634Z"
   },
   {
    "duration": 148,
    "start_time": "2022-10-11T16:36:24.887Z"
   },
   {
    "duration": 44,
    "start_time": "2022-10-11T16:36:49.495Z"
   },
   {
    "duration": 53,
    "start_time": "2022-10-11T16:37:02.301Z"
   },
   {
    "duration": 59,
    "start_time": "2022-10-11T16:37:15.790Z"
   },
   {
    "duration": 11,
    "start_time": "2022-10-11T16:37:25.701Z"
   },
   {
    "duration": 25,
    "start_time": "2022-10-11T16:37:35.637Z"
   },
   {
    "duration": 24,
    "start_time": "2022-10-11T16:37:54.204Z"
   },
   {
    "duration": 28,
    "start_time": "2022-10-11T16:38:23.923Z"
   },
   {
    "duration": 19,
    "start_time": "2022-10-11T16:38:38.387Z"
   },
   {
    "duration": 16,
    "start_time": "2022-10-11T16:38:51.540Z"
   },
   {
    "duration": 26,
    "start_time": "2022-10-11T16:39:11.522Z"
   },
   {
    "duration": 83,
    "start_time": "2022-10-11T16:39:59.034Z"
   },
   {
    "duration": 89,
    "start_time": "2022-10-11T16:40:14.665Z"
   },
   {
    "duration": 80,
    "start_time": "2022-10-11T16:42:08.477Z"
   },
   {
    "duration": 5,
    "start_time": "2022-10-11T16:45:27.624Z"
   },
   {
    "duration": 4,
    "start_time": "2022-10-11T16:46:10.215Z"
   },
   {
    "duration": 5,
    "start_time": "2022-10-11T16:46:42.070Z"
   },
   {
    "duration": 4,
    "start_time": "2022-10-11T16:47:15.326Z"
   },
   {
    "duration": 4,
    "start_time": "2022-10-11T16:47:40.037Z"
   },
   {
    "duration": 5,
    "start_time": "2022-10-11T16:56:21.943Z"
   },
   {
    "duration": 1113,
    "start_time": "2022-10-11T16:57:14.805Z"
   },
   {
    "duration": 146,
    "start_time": "2022-10-11T16:57:15.920Z"
   },
   {
    "duration": 20,
    "start_time": "2022-10-11T16:57:16.067Z"
   },
   {
    "duration": 20,
    "start_time": "2022-10-11T16:57:16.089Z"
   },
   {
    "duration": 17,
    "start_time": "2022-10-11T16:57:16.111Z"
   },
   {
    "duration": 45,
    "start_time": "2022-10-11T16:57:16.130Z"
   },
   {
    "duration": 236,
    "start_time": "2022-10-11T16:57:16.176Z"
   },
   {
    "duration": 14,
    "start_time": "2022-10-11T16:57:16.413Z"
   },
   {
    "duration": 24,
    "start_time": "2022-10-11T16:57:16.428Z"
   },
   {
    "duration": 45,
    "start_time": "2022-10-11T16:57:16.455Z"
   },
   {
    "duration": 13,
    "start_time": "2022-10-11T16:57:16.502Z"
   },
   {
    "duration": 31,
    "start_time": "2022-10-11T16:57:16.516Z"
   },
   {
    "duration": 34,
    "start_time": "2022-10-11T16:57:16.549Z"
   },
   {
    "duration": 565,
    "start_time": "2022-10-11T16:57:16.585Z"
   },
   {
    "duration": 311,
    "start_time": "2022-10-11T16:57:17.151Z"
   },
   {
    "duration": 602,
    "start_time": "2022-10-11T16:57:17.463Z"
   },
   {
    "duration": 22,
    "start_time": "2022-10-11T16:57:18.067Z"
   },
   {
    "duration": 24,
    "start_time": "2022-10-11T16:57:18.091Z"
   },
   {
    "duration": 61,
    "start_time": "2022-10-11T16:57:18.116Z"
   },
   {
    "duration": 18,
    "start_time": "2022-10-11T16:57:18.179Z"
   },
   {
    "duration": 49,
    "start_time": "2022-10-11T16:57:18.198Z"
   },
   {
    "duration": 108,
    "start_time": "2022-10-11T16:57:18.248Z"
   },
   {
    "duration": 423,
    "start_time": "2022-10-11T16:57:18.357Z"
   },
   {
    "duration": 9,
    "start_time": "2022-10-11T16:57:18.782Z"
   },
   {
    "duration": 115,
    "start_time": "2022-10-11T16:57:18.792Z"
   },
   {
    "duration": 22,
    "start_time": "2022-10-11T16:57:18.909Z"
   },
   {
    "duration": 61,
    "start_time": "2022-10-11T16:57:18.933Z"
   },
   {
    "duration": 53,
    "start_time": "2022-10-11T16:57:18.998Z"
   },
   {
    "duration": 7,
    "start_time": "2022-10-11T16:57:19.053Z"
   },
   {
    "duration": 24,
    "start_time": "2022-10-11T16:57:19.062Z"
   },
   {
    "duration": 17,
    "start_time": "2022-10-11T16:57:19.088Z"
   },
   {
    "duration": 11,
    "start_time": "2022-10-11T16:57:19.107Z"
   },
   {
    "duration": 8,
    "start_time": "2022-10-11T16:57:19.120Z"
   },
   {
    "duration": 8,
    "start_time": "2022-10-11T16:57:19.129Z"
   },
   {
    "duration": 7,
    "start_time": "2022-10-11T16:57:19.138Z"
   },
   {
    "duration": 59,
    "start_time": "2022-10-11T16:57:19.147Z"
   },
   {
    "duration": 4,
    "start_time": "2022-10-11T16:57:19.208Z"
   },
   {
    "duration": 20,
    "start_time": "2022-10-11T16:57:19.213Z"
   },
   {
    "duration": 7,
    "start_time": "2022-10-11T16:57:19.235Z"
   },
   {
    "duration": 27,
    "start_time": "2022-10-11T16:57:19.244Z"
   },
   {
    "duration": 18,
    "start_time": "2022-10-11T16:57:19.273Z"
   },
   {
    "duration": 17,
    "start_time": "2022-10-11T16:57:19.292Z"
   },
   {
    "duration": 15,
    "start_time": "2022-10-11T16:57:19.310Z"
   },
   {
    "duration": 13,
    "start_time": "2022-10-11T16:57:19.327Z"
   },
   {
    "duration": 20,
    "start_time": "2022-10-11T16:57:19.341Z"
   },
   {
    "duration": 15,
    "start_time": "2022-10-11T16:57:19.362Z"
   },
   {
    "duration": 105,
    "start_time": "2022-10-11T16:57:19.378Z"
   },
   {
    "duration": 5,
    "start_time": "2022-10-11T16:57:19.485Z"
   },
   {
    "duration": 13,
    "start_time": "2022-10-11T16:57:19.505Z"
   },
   {
    "duration": 6,
    "start_time": "2022-10-11T16:57:19.520Z"
   },
   {
    "duration": 8,
    "start_time": "2022-10-11T16:57:19.527Z"
   },
   {
    "duration": 11,
    "start_time": "2022-10-11T16:57:19.537Z"
   },
   {
    "duration": 24,
    "start_time": "2022-10-11T16:57:19.549Z"
   },
   {
    "duration": 11,
    "start_time": "2022-10-11T16:57:19.575Z"
   },
   {
    "duration": 13,
    "start_time": "2022-10-11T16:57:19.588Z"
   },
   {
    "duration": 15,
    "start_time": "2022-10-11T16:57:19.602Z"
   },
   {
    "duration": 17,
    "start_time": "2022-10-11T16:57:19.619Z"
   },
   {
    "duration": 13,
    "start_time": "2022-10-11T16:57:19.637Z"
   },
   {
    "duration": 1146,
    "start_time": "2022-10-11T17:00:23.389Z"
   },
   {
    "duration": 150,
    "start_time": "2022-10-11T17:00:24.537Z"
   },
   {
    "duration": 12,
    "start_time": "2022-10-11T17:00:24.689Z"
   },
   {
    "duration": 18,
    "start_time": "2022-10-11T17:00:24.704Z"
   },
   {
    "duration": 2,
    "start_time": "2022-10-11T17:00:24.724Z"
   },
   {
    "duration": 29,
    "start_time": "2022-10-11T17:00:24.728Z"
   },
   {
    "duration": 245,
    "start_time": "2022-10-11T17:00:24.758Z"
   },
   {
    "duration": 14,
    "start_time": "2022-10-11T17:00:25.005Z"
   },
   {
    "duration": 8,
    "start_time": "2022-10-11T17:00:25.021Z"
   },
   {
    "duration": 18,
    "start_time": "2022-10-11T17:00:25.031Z"
   },
   {
    "duration": 8,
    "start_time": "2022-10-11T17:00:25.051Z"
   },
   {
    "duration": 33,
    "start_time": "2022-10-11T17:00:25.060Z"
   },
   {
    "duration": 18,
    "start_time": "2022-10-11T17:00:25.095Z"
   },
   {
    "duration": 582,
    "start_time": "2022-10-11T17:00:25.114Z"
   },
   {
    "duration": 278,
    "start_time": "2022-10-11T17:00:25.698Z"
   },
   {
    "duration": 631,
    "start_time": "2022-10-11T17:00:25.977Z"
   },
   {
    "duration": 17,
    "start_time": "2022-10-11T17:00:26.609Z"
   },
   {
    "duration": 16,
    "start_time": "2022-10-11T17:00:26.628Z"
   },
   {
    "duration": 63,
    "start_time": "2022-10-11T17:00:26.646Z"
   },
   {
    "duration": 19,
    "start_time": "2022-10-11T17:00:26.711Z"
   },
   {
    "duration": 62,
    "start_time": "2022-10-11T17:00:26.731Z"
   },
   {
    "duration": 117,
    "start_time": "2022-10-11T17:00:26.795Z"
   },
   {
    "duration": 478,
    "start_time": "2022-10-11T17:00:26.914Z"
   },
   {
    "duration": 10,
    "start_time": "2022-10-11T17:00:27.394Z"
   },
   {
    "duration": 118,
    "start_time": "2022-10-11T17:00:27.406Z"
   },
   {
    "duration": 59,
    "start_time": "2022-10-11T17:00:27.526Z"
   },
   {
    "duration": 51,
    "start_time": "2022-10-11T17:00:27.587Z"
   },
   {
    "duration": 63,
    "start_time": "2022-10-11T17:00:27.642Z"
   },
   {
    "duration": 7,
    "start_time": "2022-10-11T17:00:27.706Z"
   },
   {
    "duration": 6,
    "start_time": "2022-10-11T17:00:27.714Z"
   },
   {
    "duration": 9,
    "start_time": "2022-10-11T17:00:27.722Z"
   },
   {
    "duration": 6,
    "start_time": "2022-10-11T17:00:27.732Z"
   },
   {
    "duration": 6,
    "start_time": "2022-10-11T17:00:27.739Z"
   },
   {
    "duration": 7,
    "start_time": "2022-10-11T17:00:27.746Z"
   },
   {
    "duration": 32,
    "start_time": "2022-10-11T17:00:27.754Z"
   },
   {
    "duration": 60,
    "start_time": "2022-10-11T17:00:27.788Z"
   },
   {
    "duration": 5,
    "start_time": "2022-10-11T17:00:27.850Z"
   },
   {
    "duration": 10,
    "start_time": "2022-10-11T17:00:27.856Z"
   },
   {
    "duration": 18,
    "start_time": "2022-10-11T17:00:27.868Z"
   },
   {
    "duration": 5,
    "start_time": "2022-10-11T17:00:27.888Z"
   },
   {
    "duration": 7,
    "start_time": "2022-10-11T17:00:27.895Z"
   },
   {
    "duration": 7,
    "start_time": "2022-10-11T17:00:27.904Z"
   },
   {
    "duration": 9,
    "start_time": "2022-10-11T17:00:27.912Z"
   },
   {
    "duration": 8,
    "start_time": "2022-10-11T17:00:27.922Z"
   },
   {
    "duration": 10,
    "start_time": "2022-10-11T17:00:27.931Z"
   },
   {
    "duration": 5,
    "start_time": "2022-10-11T17:00:27.943Z"
   },
   {
    "duration": 122,
    "start_time": "2022-10-11T17:00:27.950Z"
   },
   {
    "duration": 5,
    "start_time": "2022-10-11T17:00:28.074Z"
   },
   {
    "duration": 5,
    "start_time": "2022-10-11T17:00:28.085Z"
   },
   {
    "duration": 7,
    "start_time": "2022-10-11T17:00:28.092Z"
   },
   {
    "duration": 8,
    "start_time": "2022-10-11T17:00:28.101Z"
   },
   {
    "duration": 9,
    "start_time": "2022-10-11T17:00:28.110Z"
   },
   {
    "duration": 11,
    "start_time": "2022-10-11T17:00:28.121Z"
   },
   {
    "duration": 7,
    "start_time": "2022-10-11T17:00:28.134Z"
   },
   {
    "duration": 7,
    "start_time": "2022-10-11T17:00:28.142Z"
   },
   {
    "duration": 7,
    "start_time": "2022-10-11T17:00:28.151Z"
   },
   {
    "duration": 28,
    "start_time": "2022-10-11T17:00:28.159Z"
   },
   {
    "duration": 14,
    "start_time": "2022-10-11T17:00:28.190Z"
   },
   {
    "duration": 6,
    "start_time": "2022-10-11T17:00:28.206Z"
   },
   {
    "duration": 8,
    "start_time": "2022-10-11T17:00:28.213Z"
   },
   {
    "duration": 10,
    "start_time": "2022-10-11T17:00:28.222Z"
   },
   {
    "duration": 10,
    "start_time": "2022-10-11T17:00:28.234Z"
   },
   {
    "duration": 7,
    "start_time": "2022-10-11T17:00:28.245Z"
   },
   {
    "duration": 1180,
    "start_time": "2022-10-11T17:03:36.750Z"
   },
   {
    "duration": 149,
    "start_time": "2022-10-11T17:03:37.932Z"
   },
   {
    "duration": 12,
    "start_time": "2022-10-11T17:03:38.082Z"
   },
   {
    "duration": 17,
    "start_time": "2022-10-11T17:03:38.096Z"
   },
   {
    "duration": 2,
    "start_time": "2022-10-11T17:03:38.115Z"
   },
   {
    "duration": 27,
    "start_time": "2022-10-11T17:03:38.119Z"
   },
   {
    "duration": 237,
    "start_time": "2022-10-11T17:03:38.148Z"
   },
   {
    "duration": 14,
    "start_time": "2022-10-11T17:03:38.386Z"
   },
   {
    "duration": 11,
    "start_time": "2022-10-11T17:03:38.401Z"
   },
   {
    "duration": 17,
    "start_time": "2022-10-11T17:03:38.414Z"
   },
   {
    "duration": 11,
    "start_time": "2022-10-11T17:03:38.433Z"
   },
   {
    "duration": 9,
    "start_time": "2022-10-11T17:03:38.446Z"
   },
   {
    "duration": 36,
    "start_time": "2022-10-11T17:03:38.456Z"
   },
   {
    "duration": 561,
    "start_time": "2022-10-11T17:03:38.494Z"
   },
   {
    "duration": 274,
    "start_time": "2022-10-11T17:03:39.057Z"
   },
   {
    "duration": 602,
    "start_time": "2022-10-11T17:03:39.333Z"
   },
   {
    "duration": 14,
    "start_time": "2022-10-11T17:03:39.937Z"
   },
   {
    "duration": 16,
    "start_time": "2022-10-11T17:03:39.953Z"
   },
   {
    "duration": 49,
    "start_time": "2022-10-11T17:03:39.971Z"
   },
   {
    "duration": 18,
    "start_time": "2022-10-11T17:03:40.021Z"
   },
   {
    "duration": 64,
    "start_time": "2022-10-11T17:03:40.041Z"
   },
   {
    "duration": 110,
    "start_time": "2022-10-11T17:03:40.107Z"
   },
   {
    "duration": 399,
    "start_time": "2022-10-11T17:03:40.218Z"
   },
   {
    "duration": 9,
    "start_time": "2022-10-11T17:03:40.619Z"
   },
   {
    "duration": 81,
    "start_time": "2022-10-11T17:03:40.630Z"
   },
   {
    "duration": 22,
    "start_time": "2022-10-11T17:03:40.713Z"
   },
   {
    "duration": 88,
    "start_time": "2022-10-11T17:03:40.737Z"
   },
   {
    "duration": 58,
    "start_time": "2022-10-11T17:03:40.828Z"
   },
   {
    "duration": 6,
    "start_time": "2022-10-11T17:03:40.887Z"
   },
   {
    "duration": 13,
    "start_time": "2022-10-11T17:03:40.895Z"
   },
   {
    "duration": 9,
    "start_time": "2022-10-11T17:03:40.910Z"
   },
   {
    "duration": 8,
    "start_time": "2022-10-11T17:03:40.920Z"
   },
   {
    "duration": 7,
    "start_time": "2022-10-11T17:03:40.930Z"
   },
   {
    "duration": 7,
    "start_time": "2022-10-11T17:03:40.939Z"
   },
   {
    "duration": 7,
    "start_time": "2022-10-11T17:03:40.947Z"
   },
   {
    "duration": 59,
    "start_time": "2022-10-11T17:03:40.955Z"
   },
   {
    "duration": 4,
    "start_time": "2022-10-11T17:03:41.016Z"
   },
   {
    "duration": 7,
    "start_time": "2022-10-11T17:03:41.021Z"
   },
   {
    "duration": 12,
    "start_time": "2022-10-11T17:03:41.030Z"
   },
   {
    "duration": 6,
    "start_time": "2022-10-11T17:03:41.044Z"
   },
   {
    "duration": 9,
    "start_time": "2022-10-11T17:03:41.051Z"
   },
   {
    "duration": 12,
    "start_time": "2022-10-11T17:03:41.061Z"
   },
   {
    "duration": 9,
    "start_time": "2022-10-11T17:03:41.084Z"
   },
   {
    "duration": 9,
    "start_time": "2022-10-11T17:03:41.095Z"
   },
   {
    "duration": 6,
    "start_time": "2022-10-11T17:03:41.105Z"
   },
   {
    "duration": 5,
    "start_time": "2022-10-11T17:03:41.113Z"
   },
   {
    "duration": 103,
    "start_time": "2022-10-11T17:03:41.120Z"
   },
   {
    "duration": 4,
    "start_time": "2022-10-11T17:03:41.225Z"
   },
   {
    "duration": 9,
    "start_time": "2022-10-11T17:03:41.230Z"
   },
   {
    "duration": 9,
    "start_time": "2022-10-11T17:03:41.240Z"
   },
   {
    "duration": 7,
    "start_time": "2022-10-11T17:03:41.250Z"
   },
   {
    "duration": 9,
    "start_time": "2022-10-11T17:03:41.259Z"
   },
   {
    "duration": 17,
    "start_time": "2022-10-11T17:03:41.270Z"
   },
   {
    "duration": 11,
    "start_time": "2022-10-11T17:03:41.288Z"
   },
   {
    "duration": 20,
    "start_time": "2022-10-11T17:03:41.300Z"
   },
   {
    "duration": 7,
    "start_time": "2022-10-11T17:03:41.321Z"
   },
   {
    "duration": 8,
    "start_time": "2022-10-11T17:03:41.330Z"
   },
   {
    "duration": 13,
    "start_time": "2022-10-11T17:03:41.339Z"
   },
   {
    "duration": 9,
    "start_time": "2022-10-11T17:03:41.353Z"
   },
   {
    "duration": 9,
    "start_time": "2022-10-11T17:03:41.363Z"
   },
   {
    "duration": 6,
    "start_time": "2022-10-11T17:03:41.373Z"
   },
   {
    "duration": 8,
    "start_time": "2022-10-11T17:03:41.380Z"
   },
   {
    "duration": 8,
    "start_time": "2022-10-11T17:03:41.389Z"
   },
   {
    "duration": 9,
    "start_time": "2022-10-11T17:03:41.399Z"
   },
   {
    "duration": 8,
    "start_time": "2022-10-11T17:03:41.410Z"
   },
   {
    "duration": 14,
    "start_time": "2022-10-11T17:03:41.419Z"
   },
   {
    "duration": 13,
    "start_time": "2022-10-11T17:03:41.435Z"
   },
   {
    "duration": 12,
    "start_time": "2022-10-11T17:03:41.449Z"
   },
   {
    "duration": 1134,
    "start_time": "2022-10-11T17:06:07.485Z"
   },
   {
    "duration": 140,
    "start_time": "2022-10-11T17:06:08.622Z"
   },
   {
    "duration": 12,
    "start_time": "2022-10-11T17:06:08.764Z"
   },
   {
    "duration": 18,
    "start_time": "2022-10-11T17:06:08.786Z"
   },
   {
    "duration": 3,
    "start_time": "2022-10-11T17:06:08.805Z"
   },
   {
    "duration": 23,
    "start_time": "2022-10-11T17:06:08.810Z"
   },
   {
    "duration": 238,
    "start_time": "2022-10-11T17:06:08.834Z"
   },
   {
    "duration": 23,
    "start_time": "2022-10-11T17:06:09.074Z"
   },
   {
    "duration": 10,
    "start_time": "2022-10-11T17:06:09.099Z"
   },
   {
    "duration": 23,
    "start_time": "2022-10-11T17:06:09.113Z"
   },
   {
    "duration": 7,
    "start_time": "2022-10-11T17:06:09.138Z"
   },
   {
    "duration": 9,
    "start_time": "2022-10-11T17:06:09.146Z"
   },
   {
    "duration": 42,
    "start_time": "2022-10-11T17:06:09.157Z"
   },
   {
    "duration": 586,
    "start_time": "2022-10-11T17:06:09.200Z"
   },
   {
    "duration": 269,
    "start_time": "2022-10-11T17:06:09.788Z"
   },
   {
    "duration": 607,
    "start_time": "2022-10-11T17:06:10.058Z"
   },
   {
    "duration": 23,
    "start_time": "2022-10-11T17:06:10.666Z"
   },
   {
    "duration": 15,
    "start_time": "2022-10-11T17:06:10.690Z"
   },
   {
    "duration": 36,
    "start_time": "2022-10-11T17:06:10.707Z"
   },
   {
    "duration": 41,
    "start_time": "2022-10-11T17:06:10.745Z"
   },
   {
    "duration": 45,
    "start_time": "2022-10-11T17:06:10.787Z"
   },
   {
    "duration": 106,
    "start_time": "2022-10-11T17:06:10.834Z"
   },
   {
    "duration": 397,
    "start_time": "2022-10-11T17:06:10.942Z"
   },
   {
    "duration": 9,
    "start_time": "2022-10-11T17:06:11.340Z"
   },
   {
    "duration": 79,
    "start_time": "2022-10-11T17:06:11.351Z"
   },
   {
    "duration": 66,
    "start_time": "2022-10-11T17:06:11.431Z"
   },
   {
    "duration": 54,
    "start_time": "2022-10-11T17:06:11.498Z"
   },
   {
    "duration": 70,
    "start_time": "2022-10-11T17:06:11.555Z"
   },
   {
    "duration": 7,
    "start_time": "2022-10-11T17:06:11.627Z"
   },
   {
    "duration": 11,
    "start_time": "2022-10-11T17:06:11.636Z"
   },
   {
    "duration": 16,
    "start_time": "2022-10-11T17:06:11.649Z"
   },
   {
    "duration": 8,
    "start_time": "2022-10-11T17:06:11.667Z"
   },
   {
    "duration": 10,
    "start_time": "2022-10-11T17:06:11.676Z"
   },
   {
    "duration": 7,
    "start_time": "2022-10-11T17:06:11.687Z"
   },
   {
    "duration": 5,
    "start_time": "2022-10-11T17:06:11.696Z"
   },
   {
    "duration": 56,
    "start_time": "2022-10-11T17:06:11.702Z"
   },
   {
    "duration": 5,
    "start_time": "2022-10-11T17:06:11.760Z"
   },
   {
    "duration": 4,
    "start_time": "2022-10-11T17:06:11.786Z"
   },
   {
    "duration": 12,
    "start_time": "2022-10-11T17:06:11.792Z"
   },
   {
    "duration": 17,
    "start_time": "2022-10-11T17:06:11.805Z"
   },
   {
    "duration": 7,
    "start_time": "2022-10-11T17:06:11.823Z"
   },
   {
    "duration": 10,
    "start_time": "2022-10-11T17:06:11.831Z"
   },
   {
    "duration": 8,
    "start_time": "2022-10-11T17:06:11.843Z"
   },
   {
    "duration": 11,
    "start_time": "2022-10-11T17:06:11.852Z"
   },
   {
    "duration": 9,
    "start_time": "2022-10-11T17:06:11.864Z"
   },
   {
    "duration": 11,
    "start_time": "2022-10-11T17:06:11.875Z"
   },
   {
    "duration": 99,
    "start_time": "2022-10-11T17:06:11.887Z"
   },
   {
    "duration": 5,
    "start_time": "2022-10-11T17:06:11.987Z"
   },
   {
    "duration": 8,
    "start_time": "2022-10-11T17:06:11.993Z"
   },
   {
    "duration": 8,
    "start_time": "2022-10-11T17:06:12.002Z"
   },
   {
    "duration": 6,
    "start_time": "2022-10-11T17:06:12.012Z"
   },
   {
    "duration": 9,
    "start_time": "2022-10-11T17:06:12.020Z"
   },
   {
    "duration": 9,
    "start_time": "2022-10-11T17:06:12.030Z"
   },
   {
    "duration": 7,
    "start_time": "2022-10-11T17:06:12.041Z"
   },
   {
    "duration": 7,
    "start_time": "2022-10-11T17:06:12.050Z"
   },
   {
    "duration": 7,
    "start_time": "2022-10-11T17:06:12.058Z"
   },
   {
    "duration": 9,
    "start_time": "2022-10-11T17:06:12.084Z"
   },
   {
    "duration": 6,
    "start_time": "2022-10-11T17:06:12.095Z"
   },
   {
    "duration": 5,
    "start_time": "2022-10-11T17:06:12.103Z"
   },
   {
    "duration": 6,
    "start_time": "2022-10-11T17:06:12.110Z"
   },
   {
    "duration": 5,
    "start_time": "2022-10-11T17:06:12.118Z"
   },
   {
    "duration": 13,
    "start_time": "2022-10-11T17:06:12.124Z"
   },
   {
    "duration": 14,
    "start_time": "2022-10-11T17:06:12.139Z"
   },
   {
    "duration": 17,
    "start_time": "2022-10-11T17:06:12.155Z"
   },
   {
    "duration": 13,
    "start_time": "2022-10-11T17:06:12.173Z"
   },
   {
    "duration": 6,
    "start_time": "2022-10-11T17:06:12.187Z"
   },
   {
    "duration": 6,
    "start_time": "2022-10-11T17:06:12.195Z"
   },
   {
    "duration": 8,
    "start_time": "2022-10-11T17:06:12.202Z"
   },
   {
    "duration": 7,
    "start_time": "2022-10-11T17:06:12.212Z"
   },
   {
    "duration": 5,
    "start_time": "2022-10-11T17:06:12.220Z"
   },
   {
    "duration": 6,
    "start_time": "2022-10-11T17:06:12.227Z"
   },
   {
    "duration": 7,
    "start_time": "2022-10-11T17:06:12.234Z"
   },
   {
    "duration": 10,
    "start_time": "2022-10-11T17:06:12.242Z"
   },
   {
    "duration": 1096,
    "start_time": "2022-10-11T17:11:18.621Z"
   },
   {
    "duration": 153,
    "start_time": "2022-10-11T17:11:19.719Z"
   },
   {
    "duration": 14,
    "start_time": "2022-10-11T17:11:19.874Z"
   },
   {
    "duration": 32,
    "start_time": "2022-10-11T17:11:19.890Z"
   },
   {
    "duration": 12,
    "start_time": "2022-10-11T17:11:19.923Z"
   },
   {
    "duration": 60,
    "start_time": "2022-10-11T17:11:19.936Z"
   },
   {
    "duration": 234,
    "start_time": "2022-10-11T17:11:19.997Z"
   },
   {
    "duration": 13,
    "start_time": "2022-10-11T17:11:20.233Z"
   },
   {
    "duration": 32,
    "start_time": "2022-10-11T17:11:20.247Z"
   },
   {
    "duration": 20,
    "start_time": "2022-10-11T17:11:20.282Z"
   },
   {
    "duration": 6,
    "start_time": "2022-10-11T17:11:20.304Z"
   },
   {
    "duration": 9,
    "start_time": "2022-10-11T17:11:20.312Z"
   },
   {
    "duration": 19,
    "start_time": "2022-10-11T17:11:20.323Z"
   },
   {
    "duration": 564,
    "start_time": "2022-10-11T17:11:20.344Z"
   },
   {
    "duration": 257,
    "start_time": "2022-10-11T17:11:20.910Z"
   },
   {
    "duration": 585,
    "start_time": "2022-10-11T17:11:21.168Z"
   },
   {
    "duration": 15,
    "start_time": "2022-10-11T17:11:21.755Z"
   },
   {
    "duration": 45,
    "start_time": "2022-10-11T17:11:21.772Z"
   },
   {
    "duration": 53,
    "start_time": "2022-10-11T17:11:21.819Z"
   },
   {
    "duration": 25,
    "start_time": "2022-10-11T17:11:21.873Z"
   },
   {
    "duration": 79,
    "start_time": "2022-10-11T17:11:21.900Z"
   },
   {
    "duration": 104,
    "start_time": "2022-10-11T17:11:21.980Z"
   },
   {
    "duration": 398,
    "start_time": "2022-10-11T17:11:22.086Z"
   },
   {
    "duration": 10,
    "start_time": "2022-10-11T17:11:22.486Z"
   },
   {
    "duration": 122,
    "start_time": "2022-10-11T17:11:22.498Z"
   },
   {
    "duration": 24,
    "start_time": "2022-10-11T17:11:22.622Z"
   },
   {
    "duration": 60,
    "start_time": "2022-10-11T17:11:22.648Z"
   },
   {
    "duration": 48,
    "start_time": "2022-10-11T17:11:22.711Z"
   },
   {
    "duration": 6,
    "start_time": "2022-10-11T17:11:22.760Z"
   },
   {
    "duration": 28,
    "start_time": "2022-10-11T17:11:22.767Z"
   },
   {
    "duration": 45,
    "start_time": "2022-10-11T17:11:22.796Z"
   },
   {
    "duration": 41,
    "start_time": "2022-10-11T17:11:22.843Z"
   },
   {
    "duration": 34,
    "start_time": "2022-10-11T17:11:22.886Z"
   },
   {
    "duration": 30,
    "start_time": "2022-10-11T17:11:22.921Z"
   },
   {
    "duration": 27,
    "start_time": "2022-10-11T17:11:22.953Z"
   },
   {
    "duration": 125,
    "start_time": "2022-10-11T17:11:22.981Z"
   },
   {
    "duration": 5,
    "start_time": "2022-10-11T17:11:23.107Z"
   },
   {
    "duration": 47,
    "start_time": "2022-10-11T17:11:23.113Z"
   },
   {
    "duration": 38,
    "start_time": "2022-10-11T17:11:23.162Z"
   },
   {
    "duration": 36,
    "start_time": "2022-10-11T17:11:23.202Z"
   },
   {
    "duration": 61,
    "start_time": "2022-10-11T17:11:23.239Z"
   },
   {
    "duration": 28,
    "start_time": "2022-10-11T17:11:23.301Z"
   },
   {
    "duration": 31,
    "start_time": "2022-10-11T17:11:23.331Z"
   },
   {
    "duration": 43,
    "start_time": "2022-10-11T17:11:23.363Z"
   },
   {
    "duration": 61,
    "start_time": "2022-10-11T17:11:23.407Z"
   },
   {
    "duration": 61,
    "start_time": "2022-10-11T17:11:23.469Z"
   },
   {
    "duration": 128,
    "start_time": "2022-10-11T17:11:23.531Z"
   },
   {
    "duration": 4,
    "start_time": "2022-10-11T17:11:23.660Z"
   },
   {
    "duration": 16,
    "start_time": "2022-10-11T17:11:23.665Z"
   },
   {
    "duration": 21,
    "start_time": "2022-10-11T17:11:23.682Z"
   },
   {
    "duration": 28,
    "start_time": "2022-10-11T17:11:23.704Z"
   },
   {
    "duration": 18,
    "start_time": "2022-10-11T17:11:23.734Z"
   },
   {
    "duration": 25,
    "start_time": "2022-10-11T17:11:23.754Z"
   },
   {
    "duration": 27,
    "start_time": "2022-10-11T17:11:23.780Z"
   },
   {
    "duration": 14,
    "start_time": "2022-10-11T17:11:23.809Z"
   },
   {
    "duration": 20,
    "start_time": "2022-10-11T17:11:23.825Z"
   },
   {
    "duration": 26,
    "start_time": "2022-10-11T17:11:23.847Z"
   },
   {
    "duration": 11,
    "start_time": "2022-10-11T17:11:23.874Z"
   },
   {
    "duration": 21,
    "start_time": "2022-10-11T17:11:23.886Z"
   },
   {
    "duration": 16,
    "start_time": "2022-10-11T17:11:23.908Z"
   },
   {
    "duration": 8,
    "start_time": "2022-10-11T17:11:23.926Z"
   },
   {
    "duration": 7,
    "start_time": "2022-10-11T17:11:23.935Z"
   },
   {
    "duration": 6,
    "start_time": "2022-10-11T17:11:23.944Z"
   },
   {
    "duration": 7,
    "start_time": "2022-10-11T17:11:23.951Z"
   },
   {
    "duration": 10,
    "start_time": "2022-10-11T17:11:23.960Z"
   },
   {
    "duration": 6,
    "start_time": "2022-10-11T17:11:23.971Z"
   },
   {
    "duration": 7,
    "start_time": "2022-10-11T17:11:23.978Z"
   },
   {
    "duration": 7,
    "start_time": "2022-10-11T17:11:23.986Z"
   },
   {
    "duration": 6,
    "start_time": "2022-10-11T17:11:23.994Z"
   },
   {
    "duration": 7,
    "start_time": "2022-10-11T17:11:24.001Z"
   },
   {
    "duration": 9,
    "start_time": "2022-10-11T17:11:24.009Z"
   },
   {
    "duration": 8,
    "start_time": "2022-10-11T17:11:24.020Z"
   },
   {
    "duration": 11,
    "start_time": "2022-10-11T17:11:24.030Z"
   },
   {
    "duration": 1095,
    "start_time": "2022-10-11T17:31:47.315Z"
   },
   {
    "duration": 143,
    "start_time": "2022-10-11T17:31:48.412Z"
   },
   {
    "duration": 12,
    "start_time": "2022-10-11T17:31:48.556Z"
   },
   {
    "duration": 28,
    "start_time": "2022-10-11T17:31:48.570Z"
   },
   {
    "duration": 2,
    "start_time": "2022-10-11T17:31:48.600Z"
   },
   {
    "duration": 28,
    "start_time": "2022-10-11T17:31:48.603Z"
   },
   {
    "duration": 228,
    "start_time": "2022-10-11T17:31:48.633Z"
   },
   {
    "duration": 22,
    "start_time": "2022-10-11T17:31:48.863Z"
   },
   {
    "duration": 8,
    "start_time": "2022-10-11T17:31:48.887Z"
   },
   {
    "duration": 17,
    "start_time": "2022-10-11T17:31:48.898Z"
   },
   {
    "duration": 6,
    "start_time": "2022-10-11T17:31:48.917Z"
   },
   {
    "duration": 10,
    "start_time": "2022-10-11T17:31:48.924Z"
   },
   {
    "duration": 20,
    "start_time": "2022-10-11T17:31:48.935Z"
   },
   {
    "duration": 594,
    "start_time": "2022-10-11T17:31:48.957Z"
   },
   {
    "duration": 266,
    "start_time": "2022-10-11T17:31:49.553Z"
   },
   {
    "duration": 612,
    "start_time": "2022-10-11T17:31:49.821Z"
   },
   {
    "duration": 15,
    "start_time": "2022-10-11T17:31:50.435Z"
   },
   {
    "duration": 34,
    "start_time": "2022-10-11T17:31:50.451Z"
   },
   {
    "duration": 37,
    "start_time": "2022-10-11T17:31:50.487Z"
   },
   {
    "duration": 18,
    "start_time": "2022-10-11T17:31:50.526Z"
   },
   {
    "duration": 60,
    "start_time": "2022-10-11T17:31:50.545Z"
   },
   {
    "duration": 102,
    "start_time": "2022-10-11T17:31:50.606Z"
   },
   {
    "duration": 401,
    "start_time": "2022-10-11T17:31:50.709Z"
   },
   {
    "duration": 9,
    "start_time": "2022-10-11T17:31:51.112Z"
   },
   {
    "duration": 91,
    "start_time": "2022-10-11T17:31:51.122Z"
   },
   {
    "duration": 24,
    "start_time": "2022-10-11T17:31:51.214Z"
   },
   {
    "duration": 81,
    "start_time": "2022-10-11T17:31:51.239Z"
   },
   {
    "duration": 46,
    "start_time": "2022-10-11T17:31:51.324Z"
   },
   {
    "duration": 17,
    "start_time": "2022-10-11T17:31:51.372Z"
   },
   {
    "duration": 12,
    "start_time": "2022-10-11T17:31:51.390Z"
   },
   {
    "duration": 12,
    "start_time": "2022-10-11T17:31:51.403Z"
   },
   {
    "duration": 11,
    "start_time": "2022-10-11T17:31:51.416Z"
   },
   {
    "duration": 15,
    "start_time": "2022-10-11T17:31:51.428Z"
   },
   {
    "duration": 22,
    "start_time": "2022-10-11T17:31:51.444Z"
   },
   {
    "duration": 16,
    "start_time": "2022-10-11T17:31:51.468Z"
   },
   {
    "duration": 59,
    "start_time": "2022-10-11T17:31:51.485Z"
   },
   {
    "duration": 5,
    "start_time": "2022-10-11T17:31:51.545Z"
   },
   {
    "duration": 8,
    "start_time": "2022-10-11T17:31:51.551Z"
   },
   {
    "duration": 6,
    "start_time": "2022-10-11T17:31:51.560Z"
   },
   {
    "duration": 18,
    "start_time": "2022-10-11T17:31:51.567Z"
   },
   {
    "duration": 5,
    "start_time": "2022-10-11T17:31:51.587Z"
   },
   {
    "duration": 12,
    "start_time": "2022-10-11T17:31:51.594Z"
   },
   {
    "duration": 12,
    "start_time": "2022-10-11T17:31:51.608Z"
   },
   {
    "duration": 11,
    "start_time": "2022-10-11T17:31:51.622Z"
   },
   {
    "duration": 10,
    "start_time": "2022-10-11T17:31:51.635Z"
   },
   {
    "duration": 8,
    "start_time": "2022-10-11T17:31:51.646Z"
   },
   {
    "duration": 91,
    "start_time": "2022-10-11T17:31:51.656Z"
   },
   {
    "duration": 4,
    "start_time": "2022-10-11T17:31:51.749Z"
   },
   {
    "duration": 13,
    "start_time": "2022-10-11T17:31:51.754Z"
   },
   {
    "duration": 7,
    "start_time": "2022-10-11T17:31:51.769Z"
   },
   {
    "duration": 18,
    "start_time": "2022-10-11T17:31:51.777Z"
   },
   {
    "duration": 17,
    "start_time": "2022-10-11T17:31:51.797Z"
   },
   {
    "duration": 13,
    "start_time": "2022-10-11T17:31:51.816Z"
   },
   {
    "duration": 30,
    "start_time": "2022-10-11T17:31:51.831Z"
   },
   {
    "duration": 34,
    "start_time": "2022-10-11T17:31:51.862Z"
   },
   {
    "duration": 17,
    "start_time": "2022-10-11T17:31:51.898Z"
   },
   {
    "duration": 30,
    "start_time": "2022-10-11T17:31:51.917Z"
   },
   {
    "duration": 18,
    "start_time": "2022-10-11T17:31:51.948Z"
   },
   {
    "duration": 15,
    "start_time": "2022-10-11T17:31:51.967Z"
   },
   {
    "duration": 19,
    "start_time": "2022-10-11T17:31:51.984Z"
   },
   {
    "duration": 11,
    "start_time": "2022-10-11T17:31:52.005Z"
   },
   {
    "duration": 10,
    "start_time": "2022-10-11T17:31:52.017Z"
   },
   {
    "duration": 6,
    "start_time": "2022-10-11T17:31:52.029Z"
   },
   {
    "duration": 7,
    "start_time": "2022-10-11T17:31:52.036Z"
   },
   {
    "duration": 11,
    "start_time": "2022-10-11T17:31:52.044Z"
   },
   {
    "duration": 7,
    "start_time": "2022-10-11T17:31:52.056Z"
   },
   {
    "duration": 8,
    "start_time": "2022-10-11T17:31:52.064Z"
   },
   {
    "duration": 10,
    "start_time": "2022-10-11T17:31:52.073Z"
   },
   {
    "duration": 18,
    "start_time": "2022-10-11T17:31:52.084Z"
   },
   {
    "duration": 6,
    "start_time": "2022-10-11T17:31:52.104Z"
   },
   {
    "duration": 7,
    "start_time": "2022-10-11T17:31:52.111Z"
   },
   {
    "duration": 12,
    "start_time": "2022-10-11T17:31:52.119Z"
   },
   {
    "duration": 9,
    "start_time": "2022-10-11T17:31:52.133Z"
   },
   {
    "duration": 87,
    "start_time": "2022-10-11T17:36:04.943Z"
   },
   {
    "duration": 1197,
    "start_time": "2022-10-11T17:39:28.442Z"
   },
   {
    "duration": 156,
    "start_time": "2022-10-11T17:39:29.641Z"
   },
   {
    "duration": 14,
    "start_time": "2022-10-11T17:39:29.799Z"
   },
   {
    "duration": 21,
    "start_time": "2022-10-11T17:39:29.815Z"
   },
   {
    "duration": 2,
    "start_time": "2022-10-11T17:39:29.837Z"
   },
   {
    "duration": 24,
    "start_time": "2022-10-11T17:39:29.841Z"
   },
   {
    "duration": 260,
    "start_time": "2022-10-11T17:39:29.867Z"
   },
   {
    "duration": 13,
    "start_time": "2022-10-11T17:39:30.128Z"
   },
   {
    "duration": 14,
    "start_time": "2022-10-11T17:39:30.142Z"
   },
   {
    "duration": 36,
    "start_time": "2022-10-11T17:39:30.159Z"
   },
   {
    "duration": 8,
    "start_time": "2022-10-11T17:39:30.197Z"
   },
   {
    "duration": 18,
    "start_time": "2022-10-11T17:39:30.206Z"
   },
   {
    "duration": 26,
    "start_time": "2022-10-11T17:39:30.226Z"
   },
   {
    "duration": 656,
    "start_time": "2022-10-11T17:39:30.254Z"
   },
   {
    "duration": 288,
    "start_time": "2022-10-11T17:39:30.911Z"
   },
   {
    "duration": 674,
    "start_time": "2022-10-11T17:39:31.201Z"
   },
   {
    "duration": 19,
    "start_time": "2022-10-11T17:39:31.876Z"
   },
   {
    "duration": 32,
    "start_time": "2022-10-11T17:39:31.897Z"
   },
   {
    "duration": 37,
    "start_time": "2022-10-11T17:39:31.931Z"
   },
   {
    "duration": 34,
    "start_time": "2022-10-11T17:39:31.970Z"
   },
   {
    "duration": 56,
    "start_time": "2022-10-11T17:39:32.006Z"
   },
   {
    "duration": 111,
    "start_time": "2022-10-11T17:39:32.063Z"
   },
   {
    "duration": 455,
    "start_time": "2022-10-11T17:39:32.184Z"
   },
   {
    "duration": 12,
    "start_time": "2022-10-11T17:39:32.640Z"
   },
   {
    "duration": 73,
    "start_time": "2022-10-11T17:39:32.654Z"
   },
   {
    "duration": 75,
    "start_time": "2022-10-11T17:39:32.729Z"
   },
   {
    "duration": 50,
    "start_time": "2022-10-11T17:39:32.805Z"
   },
   {
    "duration": 74,
    "start_time": "2022-10-11T17:39:32.859Z"
   },
   {
    "duration": 8,
    "start_time": "2022-10-11T17:39:32.935Z"
   },
   {
    "duration": 5,
    "start_time": "2022-10-11T17:39:32.945Z"
   },
   {
    "duration": 9,
    "start_time": "2022-10-11T17:39:32.952Z"
   },
   {
    "duration": 6,
    "start_time": "2022-10-11T17:39:32.962Z"
   },
   {
    "duration": 23,
    "start_time": "2022-10-11T17:39:32.970Z"
   },
   {
    "duration": 14,
    "start_time": "2022-10-11T17:39:32.995Z"
   },
   {
    "duration": 7,
    "start_time": "2022-10-11T17:39:33.011Z"
   },
   {
    "duration": 55,
    "start_time": "2022-10-11T17:39:33.019Z"
   },
   {
    "duration": 5,
    "start_time": "2022-10-11T17:39:33.075Z"
   },
   {
    "duration": 21,
    "start_time": "2022-10-11T17:39:33.084Z"
   },
   {
    "duration": 8,
    "start_time": "2022-10-11T17:39:33.107Z"
   },
   {
    "duration": 13,
    "start_time": "2022-10-11T17:39:33.117Z"
   },
   {
    "duration": 14,
    "start_time": "2022-10-11T17:39:33.132Z"
   },
   {
    "duration": 8,
    "start_time": "2022-10-11T17:39:33.147Z"
   },
   {
    "duration": 10,
    "start_time": "2022-10-11T17:39:33.156Z"
   },
   {
    "duration": 11,
    "start_time": "2022-10-11T17:39:33.167Z"
   },
   {
    "duration": 24,
    "start_time": "2022-10-11T17:39:33.179Z"
   },
   {
    "duration": 7,
    "start_time": "2022-10-11T17:39:33.205Z"
   },
   {
    "duration": 108,
    "start_time": "2022-10-11T17:39:33.214Z"
   },
   {
    "duration": 5,
    "start_time": "2022-10-11T17:39:33.324Z"
   },
   {
    "duration": 9,
    "start_time": "2022-10-11T17:39:33.330Z"
   },
   {
    "duration": 7,
    "start_time": "2022-10-11T17:39:33.341Z"
   },
   {
    "duration": 8,
    "start_time": "2022-10-11T17:39:33.350Z"
   },
   {
    "duration": 9,
    "start_time": "2022-10-11T17:39:33.359Z"
   },
   {
    "duration": 6,
    "start_time": "2022-10-11T17:39:33.386Z"
   },
   {
    "duration": 23,
    "start_time": "2022-10-11T17:39:33.393Z"
   },
   {
    "duration": 10,
    "start_time": "2022-10-11T17:39:33.418Z"
   },
   {
    "duration": 10,
    "start_time": "2022-10-11T17:39:33.430Z"
   },
   {
    "duration": 10,
    "start_time": "2022-10-11T17:39:33.441Z"
   },
   {
    "duration": 7,
    "start_time": "2022-10-11T17:39:33.452Z"
   },
   {
    "duration": 9,
    "start_time": "2022-10-11T17:39:33.461Z"
   },
   {
    "duration": 13,
    "start_time": "2022-10-11T17:39:33.472Z"
   },
   {
    "duration": 24,
    "start_time": "2022-10-11T17:39:33.486Z"
   },
   {
    "duration": 7,
    "start_time": "2022-10-11T17:39:33.512Z"
   },
   {
    "duration": 7,
    "start_time": "2022-10-11T17:39:33.520Z"
   },
   {
    "duration": 6,
    "start_time": "2022-10-11T17:39:33.528Z"
   },
   {
    "duration": 7,
    "start_time": "2022-10-11T17:39:33.536Z"
   },
   {
    "duration": 8,
    "start_time": "2022-10-11T17:39:33.544Z"
   },
   {
    "duration": 6,
    "start_time": "2022-10-11T17:39:33.553Z"
   },
   {
    "duration": 10,
    "start_time": "2022-10-11T17:39:33.561Z"
   },
   {
    "duration": 16,
    "start_time": "2022-10-11T17:39:33.572Z"
   },
   {
    "duration": 15,
    "start_time": "2022-10-11T17:39:33.592Z"
   },
   {
    "duration": 24,
    "start_time": "2022-10-11T17:39:33.609Z"
   },
   {
    "duration": 13,
    "start_time": "2022-10-11T17:39:33.634Z"
   },
   {
    "duration": 8,
    "start_time": "2022-10-11T17:39:33.649Z"
   },
   {
    "duration": 1255,
    "start_time": "2022-10-11T17:42:59.315Z"
   },
   {
    "duration": 190,
    "start_time": "2022-10-11T17:43:00.573Z"
   },
   {
    "duration": 24,
    "start_time": "2022-10-11T17:43:00.768Z"
   },
   {
    "duration": 46,
    "start_time": "2022-10-11T17:43:00.794Z"
   },
   {
    "duration": 24,
    "start_time": "2022-10-11T17:43:00.843Z"
   },
   {
    "duration": 76,
    "start_time": "2022-10-11T17:43:00.870Z"
   },
   {
    "duration": 274,
    "start_time": "2022-10-11T17:43:00.949Z"
   },
   {
    "duration": 18,
    "start_time": "2022-10-11T17:43:01.225Z"
   },
   {
    "duration": 10,
    "start_time": "2022-10-11T17:43:01.246Z"
   },
   {
    "duration": 42,
    "start_time": "2022-10-11T17:43:01.258Z"
   },
   {
    "duration": 8,
    "start_time": "2022-10-11T17:43:01.302Z"
   },
   {
    "duration": 12,
    "start_time": "2022-10-11T17:43:01.311Z"
   },
   {
    "duration": 40,
    "start_time": "2022-10-11T17:43:01.325Z"
   },
   {
    "duration": 811,
    "start_time": "2022-10-11T17:43:01.367Z"
   },
   {
    "duration": 356,
    "start_time": "2022-10-11T17:43:02.180Z"
   },
   {
    "duration": 755,
    "start_time": "2022-10-11T17:43:02.538Z"
   },
   {
    "duration": 23,
    "start_time": "2022-10-11T17:43:03.295Z"
   },
   {
    "duration": 18,
    "start_time": "2022-10-11T17:43:03.320Z"
   },
   {
    "duration": 84,
    "start_time": "2022-10-11T17:43:03.341Z"
   },
   {
    "duration": 22,
    "start_time": "2022-10-11T17:43:03.427Z"
   },
   {
    "duration": 76,
    "start_time": "2022-10-11T17:43:03.451Z"
   },
   {
    "duration": 153,
    "start_time": "2022-10-11T17:43:03.529Z"
   },
   {
    "duration": 538,
    "start_time": "2022-10-11T17:43:03.684Z"
   },
   {
    "duration": 15,
    "start_time": "2022-10-11T17:43:04.223Z"
   },
   {
    "duration": 160,
    "start_time": "2022-10-11T17:43:04.239Z"
   },
   {
    "duration": 91,
    "start_time": "2022-10-11T17:43:04.401Z"
   },
   {
    "duration": 81,
    "start_time": "2022-10-11T17:43:04.498Z"
   },
   {
    "duration": 85,
    "start_time": "2022-10-11T17:43:04.590Z"
   },
   {
    "duration": 10,
    "start_time": "2022-10-11T17:43:04.688Z"
   },
   {
    "duration": 7,
    "start_time": "2022-10-11T17:43:04.701Z"
   },
   {
    "duration": 9,
    "start_time": "2022-10-11T17:43:04.710Z"
   },
   {
    "duration": 6,
    "start_time": "2022-10-11T17:43:04.721Z"
   },
   {
    "duration": 7,
    "start_time": "2022-10-11T17:43:04.729Z"
   },
   {
    "duration": 7,
    "start_time": "2022-10-11T17:43:04.738Z"
   },
   {
    "duration": 45,
    "start_time": "2022-10-11T17:43:04.746Z"
   },
   {
    "duration": 84,
    "start_time": "2022-10-11T17:43:04.793Z"
   },
   {
    "duration": 5,
    "start_time": "2022-10-11T17:43:04.879Z"
   },
   {
    "duration": 12,
    "start_time": "2022-10-11T17:43:04.886Z"
   },
   {
    "duration": 13,
    "start_time": "2022-10-11T17:43:04.902Z"
   },
   {
    "duration": 17,
    "start_time": "2022-10-11T17:43:04.917Z"
   },
   {
    "duration": 23,
    "start_time": "2022-10-11T17:43:04.937Z"
   },
   {
    "duration": 16,
    "start_time": "2022-10-11T17:43:04.962Z"
   },
   {
    "duration": 12,
    "start_time": "2022-10-11T17:43:04.980Z"
   },
   {
    "duration": 9,
    "start_time": "2022-10-11T17:43:04.994Z"
   },
   {
    "duration": 30,
    "start_time": "2022-10-11T17:43:05.006Z"
   },
   {
    "duration": 18,
    "start_time": "2022-10-11T17:43:05.039Z"
   },
   {
    "duration": 142,
    "start_time": "2022-10-11T17:43:05.059Z"
   },
   {
    "duration": 6,
    "start_time": "2022-10-11T17:43:05.203Z"
   },
   {
    "duration": 15,
    "start_time": "2022-10-11T17:43:05.211Z"
   },
   {
    "duration": 7,
    "start_time": "2022-10-11T17:43:05.228Z"
   },
   {
    "duration": 9,
    "start_time": "2022-10-11T17:43:05.237Z"
   },
   {
    "duration": 8,
    "start_time": "2022-10-11T17:43:05.248Z"
   },
   {
    "duration": 32,
    "start_time": "2022-10-11T17:43:05.258Z"
   },
   {
    "duration": 10,
    "start_time": "2022-10-11T17:43:05.292Z"
   },
   {
    "duration": 10,
    "start_time": "2022-10-11T17:43:05.304Z"
   },
   {
    "duration": 7,
    "start_time": "2022-10-11T17:43:05.316Z"
   },
   {
    "duration": 13,
    "start_time": "2022-10-11T17:43:05.325Z"
   },
   {
    "duration": 8,
    "start_time": "2022-10-11T17:43:05.340Z"
   },
   {
    "duration": 7,
    "start_time": "2022-10-11T17:43:05.350Z"
   },
   {
    "duration": 32,
    "start_time": "2022-10-11T17:43:05.359Z"
   },
   {
    "duration": 10,
    "start_time": "2022-10-11T17:43:05.393Z"
   },
   {
    "duration": 9,
    "start_time": "2022-10-11T17:43:05.405Z"
   },
   {
    "duration": 8,
    "start_time": "2022-10-11T17:43:05.416Z"
   },
   {
    "duration": 7,
    "start_time": "2022-10-11T17:43:05.426Z"
   },
   {
    "duration": 13,
    "start_time": "2022-10-11T17:43:05.436Z"
   },
   {
    "duration": 10,
    "start_time": "2022-10-11T17:43:05.451Z"
   },
   {
    "duration": 30,
    "start_time": "2022-10-11T17:43:05.463Z"
   },
   {
    "duration": 9,
    "start_time": "2022-10-11T17:43:05.495Z"
   },
   {
    "duration": 9,
    "start_time": "2022-10-11T17:43:05.506Z"
   },
   {
    "duration": 9,
    "start_time": "2022-10-11T17:43:05.517Z"
   },
   {
    "duration": 8,
    "start_time": "2022-10-11T17:43:05.528Z"
   },
   {
    "duration": 27,
    "start_time": "2022-10-11T17:43:05.538Z"
   },
   {
    "duration": 16,
    "start_time": "2022-10-11T17:43:05.566Z"
   },
   {
    "duration": 1498,
    "start_time": "2022-10-11T20:04:47.041Z"
   },
   {
    "duration": 243,
    "start_time": "2022-10-11T20:04:48.541Z"
   },
   {
    "duration": 21,
    "start_time": "2022-10-11T20:04:48.786Z"
   },
   {
    "duration": 87,
    "start_time": "2022-10-11T20:04:48.809Z"
   },
   {
    "duration": 56,
    "start_time": "2022-10-11T20:04:48.905Z"
   },
   {
    "duration": 54,
    "start_time": "2022-10-11T20:04:48.964Z"
   },
   {
    "duration": 347,
    "start_time": "2022-10-11T20:04:49.026Z"
   },
   {
    "duration": 64,
    "start_time": "2022-10-11T20:04:49.375Z"
   },
   {
    "duration": 19,
    "start_time": "2022-10-11T20:04:49.444Z"
   },
   {
    "duration": 33,
    "start_time": "2022-10-11T20:04:49.466Z"
   },
   {
    "duration": 25,
    "start_time": "2022-10-11T20:04:49.500Z"
   },
   {
    "duration": 35,
    "start_time": "2022-10-11T20:04:49.527Z"
   },
   {
    "duration": 40,
    "start_time": "2022-10-11T20:04:49.564Z"
   },
   {
    "duration": 862,
    "start_time": "2022-10-11T20:04:49.612Z"
   },
   {
    "duration": 388,
    "start_time": "2022-10-11T20:04:50.476Z"
   },
   {
    "duration": 923,
    "start_time": "2022-10-11T20:04:50.866Z"
   },
   {
    "duration": 44,
    "start_time": "2022-10-11T20:04:51.800Z"
   },
   {
    "duration": 72,
    "start_time": "2022-10-11T20:04:51.847Z"
   },
   {
    "duration": 146,
    "start_time": "2022-10-11T20:04:51.921Z"
   },
   {
    "duration": 58,
    "start_time": "2022-10-11T20:04:52.069Z"
   },
   {
    "duration": 136,
    "start_time": "2022-10-11T20:04:52.132Z"
   },
   {
    "duration": 201,
    "start_time": "2022-10-11T20:04:52.271Z"
   },
   {
    "duration": 566,
    "start_time": "2022-10-11T20:04:52.474Z"
   },
   {
    "duration": 12,
    "start_time": "2022-10-11T20:04:53.042Z"
   },
   {
    "duration": 167,
    "start_time": "2022-10-11T20:04:53.056Z"
   },
   {
    "duration": 41,
    "start_time": "2022-10-11T20:04:53.225Z"
   },
   {
    "duration": 90,
    "start_time": "2022-10-11T20:04:53.292Z"
   },
   {
    "duration": 85,
    "start_time": "2022-10-11T20:04:53.389Z"
   },
   {
    "duration": 30,
    "start_time": "2022-10-11T20:04:53.476Z"
   },
   {
    "duration": 43,
    "start_time": "2022-10-11T20:04:53.515Z"
   },
   {
    "duration": 11,
    "start_time": "2022-10-11T20:04:53.560Z"
   },
   {
    "duration": 35,
    "start_time": "2022-10-11T20:04:53.573Z"
   },
   {
    "duration": 43,
    "start_time": "2022-10-11T20:04:53.617Z"
   },
   {
    "duration": 11,
    "start_time": "2022-10-11T20:04:53.662Z"
   },
   {
    "duration": 9,
    "start_time": "2022-10-11T20:04:53.675Z"
   },
   {
    "duration": 130,
    "start_time": "2022-10-11T20:04:53.685Z"
   },
   {
    "duration": 6,
    "start_time": "2022-10-11T20:04:53.817Z"
   },
   {
    "duration": 30,
    "start_time": "2022-10-11T20:04:53.825Z"
   },
   {
    "duration": 7,
    "start_time": "2022-10-11T20:04:53.857Z"
   },
   {
    "duration": 10,
    "start_time": "2022-10-11T20:04:53.865Z"
   },
   {
    "duration": 19,
    "start_time": "2022-10-11T20:04:53.877Z"
   },
   {
    "duration": 52,
    "start_time": "2022-10-11T20:04:53.898Z"
   },
   {
    "duration": 8,
    "start_time": "2022-10-11T20:04:53.952Z"
   },
   {
    "duration": 9,
    "start_time": "2022-10-11T20:04:53.962Z"
   },
   {
    "duration": 14,
    "start_time": "2022-10-11T20:04:53.973Z"
   },
   {
    "duration": 59,
    "start_time": "2022-10-11T20:04:53.989Z"
   },
   {
    "duration": 137,
    "start_time": "2022-10-11T20:04:54.051Z"
   },
   {
    "duration": 12,
    "start_time": "2022-10-11T20:04:54.192Z"
   },
   {
    "duration": 45,
    "start_time": "2022-10-11T20:04:54.206Z"
   },
   {
    "duration": 9,
    "start_time": "2022-10-11T20:04:54.253Z"
   },
   {
    "duration": 8,
    "start_time": "2022-10-11T20:04:54.264Z"
   },
   {
    "duration": 8,
    "start_time": "2022-10-11T20:04:54.274Z"
   },
   {
    "duration": 54,
    "start_time": "2022-10-11T20:04:54.284Z"
   },
   {
    "duration": 18,
    "start_time": "2022-10-11T20:04:54.340Z"
   },
   {
    "duration": 11,
    "start_time": "2022-10-11T20:04:54.360Z"
   },
   {
    "duration": 8,
    "start_time": "2022-10-11T20:04:54.373Z"
   },
   {
    "duration": 61,
    "start_time": "2022-10-11T20:04:54.384Z"
   },
   {
    "duration": 10,
    "start_time": "2022-10-11T20:04:54.447Z"
   },
   {
    "duration": 8,
    "start_time": "2022-10-11T20:04:54.459Z"
   },
   {
    "duration": 14,
    "start_time": "2022-10-11T20:04:54.469Z"
   },
   {
    "duration": 56,
    "start_time": "2022-10-11T20:04:54.485Z"
   },
   {
    "duration": 7,
    "start_time": "2022-10-11T20:04:54.544Z"
   },
   {
    "duration": 11,
    "start_time": "2022-10-11T20:04:54.553Z"
   },
   {
    "duration": 8,
    "start_time": "2022-10-11T20:04:54.566Z"
   },
   {
    "duration": 9,
    "start_time": "2022-10-11T20:04:54.576Z"
   },
   {
    "duration": 59,
    "start_time": "2022-10-11T20:04:54.587Z"
   },
   {
    "duration": 10,
    "start_time": "2022-10-11T20:04:54.648Z"
   },
   {
    "duration": 7,
    "start_time": "2022-10-11T20:04:54.660Z"
   },
   {
    "duration": 12,
    "start_time": "2022-10-11T20:04:54.669Z"
   },
   {
    "duration": 63,
    "start_time": "2022-10-11T20:04:54.683Z"
   },
   {
    "duration": 9,
    "start_time": "2022-10-11T20:04:54.748Z"
   },
   {
    "duration": 10,
    "start_time": "2022-10-11T20:04:54.759Z"
   },
   {
    "duration": 17,
    "start_time": "2022-10-11T20:04:54.771Z"
   },
   {
    "duration": 11,
    "start_time": "2022-10-11T20:57:17.448Z"
   },
   {
    "duration": 4,
    "start_time": "2022-10-11T20:57:38.916Z"
   },
   {
    "duration": 176,
    "start_time": "2022-10-12T13:18:14.173Z"
   },
   {
    "duration": 1284,
    "start_time": "2022-10-12T13:18:22.980Z"
   },
   {
    "duration": 485,
    "start_time": "2022-10-12T13:18:24.266Z"
   },
   {
    "duration": 12,
    "start_time": "2022-10-12T13:18:24.752Z"
   },
   {
    "duration": 18,
    "start_time": "2022-10-12T13:18:24.766Z"
   },
   {
    "duration": 3,
    "start_time": "2022-10-12T13:18:24.785Z"
   },
   {
    "duration": 24,
    "start_time": "2022-10-12T13:18:24.789Z"
   },
   {
    "duration": 48,
    "start_time": "2022-10-12T13:18:24.815Z"
   },
   {
    "duration": 0,
    "start_time": "2022-10-12T13:18:24.866Z"
   },
   {
    "duration": 0,
    "start_time": "2022-10-12T13:18:24.868Z"
   },
   {
    "duration": 0,
    "start_time": "2022-10-12T13:18:24.869Z"
   },
   {
    "duration": 0,
    "start_time": "2022-10-12T13:18:24.870Z"
   },
   {
    "duration": 0,
    "start_time": "2022-10-12T13:18:24.871Z"
   },
   {
    "duration": 0,
    "start_time": "2022-10-12T13:18:24.872Z"
   },
   {
    "duration": 0,
    "start_time": "2022-10-12T13:18:24.873Z"
   },
   {
    "duration": 0,
    "start_time": "2022-10-12T13:18:24.874Z"
   },
   {
    "duration": 0,
    "start_time": "2022-10-12T13:18:24.875Z"
   },
   {
    "duration": 0,
    "start_time": "2022-10-12T13:18:24.876Z"
   },
   {
    "duration": 0,
    "start_time": "2022-10-12T13:18:24.877Z"
   },
   {
    "duration": 0,
    "start_time": "2022-10-12T13:18:24.878Z"
   },
   {
    "duration": 0,
    "start_time": "2022-10-12T13:18:24.879Z"
   },
   {
    "duration": 0,
    "start_time": "2022-10-12T13:18:24.880Z"
   },
   {
    "duration": 0,
    "start_time": "2022-10-12T13:18:24.881Z"
   },
   {
    "duration": 0,
    "start_time": "2022-10-12T13:18:24.883Z"
   },
   {
    "duration": 0,
    "start_time": "2022-10-12T13:18:24.884Z"
   },
   {
    "duration": 0,
    "start_time": "2022-10-12T13:18:24.885Z"
   },
   {
    "duration": 0,
    "start_time": "2022-10-12T13:18:24.886Z"
   },
   {
    "duration": 0,
    "start_time": "2022-10-12T13:18:24.887Z"
   },
   {
    "duration": 0,
    "start_time": "2022-10-12T13:18:24.888Z"
   },
   {
    "duration": 0,
    "start_time": "2022-10-12T13:18:24.889Z"
   },
   {
    "duration": 0,
    "start_time": "2022-10-12T13:18:24.890Z"
   },
   {
    "duration": 0,
    "start_time": "2022-10-12T13:18:24.891Z"
   },
   {
    "duration": 0,
    "start_time": "2022-10-12T13:18:24.892Z"
   },
   {
    "duration": 0,
    "start_time": "2022-10-12T13:18:24.893Z"
   },
   {
    "duration": 0,
    "start_time": "2022-10-12T13:18:24.900Z"
   },
   {
    "duration": 0,
    "start_time": "2022-10-12T13:18:24.901Z"
   },
   {
    "duration": 0,
    "start_time": "2022-10-12T13:18:24.902Z"
   },
   {
    "duration": 0,
    "start_time": "2022-10-12T13:18:24.903Z"
   },
   {
    "duration": 0,
    "start_time": "2022-10-12T13:18:24.904Z"
   },
   {
    "duration": 0,
    "start_time": "2022-10-12T13:18:24.905Z"
   },
   {
    "duration": 0,
    "start_time": "2022-10-12T13:18:24.906Z"
   },
   {
    "duration": 0,
    "start_time": "2022-10-12T13:18:24.907Z"
   },
   {
    "duration": 0,
    "start_time": "2022-10-12T13:18:24.908Z"
   },
   {
    "duration": 0,
    "start_time": "2022-10-12T13:18:24.909Z"
   },
   {
    "duration": 0,
    "start_time": "2022-10-12T13:18:24.910Z"
   },
   {
    "duration": 0,
    "start_time": "2022-10-12T13:18:24.911Z"
   },
   {
    "duration": 0,
    "start_time": "2022-10-12T13:18:24.912Z"
   },
   {
    "duration": 0,
    "start_time": "2022-10-12T13:18:24.912Z"
   },
   {
    "duration": 0,
    "start_time": "2022-10-12T13:18:24.913Z"
   },
   {
    "duration": 0,
    "start_time": "2022-10-12T13:18:24.914Z"
   },
   {
    "duration": 0,
    "start_time": "2022-10-12T13:18:24.915Z"
   },
   {
    "duration": 0,
    "start_time": "2022-10-12T13:18:24.916Z"
   },
   {
    "duration": 0,
    "start_time": "2022-10-12T13:18:24.917Z"
   },
   {
    "duration": 0,
    "start_time": "2022-10-12T13:18:24.918Z"
   },
   {
    "duration": 0,
    "start_time": "2022-10-12T13:18:24.919Z"
   },
   {
    "duration": 0,
    "start_time": "2022-10-12T13:18:24.920Z"
   },
   {
    "duration": 0,
    "start_time": "2022-10-12T13:18:24.921Z"
   },
   {
    "duration": 0,
    "start_time": "2022-10-12T13:18:24.922Z"
   },
   {
    "duration": 0,
    "start_time": "2022-10-12T13:18:24.923Z"
   },
   {
    "duration": 0,
    "start_time": "2022-10-12T13:18:24.924Z"
   },
   {
    "duration": 0,
    "start_time": "2022-10-12T13:18:24.925Z"
   },
   {
    "duration": 0,
    "start_time": "2022-10-12T13:18:24.926Z"
   },
   {
    "duration": 0,
    "start_time": "2022-10-12T13:18:24.927Z"
   },
   {
    "duration": 0,
    "start_time": "2022-10-12T13:18:24.927Z"
   },
   {
    "duration": 0,
    "start_time": "2022-10-12T13:18:24.928Z"
   },
   {
    "duration": 0,
    "start_time": "2022-10-12T13:18:24.929Z"
   },
   {
    "duration": 0,
    "start_time": "2022-10-12T13:18:24.930Z"
   },
   {
    "duration": 0,
    "start_time": "2022-10-12T13:18:24.931Z"
   },
   {
    "duration": 0,
    "start_time": "2022-10-12T13:18:24.932Z"
   },
   {
    "duration": 0,
    "start_time": "2022-10-12T13:18:24.933Z"
   },
   {
    "duration": 0,
    "start_time": "2022-10-12T13:18:24.934Z"
   },
   {
    "duration": 0,
    "start_time": "2022-10-12T13:18:24.935Z"
   },
   {
    "duration": 0,
    "start_time": "2022-10-12T13:18:24.936Z"
   },
   {
    "duration": 0,
    "start_time": "2022-10-12T13:18:24.937Z"
   },
   {
    "duration": 274,
    "start_time": "2022-10-12T13:18:43.305Z"
   },
   {
    "duration": 249,
    "start_time": "2022-10-12T13:19:02.338Z"
   },
   {
    "duration": 242,
    "start_time": "2022-10-12T13:19:25.113Z"
   },
   {
    "duration": 239,
    "start_time": "2022-10-12T13:19:31.353Z"
   },
   {
    "duration": 233,
    "start_time": "2022-10-12T13:19:35.977Z"
   },
   {
    "duration": 242,
    "start_time": "2022-10-12T13:20:29.135Z"
   },
   {
    "duration": 273,
    "start_time": "2022-10-12T13:20:33.263Z"
   },
   {
    "duration": 217,
    "start_time": "2022-10-12T13:20:45.974Z"
   },
   {
    "duration": 192,
    "start_time": "2022-10-12T13:20:48.958Z"
   },
   {
    "duration": 241,
    "start_time": "2022-10-12T13:20:54.951Z"
   },
   {
    "duration": 110,
    "start_time": "2022-10-12T13:21:03.430Z"
   },
   {
    "duration": 217,
    "start_time": "2022-10-12T13:21:08.885Z"
   },
   {
    "duration": 119,
    "start_time": "2022-10-12T13:21:12.965Z"
   },
   {
    "duration": 231,
    "start_time": "2022-10-12T13:21:28.061Z"
   },
   {
    "duration": 211,
    "start_time": "2022-10-12T13:21:31.733Z"
   },
   {
    "duration": 230,
    "start_time": "2022-10-12T13:21:38.494Z"
   },
   {
    "duration": 1062,
    "start_time": "2022-10-12T13:22:14.651Z"
   },
   {
    "duration": 139,
    "start_time": "2022-10-12T13:22:15.715Z"
   },
   {
    "duration": 12,
    "start_time": "2022-10-12T13:22:15.855Z"
   },
   {
    "duration": 18,
    "start_time": "2022-10-12T13:22:15.869Z"
   },
   {
    "duration": 13,
    "start_time": "2022-10-12T13:22:15.888Z"
   },
   {
    "duration": 28,
    "start_time": "2022-10-12T13:22:15.903Z"
   },
   {
    "duration": 275,
    "start_time": "2022-10-12T13:22:15.934Z"
   },
   {
    "duration": 13,
    "start_time": "2022-10-12T13:22:16.211Z"
   },
   {
    "duration": 12,
    "start_time": "2022-10-12T13:22:16.225Z"
   },
   {
    "duration": 29,
    "start_time": "2022-10-12T13:22:16.239Z"
   },
   {
    "duration": 9,
    "start_time": "2022-10-12T13:22:16.269Z"
   },
   {
    "duration": 8,
    "start_time": "2022-10-12T13:22:16.280Z"
   },
   {
    "duration": 46,
    "start_time": "2022-10-12T13:22:16.290Z"
   },
   {
    "duration": 513,
    "start_time": "2022-10-12T13:22:16.338Z"
   },
   {
    "duration": 251,
    "start_time": "2022-10-12T13:22:16.852Z"
   },
   {
    "duration": 562,
    "start_time": "2022-10-12T13:22:17.104Z"
   },
   {
    "duration": 15,
    "start_time": "2022-10-12T13:22:17.668Z"
   },
   {
    "duration": 24,
    "start_time": "2022-10-12T13:22:17.684Z"
   },
   {
    "duration": 35,
    "start_time": "2022-10-12T13:22:17.710Z"
   },
   {
    "duration": 15,
    "start_time": "2022-10-12T13:22:17.746Z"
   },
   {
    "duration": 70,
    "start_time": "2022-10-12T13:22:17.762Z"
   },
   {
    "duration": 91,
    "start_time": "2022-10-12T13:22:17.833Z"
   },
   {
    "duration": 383,
    "start_time": "2022-10-12T13:22:17.925Z"
   },
   {
    "duration": 9,
    "start_time": "2022-10-12T13:22:18.309Z"
   },
   {
    "duration": 99,
    "start_time": "2022-10-12T13:22:18.320Z"
   },
   {
    "duration": 21,
    "start_time": "2022-10-12T13:22:18.421Z"
   },
   {
    "duration": 83,
    "start_time": "2022-10-12T13:22:18.444Z"
   },
   {
    "duration": 43,
    "start_time": "2022-10-12T13:22:18.531Z"
   },
   {
    "duration": 7,
    "start_time": "2022-10-12T13:22:18.575Z"
   },
   {
    "duration": 5,
    "start_time": "2022-10-12T13:22:18.601Z"
   },
   {
    "duration": 10,
    "start_time": "2022-10-12T13:22:18.608Z"
   },
   {
    "duration": 9,
    "start_time": "2022-10-12T13:22:18.619Z"
   },
   {
    "duration": 6,
    "start_time": "2022-10-12T13:22:18.629Z"
   },
   {
    "duration": 5,
    "start_time": "2022-10-12T13:22:18.636Z"
   },
   {
    "duration": 5,
    "start_time": "2022-10-12T13:22:18.643Z"
   },
   {
    "duration": 60,
    "start_time": "2022-10-12T13:22:18.649Z"
   },
   {
    "duration": 4,
    "start_time": "2022-10-12T13:22:18.710Z"
   },
   {
    "duration": 16,
    "start_time": "2022-10-12T13:22:18.716Z"
   },
   {
    "duration": 5,
    "start_time": "2022-10-12T13:22:18.733Z"
   },
   {
    "duration": 5,
    "start_time": "2022-10-12T13:22:18.740Z"
   },
   {
    "duration": 7,
    "start_time": "2022-10-12T13:22:18.747Z"
   },
   {
    "duration": 8,
    "start_time": "2022-10-12T13:22:18.755Z"
   },
   {
    "duration": 6,
    "start_time": "2022-10-12T13:22:18.765Z"
   },
   {
    "duration": 5,
    "start_time": "2022-10-12T13:22:18.773Z"
   },
   {
    "duration": 21,
    "start_time": "2022-10-12T13:22:18.780Z"
   },
   {
    "duration": 6,
    "start_time": "2022-10-12T13:22:18.803Z"
   },
   {
    "duration": 100,
    "start_time": "2022-10-12T13:22:18.810Z"
   },
   {
    "duration": 4,
    "start_time": "2022-10-12T13:22:18.911Z"
   },
   {
    "duration": 11,
    "start_time": "2022-10-12T13:22:18.916Z"
   },
   {
    "duration": 7,
    "start_time": "2022-10-12T13:22:18.929Z"
   },
   {
    "duration": 6,
    "start_time": "2022-10-12T13:22:18.937Z"
   },
   {
    "duration": 12,
    "start_time": "2022-10-12T13:22:18.944Z"
   },
   {
    "duration": 6,
    "start_time": "2022-10-12T13:22:18.958Z"
   },
   {
    "duration": 14,
    "start_time": "2022-10-12T13:22:18.965Z"
   },
   {
    "duration": 8,
    "start_time": "2022-10-12T13:22:18.981Z"
   },
   {
    "duration": 10,
    "start_time": "2022-10-12T13:22:18.990Z"
   },
   {
    "duration": 7,
    "start_time": "2022-10-12T13:22:19.001Z"
   },
   {
    "duration": 9,
    "start_time": "2022-10-12T13:22:19.010Z"
   },
   {
    "duration": 8,
    "start_time": "2022-10-12T13:22:19.021Z"
   },
   {
    "duration": 7,
    "start_time": "2022-10-12T13:22:19.030Z"
   },
   {
    "duration": 14,
    "start_time": "2022-10-12T13:22:19.038Z"
   },
   {
    "duration": 12,
    "start_time": "2022-10-12T13:22:19.053Z"
   },
   {
    "duration": 7,
    "start_time": "2022-10-12T13:22:19.066Z"
   },
   {
    "duration": 7,
    "start_time": "2022-10-12T13:22:19.074Z"
   },
   {
    "duration": 11,
    "start_time": "2022-10-12T13:22:19.082Z"
   },
   {
    "duration": 9,
    "start_time": "2022-10-12T13:22:19.094Z"
   },
   {
    "duration": 17,
    "start_time": "2022-10-12T13:22:19.104Z"
   },
   {
    "duration": 9,
    "start_time": "2022-10-12T13:22:19.123Z"
   },
   {
    "duration": 11,
    "start_time": "2022-10-12T13:22:19.134Z"
   },
   {
    "duration": 14,
    "start_time": "2022-10-12T13:22:19.146Z"
   },
   {
    "duration": 6,
    "start_time": "2022-10-12T13:22:19.161Z"
   },
   {
    "duration": 7,
    "start_time": "2022-10-12T13:22:19.169Z"
   },
   {
    "duration": 11,
    "start_time": "2022-10-12T13:22:19.178Z"
   },
   {
    "duration": 247,
    "start_time": "2022-10-12T13:22:37.647Z"
   },
   {
    "duration": 19,
    "start_time": "2022-10-12T13:22:45.967Z"
   },
   {
    "duration": 260,
    "start_time": "2022-10-12T13:22:46.719Z"
   },
   {
    "duration": 2,
    "start_time": "2022-10-12T13:22:56.495Z"
   },
   {
    "duration": 135,
    "start_time": "2022-10-12T13:22:57.126Z"
   },
   {
    "duration": 7,
    "start_time": "2022-10-12T13:22:57.305Z"
   },
   {
    "duration": 17,
    "start_time": "2022-10-12T13:22:57.728Z"
   },
   {
    "duration": 2,
    "start_time": "2022-10-12T13:22:59.767Z"
   },
   {
    "duration": 25,
    "start_time": "2022-10-12T13:23:00.600Z"
   },
   {
    "duration": 304,
    "start_time": "2022-10-12T13:23:01.199Z"
   },
   {
    "duration": 380,
    "start_time": "2022-10-12T13:23:11.850Z"
   },
   {
    "duration": 19,
    "start_time": "2022-10-12T13:23:12.358Z"
   },
   {
    "duration": 3,
    "start_time": "2022-10-12T13:23:22.094Z"
   },
   {
    "duration": 136,
    "start_time": "2022-10-12T13:23:22.561Z"
   },
   {
    "duration": 7,
    "start_time": "2022-10-12T13:23:22.761Z"
   },
   {
    "duration": 16,
    "start_time": "2022-10-12T13:23:23.078Z"
   },
   {
    "duration": 3,
    "start_time": "2022-10-12T13:23:23.472Z"
   },
   {
    "duration": 19,
    "start_time": "2022-10-12T13:23:24.054Z"
   },
   {
    "duration": 246,
    "start_time": "2022-10-12T13:23:25.001Z"
   },
   {
    "duration": 130,
    "start_time": "2022-10-12T13:23:32.958Z"
   },
   {
    "duration": 7,
    "start_time": "2022-10-12T13:23:33.293Z"
   },
   {
    "duration": 16,
    "start_time": "2022-10-12T13:23:33.655Z"
   },
   {
    "duration": 3,
    "start_time": "2022-10-12T13:23:34.118Z"
   },
   {
    "duration": 18,
    "start_time": "2022-10-12T13:23:34.831Z"
   },
   {
    "duration": 114,
    "start_time": "2022-10-12T13:23:35.351Z"
   },
   {
    "duration": 125,
    "start_time": "2022-10-12T13:23:47.382Z"
   },
   {
    "duration": 3,
    "start_time": "2022-10-12T13:24:04.901Z"
   },
   {
    "duration": 143,
    "start_time": "2022-10-12T13:24:05.344Z"
   },
   {
    "duration": 7,
    "start_time": "2022-10-12T13:24:05.598Z"
   },
   {
    "duration": 16,
    "start_time": "2022-10-12T13:24:05.884Z"
   },
   {
    "duration": 2,
    "start_time": "2022-10-12T13:24:07.381Z"
   },
   {
    "duration": 17,
    "start_time": "2022-10-12T13:24:07.997Z"
   },
   {
    "duration": 252,
    "start_time": "2022-10-12T13:24:08.717Z"
   },
   {
    "duration": 238,
    "start_time": "2022-10-12T13:24:18.869Z"
   },
   {
    "duration": 139,
    "start_time": "2022-10-12T13:24:22.821Z"
   },
   {
    "duration": 7,
    "start_time": "2022-10-12T13:24:23.135Z"
   },
   {
    "duration": 18,
    "start_time": "2022-10-12T13:24:23.422Z"
   },
   {
    "duration": 3,
    "start_time": "2022-10-12T13:24:23.973Z"
   },
   {
    "duration": 20,
    "start_time": "2022-10-12T13:24:24.558Z"
   },
   {
    "duration": 3,
    "start_time": "2022-10-12T13:24:28.300Z"
   },
   {
    "duration": 132,
    "start_time": "2022-10-12T13:24:28.901Z"
   },
   {
    "duration": 7,
    "start_time": "2022-10-12T13:24:29.588Z"
   },
   {
    "duration": 16,
    "start_time": "2022-10-12T13:24:30.172Z"
   },
   {
    "duration": 3,
    "start_time": "2022-10-12T13:24:31.823Z"
   },
   {
    "duration": 19,
    "start_time": "2022-10-12T13:24:32.707Z"
   },
   {
    "duration": 228,
    "start_time": "2022-10-12T13:24:33.604Z"
   },
   {
    "duration": 2,
    "start_time": "2022-10-12T13:26:46.665Z"
   },
   {
    "duration": 9,
    "start_time": "2022-10-12T13:27:59.191Z"
   },
   {
    "duration": 16,
    "start_time": "2022-10-12T13:28:05.358Z"
   },
   {
    "duration": 15,
    "start_time": "2022-10-12T13:28:18.961Z"
   },
   {
    "duration": 12,
    "start_time": "2022-10-12T13:28:24.409Z"
   },
   {
    "duration": 16,
    "start_time": "2022-10-12T13:28:46.582Z"
   },
   {
    "duration": 24,
    "start_time": "2022-10-12T13:29:35.629Z"
   },
   {
    "duration": 18,
    "start_time": "2022-10-12T13:30:05.260Z"
   },
   {
    "duration": 23,
    "start_time": "2022-10-12T13:32:35.656Z"
   },
   {
    "duration": 1114,
    "start_time": "2022-10-12T13:33:35.735Z"
   },
   {
    "duration": 141,
    "start_time": "2022-10-12T13:33:36.851Z"
   },
   {
    "duration": 14,
    "start_time": "2022-10-12T13:33:36.994Z"
   },
   {
    "duration": 17,
    "start_time": "2022-10-12T13:33:37.009Z"
   },
   {
    "duration": 2,
    "start_time": "2022-10-12T13:33:37.027Z"
   },
   {
    "duration": 25,
    "start_time": "2022-10-12T13:33:37.030Z"
   },
   {
    "duration": 293,
    "start_time": "2022-10-12T13:33:37.056Z"
   },
   {
    "duration": 12,
    "start_time": "2022-10-12T13:33:37.350Z"
   },
   {
    "duration": 108,
    "start_time": "2022-10-12T13:33:37.364Z"
   },
   {
    "duration": 0,
    "start_time": "2022-10-12T13:33:37.476Z"
   },
   {
    "duration": 0,
    "start_time": "2022-10-12T13:33:37.476Z"
   },
   {
    "duration": 0,
    "start_time": "2022-10-12T13:33:37.477Z"
   },
   {
    "duration": 0,
    "start_time": "2022-10-12T13:33:37.478Z"
   },
   {
    "duration": 0,
    "start_time": "2022-10-12T13:33:37.479Z"
   },
   {
    "duration": 0,
    "start_time": "2022-10-12T13:33:37.480Z"
   },
   {
    "duration": 0,
    "start_time": "2022-10-12T13:33:37.481Z"
   },
   {
    "duration": 1,
    "start_time": "2022-10-12T13:33:37.482Z"
   },
   {
    "duration": 0,
    "start_time": "2022-10-12T13:33:37.484Z"
   },
   {
    "duration": 0,
    "start_time": "2022-10-12T13:33:37.484Z"
   },
   {
    "duration": 0,
    "start_time": "2022-10-12T13:33:37.500Z"
   },
   {
    "duration": 0,
    "start_time": "2022-10-12T13:33:37.501Z"
   },
   {
    "duration": 0,
    "start_time": "2022-10-12T13:33:37.502Z"
   },
   {
    "duration": 0,
    "start_time": "2022-10-12T13:33:37.503Z"
   },
   {
    "duration": 0,
    "start_time": "2022-10-12T13:33:37.504Z"
   },
   {
    "duration": 0,
    "start_time": "2022-10-12T13:33:37.504Z"
   },
   {
    "duration": 0,
    "start_time": "2022-10-12T13:33:37.505Z"
   },
   {
    "duration": 0,
    "start_time": "2022-10-12T13:33:37.506Z"
   },
   {
    "duration": 0,
    "start_time": "2022-10-12T13:33:37.507Z"
   },
   {
    "duration": 0,
    "start_time": "2022-10-12T13:33:37.508Z"
   },
   {
    "duration": 0,
    "start_time": "2022-10-12T13:33:37.509Z"
   },
   {
    "duration": 0,
    "start_time": "2022-10-12T13:33:37.510Z"
   },
   {
    "duration": 1,
    "start_time": "2022-10-12T13:33:37.510Z"
   },
   {
    "duration": 0,
    "start_time": "2022-10-12T13:33:37.511Z"
   },
   {
    "duration": 0,
    "start_time": "2022-10-12T13:33:37.512Z"
   },
   {
    "duration": 0,
    "start_time": "2022-10-12T13:33:37.513Z"
   },
   {
    "duration": 0,
    "start_time": "2022-10-12T13:33:37.514Z"
   },
   {
    "duration": 0,
    "start_time": "2022-10-12T13:33:37.515Z"
   },
   {
    "duration": 0,
    "start_time": "2022-10-12T13:33:37.516Z"
   },
   {
    "duration": 0,
    "start_time": "2022-10-12T13:33:37.517Z"
   },
   {
    "duration": 0,
    "start_time": "2022-10-12T13:33:37.517Z"
   },
   {
    "duration": 0,
    "start_time": "2022-10-12T13:33:37.519Z"
   },
   {
    "duration": 0,
    "start_time": "2022-10-12T13:33:37.519Z"
   },
   {
    "duration": 0,
    "start_time": "2022-10-12T13:33:37.520Z"
   },
   {
    "duration": 0,
    "start_time": "2022-10-12T13:33:37.521Z"
   },
   {
    "duration": 0,
    "start_time": "2022-10-12T13:33:37.522Z"
   },
   {
    "duration": 0,
    "start_time": "2022-10-12T13:33:37.523Z"
   },
   {
    "duration": 0,
    "start_time": "2022-10-12T13:33:37.524Z"
   },
   {
    "duration": 0,
    "start_time": "2022-10-12T13:33:37.525Z"
   },
   {
    "duration": 0,
    "start_time": "2022-10-12T13:33:37.525Z"
   },
   {
    "duration": 0,
    "start_time": "2022-10-12T13:33:37.526Z"
   },
   {
    "duration": 0,
    "start_time": "2022-10-12T13:33:37.527Z"
   },
   {
    "duration": 0,
    "start_time": "2022-10-12T13:33:37.528Z"
   },
   {
    "duration": 0,
    "start_time": "2022-10-12T13:33:37.529Z"
   },
   {
    "duration": 0,
    "start_time": "2022-10-12T13:33:37.530Z"
   },
   {
    "duration": 0,
    "start_time": "2022-10-12T13:33:37.531Z"
   },
   {
    "duration": 0,
    "start_time": "2022-10-12T13:33:37.532Z"
   },
   {
    "duration": 0,
    "start_time": "2022-10-12T13:33:37.533Z"
   },
   {
    "duration": 0,
    "start_time": "2022-10-12T13:33:37.534Z"
   },
   {
    "duration": 0,
    "start_time": "2022-10-12T13:33:37.535Z"
   },
   {
    "duration": 0,
    "start_time": "2022-10-12T13:33:37.535Z"
   },
   {
    "duration": 0,
    "start_time": "2022-10-12T13:33:37.536Z"
   },
   {
    "duration": 0,
    "start_time": "2022-10-12T13:33:37.537Z"
   },
   {
    "duration": 0,
    "start_time": "2022-10-12T13:33:37.538Z"
   },
   {
    "duration": 0,
    "start_time": "2022-10-12T13:33:37.539Z"
   },
   {
    "duration": 0,
    "start_time": "2022-10-12T13:33:37.539Z"
   },
   {
    "duration": 0,
    "start_time": "2022-10-12T13:33:37.540Z"
   },
   {
    "duration": 0,
    "start_time": "2022-10-12T13:33:37.540Z"
   },
   {
    "duration": 0,
    "start_time": "2022-10-12T13:33:37.541Z"
   },
   {
    "duration": 0,
    "start_time": "2022-10-12T13:33:37.541Z"
   },
   {
    "duration": 0,
    "start_time": "2022-10-12T13:33:37.600Z"
   },
   {
    "duration": 0,
    "start_time": "2022-10-12T13:33:37.601Z"
   },
   {
    "duration": 0,
    "start_time": "2022-10-12T13:33:37.602Z"
   },
   {
    "duration": 0,
    "start_time": "2022-10-12T13:33:37.603Z"
   },
   {
    "duration": 0,
    "start_time": "2022-10-12T13:33:37.604Z"
   },
   {
    "duration": 20,
    "start_time": "2022-10-12T13:34:43.496Z"
   },
   {
    "duration": 19,
    "start_time": "2022-10-12T13:34:47.959Z"
   },
   {
    "duration": 22,
    "start_time": "2022-10-12T13:34:52.655Z"
   },
   {
    "duration": 23,
    "start_time": "2022-10-12T13:35:05.448Z"
   },
   {
    "duration": 1125,
    "start_time": "2022-10-12T13:35:17.522Z"
   },
   {
    "duration": 139,
    "start_time": "2022-10-12T13:35:18.649Z"
   },
   {
    "duration": 10,
    "start_time": "2022-10-12T13:35:18.790Z"
   },
   {
    "duration": 19,
    "start_time": "2022-10-12T13:35:18.802Z"
   },
   {
    "duration": 3,
    "start_time": "2022-10-12T13:35:18.822Z"
   },
   {
    "duration": 26,
    "start_time": "2022-10-12T13:35:18.826Z"
   },
   {
    "duration": 290,
    "start_time": "2022-10-12T13:35:18.853Z"
   },
   {
    "duration": 13,
    "start_time": "2022-10-12T13:35:19.145Z"
   },
   {
    "duration": 40,
    "start_time": "2022-10-12T13:35:19.160Z"
   },
   {
    "duration": 9,
    "start_time": "2022-10-12T13:35:19.202Z"
   },
   {
    "duration": 25,
    "start_time": "2022-10-12T13:35:19.213Z"
   },
   {
    "duration": 7,
    "start_time": "2022-10-12T13:35:19.239Z"
   },
   {
    "duration": 12,
    "start_time": "2022-10-12T13:35:19.248Z"
   },
   {
    "duration": 27,
    "start_time": "2022-10-12T13:35:19.261Z"
   },
   {
    "duration": 586,
    "start_time": "2022-10-12T13:35:19.290Z"
   },
   {
    "duration": 253,
    "start_time": "2022-10-12T13:35:19.878Z"
   },
   {
    "duration": 601,
    "start_time": "2022-10-12T13:35:20.132Z"
   },
   {
    "duration": 14,
    "start_time": "2022-10-12T13:35:20.735Z"
   },
   {
    "duration": 17,
    "start_time": "2022-10-12T13:35:20.750Z"
   },
   {
    "duration": 53,
    "start_time": "2022-10-12T13:35:20.768Z"
   },
   {
    "duration": 16,
    "start_time": "2022-10-12T13:35:20.822Z"
   },
   {
    "duration": 52,
    "start_time": "2022-10-12T13:35:20.840Z"
   },
   {
    "duration": 102,
    "start_time": "2022-10-12T13:35:20.900Z"
   },
   {
    "duration": 401,
    "start_time": "2022-10-12T13:35:21.004Z"
   },
   {
    "duration": 11,
    "start_time": "2022-10-12T13:35:21.408Z"
   },
   {
    "duration": 112,
    "start_time": "2022-10-12T13:35:21.420Z"
   },
   {
    "duration": 24,
    "start_time": "2022-10-12T13:35:21.533Z"
   },
   {
    "duration": 76,
    "start_time": "2022-10-12T13:35:21.561Z"
   },
   {
    "duration": 44,
    "start_time": "2022-10-12T13:35:21.638Z"
   },
   {
    "duration": 20,
    "start_time": "2022-10-12T13:35:21.683Z"
   },
   {
    "duration": 7,
    "start_time": "2022-10-12T13:35:21.704Z"
   },
   {
    "duration": 34,
    "start_time": "2022-10-12T13:35:21.712Z"
   },
   {
    "duration": 7,
    "start_time": "2022-10-12T13:35:21.747Z"
   },
   {
    "duration": 12,
    "start_time": "2022-10-12T13:35:21.755Z"
   },
   {
    "duration": 10,
    "start_time": "2022-10-12T13:35:21.768Z"
   },
   {
    "duration": 5,
    "start_time": "2022-10-12T13:35:21.780Z"
   },
   {
    "duration": 59,
    "start_time": "2022-10-12T13:35:21.787Z"
   },
   {
    "duration": 5,
    "start_time": "2022-10-12T13:35:21.847Z"
   },
   {
    "duration": 12,
    "start_time": "2022-10-12T13:35:21.853Z"
   },
   {
    "duration": 8,
    "start_time": "2022-10-12T13:35:21.866Z"
   },
   {
    "duration": 12,
    "start_time": "2022-10-12T13:35:21.876Z"
   },
   {
    "duration": 6,
    "start_time": "2022-10-12T13:35:21.889Z"
   },
   {
    "duration": 7,
    "start_time": "2022-10-12T13:35:21.900Z"
   },
   {
    "duration": 8,
    "start_time": "2022-10-12T13:35:21.908Z"
   },
   {
    "duration": 8,
    "start_time": "2022-10-12T13:35:21.918Z"
   },
   {
    "duration": 14,
    "start_time": "2022-10-12T13:35:21.927Z"
   },
   {
    "duration": 8,
    "start_time": "2022-10-12T13:35:21.943Z"
   },
   {
    "duration": 92,
    "start_time": "2022-10-12T13:35:21.953Z"
   },
   {
    "duration": 4,
    "start_time": "2022-10-12T13:35:22.047Z"
   },
   {
    "duration": 9,
    "start_time": "2022-10-12T13:35:22.053Z"
   },
   {
    "duration": 13,
    "start_time": "2022-10-12T13:35:22.063Z"
   },
   {
    "duration": 7,
    "start_time": "2022-10-12T13:35:22.078Z"
   },
   {
    "duration": 8,
    "start_time": "2022-10-12T13:35:22.086Z"
   },
   {
    "duration": 7,
    "start_time": "2022-10-12T13:35:22.100Z"
   },
   {
    "duration": 15,
    "start_time": "2022-10-12T13:35:22.109Z"
   },
   {
    "duration": 11,
    "start_time": "2022-10-12T13:35:22.126Z"
   },
   {
    "duration": 6,
    "start_time": "2022-10-12T13:35:22.139Z"
   },
   {
    "duration": 22,
    "start_time": "2022-10-12T13:35:22.147Z"
   },
   {
    "duration": 27,
    "start_time": "2022-10-12T13:35:22.171Z"
   },
   {
    "duration": 65,
    "start_time": "2022-10-12T13:35:22.199Z"
   },
   {
    "duration": 7,
    "start_time": "2022-10-12T13:35:22.266Z"
   },
   {
    "duration": 23,
    "start_time": "2022-10-12T13:35:22.274Z"
   },
   {
    "duration": 8,
    "start_time": "2022-10-12T13:35:22.299Z"
   },
   {
    "duration": 8,
    "start_time": "2022-10-12T13:35:22.308Z"
   },
   {
    "duration": 12,
    "start_time": "2022-10-12T13:35:22.317Z"
   },
   {
    "duration": 12,
    "start_time": "2022-10-12T13:35:22.330Z"
   },
   {
    "duration": 11,
    "start_time": "2022-10-12T13:35:22.343Z"
   },
   {
    "duration": 9,
    "start_time": "2022-10-12T13:35:22.355Z"
   },
   {
    "duration": 7,
    "start_time": "2022-10-12T13:35:22.365Z"
   },
   {
    "duration": 11,
    "start_time": "2022-10-12T13:35:22.374Z"
   },
   {
    "duration": 10,
    "start_time": "2022-10-12T13:35:22.387Z"
   },
   {
    "duration": 6,
    "start_time": "2022-10-12T13:35:22.399Z"
   },
   {
    "duration": 10,
    "start_time": "2022-10-12T13:35:22.407Z"
   },
   {
    "duration": 10,
    "start_time": "2022-10-12T13:35:22.419Z"
   },
   {
    "duration": 20,
    "start_time": "2022-10-12T13:38:07.641Z"
   },
   {
    "duration": 22,
    "start_time": "2022-10-12T13:38:10.691Z"
   },
   {
    "duration": 20,
    "start_time": "2022-10-12T13:38:20.221Z"
   },
   {
    "duration": 23,
    "start_time": "2022-10-12T13:38:41.641Z"
   },
   {
    "duration": 23,
    "start_time": "2022-10-12T13:41:38.207Z"
   },
   {
    "duration": 18,
    "start_time": "2022-10-12T13:46:33.567Z"
   },
   {
    "duration": 17,
    "start_time": "2022-10-12T13:57:01.342Z"
   },
   {
    "duration": 23,
    "start_time": "2022-10-12T13:57:20.573Z"
   },
   {
    "duration": 17,
    "start_time": "2022-10-12T13:57:38.628Z"
   },
   {
    "duration": 16,
    "start_time": "2022-10-12T13:59:02.642Z"
   },
   {
    "duration": 17,
    "start_time": "2022-10-12T14:00:21.634Z"
   },
   {
    "duration": 143,
    "start_time": "2022-10-12T14:01:39.478Z"
   },
   {
    "duration": 17,
    "start_time": "2022-10-12T14:02:09.157Z"
   },
   {
    "duration": 16,
    "start_time": "2022-10-12T14:02:15.117Z"
   },
   {
    "duration": 17,
    "start_time": "2022-10-12T14:02:18.325Z"
   },
   {
    "duration": 24,
    "start_time": "2022-10-12T14:02:21.437Z"
   },
   {
    "duration": 15,
    "start_time": "2022-10-12T14:02:25.476Z"
   },
   {
    "duration": 16,
    "start_time": "2022-10-12T14:02:29.260Z"
   },
   {
    "duration": 16,
    "start_time": "2022-10-12T14:02:32.252Z"
   },
   {
    "duration": 16,
    "start_time": "2022-10-12T14:02:38.100Z"
   },
   {
    "duration": 16,
    "start_time": "2022-10-12T14:02:42.813Z"
   },
   {
    "duration": 56,
    "start_time": "2022-10-12T14:02:59.603Z"
   },
   {
    "duration": 61,
    "start_time": "2022-10-12T14:03:37.498Z"
   },
   {
    "duration": 59,
    "start_time": "2022-10-12T14:03:43.019Z"
   },
   {
    "duration": 1111,
    "start_time": "2022-10-12T14:03:52.830Z"
   },
   {
    "duration": 137,
    "start_time": "2022-10-12T14:03:53.943Z"
   },
   {
    "duration": 17,
    "start_time": "2022-10-12T14:03:54.084Z"
   },
   {
    "duration": 24,
    "start_time": "2022-10-12T14:03:54.103Z"
   },
   {
    "duration": 2,
    "start_time": "2022-10-12T14:03:54.129Z"
   },
   {
    "duration": 30,
    "start_time": "2022-10-12T14:03:54.132Z"
   },
   {
    "duration": 333,
    "start_time": "2022-10-12T14:03:54.164Z"
   },
   {
    "duration": 18,
    "start_time": "2022-10-12T14:03:54.501Z"
   },
   {
    "duration": 24,
    "start_time": "2022-10-12T14:03:54.521Z"
   },
   {
    "duration": 10,
    "start_time": "2022-10-12T14:03:54.549Z"
   },
   {
    "duration": 46,
    "start_time": "2022-10-12T14:03:54.561Z"
   },
   {
    "duration": 6,
    "start_time": "2022-10-12T14:03:54.608Z"
   },
   {
    "duration": 9,
    "start_time": "2022-10-12T14:03:54.616Z"
   },
   {
    "duration": 22,
    "start_time": "2022-10-12T14:03:54.626Z"
   },
   {
    "duration": 615,
    "start_time": "2022-10-12T14:03:54.649Z"
   },
   {
    "duration": 260,
    "start_time": "2022-10-12T14:03:55.266Z"
   },
   {
    "duration": 600,
    "start_time": "2022-10-12T14:03:55.527Z"
   },
   {
    "duration": 16,
    "start_time": "2022-10-12T14:03:56.129Z"
   },
   {
    "duration": 15,
    "start_time": "2022-10-12T14:03:56.146Z"
   },
   {
    "duration": 54,
    "start_time": "2022-10-12T14:03:56.162Z"
   },
   {
    "duration": 18,
    "start_time": "2022-10-12T14:03:56.218Z"
   },
   {
    "duration": 46,
    "start_time": "2022-10-12T14:03:56.237Z"
   },
   {
    "duration": 105,
    "start_time": "2022-10-12T14:03:56.300Z"
   },
   {
    "duration": 404,
    "start_time": "2022-10-12T14:03:56.406Z"
   },
   {
    "duration": 9,
    "start_time": "2022-10-12T14:03:56.812Z"
   },
   {
    "duration": 135,
    "start_time": "2022-10-12T14:03:56.822Z"
   },
   {
    "duration": 27,
    "start_time": "2022-10-12T14:03:56.958Z"
   },
   {
    "duration": 50,
    "start_time": "2022-10-12T14:03:57.000Z"
   },
   {
    "duration": 62,
    "start_time": "2022-10-12T14:03:57.051Z"
   },
   {
    "duration": 6,
    "start_time": "2022-10-12T14:03:57.115Z"
   },
   {
    "duration": 10,
    "start_time": "2022-10-12T14:03:57.123Z"
   },
   {
    "duration": 13,
    "start_time": "2022-10-12T14:03:57.134Z"
   },
   {
    "duration": 8,
    "start_time": "2022-10-12T14:03:57.148Z"
   },
   {
    "duration": 8,
    "start_time": "2022-10-12T14:03:57.157Z"
   },
   {
    "duration": 11,
    "start_time": "2022-10-12T14:03:57.167Z"
   },
   {
    "duration": 7,
    "start_time": "2022-10-12T14:03:57.180Z"
   },
   {
    "duration": 59,
    "start_time": "2022-10-12T14:03:57.201Z"
   },
   {
    "duration": 4,
    "start_time": "2022-10-12T14:03:57.262Z"
   },
   {
    "duration": 10,
    "start_time": "2022-10-12T14:03:57.268Z"
   },
   {
    "duration": 21,
    "start_time": "2022-10-12T14:03:57.280Z"
   },
   {
    "duration": 19,
    "start_time": "2022-10-12T14:03:57.303Z"
   },
   {
    "duration": 11,
    "start_time": "2022-10-12T14:03:57.324Z"
   },
   {
    "duration": 10,
    "start_time": "2022-10-12T14:03:57.336Z"
   },
   {
    "duration": 7,
    "start_time": "2022-10-12T14:03:57.348Z"
   },
   {
    "duration": 13,
    "start_time": "2022-10-12T14:03:57.356Z"
   },
   {
    "duration": 12,
    "start_time": "2022-10-12T14:03:57.370Z"
   },
   {
    "duration": 13,
    "start_time": "2022-10-12T14:03:57.383Z"
   },
   {
    "duration": 94,
    "start_time": "2022-10-12T14:03:57.397Z"
   },
   {
    "duration": 8,
    "start_time": "2022-10-12T14:03:57.493Z"
   },
   {
    "duration": 11,
    "start_time": "2022-10-12T14:03:57.502Z"
   },
   {
    "duration": 6,
    "start_time": "2022-10-12T14:03:57.514Z"
   },
   {
    "duration": 6,
    "start_time": "2022-10-12T14:03:57.521Z"
   },
   {
    "duration": 5,
    "start_time": "2022-10-12T14:03:57.528Z"
   },
   {
    "duration": 8,
    "start_time": "2022-10-12T14:03:57.535Z"
   },
   {
    "duration": 7,
    "start_time": "2022-10-12T14:03:57.544Z"
   },
   {
    "duration": 7,
    "start_time": "2022-10-12T14:03:57.552Z"
   },
   {
    "duration": 6,
    "start_time": "2022-10-12T14:03:57.560Z"
   },
   {
    "duration": 21,
    "start_time": "2022-10-12T14:03:57.567Z"
   },
   {
    "duration": 12,
    "start_time": "2022-10-12T14:03:57.589Z"
   },
   {
    "duration": 6,
    "start_time": "2022-10-12T14:03:57.603Z"
   },
   {
    "duration": 7,
    "start_time": "2022-10-12T14:03:57.611Z"
   },
   {
    "duration": 6,
    "start_time": "2022-10-12T14:03:57.619Z"
   },
   {
    "duration": 7,
    "start_time": "2022-10-12T14:03:57.627Z"
   },
   {
    "duration": 6,
    "start_time": "2022-10-12T14:03:57.635Z"
   },
   {
    "duration": 9,
    "start_time": "2022-10-12T14:03:57.643Z"
   },
   {
    "duration": 10,
    "start_time": "2022-10-12T14:03:57.654Z"
   },
   {
    "duration": 6,
    "start_time": "2022-10-12T14:03:57.665Z"
   },
   {
    "duration": 30,
    "start_time": "2022-10-12T14:03:57.673Z"
   },
   {
    "duration": 6,
    "start_time": "2022-10-12T14:03:57.704Z"
   },
   {
    "duration": 8,
    "start_time": "2022-10-12T14:03:57.712Z"
   },
   {
    "duration": 10,
    "start_time": "2022-10-12T14:03:57.721Z"
   },
   {
    "duration": 7,
    "start_time": "2022-10-12T14:03:57.732Z"
   },
   {
    "duration": 7,
    "start_time": "2022-10-12T14:03:57.741Z"
   },
   {
    "duration": 11,
    "start_time": "2022-10-12T14:03:57.750Z"
   },
   {
    "duration": 48,
    "start_time": "2022-10-12T14:05:00.295Z"
   },
   {
    "duration": 45,
    "start_time": "2022-10-12T14:05:10.448Z"
   },
   {
    "duration": 1131,
    "start_time": "2022-10-12T14:05:26.005Z"
   },
   {
    "duration": 134,
    "start_time": "2022-10-12T14:05:27.137Z"
   },
   {
    "duration": 12,
    "start_time": "2022-10-12T14:05:27.272Z"
   },
   {
    "duration": 24,
    "start_time": "2022-10-12T14:05:27.286Z"
   },
   {
    "duration": 3,
    "start_time": "2022-10-12T14:05:27.312Z"
   },
   {
    "duration": 27,
    "start_time": "2022-10-12T14:05:27.316Z"
   },
   {
    "duration": 301,
    "start_time": "2022-10-12T14:05:27.345Z"
   },
   {
    "duration": 14,
    "start_time": "2022-10-12T14:05:27.647Z"
   },
   {
    "duration": 37,
    "start_time": "2022-10-12T14:05:27.663Z"
   },
   {
    "duration": 9,
    "start_time": "2022-10-12T14:05:27.703Z"
   },
   {
    "duration": 20,
    "start_time": "2022-10-12T14:05:27.714Z"
   },
   {
    "duration": 6,
    "start_time": "2022-10-12T14:05:27.736Z"
   },
   {
    "duration": 9,
    "start_time": "2022-10-12T14:05:27.743Z"
   },
   {
    "duration": 17,
    "start_time": "2022-10-12T14:05:27.754Z"
   },
   {
    "duration": 588,
    "start_time": "2022-10-12T14:05:27.772Z"
   },
   {
    "duration": 248,
    "start_time": "2022-10-12T14:05:28.362Z"
   },
   {
    "duration": 583,
    "start_time": "2022-10-12T14:05:28.611Z"
   },
   {
    "duration": 16,
    "start_time": "2022-10-12T14:05:29.199Z"
   },
   {
    "duration": 16,
    "start_time": "2022-10-12T14:05:29.216Z"
   },
   {
    "duration": 36,
    "start_time": "2022-10-12T14:05:29.233Z"
   },
   {
    "duration": 40,
    "start_time": "2022-10-12T14:05:29.270Z"
   },
   {
    "duration": 41,
    "start_time": "2022-10-12T14:05:29.311Z"
   },
   {
    "duration": 118,
    "start_time": "2022-10-12T14:05:29.353Z"
   },
   {
    "duration": 407,
    "start_time": "2022-10-12T14:05:29.472Z"
   },
   {
    "duration": 8,
    "start_time": "2022-10-12T14:05:29.881Z"
   },
   {
    "duration": 79,
    "start_time": "2022-10-12T14:05:29.891Z"
   },
   {
    "duration": 52,
    "start_time": "2022-10-12T14:05:29.971Z"
   },
   {
    "duration": 49,
    "start_time": "2022-10-12T14:05:30.027Z"
   },
   {
    "duration": 57,
    "start_time": "2022-10-12T14:05:30.077Z"
   },
   {
    "duration": 6,
    "start_time": "2022-10-12T14:05:30.135Z"
   },
   {
    "duration": 15,
    "start_time": "2022-10-12T14:05:30.142Z"
   },
   {
    "duration": 15,
    "start_time": "2022-10-12T14:05:30.158Z"
   },
   {
    "duration": 7,
    "start_time": "2022-10-12T14:05:30.174Z"
   },
   {
    "duration": 10,
    "start_time": "2022-10-12T14:05:30.182Z"
   },
   {
    "duration": 10,
    "start_time": "2022-10-12T14:05:30.193Z"
   },
   {
    "duration": 14,
    "start_time": "2022-10-12T14:05:30.205Z"
   },
   {
    "duration": 57,
    "start_time": "2022-10-12T14:05:30.220Z"
   },
   {
    "duration": 5,
    "start_time": "2022-10-12T14:05:30.278Z"
   },
   {
    "duration": 27,
    "start_time": "2022-10-12T14:05:30.284Z"
   },
   {
    "duration": 19,
    "start_time": "2022-10-12T14:05:30.313Z"
   },
   {
    "duration": 12,
    "start_time": "2022-10-12T14:05:30.334Z"
   },
   {
    "duration": 18,
    "start_time": "2022-10-12T14:05:30.348Z"
   },
   {
    "duration": 8,
    "start_time": "2022-10-12T14:05:30.368Z"
   },
   {
    "duration": 16,
    "start_time": "2022-10-12T14:05:30.377Z"
   },
   {
    "duration": 29,
    "start_time": "2022-10-12T14:05:30.394Z"
   },
   {
    "duration": 38,
    "start_time": "2022-10-12T14:05:30.425Z"
   },
   {
    "duration": 98,
    "start_time": "2022-10-12T14:05:30.465Z"
   },
   {
    "duration": 110,
    "start_time": "2022-10-12T14:05:30.565Z"
   },
   {
    "duration": 4,
    "start_time": "2022-10-12T14:05:30.676Z"
   },
   {
    "duration": 25,
    "start_time": "2022-10-12T14:05:30.682Z"
   },
   {
    "duration": 26,
    "start_time": "2022-10-12T14:05:30.708Z"
   },
   {
    "duration": 27,
    "start_time": "2022-10-12T14:05:30.736Z"
   },
   {
    "duration": 16,
    "start_time": "2022-10-12T14:05:30.765Z"
   },
   {
    "duration": 22,
    "start_time": "2022-10-12T14:05:30.782Z"
   },
   {
    "duration": 24,
    "start_time": "2022-10-12T14:05:30.805Z"
   },
   {
    "duration": 42,
    "start_time": "2022-10-12T14:05:30.831Z"
   },
   {
    "duration": 31,
    "start_time": "2022-10-12T14:05:30.874Z"
   },
   {
    "duration": 40,
    "start_time": "2022-10-12T14:05:30.906Z"
   },
   {
    "duration": 49,
    "start_time": "2022-10-12T14:05:30.948Z"
   },
   {
    "duration": 32,
    "start_time": "2022-10-12T14:05:30.999Z"
   },
   {
    "duration": 53,
    "start_time": "2022-10-12T14:05:31.033Z"
   },
   {
    "duration": 30,
    "start_time": "2022-10-12T14:05:31.088Z"
   },
   {
    "duration": 23,
    "start_time": "2022-10-12T14:05:31.119Z"
   },
   {
    "duration": 26,
    "start_time": "2022-10-12T14:05:31.143Z"
   },
   {
    "duration": 40,
    "start_time": "2022-10-12T14:05:31.171Z"
   },
   {
    "duration": 17,
    "start_time": "2022-10-12T14:05:31.212Z"
   },
   {
    "duration": 6,
    "start_time": "2022-10-12T14:05:31.231Z"
   },
   {
    "duration": 13,
    "start_time": "2022-10-12T14:05:31.238Z"
   },
   {
    "duration": 7,
    "start_time": "2022-10-12T14:05:31.253Z"
   },
   {
    "duration": 8,
    "start_time": "2022-10-12T14:05:31.261Z"
   },
   {
    "duration": 10,
    "start_time": "2022-10-12T14:05:31.270Z"
   },
   {
    "duration": 8,
    "start_time": "2022-10-12T14:05:31.281Z"
   },
   {
    "duration": 6,
    "start_time": "2022-10-12T14:05:31.290Z"
   },
   {
    "duration": 15,
    "start_time": "2022-10-12T14:05:31.298Z"
   },
   {
    "duration": 8,
    "start_time": "2022-10-12T14:08:55.048Z"
   },
   {
    "duration": 48,
    "start_time": "2022-10-12T14:17:49.363Z"
   },
   {
    "duration": 50,
    "start_time": "2022-10-12T14:18:25.713Z"
   },
   {
    "duration": 69,
    "start_time": "2022-10-12T14:19:47.111Z"
   },
   {
    "duration": 69,
    "start_time": "2022-10-12T14:19:54.087Z"
   },
   {
    "duration": 55,
    "start_time": "2022-10-12T14:23:42.873Z"
   },
   {
    "duration": 1120,
    "start_time": "2022-10-12T14:23:56.107Z"
   },
   {
    "duration": 129,
    "start_time": "2022-10-12T14:23:57.229Z"
   },
   {
    "duration": 10,
    "start_time": "2022-10-12T14:23:57.360Z"
   },
   {
    "duration": 28,
    "start_time": "2022-10-12T14:23:57.372Z"
   },
   {
    "duration": 2,
    "start_time": "2022-10-12T14:23:57.402Z"
   },
   {
    "duration": 25,
    "start_time": "2022-10-12T14:23:57.405Z"
   },
   {
    "duration": 278,
    "start_time": "2022-10-12T14:23:57.432Z"
   },
   {
    "duration": 13,
    "start_time": "2022-10-12T14:23:57.711Z"
   },
   {
    "duration": 19,
    "start_time": "2022-10-12T14:23:57.726Z"
   },
   {
    "duration": 8,
    "start_time": "2022-10-12T14:23:57.748Z"
   },
   {
    "duration": 19,
    "start_time": "2022-10-12T14:23:57.757Z"
   },
   {
    "duration": 6,
    "start_time": "2022-10-12T14:23:57.801Z"
   },
   {
    "duration": 10,
    "start_time": "2022-10-12T14:23:57.809Z"
   },
   {
    "duration": 21,
    "start_time": "2022-10-12T14:23:57.821Z"
   },
   {
    "duration": 565,
    "start_time": "2022-10-12T14:23:57.843Z"
   },
   {
    "duration": 259,
    "start_time": "2022-10-12T14:23:58.410Z"
   },
   {
    "duration": 605,
    "start_time": "2022-10-12T14:23:58.670Z"
   },
   {
    "duration": 16,
    "start_time": "2022-10-12T14:23:59.276Z"
   },
   {
    "duration": 15,
    "start_time": "2022-10-12T14:23:59.300Z"
   },
   {
    "duration": 37,
    "start_time": "2022-10-12T14:23:59.317Z"
   },
   {
    "duration": 17,
    "start_time": "2022-10-12T14:23:59.356Z"
   },
   {
    "duration": 71,
    "start_time": "2022-10-12T14:23:59.374Z"
   },
   {
    "duration": 110,
    "start_time": "2022-10-12T14:23:59.447Z"
   },
   {
    "duration": 402,
    "start_time": "2022-10-12T14:23:59.558Z"
   },
   {
    "duration": 10,
    "start_time": "2022-10-12T14:23:59.961Z"
   },
   {
    "duration": 71,
    "start_time": "2022-10-12T14:23:59.973Z"
   },
   {
    "duration": 76,
    "start_time": "2022-10-12T14:24:00.046Z"
   },
   {
    "duration": 78,
    "start_time": "2022-10-12T14:24:00.125Z"
   },
   {
    "duration": 55,
    "start_time": "2022-10-12T14:24:00.205Z"
   },
   {
    "duration": 7,
    "start_time": "2022-10-12T14:24:00.262Z"
   },
   {
    "duration": 11,
    "start_time": "2022-10-12T14:24:00.271Z"
   },
   {
    "duration": 19,
    "start_time": "2022-10-12T14:24:00.284Z"
   },
   {
    "duration": 10,
    "start_time": "2022-10-12T14:24:00.305Z"
   },
   {
    "duration": 12,
    "start_time": "2022-10-12T14:24:00.316Z"
   },
   {
    "duration": 7,
    "start_time": "2022-10-12T14:24:00.330Z"
   },
   {
    "duration": 10,
    "start_time": "2022-10-12T14:24:00.338Z"
   },
   {
    "duration": 70,
    "start_time": "2022-10-12T14:24:00.350Z"
   },
   {
    "duration": 4,
    "start_time": "2022-10-12T14:24:00.422Z"
   },
   {
    "duration": 66,
    "start_time": "2022-10-12T14:24:00.428Z"
   },
   {
    "duration": 45,
    "start_time": "2022-10-12T14:24:00.496Z"
   },
   {
    "duration": 32,
    "start_time": "2022-10-12T14:24:00.542Z"
   },
   {
    "duration": 28,
    "start_time": "2022-10-12T14:24:00.576Z"
   },
   {
    "duration": 27,
    "start_time": "2022-10-12T14:24:00.607Z"
   },
   {
    "duration": 28,
    "start_time": "2022-10-12T14:24:00.636Z"
   },
   {
    "duration": 21,
    "start_time": "2022-10-12T14:24:00.666Z"
   },
   {
    "duration": 37,
    "start_time": "2022-10-12T14:24:00.689Z"
   },
   {
    "duration": 33,
    "start_time": "2022-10-12T14:24:00.728Z"
   },
   {
    "duration": 121,
    "start_time": "2022-10-12T14:24:00.763Z"
   },
   {
    "duration": 4,
    "start_time": "2022-10-12T14:24:00.885Z"
   },
   {
    "duration": 66,
    "start_time": "2022-10-12T14:24:00.900Z"
   },
   {
    "duration": 109,
    "start_time": "2022-10-12T14:24:00.968Z"
   },
   {
    "duration": 49,
    "start_time": "2022-10-12T14:24:01.079Z"
   },
   {
    "duration": 27,
    "start_time": "2022-10-12T14:24:01.130Z"
   },
   {
    "duration": 62,
    "start_time": "2022-10-12T14:24:01.159Z"
   },
   {
    "duration": 108,
    "start_time": "2022-10-12T14:24:01.222Z"
   },
   {
    "duration": 60,
    "start_time": "2022-10-12T14:24:01.332Z"
   },
   {
    "duration": 16,
    "start_time": "2022-10-12T14:24:01.393Z"
   },
   {
    "duration": 28,
    "start_time": "2022-10-12T14:24:01.411Z"
   },
   {
    "duration": 22,
    "start_time": "2022-10-12T14:24:01.441Z"
   },
   {
    "duration": 28,
    "start_time": "2022-10-12T14:24:01.464Z"
   },
   {
    "duration": 18,
    "start_time": "2022-10-12T14:24:01.494Z"
   },
   {
    "duration": 12,
    "start_time": "2022-10-12T14:24:01.513Z"
   },
   {
    "duration": 22,
    "start_time": "2022-10-12T14:24:01.526Z"
   },
   {
    "duration": 16,
    "start_time": "2022-10-12T14:24:01.550Z"
   },
   {
    "duration": 9,
    "start_time": "2022-10-12T14:24:01.567Z"
   },
   {
    "duration": 41,
    "start_time": "2022-10-12T14:24:01.578Z"
   },
   {
    "duration": 18,
    "start_time": "2022-10-12T14:24:01.621Z"
   },
   {
    "duration": 24,
    "start_time": "2022-10-12T14:24:01.641Z"
   },
   {
    "duration": 24,
    "start_time": "2022-10-12T14:24:01.667Z"
   },
   {
    "duration": 27,
    "start_time": "2022-10-12T14:24:01.693Z"
   },
   {
    "duration": 12,
    "start_time": "2022-10-12T14:24:01.722Z"
   },
   {
    "duration": 20,
    "start_time": "2022-10-12T14:24:01.736Z"
   },
   {
    "duration": 15,
    "start_time": "2022-10-12T14:24:01.758Z"
   },
   {
    "duration": 13,
    "start_time": "2022-10-12T14:24:01.774Z"
   },
   {
    "duration": 58,
    "start_time": "2022-10-12T14:30:43.146Z"
   },
   {
    "duration": 9,
    "start_time": "2022-10-12T14:31:04.904Z"
   },
   {
    "duration": 5,
    "start_time": "2022-10-12T14:32:45.409Z"
   },
   {
    "duration": 4,
    "start_time": "2022-10-12T14:34:13.620Z"
   },
   {
    "duration": 5,
    "start_time": "2022-10-12T14:37:08.903Z"
   },
   {
    "duration": 4,
    "start_time": "2022-10-12T14:37:09.879Z"
   },
   {
    "duration": 6,
    "start_time": "2022-10-12T14:37:17.431Z"
   },
   {
    "duration": 4,
    "start_time": "2022-10-12T14:37:21.086Z"
   },
   {
    "duration": 6,
    "start_time": "2022-10-12T14:37:47.182Z"
   },
   {
    "duration": 5,
    "start_time": "2022-10-12T14:37:48.797Z"
   },
   {
    "duration": 5,
    "start_time": "2022-10-12T14:37:50.525Z"
   },
   {
    "duration": 5,
    "start_time": "2022-10-12T14:37:52.670Z"
   },
   {
    "duration": 4,
    "start_time": "2022-10-12T14:37:53.310Z"
   },
   {
    "duration": 5,
    "start_time": "2022-10-12T14:37:54.269Z"
   },
   {
    "duration": 58,
    "start_time": "2022-10-12T14:43:52.877Z"
   },
   {
    "duration": 6,
    "start_time": "2022-10-12T14:44:01.821Z"
   },
   {
    "duration": 5,
    "start_time": "2022-10-12T14:44:57.715Z"
   },
   {
    "duration": 133,
    "start_time": "2022-10-12T14:45:12.306Z"
   },
   {
    "duration": 5,
    "start_time": "2022-10-12T14:45:34.594Z"
   },
   {
    "duration": 5,
    "start_time": "2022-10-12T14:47:02.344Z"
   },
   {
    "duration": 5,
    "start_time": "2022-10-12T14:47:04.654Z"
   },
   {
    "duration": 6,
    "start_time": "2022-10-12T14:47:24.143Z"
   },
   {
    "duration": 4,
    "start_time": "2022-10-12T14:47:33.047Z"
   },
   {
    "duration": 5,
    "start_time": "2022-10-12T14:50:06.715Z"
   },
   {
    "duration": 5,
    "start_time": "2022-10-12T14:50:16.235Z"
   },
   {
    "duration": 5,
    "start_time": "2022-10-12T14:50:17.250Z"
   },
   {
    "duration": 17,
    "start_time": "2022-10-12T14:50:27.137Z"
   },
   {
    "duration": 5,
    "start_time": "2022-10-12T14:50:36.898Z"
   },
   {
    "duration": 5,
    "start_time": "2022-10-12T14:50:38.138Z"
   },
   {
    "duration": 5,
    "start_time": "2022-10-12T14:52:43.816Z"
   },
   {
    "duration": 5,
    "start_time": "2022-10-12T14:52:58.462Z"
   },
   {
    "duration": 5,
    "start_time": "2022-10-12T14:53:22.558Z"
   },
   {
    "duration": 2,
    "start_time": "2022-10-12T14:56:32.297Z"
   },
   {
    "duration": 4,
    "start_time": "2022-10-12T14:56:32.912Z"
   },
   {
    "duration": 2,
    "start_time": "2022-10-12T14:57:09.120Z"
   },
   {
    "duration": 22,
    "start_time": "2022-10-12T14:58:37.757Z"
   },
   {
    "duration": 10,
    "start_time": "2022-10-12T14:59:16.820Z"
   },
   {
    "duration": 10,
    "start_time": "2022-10-12T14:59:24.644Z"
   },
   {
    "duration": 22,
    "start_time": "2022-10-12T14:59:54.232Z"
   },
   {
    "duration": 6,
    "start_time": "2022-10-12T15:00:09.212Z"
   },
   {
    "duration": 9,
    "start_time": "2022-10-12T15:02:11.303Z"
   },
   {
    "duration": 11,
    "start_time": "2022-10-12T15:02:15.263Z"
   },
   {
    "duration": 58,
    "start_time": "2022-10-12T15:06:33.066Z"
   },
   {
    "duration": 10,
    "start_time": "2022-10-12T15:07:41.175Z"
   },
   {
    "duration": 3,
    "start_time": "2022-10-12T15:07:42.702Z"
   },
   {
    "duration": 10,
    "start_time": "2022-10-12T15:07:43.023Z"
   },
   {
    "duration": 3,
    "start_time": "2022-10-12T15:08:13.198Z"
   },
   {
    "duration": 10,
    "start_time": "2022-10-12T15:08:24.869Z"
   },
   {
    "duration": 5,
    "start_time": "2022-10-12T15:08:35.094Z"
   },
   {
    "duration": 5,
    "start_time": "2022-10-12T15:08:47.245Z"
   },
   {
    "duration": 5,
    "start_time": "2022-10-12T15:08:50.989Z"
   },
   {
    "duration": 5,
    "start_time": "2022-10-12T15:08:55.988Z"
   },
   {
    "duration": 4,
    "start_time": "2022-10-12T15:09:01.093Z"
   },
   {
    "duration": 11,
    "start_time": "2022-10-12T15:09:38.031Z"
   },
   {
    "duration": 4,
    "start_time": "2022-10-12T15:13:24.159Z"
   },
   {
    "duration": 10,
    "start_time": "2022-10-12T15:13:46.205Z"
   },
   {
    "duration": 106,
    "start_time": "2022-10-12T15:16:41.602Z"
   },
   {
    "duration": 11,
    "start_time": "2022-10-12T15:19:11.508Z"
   },
   {
    "duration": 3,
    "start_time": "2022-10-12T15:19:16.732Z"
   },
   {
    "duration": 934,
    "start_time": "2022-10-12T15:19:17.307Z"
   },
   {
    "duration": 11,
    "start_time": "2022-10-12T15:20:01.716Z"
   },
   {
    "duration": 5,
    "start_time": "2022-10-12T15:21:42.249Z"
   },
   {
    "duration": 5,
    "start_time": "2022-10-12T15:23:38.326Z"
   },
   {
    "duration": 2,
    "start_time": "2022-10-12T15:25:30.132Z"
   },
   {
    "duration": 1153,
    "start_time": "2022-10-12T15:25:44.186Z"
   },
   {
    "duration": 136,
    "start_time": "2022-10-12T15:25:45.340Z"
   },
   {
    "duration": 12,
    "start_time": "2022-10-12T15:25:45.477Z"
   },
   {
    "duration": 19,
    "start_time": "2022-10-12T15:25:45.499Z"
   },
   {
    "duration": 3,
    "start_time": "2022-10-12T15:25:45.519Z"
   },
   {
    "duration": 31,
    "start_time": "2022-10-12T15:25:45.524Z"
   },
   {
    "duration": 307,
    "start_time": "2022-10-12T15:25:45.556Z"
   },
   {
    "duration": 14,
    "start_time": "2022-10-12T15:25:45.865Z"
   },
   {
    "duration": 32,
    "start_time": "2022-10-12T15:25:45.880Z"
   },
   {
    "duration": 8,
    "start_time": "2022-10-12T15:25:45.915Z"
   },
   {
    "duration": 20,
    "start_time": "2022-10-12T15:25:45.925Z"
   },
   {
    "duration": 9,
    "start_time": "2022-10-12T15:25:45.946Z"
   },
   {
    "duration": 14,
    "start_time": "2022-10-12T15:25:45.956Z"
   },
   {
    "duration": 35,
    "start_time": "2022-10-12T15:25:45.972Z"
   },
   {
    "duration": 572,
    "start_time": "2022-10-12T15:25:46.008Z"
   },
   {
    "duration": 250,
    "start_time": "2022-10-12T15:25:46.582Z"
   },
   {
    "duration": 617,
    "start_time": "2022-10-12T15:25:46.834Z"
   },
   {
    "duration": 17,
    "start_time": "2022-10-12T15:25:47.453Z"
   },
   {
    "duration": 18,
    "start_time": "2022-10-12T15:25:47.471Z"
   },
   {
    "duration": 37,
    "start_time": "2022-10-12T15:25:47.500Z"
   },
   {
    "duration": 18,
    "start_time": "2022-10-12T15:25:47.539Z"
   },
   {
    "duration": 62,
    "start_time": "2022-10-12T15:25:47.559Z"
   },
   {
    "duration": 108,
    "start_time": "2022-10-12T15:25:47.623Z"
   },
   {
    "duration": 405,
    "start_time": "2022-10-12T15:25:47.733Z"
   },
   {
    "duration": 9,
    "start_time": "2022-10-12T15:25:48.140Z"
   },
   {
    "duration": 86,
    "start_time": "2022-10-12T15:25:48.150Z"
   },
   {
    "duration": 26,
    "start_time": "2022-10-12T15:25:48.237Z"
   },
   {
    "duration": 89,
    "start_time": "2022-10-12T15:25:48.268Z"
   },
   {
    "duration": 79,
    "start_time": "2022-10-12T15:25:48.359Z"
   },
   {
    "duration": 5,
    "start_time": "2022-10-12T15:25:48.440Z"
   },
   {
    "duration": 11,
    "start_time": "2022-10-12T15:25:48.446Z"
   },
   {
    "duration": 17,
    "start_time": "2022-10-12T15:25:48.458Z"
   },
   {
    "duration": 46,
    "start_time": "2022-10-12T15:25:48.477Z"
   },
   {
    "duration": 0,
    "start_time": "2022-10-12T15:25:48.525Z"
   },
   {
    "duration": 0,
    "start_time": "2022-10-12T15:25:48.527Z"
   },
   {
    "duration": 0,
    "start_time": "2022-10-12T15:25:48.528Z"
   },
   {
    "duration": 0,
    "start_time": "2022-10-12T15:25:48.529Z"
   },
   {
    "duration": 0,
    "start_time": "2022-10-12T15:25:48.530Z"
   },
   {
    "duration": 0,
    "start_time": "2022-10-12T15:25:48.532Z"
   },
   {
    "duration": 0,
    "start_time": "2022-10-12T15:25:48.533Z"
   },
   {
    "duration": 0,
    "start_time": "2022-10-12T15:25:48.534Z"
   },
   {
    "duration": 0,
    "start_time": "2022-10-12T15:25:48.536Z"
   },
   {
    "duration": 0,
    "start_time": "2022-10-12T15:25:48.537Z"
   },
   {
    "duration": 0,
    "start_time": "2022-10-12T15:25:48.538Z"
   },
   {
    "duration": 0,
    "start_time": "2022-10-12T15:25:48.540Z"
   },
   {
    "duration": 0,
    "start_time": "2022-10-12T15:25:48.541Z"
   },
   {
    "duration": 0,
    "start_time": "2022-10-12T15:25:48.542Z"
   },
   {
    "duration": 0,
    "start_time": "2022-10-12T15:25:48.544Z"
   },
   {
    "duration": 0,
    "start_time": "2022-10-12T15:25:48.545Z"
   },
   {
    "duration": 0,
    "start_time": "2022-10-12T15:25:48.546Z"
   },
   {
    "duration": 0,
    "start_time": "2022-10-12T15:25:48.548Z"
   },
   {
    "duration": 0,
    "start_time": "2022-10-12T15:25:48.549Z"
   },
   {
    "duration": 0,
    "start_time": "2022-10-12T15:25:48.550Z"
   },
   {
    "duration": 0,
    "start_time": "2022-10-12T15:25:48.553Z"
   },
   {
    "duration": 0,
    "start_time": "2022-10-12T15:25:48.554Z"
   },
   {
    "duration": 0,
    "start_time": "2022-10-12T15:25:48.555Z"
   },
   {
    "duration": 0,
    "start_time": "2022-10-12T15:25:48.557Z"
   },
   {
    "duration": 0,
    "start_time": "2022-10-12T15:25:48.558Z"
   },
   {
    "duration": 0,
    "start_time": "2022-10-12T15:25:48.559Z"
   },
   {
    "duration": 0,
    "start_time": "2022-10-12T15:25:48.560Z"
   },
   {
    "duration": 0,
    "start_time": "2022-10-12T15:25:48.561Z"
   },
   {
    "duration": 0,
    "start_time": "2022-10-12T15:25:48.562Z"
   },
   {
    "duration": 0,
    "start_time": "2022-10-12T15:25:48.562Z"
   },
   {
    "duration": 59,
    "start_time": "2022-10-12T15:26:12.794Z"
   },
   {
    "duration": 3,
    "start_time": "2022-10-12T15:26:14.273Z"
   },
   {
    "duration": 10,
    "start_time": "2022-10-12T15:26:14.722Z"
   },
   {
    "duration": 1128,
    "start_time": "2022-10-12T15:26:19.314Z"
   },
   {
    "duration": 131,
    "start_time": "2022-10-12T15:26:20.444Z"
   },
   {
    "duration": 11,
    "start_time": "2022-10-12T15:26:20.577Z"
   },
   {
    "duration": 23,
    "start_time": "2022-10-12T15:26:20.589Z"
   },
   {
    "duration": 2,
    "start_time": "2022-10-12T15:26:20.614Z"
   },
   {
    "duration": 41,
    "start_time": "2022-10-12T15:26:20.617Z"
   },
   {
    "duration": 285,
    "start_time": "2022-10-12T15:26:20.660Z"
   },
   {
    "duration": 13,
    "start_time": "2022-10-12T15:26:20.946Z"
   },
   {
    "duration": 30,
    "start_time": "2022-10-12T15:26:20.960Z"
   },
   {
    "duration": 9,
    "start_time": "2022-10-12T15:26:20.999Z"
   },
   {
    "duration": 36,
    "start_time": "2022-10-12T15:26:21.009Z"
   },
   {
    "duration": 29,
    "start_time": "2022-10-12T15:26:21.046Z"
   },
   {
    "duration": 27,
    "start_time": "2022-10-12T15:26:21.076Z"
   },
   {
    "duration": 40,
    "start_time": "2022-10-12T15:26:21.106Z"
   },
   {
    "duration": 604,
    "start_time": "2022-10-12T15:26:21.148Z"
   },
   {
    "duration": 252,
    "start_time": "2022-10-12T15:26:21.754Z"
   },
   {
    "duration": 610,
    "start_time": "2022-10-12T15:26:22.008Z"
   },
   {
    "duration": 17,
    "start_time": "2022-10-12T15:26:22.620Z"
   },
   {
    "duration": 34,
    "start_time": "2022-10-12T15:26:22.639Z"
   },
   {
    "duration": 47,
    "start_time": "2022-10-12T15:26:22.675Z"
   },
   {
    "duration": 20,
    "start_time": "2022-10-12T15:26:22.723Z"
   },
   {
    "duration": 58,
    "start_time": "2022-10-12T15:26:22.744Z"
   },
   {
    "duration": 101,
    "start_time": "2022-10-12T15:26:22.804Z"
   },
   {
    "duration": 416,
    "start_time": "2022-10-12T15:26:22.906Z"
   },
   {
    "duration": 8,
    "start_time": "2022-10-12T15:26:23.324Z"
   },
   {
    "duration": 101,
    "start_time": "2022-10-12T15:26:23.333Z"
   },
   {
    "duration": 30,
    "start_time": "2022-10-12T15:26:23.435Z"
   },
   {
    "duration": 76,
    "start_time": "2022-10-12T15:26:23.469Z"
   },
   {
    "duration": 66,
    "start_time": "2022-10-12T15:26:23.547Z"
   },
   {
    "duration": 5,
    "start_time": "2022-10-12T15:26:23.614Z"
   },
   {
    "duration": 29,
    "start_time": "2022-10-12T15:26:23.621Z"
   },
   {
    "duration": 32,
    "start_time": "2022-10-12T15:26:23.652Z"
   },
   {
    "duration": 72,
    "start_time": "2022-10-12T15:26:23.685Z"
   },
   {
    "duration": 2,
    "start_time": "2022-10-12T15:26:23.759Z"
   },
   {
    "duration": 35,
    "start_time": "2022-10-12T15:26:23.763Z"
   },
   {
    "duration": 14,
    "start_time": "2022-10-12T15:26:23.799Z"
   },
   {
    "duration": 41,
    "start_time": "2022-10-12T15:26:23.815Z"
   },
   {
    "duration": 127,
    "start_time": "2022-10-12T15:26:23.857Z"
   },
   {
    "duration": 3,
    "start_time": "2022-10-12T15:26:23.986Z"
   },
   {
    "duration": 31,
    "start_time": "2022-10-12T15:26:23.999Z"
   },
   {
    "duration": 34,
    "start_time": "2022-10-12T15:26:24.032Z"
   },
   {
    "duration": 35,
    "start_time": "2022-10-12T15:26:24.068Z"
   },
   {
    "duration": 52,
    "start_time": "2022-10-12T15:26:24.104Z"
   },
   {
    "duration": 163,
    "start_time": "2022-10-12T15:26:24.157Z"
   },
   {
    "duration": 0,
    "start_time": "2022-10-12T15:26:24.321Z"
   },
   {
    "duration": 0,
    "start_time": "2022-10-12T15:26:24.322Z"
   },
   {
    "duration": 0,
    "start_time": "2022-10-12T15:26:24.323Z"
   },
   {
    "duration": 0,
    "start_time": "2022-10-12T15:26:24.324Z"
   },
   {
    "duration": 0,
    "start_time": "2022-10-12T15:26:24.325Z"
   },
   {
    "duration": 0,
    "start_time": "2022-10-12T15:26:24.326Z"
   },
   {
    "duration": 0,
    "start_time": "2022-10-12T15:26:24.326Z"
   },
   {
    "duration": 0,
    "start_time": "2022-10-12T15:26:24.327Z"
   },
   {
    "duration": 0,
    "start_time": "2022-10-12T15:26:24.328Z"
   },
   {
    "duration": 0,
    "start_time": "2022-10-12T15:26:24.329Z"
   },
   {
    "duration": 0,
    "start_time": "2022-10-12T15:26:24.330Z"
   },
   {
    "duration": 0,
    "start_time": "2022-10-12T15:26:24.331Z"
   },
   {
    "duration": 0,
    "start_time": "2022-10-12T15:26:24.331Z"
   },
   {
    "duration": 0,
    "start_time": "2022-10-12T15:26:24.332Z"
   },
   {
    "duration": 0,
    "start_time": "2022-10-12T15:26:24.333Z"
   },
   {
    "duration": 0,
    "start_time": "2022-10-12T15:26:24.334Z"
   },
   {
    "duration": 0,
    "start_time": "2022-10-12T15:26:24.336Z"
   },
   {
    "duration": 1,
    "start_time": "2022-10-12T15:26:24.336Z"
   },
   {
    "duration": 0,
    "start_time": "2022-10-12T15:26:24.337Z"
   },
   {
    "duration": 4,
    "start_time": "2022-10-12T15:28:25.810Z"
   },
   {
    "duration": 1070,
    "start_time": "2022-10-12T15:28:30.264Z"
   },
   {
    "duration": 129,
    "start_time": "2022-10-12T15:28:31.336Z"
   },
   {
    "duration": 12,
    "start_time": "2022-10-12T15:28:31.466Z"
   },
   {
    "duration": 46,
    "start_time": "2022-10-12T15:28:31.479Z"
   },
   {
    "duration": 15,
    "start_time": "2022-10-12T15:28:31.527Z"
   },
   {
    "duration": 49,
    "start_time": "2022-10-12T15:28:31.543Z"
   },
   {
    "duration": 276,
    "start_time": "2022-10-12T15:28:31.594Z"
   },
   {
    "duration": 13,
    "start_time": "2022-10-12T15:28:31.872Z"
   },
   {
    "duration": 34,
    "start_time": "2022-10-12T15:28:31.886Z"
   },
   {
    "duration": 21,
    "start_time": "2022-10-12T15:28:31.923Z"
   },
   {
    "duration": 43,
    "start_time": "2022-10-12T15:28:31.945Z"
   },
   {
    "duration": 20,
    "start_time": "2022-10-12T15:28:31.990Z"
   },
   {
    "duration": 34,
    "start_time": "2022-10-12T15:28:32.011Z"
   },
   {
    "duration": 47,
    "start_time": "2022-10-12T15:28:32.048Z"
   },
   {
    "duration": 541,
    "start_time": "2022-10-12T15:28:32.096Z"
   },
   {
    "duration": 253,
    "start_time": "2022-10-12T15:28:32.639Z"
   },
   {
    "duration": 608,
    "start_time": "2022-10-12T15:28:32.893Z"
   },
   {
    "duration": 16,
    "start_time": "2022-10-12T15:28:33.503Z"
   },
   {
    "duration": 32,
    "start_time": "2022-10-12T15:28:33.521Z"
   },
   {
    "duration": 50,
    "start_time": "2022-10-12T15:28:33.555Z"
   },
   {
    "duration": 17,
    "start_time": "2022-10-12T15:28:33.607Z"
   },
   {
    "duration": 69,
    "start_time": "2022-10-12T15:28:33.625Z"
   },
   {
    "duration": 97,
    "start_time": "2022-10-12T15:28:33.696Z"
   },
   {
    "duration": 423,
    "start_time": "2022-10-12T15:28:33.799Z"
   },
   {
    "duration": 10,
    "start_time": "2022-10-12T15:28:34.223Z"
   },
   {
    "duration": 92,
    "start_time": "2022-10-12T15:28:34.234Z"
   },
   {
    "duration": 24,
    "start_time": "2022-10-12T15:28:34.328Z"
   },
   {
    "duration": 102,
    "start_time": "2022-10-12T15:28:34.356Z"
   },
   {
    "duration": 80,
    "start_time": "2022-10-12T15:28:34.460Z"
   },
   {
    "duration": 6,
    "start_time": "2022-10-12T15:28:34.541Z"
   },
   {
    "duration": 10,
    "start_time": "2022-10-12T15:28:34.548Z"
   },
   {
    "duration": 18,
    "start_time": "2022-10-12T15:28:34.560Z"
   },
   {
    "duration": 84,
    "start_time": "2022-10-12T15:28:34.580Z"
   },
   {
    "duration": 2,
    "start_time": "2022-10-12T15:28:34.666Z"
   },
   {
    "duration": 19,
    "start_time": "2022-10-12T15:28:34.670Z"
   },
   {
    "duration": 13,
    "start_time": "2022-10-12T15:28:34.691Z"
   },
   {
    "duration": 25,
    "start_time": "2022-10-12T15:28:34.706Z"
   },
   {
    "duration": 103,
    "start_time": "2022-10-12T15:28:34.732Z"
   },
   {
    "duration": 3,
    "start_time": "2022-10-12T15:28:34.836Z"
   },
   {
    "duration": 19,
    "start_time": "2022-10-12T15:28:34.840Z"
   },
   {
    "duration": 4,
    "start_time": "2022-10-12T15:28:34.861Z"
   },
   {
    "duration": 8,
    "start_time": "2022-10-12T15:28:34.867Z"
   },
   {
    "duration": 14,
    "start_time": "2022-10-12T15:28:34.877Z"
   },
   {
    "duration": 133,
    "start_time": "2022-10-12T15:28:34.900Z"
   },
   {
    "duration": 0,
    "start_time": "2022-10-12T15:28:35.035Z"
   },
   {
    "duration": 0,
    "start_time": "2022-10-12T15:28:35.036Z"
   },
   {
    "duration": 0,
    "start_time": "2022-10-12T15:28:35.037Z"
   },
   {
    "duration": 0,
    "start_time": "2022-10-12T15:28:35.038Z"
   },
   {
    "duration": 0,
    "start_time": "2022-10-12T15:28:35.039Z"
   },
   {
    "duration": 0,
    "start_time": "2022-10-12T15:28:35.040Z"
   },
   {
    "duration": 0,
    "start_time": "2022-10-12T15:28:35.041Z"
   },
   {
    "duration": 0,
    "start_time": "2022-10-12T15:28:35.042Z"
   },
   {
    "duration": 0,
    "start_time": "2022-10-12T15:28:35.043Z"
   },
   {
    "duration": 0,
    "start_time": "2022-10-12T15:28:35.044Z"
   },
   {
    "duration": 0,
    "start_time": "2022-10-12T15:28:35.045Z"
   },
   {
    "duration": 0,
    "start_time": "2022-10-12T15:28:35.046Z"
   },
   {
    "duration": 0,
    "start_time": "2022-10-12T15:28:35.047Z"
   },
   {
    "duration": 0,
    "start_time": "2022-10-12T15:28:35.048Z"
   },
   {
    "duration": 0,
    "start_time": "2022-10-12T15:28:35.049Z"
   },
   {
    "duration": 0,
    "start_time": "2022-10-12T15:28:35.050Z"
   },
   {
    "duration": 0,
    "start_time": "2022-10-12T15:28:35.051Z"
   },
   {
    "duration": 0,
    "start_time": "2022-10-12T15:28:35.052Z"
   },
   {
    "duration": 0,
    "start_time": "2022-10-12T15:28:35.053Z"
   },
   {
    "duration": 5,
    "start_time": "2022-10-12T15:30:09.788Z"
   },
   {
    "duration": 1069,
    "start_time": "2022-10-12T15:30:19.064Z"
   },
   {
    "duration": 126,
    "start_time": "2022-10-12T15:30:20.136Z"
   },
   {
    "duration": 11,
    "start_time": "2022-10-12T15:30:20.264Z"
   },
   {
    "duration": 24,
    "start_time": "2022-10-12T15:30:20.276Z"
   },
   {
    "duration": 2,
    "start_time": "2022-10-12T15:30:20.302Z"
   },
   {
    "duration": 25,
    "start_time": "2022-10-12T15:30:20.305Z"
   },
   {
    "duration": 274,
    "start_time": "2022-10-12T15:30:20.332Z"
   },
   {
    "duration": 12,
    "start_time": "2022-10-12T15:30:20.608Z"
   },
   {
    "duration": 19,
    "start_time": "2022-10-12T15:30:20.623Z"
   },
   {
    "duration": 8,
    "start_time": "2022-10-12T15:30:20.643Z"
   },
   {
    "duration": 18,
    "start_time": "2022-10-12T15:30:20.652Z"
   },
   {
    "duration": 30,
    "start_time": "2022-10-12T15:30:20.671Z"
   },
   {
    "duration": 9,
    "start_time": "2022-10-12T15:30:20.702Z"
   },
   {
    "duration": 19,
    "start_time": "2022-10-12T15:30:20.712Z"
   },
   {
    "duration": 592,
    "start_time": "2022-10-12T15:30:20.732Z"
   },
   {
    "duration": 266,
    "start_time": "2022-10-12T15:30:21.326Z"
   },
   {
    "duration": 618,
    "start_time": "2022-10-12T15:30:21.593Z"
   },
   {
    "duration": 16,
    "start_time": "2022-10-12T15:30:22.213Z"
   },
   {
    "duration": 15,
    "start_time": "2022-10-12T15:30:22.230Z"
   },
   {
    "duration": 35,
    "start_time": "2022-10-12T15:30:22.246Z"
   },
   {
    "duration": 33,
    "start_time": "2022-10-12T15:30:22.283Z"
   },
   {
    "duration": 43,
    "start_time": "2022-10-12T15:30:22.318Z"
   },
   {
    "duration": 115,
    "start_time": "2022-10-12T15:30:22.363Z"
   },
   {
    "duration": 386,
    "start_time": "2022-10-12T15:30:22.480Z"
   },
   {
    "duration": 9,
    "start_time": "2022-10-12T15:30:22.867Z"
   },
   {
    "duration": 72,
    "start_time": "2022-10-12T15:30:22.878Z"
   },
   {
    "duration": 62,
    "start_time": "2022-10-12T15:30:22.953Z"
   },
   {
    "duration": 62,
    "start_time": "2022-10-12T15:30:23.016Z"
   },
   {
    "duration": 68,
    "start_time": "2022-10-12T15:30:23.079Z"
   },
   {
    "duration": 5,
    "start_time": "2022-10-12T15:30:23.148Z"
   },
   {
    "duration": 27,
    "start_time": "2022-10-12T15:30:23.155Z"
   },
   {
    "duration": 49,
    "start_time": "2022-10-12T15:30:23.184Z"
   },
   {
    "duration": 78,
    "start_time": "2022-10-12T15:30:23.235Z"
   },
   {
    "duration": 2,
    "start_time": "2022-10-12T15:30:23.314Z"
   },
   {
    "duration": 38,
    "start_time": "2022-10-12T15:30:23.318Z"
   },
   {
    "duration": 19,
    "start_time": "2022-10-12T15:30:23.358Z"
   },
   {
    "duration": 33,
    "start_time": "2022-10-12T15:30:23.379Z"
   },
   {
    "duration": 111,
    "start_time": "2022-10-12T15:30:23.414Z"
   },
   {
    "duration": 3,
    "start_time": "2022-10-12T15:30:23.526Z"
   },
   {
    "duration": 17,
    "start_time": "2022-10-12T15:30:23.530Z"
   },
   {
    "duration": 5,
    "start_time": "2022-10-12T15:30:23.548Z"
   },
   {
    "duration": 16,
    "start_time": "2022-10-12T15:30:23.554Z"
   },
   {
    "duration": 17,
    "start_time": "2022-10-12T15:30:23.571Z"
   },
   {
    "duration": 131,
    "start_time": "2022-10-12T15:30:23.589Z"
   },
   {
    "duration": 0,
    "start_time": "2022-10-12T15:30:23.721Z"
   },
   {
    "duration": 0,
    "start_time": "2022-10-12T15:30:23.722Z"
   },
   {
    "duration": 0,
    "start_time": "2022-10-12T15:30:23.723Z"
   },
   {
    "duration": 0,
    "start_time": "2022-10-12T15:30:23.725Z"
   },
   {
    "duration": 0,
    "start_time": "2022-10-12T15:30:23.726Z"
   },
   {
    "duration": 0,
    "start_time": "2022-10-12T15:30:23.726Z"
   },
   {
    "duration": 0,
    "start_time": "2022-10-12T15:30:23.727Z"
   },
   {
    "duration": 0,
    "start_time": "2022-10-12T15:30:23.728Z"
   },
   {
    "duration": 0,
    "start_time": "2022-10-12T15:30:23.729Z"
   },
   {
    "duration": 0,
    "start_time": "2022-10-12T15:30:23.730Z"
   },
   {
    "duration": 0,
    "start_time": "2022-10-12T15:30:23.731Z"
   },
   {
    "duration": 0,
    "start_time": "2022-10-12T15:30:23.731Z"
   },
   {
    "duration": 0,
    "start_time": "2022-10-12T15:30:23.732Z"
   },
   {
    "duration": 0,
    "start_time": "2022-10-12T15:30:23.733Z"
   },
   {
    "duration": 0,
    "start_time": "2022-10-12T15:30:23.734Z"
   },
   {
    "duration": 0,
    "start_time": "2022-10-12T15:30:23.734Z"
   },
   {
    "duration": 0,
    "start_time": "2022-10-12T15:30:23.735Z"
   },
   {
    "duration": 0,
    "start_time": "2022-10-12T15:30:23.736Z"
   },
   {
    "duration": 0,
    "start_time": "2022-10-12T15:30:23.737Z"
   },
   {
    "duration": 2,
    "start_time": "2022-10-12T15:32:45.297Z"
   },
   {
    "duration": 4,
    "start_time": "2022-10-12T15:32:59.131Z"
   },
   {
    "duration": 11,
    "start_time": "2022-10-12T15:32:59.899Z"
   },
   {
    "duration": 3,
    "start_time": "2022-10-12T15:34:03.146Z"
   },
   {
    "duration": 10,
    "start_time": "2022-10-12T15:34:03.845Z"
   },
   {
    "duration": 2,
    "start_time": "2022-10-12T15:34:27.923Z"
   },
   {
    "duration": 11,
    "start_time": "2022-10-12T15:34:32.212Z"
   },
   {
    "duration": 3,
    "start_time": "2022-10-12T15:35:08.522Z"
   },
   {
    "duration": 10,
    "start_time": "2022-10-12T15:35:08.817Z"
   },
   {
    "duration": 3,
    "start_time": "2022-10-12T15:35:48.280Z"
   },
   {
    "duration": 3,
    "start_time": "2022-10-12T15:35:51.887Z"
   },
   {
    "duration": 9,
    "start_time": "2022-10-12T15:35:53.279Z"
   },
   {
    "duration": 1224,
    "start_time": "2022-10-12T15:40:03.936Z"
   },
   {
    "duration": 132,
    "start_time": "2022-10-12T15:40:05.162Z"
   },
   {
    "duration": 13,
    "start_time": "2022-10-12T15:40:05.296Z"
   },
   {
    "duration": 29,
    "start_time": "2022-10-12T15:40:05.311Z"
   },
   {
    "duration": 2,
    "start_time": "2022-10-12T15:40:05.341Z"
   },
   {
    "duration": 30,
    "start_time": "2022-10-12T15:40:05.344Z"
   },
   {
    "duration": 296,
    "start_time": "2022-10-12T15:40:05.375Z"
   },
   {
    "duration": 13,
    "start_time": "2022-10-12T15:40:05.673Z"
   },
   {
    "duration": 27,
    "start_time": "2022-10-12T15:40:05.688Z"
   },
   {
    "duration": 7,
    "start_time": "2022-10-12T15:40:05.718Z"
   },
   {
    "duration": 33,
    "start_time": "2022-10-12T15:40:05.727Z"
   },
   {
    "duration": 6,
    "start_time": "2022-10-12T15:40:05.761Z"
   },
   {
    "duration": 20,
    "start_time": "2022-10-12T15:40:05.769Z"
   },
   {
    "duration": 38,
    "start_time": "2022-10-12T15:40:05.791Z"
   },
   {
    "duration": 548,
    "start_time": "2022-10-12T15:40:05.830Z"
   },
   {
    "duration": 261,
    "start_time": "2022-10-12T15:40:06.379Z"
   },
   {
    "duration": 632,
    "start_time": "2022-10-12T15:40:06.641Z"
   },
   {
    "duration": 25,
    "start_time": "2022-10-12T15:40:07.275Z"
   },
   {
    "duration": 22,
    "start_time": "2022-10-12T15:40:07.302Z"
   },
   {
    "duration": 38,
    "start_time": "2022-10-12T15:40:07.325Z"
   },
   {
    "duration": 42,
    "start_time": "2022-10-12T15:40:07.365Z"
   },
   {
    "duration": 52,
    "start_time": "2022-10-12T15:40:07.409Z"
   },
   {
    "duration": 121,
    "start_time": "2022-10-12T15:40:07.463Z"
   },
   {
    "duration": 430,
    "start_time": "2022-10-12T15:40:07.586Z"
   },
   {
    "duration": 9,
    "start_time": "2022-10-12T15:40:08.018Z"
   },
   {
    "duration": 95,
    "start_time": "2022-10-12T15:40:08.028Z"
   },
   {
    "duration": 76,
    "start_time": "2022-10-12T15:40:08.125Z"
   },
   {
    "duration": 64,
    "start_time": "2022-10-12T15:40:08.205Z"
   },
   {
    "duration": 65,
    "start_time": "2022-10-12T15:40:08.271Z"
   },
   {
    "duration": 4,
    "start_time": "2022-10-12T15:40:08.338Z"
   },
   {
    "duration": 6,
    "start_time": "2022-10-12T15:40:08.343Z"
   },
   {
    "duration": 15,
    "start_time": "2022-10-12T15:40:08.350Z"
   },
   {
    "duration": 77,
    "start_time": "2022-10-12T15:40:08.366Z"
   },
   {
    "duration": 2,
    "start_time": "2022-10-12T15:40:08.445Z"
   },
   {
    "duration": 15,
    "start_time": "2022-10-12T15:40:08.449Z"
   },
   {
    "duration": 3,
    "start_time": "2022-10-12T15:40:08.465Z"
   },
   {
    "duration": 15,
    "start_time": "2022-10-12T15:40:08.469Z"
   },
   {
    "duration": 115,
    "start_time": "2022-10-12T15:40:08.500Z"
   },
   {
    "duration": 3,
    "start_time": "2022-10-12T15:40:08.617Z"
   },
   {
    "duration": 16,
    "start_time": "2022-10-12T15:40:08.621Z"
   },
   {
    "duration": 5,
    "start_time": "2022-10-12T15:40:08.638Z"
   },
   {
    "duration": 8,
    "start_time": "2022-10-12T15:40:08.644Z"
   },
   {
    "duration": 31,
    "start_time": "2022-10-12T15:40:08.653Z"
   },
   {
    "duration": 7,
    "start_time": "2022-10-12T15:40:08.685Z"
   },
   {
    "duration": 48,
    "start_time": "2022-10-12T15:40:08.694Z"
   },
   {
    "duration": 5,
    "start_time": "2022-10-12T15:40:08.743Z"
   },
   {
    "duration": 13,
    "start_time": "2022-10-12T15:40:08.749Z"
   },
   {
    "duration": 5,
    "start_time": "2022-10-12T15:40:08.764Z"
   },
   {
    "duration": 24,
    "start_time": "2022-10-12T15:40:08.770Z"
   },
   {
    "duration": 1129,
    "start_time": "2022-10-12T15:51:04.550Z"
   },
   {
    "duration": 147,
    "start_time": "2022-10-12T15:51:05.681Z"
   },
   {
    "duration": 12,
    "start_time": "2022-10-12T15:51:05.829Z"
   },
   {
    "duration": 35,
    "start_time": "2022-10-12T15:51:05.843Z"
   },
   {
    "duration": 8,
    "start_time": "2022-10-12T15:51:05.880Z"
   },
   {
    "duration": 62,
    "start_time": "2022-10-12T15:51:05.889Z"
   },
   {
    "duration": 290,
    "start_time": "2022-10-12T15:51:05.953Z"
   },
   {
    "duration": 12,
    "start_time": "2022-10-12T15:51:06.245Z"
   },
   {
    "duration": 93,
    "start_time": "2022-10-12T15:51:06.258Z"
   },
   {
    "duration": 8,
    "start_time": "2022-10-12T15:51:06.353Z"
   },
   {
    "duration": 22,
    "start_time": "2022-10-12T15:51:06.362Z"
   },
   {
    "duration": 6,
    "start_time": "2022-10-12T15:51:06.386Z"
   },
   {
    "duration": 9,
    "start_time": "2022-10-12T15:51:06.393Z"
   },
   {
    "duration": 29,
    "start_time": "2022-10-12T15:51:06.404Z"
   },
   {
    "duration": 578,
    "start_time": "2022-10-12T15:51:06.435Z"
   },
   {
    "duration": 267,
    "start_time": "2022-10-12T15:51:07.015Z"
   },
   {
    "duration": 626,
    "start_time": "2022-10-12T15:51:07.284Z"
   },
   {
    "duration": 17,
    "start_time": "2022-10-12T15:51:07.914Z"
   },
   {
    "duration": 16,
    "start_time": "2022-10-12T15:51:07.932Z"
   },
   {
    "duration": 51,
    "start_time": "2022-10-12T15:51:07.950Z"
   },
   {
    "duration": 22,
    "start_time": "2022-10-12T15:51:08.002Z"
   },
   {
    "duration": 47,
    "start_time": "2022-10-12T15:51:08.026Z"
   },
   {
    "duration": 134,
    "start_time": "2022-10-12T15:51:08.074Z"
   },
   {
    "duration": 407,
    "start_time": "2022-10-12T15:51:08.210Z"
   },
   {
    "duration": 11,
    "start_time": "2022-10-12T15:51:08.618Z"
   },
   {
    "duration": 111,
    "start_time": "2022-10-12T15:51:08.631Z"
   },
   {
    "duration": 72,
    "start_time": "2022-10-12T15:51:08.744Z"
   },
   {
    "duration": 56,
    "start_time": "2022-10-12T15:51:08.819Z"
   },
   {
    "duration": 68,
    "start_time": "2022-10-12T15:51:08.877Z"
   },
   {
    "duration": 6,
    "start_time": "2022-10-12T15:51:08.946Z"
   },
   {
    "duration": 6,
    "start_time": "2022-10-12T15:51:08.953Z"
   },
   {
    "duration": 13,
    "start_time": "2022-10-12T15:51:08.960Z"
   },
   {
    "duration": 82,
    "start_time": "2022-10-12T15:51:08.975Z"
   },
   {
    "duration": 3,
    "start_time": "2022-10-12T15:51:09.058Z"
   },
   {
    "duration": 24,
    "start_time": "2022-10-12T15:51:09.063Z"
   },
   {
    "duration": 5,
    "start_time": "2022-10-12T15:51:09.089Z"
   },
   {
    "duration": 27,
    "start_time": "2022-10-12T15:51:09.096Z"
   },
   {
    "duration": 112,
    "start_time": "2022-10-12T15:51:09.125Z"
   },
   {
    "duration": 3,
    "start_time": "2022-10-12T15:51:09.238Z"
   },
   {
    "duration": 18,
    "start_time": "2022-10-12T15:51:09.242Z"
   },
   {
    "duration": 5,
    "start_time": "2022-10-12T15:51:09.262Z"
   },
   {
    "duration": 13,
    "start_time": "2022-10-12T15:51:09.268Z"
   },
   {
    "duration": 36,
    "start_time": "2022-10-12T15:51:09.283Z"
   },
   {
    "duration": 2,
    "start_time": "2022-10-12T15:51:09.321Z"
   },
   {
    "duration": 14,
    "start_time": "2022-10-12T15:51:09.324Z"
   },
   {
    "duration": 10,
    "start_time": "2022-10-12T15:51:09.339Z"
   },
   {
    "duration": 16,
    "start_time": "2022-10-12T15:51:09.350Z"
   },
   {
    "duration": 3,
    "start_time": "2022-10-12T15:51:09.368Z"
   },
   {
    "duration": 23,
    "start_time": "2022-10-12T15:51:09.372Z"
   },
   {
    "duration": 1113,
    "start_time": "2022-10-12T15:55:34.617Z"
   },
   {
    "duration": 132,
    "start_time": "2022-10-12T15:55:35.732Z"
   },
   {
    "duration": 11,
    "start_time": "2022-10-12T15:55:35.865Z"
   },
   {
    "duration": 34,
    "start_time": "2022-10-12T15:55:35.877Z"
   },
   {
    "duration": 2,
    "start_time": "2022-10-12T15:55:35.913Z"
   },
   {
    "duration": 26,
    "start_time": "2022-10-12T15:55:35.917Z"
   },
   {
    "duration": 280,
    "start_time": "2022-10-12T15:55:35.944Z"
   },
   {
    "duration": 21,
    "start_time": "2022-10-12T15:55:36.226Z"
   },
   {
    "duration": 30,
    "start_time": "2022-10-12T15:55:36.249Z"
   },
   {
    "duration": 8,
    "start_time": "2022-10-12T15:55:36.281Z"
   },
   {
    "duration": 20,
    "start_time": "2022-10-12T15:55:36.302Z"
   },
   {
    "duration": 9,
    "start_time": "2022-10-12T15:55:36.323Z"
   },
   {
    "duration": 8,
    "start_time": "2022-10-12T15:55:36.334Z"
   },
   {
    "duration": 18,
    "start_time": "2022-10-12T15:55:36.344Z"
   },
   {
    "duration": 587,
    "start_time": "2022-10-12T15:55:36.364Z"
   },
   {
    "duration": 261,
    "start_time": "2022-10-12T15:55:36.952Z"
   },
   {
    "duration": 618,
    "start_time": "2022-10-12T15:55:37.214Z"
   },
   {
    "duration": 16,
    "start_time": "2022-10-12T15:55:37.833Z"
   },
   {
    "duration": 16,
    "start_time": "2022-10-12T15:55:37.851Z"
   },
   {
    "duration": 59,
    "start_time": "2022-10-12T15:55:37.869Z"
   },
   {
    "duration": 18,
    "start_time": "2022-10-12T15:55:37.930Z"
   },
   {
    "duration": 67,
    "start_time": "2022-10-12T15:55:37.950Z"
   },
   {
    "duration": 107,
    "start_time": "2022-10-12T15:55:38.018Z"
   },
   {
    "duration": 411,
    "start_time": "2022-10-12T15:55:38.127Z"
   },
   {
    "duration": 11,
    "start_time": "2022-10-12T15:55:38.540Z"
   },
   {
    "duration": 90,
    "start_time": "2022-10-12T15:55:38.553Z"
   },
   {
    "duration": 74,
    "start_time": "2022-10-12T15:55:38.644Z"
   },
   {
    "duration": 57,
    "start_time": "2022-10-12T15:55:38.721Z"
   },
   {
    "duration": 69,
    "start_time": "2022-10-12T15:55:38.779Z"
   },
   {
    "duration": 5,
    "start_time": "2022-10-12T15:55:38.849Z"
   },
   {
    "duration": 6,
    "start_time": "2022-10-12T15:55:38.855Z"
   },
   {
    "duration": 15,
    "start_time": "2022-10-12T15:55:38.862Z"
   },
   {
    "duration": 67,
    "start_time": "2022-10-12T15:55:38.878Z"
   },
   {
    "duration": 3,
    "start_time": "2022-10-12T15:55:38.946Z"
   },
   {
    "duration": 16,
    "start_time": "2022-10-12T15:55:38.950Z"
   },
   {
    "duration": 2,
    "start_time": "2022-10-12T15:55:38.968Z"
   },
   {
    "duration": 14,
    "start_time": "2022-10-12T15:55:38.972Z"
   },
   {
    "duration": 130,
    "start_time": "2022-10-12T15:55:38.987Z"
   },
   {
    "duration": 3,
    "start_time": "2022-10-12T15:55:39.118Z"
   },
   {
    "duration": 16,
    "start_time": "2022-10-12T15:55:39.122Z"
   },
   {
    "duration": 5,
    "start_time": "2022-10-12T15:55:39.140Z"
   },
   {
    "duration": 7,
    "start_time": "2022-10-12T15:55:39.147Z"
   },
   {
    "duration": 13,
    "start_time": "2022-10-12T15:55:39.155Z"
   },
   {
    "duration": 3,
    "start_time": "2022-10-12T15:55:39.170Z"
   },
   {
    "duration": 39,
    "start_time": "2022-10-12T15:55:39.175Z"
   },
   {
    "duration": 3,
    "start_time": "2022-10-12T15:55:39.215Z"
   },
   {
    "duration": 20,
    "start_time": "2022-10-12T15:55:39.220Z"
   },
   {
    "duration": 4,
    "start_time": "2022-10-12T15:55:39.242Z"
   },
   {
    "duration": 16,
    "start_time": "2022-10-12T15:55:39.247Z"
   },
   {
    "duration": 76,
    "start_time": "2022-10-12T20:19:46.297Z"
   },
   {
    "duration": 0,
    "start_time": "2022-10-12T20:19:46.374Z"
   },
   {
    "duration": 0,
    "start_time": "2022-10-12T20:19:46.375Z"
   },
   {
    "duration": 0,
    "start_time": "2022-10-12T20:19:46.376Z"
   },
   {
    "duration": 0,
    "start_time": "2022-10-12T20:19:46.377Z"
   },
   {
    "duration": 0,
    "start_time": "2022-10-12T20:19:46.379Z"
   },
   {
    "duration": 0,
    "start_time": "2022-10-12T20:19:46.380Z"
   },
   {
    "duration": 0,
    "start_time": "2022-10-12T20:19:46.380Z"
   },
   {
    "duration": 0,
    "start_time": "2022-10-12T20:19:46.381Z"
   },
   {
    "duration": 40,
    "start_time": "2022-10-12T20:19:46.383Z"
   },
   {
    "duration": 0,
    "start_time": "2022-10-12T20:19:46.424Z"
   },
   {
    "duration": 0,
    "start_time": "2022-10-12T20:19:46.426Z"
   },
   {
    "duration": 0,
    "start_time": "2022-10-12T20:19:46.427Z"
   },
   {
    "duration": 5,
    "start_time": "2022-10-12T20:19:46.428Z"
   },
   {
    "duration": 0,
    "start_time": "2022-10-12T20:19:46.434Z"
   },
   {
    "duration": 5,
    "start_time": "2022-10-12T20:19:46.439Z"
   },
   {
    "duration": 0,
    "start_time": "2022-10-12T20:19:46.445Z"
   },
   {
    "duration": 8,
    "start_time": "2022-10-12T20:19:46.449Z"
   },
   {
    "duration": 0,
    "start_time": "2022-10-12T20:19:46.458Z"
   },
   {
    "duration": 11,
    "start_time": "2022-10-12T20:19:46.462Z"
   },
   {
    "duration": 0,
    "start_time": "2022-10-12T20:19:46.474Z"
   },
   {
    "duration": 8,
    "start_time": "2022-10-12T20:19:46.505Z"
   },
   {
    "duration": 0,
    "start_time": "2022-10-12T20:19:46.515Z"
   },
   {
    "duration": 8,
    "start_time": "2022-10-12T20:19:46.551Z"
   },
   {
    "duration": 0,
    "start_time": "2022-10-12T20:19:46.561Z"
   },
   {
    "duration": 0,
    "start_time": "2022-10-12T20:19:46.562Z"
   },
   {
    "duration": 0,
    "start_time": "2022-10-12T20:19:46.564Z"
   },
   {
    "duration": 0,
    "start_time": "2022-10-12T20:19:46.565Z"
   },
   {
    "duration": 0,
    "start_time": "2022-10-12T20:19:46.566Z"
   },
   {
    "duration": 0,
    "start_time": "2022-10-12T20:19:46.567Z"
   },
   {
    "duration": 0,
    "start_time": "2022-10-12T20:19:46.568Z"
   },
   {
    "duration": 3,
    "start_time": "2022-10-12T20:19:46.573Z"
   },
   {
    "duration": 10,
    "start_time": "2022-10-12T20:19:46.579Z"
   },
   {
    "duration": 6,
    "start_time": "2022-10-12T20:19:46.606Z"
   },
   {
    "duration": 0,
    "start_time": "2022-10-12T20:19:46.614Z"
   },
   {
    "duration": 6,
    "start_time": "2022-10-12T20:19:46.618Z"
   },
   {
    "duration": 3,
    "start_time": "2022-10-12T20:19:46.630Z"
   },
   {
    "duration": 7,
    "start_time": "2022-10-12T20:19:46.638Z"
   },
   {
    "duration": 6,
    "start_time": "2022-10-12T20:19:46.647Z"
   },
   {
    "duration": 4,
    "start_time": "2022-10-12T20:19:46.657Z"
   },
   {
    "duration": 9,
    "start_time": "2022-10-12T20:19:46.664Z"
   },
   {
    "duration": 4,
    "start_time": "2022-10-12T20:19:46.676Z"
   },
   {
    "duration": 3,
    "start_time": "2022-10-12T20:19:46.707Z"
   },
   {
    "duration": 11,
    "start_time": "2022-10-12T20:19:46.711Z"
   },
   {
    "duration": 0,
    "start_time": "2022-10-12T20:19:46.723Z"
   },
   {
    "duration": 0,
    "start_time": "2022-10-12T20:19:46.724Z"
   },
   {
    "duration": 0,
    "start_time": "2022-10-12T20:19:46.725Z"
   },
   {
    "duration": 0,
    "start_time": "2022-10-12T20:19:46.726Z"
   },
   {
    "duration": 2,
    "start_time": "2022-10-12T20:19:46.730Z"
   },
   {
    "duration": 12,
    "start_time": "2022-10-12T20:19:46.734Z"
   },
   {
    "duration": 1094,
    "start_time": "2022-10-12T20:21:32.829Z"
   },
   {
    "duration": 137,
    "start_time": "2022-10-12T20:21:33.924Z"
   },
   {
    "duration": 11,
    "start_time": "2022-10-12T20:21:34.063Z"
   },
   {
    "duration": 19,
    "start_time": "2022-10-12T20:21:34.076Z"
   },
   {
    "duration": 3,
    "start_time": "2022-10-12T20:21:34.105Z"
   },
   {
    "duration": 27,
    "start_time": "2022-10-12T20:21:34.110Z"
   },
   {
    "duration": 272,
    "start_time": "2022-10-12T20:21:34.138Z"
   },
   {
    "duration": 13,
    "start_time": "2022-10-12T20:21:34.412Z"
   },
   {
    "duration": 19,
    "start_time": "2022-10-12T20:21:34.427Z"
   },
   {
    "duration": 9,
    "start_time": "2022-10-12T20:21:34.449Z"
   },
   {
    "duration": 48,
    "start_time": "2022-10-12T20:21:34.459Z"
   },
   {
    "duration": 6,
    "start_time": "2022-10-12T20:21:34.509Z"
   },
   {
    "duration": 9,
    "start_time": "2022-10-12T20:21:34.517Z"
   },
   {
    "duration": 17,
    "start_time": "2022-10-12T20:21:34.527Z"
   },
   {
    "duration": 577,
    "start_time": "2022-10-12T20:21:34.546Z"
   },
   {
    "duration": 253,
    "start_time": "2022-10-12T20:21:35.124Z"
   },
   {
    "duration": 641,
    "start_time": "2022-10-12T20:21:35.379Z"
   },
   {
    "duration": 19,
    "start_time": "2022-10-12T20:21:36.022Z"
   },
   {
    "duration": 18,
    "start_time": "2022-10-12T20:21:36.043Z"
   },
   {
    "duration": 65,
    "start_time": "2022-10-12T20:21:36.062Z"
   },
   {
    "duration": 19,
    "start_time": "2022-10-12T20:21:36.128Z"
   },
   {
    "duration": 65,
    "start_time": "2022-10-12T20:21:36.149Z"
   },
   {
    "duration": 129,
    "start_time": "2022-10-12T20:21:36.216Z"
   },
   {
    "duration": 457,
    "start_time": "2022-10-12T20:21:36.347Z"
   },
   {
    "duration": 10,
    "start_time": "2022-10-12T20:21:36.806Z"
   },
   {
    "duration": 106,
    "start_time": "2022-10-12T20:21:36.818Z"
   },
   {
    "duration": 26,
    "start_time": "2022-10-12T20:21:36.926Z"
   },
   {
    "duration": 101,
    "start_time": "2022-10-12T20:21:36.956Z"
   },
   {
    "duration": 75,
    "start_time": "2022-10-12T20:21:37.059Z"
   },
   {
    "duration": 5,
    "start_time": "2022-10-12T20:21:37.136Z"
   },
   {
    "duration": 7,
    "start_time": "2022-10-12T20:21:37.142Z"
   },
   {
    "duration": 15,
    "start_time": "2022-10-12T20:21:37.150Z"
   },
   {
    "duration": 85,
    "start_time": "2022-10-12T20:21:37.166Z"
   },
   {
    "duration": 2,
    "start_time": "2022-10-12T20:21:37.253Z"
   },
   {
    "duration": 17,
    "start_time": "2022-10-12T20:21:37.257Z"
   },
   {
    "duration": 7,
    "start_time": "2022-10-12T20:21:37.275Z"
   },
   {
    "duration": 21,
    "start_time": "2022-10-12T20:21:37.284Z"
   },
   {
    "duration": 129,
    "start_time": "2022-10-12T20:21:37.306Z"
   },
   {
    "duration": 3,
    "start_time": "2022-10-12T20:21:37.437Z"
   },
   {
    "duration": 17,
    "start_time": "2022-10-12T20:21:37.442Z"
   },
   {
    "duration": 6,
    "start_time": "2022-10-12T20:21:37.461Z"
   },
   {
    "duration": 9,
    "start_time": "2022-10-12T20:21:37.470Z"
   },
   {
    "duration": 31,
    "start_time": "2022-10-12T20:21:37.481Z"
   },
   {
    "duration": 10,
    "start_time": "2022-10-12T20:21:37.514Z"
   },
   {
    "duration": 19,
    "start_time": "2022-10-12T20:21:37.525Z"
   },
   {
    "duration": 6,
    "start_time": "2022-10-12T20:21:37.546Z"
   },
   {
    "duration": 19,
    "start_time": "2022-10-12T20:21:37.554Z"
   },
   {
    "duration": 3,
    "start_time": "2022-10-12T20:21:37.575Z"
   },
   {
    "duration": 29,
    "start_time": "2022-10-12T20:21:37.579Z"
   },
   {
    "duration": 138,
    "start_time": "2022-10-12T20:27:27.667Z"
   },
   {
    "duration": 17,
    "start_time": "2022-10-12T20:27:41.018Z"
   },
   {
    "duration": 15,
    "start_time": "2022-10-12T20:27:59.421Z"
   },
   {
    "duration": 10,
    "start_time": "2022-10-12T20:28:29.972Z"
   },
   {
    "duration": 9,
    "start_time": "2022-10-12T20:29:32.789Z"
   },
   {
    "duration": 9,
    "start_time": "2022-10-12T20:29:54.967Z"
   },
   {
    "duration": 78,
    "start_time": "2022-10-12T20:30:23.302Z"
   },
   {
    "duration": 1263,
    "start_time": "2022-10-13T06:21:42.076Z"
   },
   {
    "duration": 670,
    "start_time": "2022-10-13T06:21:43.341Z"
   },
   {
    "duration": 12,
    "start_time": "2022-10-13T06:21:44.013Z"
   },
   {
    "duration": 17,
    "start_time": "2022-10-13T06:21:44.027Z"
   },
   {
    "duration": 3,
    "start_time": "2022-10-13T06:21:44.045Z"
   },
   {
    "duration": 22,
    "start_time": "2022-10-13T06:21:44.049Z"
   },
   {
    "duration": 274,
    "start_time": "2022-10-13T06:21:44.073Z"
   },
   {
    "duration": 13,
    "start_time": "2022-10-13T06:21:44.348Z"
   },
   {
    "duration": 20,
    "start_time": "2022-10-13T06:21:44.362Z"
   },
   {
    "duration": 27,
    "start_time": "2022-10-13T06:21:44.385Z"
   },
   {
    "duration": 17,
    "start_time": "2022-10-13T06:21:44.413Z"
   },
   {
    "duration": 6,
    "start_time": "2022-10-13T06:21:44.432Z"
   },
   {
    "duration": 11,
    "start_time": "2022-10-13T06:21:44.439Z"
   },
   {
    "duration": 17,
    "start_time": "2022-10-13T06:21:44.451Z"
   },
   {
    "duration": 541,
    "start_time": "2022-10-13T06:21:44.469Z"
   },
   {
    "duration": 246,
    "start_time": "2022-10-13T06:21:45.011Z"
   },
   {
    "duration": 554,
    "start_time": "2022-10-13T06:21:45.258Z"
   },
   {
    "duration": 15,
    "start_time": "2022-10-13T06:21:45.814Z"
   },
   {
    "duration": 15,
    "start_time": "2022-10-13T06:21:45.831Z"
   },
   {
    "duration": 35,
    "start_time": "2022-10-13T06:21:45.847Z"
   },
   {
    "duration": 37,
    "start_time": "2022-10-13T06:21:45.884Z"
   },
   {
    "duration": 46,
    "start_time": "2022-10-13T06:21:45.923Z"
   },
   {
    "duration": 109,
    "start_time": "2022-10-13T06:21:45.970Z"
   },
   {
    "duration": 407,
    "start_time": "2022-10-13T06:21:46.080Z"
   },
   {
    "duration": 10,
    "start_time": "2022-10-13T06:21:46.489Z"
   },
   {
    "duration": 11,
    "start_time": "2022-10-13T06:21:46.500Z"
   },
   {
    "duration": 102,
    "start_time": "2022-10-13T06:21:46.512Z"
   },
   {
    "duration": 22,
    "start_time": "2022-10-13T06:21:46.617Z"
   },
   {
    "duration": 68,
    "start_time": "2022-10-13T06:21:46.640Z"
   },
   {
    "duration": 51,
    "start_time": "2022-10-13T06:21:46.709Z"
   },
   {
    "duration": 5,
    "start_time": "2022-10-13T06:21:46.761Z"
   },
   {
    "duration": 7,
    "start_time": "2022-10-13T06:21:46.767Z"
   },
   {
    "duration": 13,
    "start_time": "2022-10-13T06:21:46.775Z"
   },
   {
    "duration": 53,
    "start_time": "2022-10-13T06:21:46.805Z"
   },
   {
    "duration": 3,
    "start_time": "2022-10-13T06:21:46.859Z"
   },
   {
    "duration": 16,
    "start_time": "2022-10-13T06:21:46.863Z"
   },
   {
    "duration": 3,
    "start_time": "2022-10-13T06:21:46.880Z"
   },
   {
    "duration": 28,
    "start_time": "2022-10-13T06:21:46.884Z"
   },
   {
    "duration": 105,
    "start_time": "2022-10-13T06:21:46.914Z"
   },
   {
    "duration": 3,
    "start_time": "2022-10-13T06:21:47.020Z"
   },
   {
    "duration": 15,
    "start_time": "2022-10-13T06:21:47.024Z"
   },
   {
    "duration": 5,
    "start_time": "2022-10-13T06:21:47.040Z"
   },
   {
    "duration": 6,
    "start_time": "2022-10-13T06:21:47.046Z"
   },
   {
    "duration": 13,
    "start_time": "2022-10-13T06:21:47.053Z"
   },
   {
    "duration": 3,
    "start_time": "2022-10-13T06:21:47.067Z"
   },
   {
    "duration": 14,
    "start_time": "2022-10-13T06:21:47.071Z"
   },
   {
    "duration": 3,
    "start_time": "2022-10-13T06:21:47.105Z"
   },
   {
    "duration": 17,
    "start_time": "2022-10-13T06:21:47.109Z"
   },
   {
    "duration": 10,
    "start_time": "2022-10-13T06:21:47.128Z"
   },
   {
    "duration": 13,
    "start_time": "2022-10-13T06:21:47.139Z"
   },
   {
    "duration": 29,
    "start_time": "2022-10-13T06:22:56.181Z"
   },
   {
    "duration": 36,
    "start_time": "2022-10-13T06:23:18.749Z"
   },
   {
    "duration": 27,
    "start_time": "2022-10-13T06:23:39.861Z"
   },
   {
    "duration": 28,
    "start_time": "2022-10-13T06:24:08.744Z"
   },
   {
    "duration": 1179,
    "start_time": "2022-10-13T06:24:21.669Z"
   },
   {
    "duration": 139,
    "start_time": "2022-10-13T06:24:22.850Z"
   },
   {
    "duration": 15,
    "start_time": "2022-10-13T06:24:22.991Z"
   },
   {
    "duration": 17,
    "start_time": "2022-10-13T06:24:23.008Z"
   },
   {
    "duration": 3,
    "start_time": "2022-10-13T06:24:23.027Z"
   },
   {
    "duration": 22,
    "start_time": "2022-10-13T06:24:23.031Z"
   },
   {
    "duration": 290,
    "start_time": "2022-10-13T06:24:23.055Z"
   },
   {
    "duration": 13,
    "start_time": "2022-10-13T06:24:23.347Z"
   },
   {
    "duration": 28,
    "start_time": "2022-10-13T06:24:23.361Z"
   },
   {
    "duration": 8,
    "start_time": "2022-10-13T06:24:23.404Z"
   },
   {
    "duration": 19,
    "start_time": "2022-10-13T06:24:23.414Z"
   },
   {
    "duration": 6,
    "start_time": "2022-10-13T06:24:23.435Z"
   },
   {
    "duration": 10,
    "start_time": "2022-10-13T06:24:23.442Z"
   },
   {
    "duration": 18,
    "start_time": "2022-10-13T06:24:23.453Z"
   },
   {
    "duration": 598,
    "start_time": "2022-10-13T06:24:23.472Z"
   },
   {
    "duration": 257,
    "start_time": "2022-10-13T06:24:24.071Z"
   },
   {
    "duration": 606,
    "start_time": "2022-10-13T06:24:24.330Z"
   },
   {
    "duration": 18,
    "start_time": "2022-10-13T06:24:24.938Z"
   },
   {
    "duration": 28,
    "start_time": "2022-10-13T06:24:24.957Z"
   },
   {
    "duration": 41,
    "start_time": "2022-10-13T06:24:24.986Z"
   },
   {
    "duration": 16,
    "start_time": "2022-10-13T06:24:25.029Z"
   },
   {
    "duration": 49,
    "start_time": "2022-10-13T06:24:25.047Z"
   },
   {
    "duration": 103,
    "start_time": "2022-10-13T06:24:25.104Z"
   },
   {
    "duration": 386,
    "start_time": "2022-10-13T06:24:25.209Z"
   },
   {
    "duration": 10,
    "start_time": "2022-10-13T06:24:25.597Z"
   },
   {
    "duration": 12,
    "start_time": "2022-10-13T06:24:25.609Z"
   },
   {
    "duration": 103,
    "start_time": "2022-10-13T06:24:25.623Z"
   },
   {
    "duration": 26,
    "start_time": "2022-10-13T06:24:25.730Z"
   },
   {
    "duration": 117,
    "start_time": "2022-10-13T06:24:25.757Z"
   },
   {
    "duration": 67,
    "start_time": "2022-10-13T06:24:25.876Z"
   },
   {
    "duration": 7,
    "start_time": "2022-10-13T06:24:25.945Z"
   },
   {
    "duration": 9,
    "start_time": "2022-10-13T06:24:25.954Z"
   },
   {
    "duration": 16,
    "start_time": "2022-10-13T06:24:25.965Z"
   },
   {
    "duration": 86,
    "start_time": "2022-10-13T06:24:25.983Z"
   },
   {
    "duration": 3,
    "start_time": "2022-10-13T06:24:26.071Z"
   },
   {
    "duration": 31,
    "start_time": "2022-10-13T06:24:26.076Z"
   },
   {
    "duration": 3,
    "start_time": "2022-10-13T06:24:26.108Z"
   },
   {
    "duration": 16,
    "start_time": "2022-10-13T06:24:26.113Z"
   },
   {
    "duration": 137,
    "start_time": "2022-10-13T06:24:26.131Z"
   },
   {
    "duration": 3,
    "start_time": "2022-10-13T06:24:26.270Z"
   },
   {
    "duration": 35,
    "start_time": "2022-10-13T06:24:26.275Z"
   },
   {
    "duration": 15,
    "start_time": "2022-10-13T06:24:26.312Z"
   },
   {
    "duration": 15,
    "start_time": "2022-10-13T06:24:26.329Z"
   },
   {
    "duration": 17,
    "start_time": "2022-10-13T06:24:26.346Z"
   },
   {
    "duration": 6,
    "start_time": "2022-10-13T06:24:26.364Z"
   },
   {
    "duration": 16,
    "start_time": "2022-10-13T06:24:26.371Z"
   },
   {
    "duration": 4,
    "start_time": "2022-10-13T06:24:26.389Z"
   },
   {
    "duration": 24,
    "start_time": "2022-10-13T06:24:26.395Z"
   },
   {
    "duration": 4,
    "start_time": "2022-10-13T06:24:26.421Z"
   },
   {
    "duration": 14,
    "start_time": "2022-10-13T06:24:26.426Z"
   },
   {
    "duration": 1155,
    "start_time": "2022-10-13T06:26:02.992Z"
   },
   {
    "duration": 161,
    "start_time": "2022-10-13T06:26:04.148Z"
   },
   {
    "duration": 10,
    "start_time": "2022-10-13T06:26:04.311Z"
   },
   {
    "duration": 22,
    "start_time": "2022-10-13T06:26:04.323Z"
   },
   {
    "duration": 3,
    "start_time": "2022-10-13T06:26:04.346Z"
   },
   {
    "duration": 25,
    "start_time": "2022-10-13T06:26:04.350Z"
   },
   {
    "duration": 284,
    "start_time": "2022-10-13T06:26:04.377Z"
   },
   {
    "duration": 12,
    "start_time": "2022-10-13T06:26:04.663Z"
   },
   {
    "duration": 38,
    "start_time": "2022-10-13T06:26:04.677Z"
   },
   {
    "duration": 9,
    "start_time": "2022-10-13T06:26:04.718Z"
   },
   {
    "duration": 19,
    "start_time": "2022-10-13T06:26:04.729Z"
   },
   {
    "duration": 7,
    "start_time": "2022-10-13T06:26:04.749Z"
   },
   {
    "duration": 11,
    "start_time": "2022-10-13T06:26:04.757Z"
   },
   {
    "duration": 38,
    "start_time": "2022-10-13T06:26:04.770Z"
   },
   {
    "duration": 574,
    "start_time": "2022-10-13T06:26:04.809Z"
   },
   {
    "duration": 261,
    "start_time": "2022-10-13T06:26:05.385Z"
   },
   {
    "duration": 660,
    "start_time": "2022-10-13T06:26:05.647Z"
   },
   {
    "duration": 20,
    "start_time": "2022-10-13T06:26:06.309Z"
   },
   {
    "duration": 24,
    "start_time": "2022-10-13T06:26:06.331Z"
   },
   {
    "duration": 50,
    "start_time": "2022-10-13T06:26:06.357Z"
   },
   {
    "duration": 21,
    "start_time": "2022-10-13T06:26:06.408Z"
   },
   {
    "duration": 72,
    "start_time": "2022-10-13T06:26:06.431Z"
   },
   {
    "duration": 118,
    "start_time": "2022-10-13T06:26:06.504Z"
   },
   {
    "duration": 395,
    "start_time": "2022-10-13T06:26:06.624Z"
   },
   {
    "duration": 9,
    "start_time": "2022-10-13T06:26:07.021Z"
   },
   {
    "duration": 29,
    "start_time": "2022-10-13T06:26:07.032Z"
   },
   {
    "duration": 102,
    "start_time": "2022-10-13T06:26:07.063Z"
   },
   {
    "duration": 50,
    "start_time": "2022-10-13T06:26:07.168Z"
   },
   {
    "duration": 65,
    "start_time": "2022-10-13T06:26:07.220Z"
   },
   {
    "duration": 77,
    "start_time": "2022-10-13T06:26:07.286Z"
   },
   {
    "duration": 7,
    "start_time": "2022-10-13T06:26:07.365Z"
   },
   {
    "duration": 63,
    "start_time": "2022-10-13T06:26:07.376Z"
   },
   {
    "duration": 48,
    "start_time": "2022-10-13T06:26:07.440Z"
   },
   {
    "duration": 73,
    "start_time": "2022-10-13T06:26:07.490Z"
   },
   {
    "duration": 3,
    "start_time": "2022-10-13T06:26:07.565Z"
   },
   {
    "duration": 31,
    "start_time": "2022-10-13T06:26:07.570Z"
   },
   {
    "duration": 32,
    "start_time": "2022-10-13T06:26:07.602Z"
   },
   {
    "duration": 54,
    "start_time": "2022-10-13T06:26:07.636Z"
   },
   {
    "duration": 129,
    "start_time": "2022-10-13T06:26:07.692Z"
   },
   {
    "duration": 3,
    "start_time": "2022-10-13T06:26:07.823Z"
   },
   {
    "duration": 45,
    "start_time": "2022-10-13T06:26:07.828Z"
   },
   {
    "duration": 16,
    "start_time": "2022-10-13T06:26:07.875Z"
   },
   {
    "duration": 22,
    "start_time": "2022-10-13T06:26:07.892Z"
   },
   {
    "duration": 66,
    "start_time": "2022-10-13T06:26:07.916Z"
   },
   {
    "duration": 39,
    "start_time": "2022-10-13T06:26:07.984Z"
   },
   {
    "duration": 35,
    "start_time": "2022-10-13T06:26:08.025Z"
   },
   {
    "duration": 28,
    "start_time": "2022-10-13T06:26:08.062Z"
   },
   {
    "duration": 39,
    "start_time": "2022-10-13T06:26:08.092Z"
   },
   {
    "duration": 27,
    "start_time": "2022-10-13T06:26:08.133Z"
   },
   {
    "duration": 37,
    "start_time": "2022-10-13T06:26:08.162Z"
   },
   {
    "duration": 150,
    "start_time": "2022-10-13T06:29:18.815Z"
   },
   {
    "duration": 26,
    "start_time": "2022-10-13T06:29:39.129Z"
   },
   {
    "duration": 1122,
    "start_time": "2022-10-13T06:29:43.314Z"
   },
   {
    "duration": 138,
    "start_time": "2022-10-13T06:29:44.437Z"
   },
   {
    "duration": 12,
    "start_time": "2022-10-13T06:29:44.577Z"
   },
   {
    "duration": 23,
    "start_time": "2022-10-13T06:29:44.591Z"
   },
   {
    "duration": 3,
    "start_time": "2022-10-13T06:29:44.616Z"
   },
   {
    "duration": 23,
    "start_time": "2022-10-13T06:29:44.620Z"
   },
   {
    "duration": 271,
    "start_time": "2022-10-13T06:29:44.644Z"
   },
   {
    "duration": 13,
    "start_time": "2022-10-13T06:29:44.917Z"
   },
   {
    "duration": 31,
    "start_time": "2022-10-13T06:29:44.932Z"
   },
   {
    "duration": 9,
    "start_time": "2022-10-13T06:29:44.966Z"
   },
   {
    "duration": 40,
    "start_time": "2022-10-13T06:29:44.976Z"
   },
   {
    "duration": 16,
    "start_time": "2022-10-13T06:29:45.017Z"
   },
   {
    "duration": 17,
    "start_time": "2022-10-13T06:29:45.035Z"
   },
   {
    "duration": 20,
    "start_time": "2022-10-13T06:29:45.053Z"
   },
   {
    "duration": 520,
    "start_time": "2022-10-13T06:29:45.074Z"
   },
   {
    "duration": 241,
    "start_time": "2022-10-13T06:29:45.596Z"
   },
   {
    "duration": 590,
    "start_time": "2022-10-13T06:29:45.839Z"
   },
   {
    "duration": 16,
    "start_time": "2022-10-13T06:29:46.430Z"
   },
   {
    "duration": 14,
    "start_time": "2022-10-13T06:29:46.448Z"
   },
   {
    "duration": 59,
    "start_time": "2022-10-13T06:29:46.464Z"
   },
   {
    "duration": 16,
    "start_time": "2022-10-13T06:29:46.524Z"
   },
   {
    "duration": 40,
    "start_time": "2022-10-13T06:29:46.542Z"
   },
   {
    "duration": 112,
    "start_time": "2022-10-13T06:29:46.584Z"
   },
   {
    "duration": 402,
    "start_time": "2022-10-13T06:29:46.697Z"
   },
   {
    "duration": 9,
    "start_time": "2022-10-13T06:29:47.100Z"
   },
   {
    "duration": 9,
    "start_time": "2022-10-13T06:29:47.111Z"
   },
   {
    "duration": 108,
    "start_time": "2022-10-13T06:29:47.122Z"
   },
   {
    "duration": 29,
    "start_time": "2022-10-13T06:29:47.234Z"
   },
   {
    "duration": 88,
    "start_time": "2022-10-13T06:29:47.265Z"
   },
   {
    "duration": 77,
    "start_time": "2022-10-13T06:29:47.355Z"
   },
   {
    "duration": 6,
    "start_time": "2022-10-13T06:29:47.434Z"
   },
   {
    "duration": 10,
    "start_time": "2022-10-13T06:29:47.441Z"
   },
   {
    "duration": 18,
    "start_time": "2022-10-13T06:29:47.453Z"
   },
   {
    "duration": 68,
    "start_time": "2022-10-13T06:29:47.474Z"
   },
   {
    "duration": 3,
    "start_time": "2022-10-13T06:29:47.543Z"
   },
   {
    "duration": 15,
    "start_time": "2022-10-13T06:29:47.547Z"
   },
   {
    "duration": 6,
    "start_time": "2022-10-13T06:29:47.563Z"
   },
   {
    "duration": 13,
    "start_time": "2022-10-13T06:29:47.571Z"
   },
   {
    "duration": 121,
    "start_time": "2022-10-13T06:29:47.585Z"
   },
   {
    "duration": 4,
    "start_time": "2022-10-13T06:29:47.707Z"
   },
   {
    "duration": 14,
    "start_time": "2022-10-13T06:29:47.712Z"
   },
   {
    "duration": 5,
    "start_time": "2022-10-13T06:29:47.727Z"
   },
   {
    "duration": 7,
    "start_time": "2022-10-13T06:29:47.733Z"
   },
   {
    "duration": 15,
    "start_time": "2022-10-13T06:29:47.741Z"
   },
   {
    "duration": 3,
    "start_time": "2022-10-13T06:29:47.757Z"
   },
   {
    "duration": 14,
    "start_time": "2022-10-13T06:29:47.761Z"
   },
   {
    "duration": 4,
    "start_time": "2022-10-13T06:29:47.776Z"
   },
   {
    "duration": 37,
    "start_time": "2022-10-13T06:29:47.782Z"
   },
   {
    "duration": 15,
    "start_time": "2022-10-13T06:29:47.821Z"
   },
   {
    "duration": 18,
    "start_time": "2022-10-13T06:29:47.837Z"
   },
   {
    "duration": 1107,
    "start_time": "2022-10-13T06:34:42.341Z"
   },
   {
    "duration": 141,
    "start_time": "2022-10-13T06:34:43.450Z"
   },
   {
    "duration": 11,
    "start_time": "2022-10-13T06:34:43.593Z"
   },
   {
    "duration": 17,
    "start_time": "2022-10-13T06:34:43.606Z"
   },
   {
    "duration": 3,
    "start_time": "2022-10-13T06:34:43.624Z"
   },
   {
    "duration": 27,
    "start_time": "2022-10-13T06:34:43.628Z"
   },
   {
    "duration": 301,
    "start_time": "2022-10-13T06:34:43.656Z"
   },
   {
    "duration": 14,
    "start_time": "2022-10-13T06:34:43.958Z"
   },
   {
    "duration": 41,
    "start_time": "2022-10-13T06:34:43.973Z"
   },
   {
    "duration": 8,
    "start_time": "2022-10-13T06:34:44.016Z"
   },
   {
    "duration": 17,
    "start_time": "2022-10-13T06:34:44.026Z"
   },
   {
    "duration": 6,
    "start_time": "2022-10-13T06:34:44.045Z"
   },
   {
    "duration": 14,
    "start_time": "2022-10-13T06:34:44.052Z"
   },
   {
    "duration": 41,
    "start_time": "2022-10-13T06:34:44.068Z"
   },
   {
    "duration": 572,
    "start_time": "2022-10-13T06:34:44.111Z"
   },
   {
    "duration": 276,
    "start_time": "2022-10-13T06:34:44.684Z"
   },
   {
    "duration": 614,
    "start_time": "2022-10-13T06:34:44.962Z"
   },
   {
    "duration": 16,
    "start_time": "2022-10-13T06:34:45.578Z"
   },
   {
    "duration": 14,
    "start_time": "2022-10-13T06:34:45.605Z"
   },
   {
    "duration": 38,
    "start_time": "2022-10-13T06:34:45.621Z"
   },
   {
    "duration": 19,
    "start_time": "2022-10-13T06:34:45.660Z"
   },
   {
    "duration": 68,
    "start_time": "2022-10-13T06:34:45.681Z"
   },
   {
    "duration": 119,
    "start_time": "2022-10-13T06:34:45.751Z"
   },
   {
    "duration": 443,
    "start_time": "2022-10-13T06:34:45.872Z"
   },
   {
    "duration": 12,
    "start_time": "2022-10-13T06:34:46.317Z"
   },
   {
    "duration": 13,
    "start_time": "2022-10-13T06:34:46.331Z"
   },
   {
    "duration": 122,
    "start_time": "2022-10-13T06:34:46.345Z"
   },
   {
    "duration": 27,
    "start_time": "2022-10-13T06:34:46.505Z"
   },
   {
    "duration": 72,
    "start_time": "2022-10-13T06:34:46.534Z"
   },
   {
    "duration": 56,
    "start_time": "2022-10-13T06:34:46.607Z"
   },
   {
    "duration": 5,
    "start_time": "2022-10-13T06:34:46.664Z"
   },
   {
    "duration": 7,
    "start_time": "2022-10-13T06:34:46.671Z"
   },
   {
    "duration": 33,
    "start_time": "2022-10-13T06:34:46.680Z"
   },
   {
    "duration": 66,
    "start_time": "2022-10-13T06:34:46.715Z"
   },
   {
    "duration": 3,
    "start_time": "2022-10-13T06:34:46.782Z"
   },
   {
    "duration": 13,
    "start_time": "2022-10-13T06:34:46.805Z"
   },
   {
    "duration": 6,
    "start_time": "2022-10-13T06:34:46.819Z"
   },
   {
    "duration": 14,
    "start_time": "2022-10-13T06:34:46.827Z"
   },
   {
    "duration": 129,
    "start_time": "2022-10-13T06:34:46.843Z"
   },
   {
    "duration": 3,
    "start_time": "2022-10-13T06:34:46.974Z"
   },
   {
    "duration": 17,
    "start_time": "2022-10-13T06:34:46.978Z"
   },
   {
    "duration": 5,
    "start_time": "2022-10-13T06:34:47.005Z"
   },
   {
    "duration": 8,
    "start_time": "2022-10-13T06:34:47.011Z"
   },
   {
    "duration": 14,
    "start_time": "2022-10-13T06:34:47.020Z"
   },
   {
    "duration": 2,
    "start_time": "2022-10-13T06:34:47.036Z"
   },
   {
    "duration": 14,
    "start_time": "2022-10-13T06:34:47.040Z"
   },
   {
    "duration": 2,
    "start_time": "2022-10-13T06:34:47.055Z"
   },
   {
    "duration": 14,
    "start_time": "2022-10-13T06:34:47.059Z"
   },
   {
    "duration": 3,
    "start_time": "2022-10-13T06:34:47.074Z"
   },
   {
    "duration": 37,
    "start_time": "2022-10-13T06:34:47.079Z"
   },
   {
    "duration": 1346,
    "start_time": "2022-10-13T11:22:44.250Z"
   },
   {
    "duration": 474,
    "start_time": "2022-10-13T11:22:45.598Z"
   },
   {
    "duration": 12,
    "start_time": "2022-10-13T11:22:46.074Z"
   },
   {
    "duration": 24,
    "start_time": "2022-10-13T11:22:46.088Z"
   },
   {
    "duration": 3,
    "start_time": "2022-10-13T11:22:46.114Z"
   },
   {
    "duration": 27,
    "start_time": "2022-10-13T11:22:46.120Z"
   },
   {
    "duration": 312,
    "start_time": "2022-10-13T11:22:46.148Z"
   },
   {
    "duration": 15,
    "start_time": "2022-10-13T11:22:46.462Z"
   },
   {
    "duration": 45,
    "start_time": "2022-10-13T11:22:46.478Z"
   },
   {
    "duration": 9,
    "start_time": "2022-10-13T11:22:46.526Z"
   },
   {
    "duration": 25,
    "start_time": "2022-10-13T11:22:46.536Z"
   },
   {
    "duration": 13,
    "start_time": "2022-10-13T11:22:46.563Z"
   },
   {
    "duration": 11,
    "start_time": "2022-10-13T11:22:46.578Z"
   },
   {
    "duration": 39,
    "start_time": "2022-10-13T11:22:46.591Z"
   },
   {
    "duration": 600,
    "start_time": "2022-10-13T11:22:46.631Z"
   },
   {
    "duration": 282,
    "start_time": "2022-10-13T11:22:47.233Z"
   },
   {
    "duration": 661,
    "start_time": "2022-10-13T11:22:47.520Z"
   },
   {
    "duration": 17,
    "start_time": "2022-10-13T11:22:48.183Z"
   },
   {
    "duration": 33,
    "start_time": "2022-10-13T11:22:48.201Z"
   },
   {
    "duration": 58,
    "start_time": "2022-10-13T11:22:48.236Z"
   },
   {
    "duration": 18,
    "start_time": "2022-10-13T11:22:48.295Z"
   },
   {
    "duration": 77,
    "start_time": "2022-10-13T11:22:48.316Z"
   },
   {
    "duration": 114,
    "start_time": "2022-10-13T11:22:48.395Z"
   },
   {
    "duration": 1236,
    "start_time": "2022-10-13T11:23:21.150Z"
   },
   {
    "duration": 143,
    "start_time": "2022-10-13T11:23:22.389Z"
   },
   {
    "duration": 14,
    "start_time": "2022-10-13T11:23:22.534Z"
   },
   {
    "duration": 42,
    "start_time": "2022-10-13T11:23:22.550Z"
   },
   {
    "duration": 3,
    "start_time": "2022-10-13T11:23:22.593Z"
   },
   {
    "duration": 31,
    "start_time": "2022-10-13T11:23:22.598Z"
   },
   {
    "duration": 330,
    "start_time": "2022-10-13T11:23:22.631Z"
   },
   {
    "duration": 15,
    "start_time": "2022-10-13T11:23:22.963Z"
   },
   {
    "duration": 50,
    "start_time": "2022-10-13T11:23:22.979Z"
   },
   {
    "duration": 10,
    "start_time": "2022-10-13T11:23:23.034Z"
   },
   {
    "duration": 44,
    "start_time": "2022-10-13T11:23:23.046Z"
   },
   {
    "duration": 8,
    "start_time": "2022-10-13T11:23:23.092Z"
   },
   {
    "duration": 20,
    "start_time": "2022-10-13T11:23:23.102Z"
   },
   {
    "duration": 36,
    "start_time": "2022-10-13T11:23:23.123Z"
   },
   {
    "duration": 652,
    "start_time": "2022-10-13T11:23:23.160Z"
   },
   {
    "duration": 302,
    "start_time": "2022-10-13T11:23:23.813Z"
   },
   {
    "duration": 672,
    "start_time": "2022-10-13T11:23:24.116Z"
   },
   {
    "duration": 18,
    "start_time": "2022-10-13T11:23:24.790Z"
   },
   {
    "duration": 26,
    "start_time": "2022-10-13T11:23:24.809Z"
   },
   {
    "duration": 43,
    "start_time": "2022-10-13T11:23:24.836Z"
   },
   {
    "duration": 41,
    "start_time": "2022-10-13T11:23:24.880Z"
   },
   {
    "duration": 47,
    "start_time": "2022-10-13T11:23:24.923Z"
   },
   {
    "duration": 126,
    "start_time": "2022-10-13T11:23:24.972Z"
   },
   {
    "duration": 1255,
    "start_time": "2022-10-13T11:24:04.312Z"
   },
   {
    "duration": 150,
    "start_time": "2022-10-13T11:24:05.569Z"
   },
   {
    "duration": 13,
    "start_time": "2022-10-13T11:24:05.721Z"
   },
   {
    "duration": 33,
    "start_time": "2022-10-13T11:24:05.736Z"
   },
   {
    "duration": 3,
    "start_time": "2022-10-13T11:24:05.771Z"
   },
   {
    "duration": 48,
    "start_time": "2022-10-13T11:24:05.775Z"
   },
   {
    "duration": 327,
    "start_time": "2022-10-13T11:24:05.825Z"
   },
   {
    "duration": 17,
    "start_time": "2022-10-13T11:24:06.155Z"
   },
   {
    "duration": 47,
    "start_time": "2022-10-13T11:24:06.174Z"
   },
   {
    "duration": 10,
    "start_time": "2022-10-13T11:24:06.224Z"
   },
   {
    "duration": 26,
    "start_time": "2022-10-13T11:24:06.235Z"
   },
   {
    "duration": 7,
    "start_time": "2022-10-13T11:24:06.263Z"
   },
   {
    "duration": 16,
    "start_time": "2022-10-13T11:24:06.272Z"
   },
   {
    "duration": 47,
    "start_time": "2022-10-13T11:24:06.290Z"
   },
   {
    "duration": 647,
    "start_time": "2022-10-13T11:24:06.339Z"
   },
   {
    "duration": 293,
    "start_time": "2022-10-13T11:24:06.988Z"
   },
   {
    "duration": 686,
    "start_time": "2022-10-13T11:24:07.282Z"
   },
   {
    "duration": 22,
    "start_time": "2022-10-13T11:24:07.970Z"
   },
   {
    "duration": 31,
    "start_time": "2022-10-13T11:24:07.993Z"
   },
   {
    "duration": 43,
    "start_time": "2022-10-13T11:24:08.025Z"
   },
   {
    "duration": 19,
    "start_time": "2022-10-13T11:24:08.070Z"
   },
   {
    "duration": 85,
    "start_time": "2022-10-13T11:24:08.091Z"
   },
   {
    "duration": 114,
    "start_time": "2022-10-13T11:24:08.178Z"
   },
   {
    "duration": 445,
    "start_time": "2022-10-13T11:24:08.294Z"
   },
   {
    "duration": 11,
    "start_time": "2022-10-13T11:24:08.741Z"
   },
   {
    "duration": 14,
    "start_time": "2022-10-13T11:24:08.753Z"
   },
   {
    "duration": 153,
    "start_time": "2022-10-13T11:24:08.769Z"
   },
   {
    "duration": 33,
    "start_time": "2022-10-13T11:24:08.927Z"
   },
   {
    "duration": 109,
    "start_time": "2022-10-13T11:24:08.962Z"
   },
   {
    "duration": 99,
    "start_time": "2022-10-13T11:24:09.074Z"
   },
   {
    "duration": 8,
    "start_time": "2022-10-13T11:24:09.175Z"
   },
   {
    "duration": 21,
    "start_time": "2022-10-13T11:24:09.186Z"
   },
   {
    "duration": 24,
    "start_time": "2022-10-13T11:24:09.209Z"
   },
   {
    "duration": 68,
    "start_time": "2022-10-13T11:24:09.235Z"
   },
   {
    "duration": 3,
    "start_time": "2022-10-13T11:24:09.305Z"
   },
   {
    "duration": 12,
    "start_time": "2022-10-13T11:24:09.320Z"
   },
   {
    "duration": 5,
    "start_time": "2022-10-13T11:24:09.334Z"
   },
   {
    "duration": 19,
    "start_time": "2022-10-13T11:24:09.341Z"
   },
   {
    "duration": 138,
    "start_time": "2022-10-13T11:24:09.362Z"
   },
   {
    "duration": 4,
    "start_time": "2022-10-13T11:24:09.502Z"
   },
   {
    "duration": 44,
    "start_time": "2022-10-13T11:24:09.507Z"
   },
   {
    "duration": 5,
    "start_time": "2022-10-13T11:24:09.553Z"
   },
   {
    "duration": 14,
    "start_time": "2022-10-13T11:24:09.560Z"
   },
   {
    "duration": 22,
    "start_time": "2022-10-13T11:24:09.576Z"
   },
   {
    "duration": 3,
    "start_time": "2022-10-13T11:24:09.600Z"
   },
   {
    "duration": 27,
    "start_time": "2022-10-13T11:24:09.604Z"
   },
   {
    "duration": 16,
    "start_time": "2022-10-13T11:24:09.633Z"
   },
   {
    "duration": 18,
    "start_time": "2022-10-13T11:24:09.651Z"
   },
   {
    "duration": 10,
    "start_time": "2022-10-13T11:24:09.671Z"
   },
   {
    "duration": 20,
    "start_time": "2022-10-13T11:24:09.683Z"
   },
   {
    "duration": 1380,
    "start_time": "2022-10-23T06:07:15.123Z"
   },
   {
    "duration": 448,
    "start_time": "2022-10-23T06:07:16.505Z"
   },
   {
    "duration": 12,
    "start_time": "2022-10-23T06:07:16.955Z"
   },
   {
    "duration": 20,
    "start_time": "2022-10-23T06:07:16.969Z"
   },
   {
    "duration": 3,
    "start_time": "2022-10-23T06:07:16.990Z"
   },
   {
    "duration": 25,
    "start_time": "2022-10-23T06:07:16.994Z"
   },
   {
    "duration": 303,
    "start_time": "2022-10-23T06:07:17.020Z"
   },
   {
    "duration": 22,
    "start_time": "2022-10-23T06:07:17.325Z"
   },
   {
    "duration": 29,
    "start_time": "2022-10-23T06:07:17.349Z"
   },
   {
    "duration": 8,
    "start_time": "2022-10-23T06:07:17.381Z"
   },
   {
    "duration": 20,
    "start_time": "2022-10-23T06:07:17.391Z"
   },
   {
    "duration": 7,
    "start_time": "2022-10-23T06:07:17.434Z"
   },
   {
    "duration": 10,
    "start_time": "2022-10-23T06:07:17.443Z"
   },
   {
    "duration": 27,
    "start_time": "2022-10-23T06:07:17.454Z"
   },
   {
    "duration": 577,
    "start_time": "2022-10-23T06:07:17.483Z"
   },
   {
    "duration": 285,
    "start_time": "2022-10-23T06:07:18.062Z"
   },
   {
    "duration": 615,
    "start_time": "2022-10-23T06:07:18.349Z"
   },
   {
    "duration": 20,
    "start_time": "2022-10-23T06:07:18.966Z"
   },
   {
    "duration": 17,
    "start_time": "2022-10-23T06:07:18.988Z"
   },
   {
    "duration": 56,
    "start_time": "2022-10-23T06:07:19.007Z"
   },
   {
    "duration": 17,
    "start_time": "2022-10-23T06:07:19.064Z"
   },
   {
    "duration": 68,
    "start_time": "2022-10-23T06:07:19.083Z"
   },
   {
    "duration": 109,
    "start_time": "2022-10-23T06:07:19.153Z"
   },
   {
    "duration": 425,
    "start_time": "2022-10-23T06:07:19.264Z"
   },
   {
    "duration": 10,
    "start_time": "2022-10-23T06:07:19.691Z"
   },
   {
    "duration": 28,
    "start_time": "2022-10-23T06:07:19.703Z"
   },
   {
    "duration": 115,
    "start_time": "2022-10-23T06:07:19.734Z"
   },
   {
    "duration": 22,
    "start_time": "2022-10-23T06:07:19.852Z"
   },
   {
    "duration": 73,
    "start_time": "2022-10-23T06:07:19.876Z"
   },
   {
    "duration": 56,
    "start_time": "2022-10-23T06:07:19.950Z"
   },
   {
    "duration": 5,
    "start_time": "2022-10-23T06:07:20.008Z"
   },
   {
    "duration": 19,
    "start_time": "2022-10-23T06:07:20.014Z"
   },
   {
    "duration": 18,
    "start_time": "2022-10-23T06:07:20.035Z"
   },
   {
    "duration": 65,
    "start_time": "2022-10-23T06:07:20.055Z"
   },
   {
    "duration": 13,
    "start_time": "2022-10-23T06:07:20.121Z"
   },
   {
    "duration": 18,
    "start_time": "2022-10-23T06:07:20.136Z"
   },
   {
    "duration": 2,
    "start_time": "2022-10-23T06:07:20.156Z"
   },
   {
    "duration": 16,
    "start_time": "2022-10-23T06:07:20.160Z"
   },
   {
    "duration": 116,
    "start_time": "2022-10-23T06:07:20.178Z"
   },
   {
    "duration": 2,
    "start_time": "2022-10-23T06:07:20.296Z"
   },
   {
    "duration": 21,
    "start_time": "2022-10-23T06:07:20.300Z"
   },
   {
    "duration": 11,
    "start_time": "2022-10-23T06:07:20.323Z"
   },
   {
    "duration": 14,
    "start_time": "2022-10-23T06:07:20.336Z"
   },
   {
    "duration": 17,
    "start_time": "2022-10-23T06:07:20.352Z"
   },
   {
    "duration": 11,
    "start_time": "2022-10-23T06:07:20.371Z"
   },
   {
    "duration": 24,
    "start_time": "2022-10-23T06:07:20.384Z"
   },
   {
    "duration": 2,
    "start_time": "2022-10-23T06:07:20.410Z"
   },
   {
    "duration": 17,
    "start_time": "2022-10-23T06:07:20.414Z"
   },
   {
    "duration": 3,
    "start_time": "2022-10-23T06:07:20.432Z"
   },
   {
    "duration": 23,
    "start_time": "2022-10-23T06:07:20.436Z"
   }
  ],
  "kernelspec": {
   "display_name": "Python 3 (ipykernel)",
   "language": "python",
   "name": "python3"
  },
  "language_info": {
   "codemirror_mode": {
    "name": "ipython",
    "version": 3
   },
   "file_extension": ".py",
   "mimetype": "text/x-python",
   "name": "python",
   "nbconvert_exporter": "python",
   "pygments_lexer": "ipython3",
   "version": "3.9.12"
  },
  "toc": {
   "base_numbering": 1,
   "nav_menu": {},
   "number_sections": true,
   "sideBar": true,
   "skip_h1_title": true,
   "title_cell": "Table of Contents",
   "title_sidebar": "Contents",
   "toc_cell": false,
   "toc_position": {},
   "toc_section_display": true,
   "toc_window_display": false
  }
 },
 "nbformat": 4,
 "nbformat_minor": 2
}
